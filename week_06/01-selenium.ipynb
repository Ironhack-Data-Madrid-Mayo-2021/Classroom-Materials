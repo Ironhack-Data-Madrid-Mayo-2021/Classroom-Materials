{
 "cells": [
  {
   "cell_type": "markdown",
   "metadata": {},
   "source": [
    "# Selenium"
   ]
  },
  {
   "cell_type": "markdown",
   "metadata": {
    "toc": true
   },
   "source": [
    "<h1>Table of Contents<span class=\"tocSkip\"></span></h1>\n",
    "<div class=\"toc\"><ul class=\"toc-item\"><li><span><a href=\"#Webdriver\" data-toc-modified-id=\"Webdriver-1\"><span class=\"toc-item-num\">1&nbsp;&nbsp;</span>Webdriver</a></span></li><li><span><a href=\"#The-use-case\" data-toc-modified-id=\"The-use-case-2\"><span class=\"toc-item-num\">2&nbsp;&nbsp;</span>The use case</a></span><ul class=\"toc-item\"><li><span><a href=\"#Access-application-form\" data-toc-modified-id=\"Access-application-form-2.1\"><span class=\"toc-item-num\">2.1&nbsp;&nbsp;</span>Access application form</a></span></li><li><span><a href=\"#Fill-in-the-fields\" data-toc-modified-id=\"Fill-in-the-fields-2.2\"><span class=\"toc-item-num\">2.2&nbsp;&nbsp;</span>Fill in the fields</a></span></li><li><span><a href=\"#Solve-captcha\" data-toc-modified-id=\"Solve-captcha-2.3\"><span class=\"toc-item-num\">2.3&nbsp;&nbsp;</span>Solve captcha</a></span></li><li><span><a href=\"#Choose-option\" data-toc-modified-id=\"Choose-option-2.4\"><span class=\"toc-item-num\">2.4&nbsp;&nbsp;</span>Choose option</a></span></li></ul></li><li><span><a href=\"#Modularization-is-key!\" data-toc-modified-id=\"Modularization-is-key!-3\"><span class=\"toc-item-num\">3&nbsp;&nbsp;</span>Modularization is key!</a></span></li><li><span><a href=\"#HAPPY-CRAWLING!!\" data-toc-modified-id=\"HAPPY-CRAWLING!!-4\"><span class=\"toc-item-num\">4&nbsp;&nbsp;</span>HAPPY CRAWLING!!</a></span></li></ul></div>"
   ]
  },
  {
   "cell_type": "markdown",
   "metadata": {},
   "source": [
    "`selenium` is a Python library that lets me surf the Internet automatically"
   ]
  },
  {
   "cell_type": "code",
   "execution_count": null,
   "metadata": {},
   "outputs": [],
   "source": [
    "!pip install selenium"
   ]
  },
  {
   "cell_type": "code",
   "execution_count": 1,
   "metadata": {},
   "outputs": [],
   "source": [
    "from selenium import webdriver"
   ]
  },
  {
   "cell_type": "markdown",
   "metadata": {},
   "source": [
    "A robot is veeeery fast. We need to calm him down, because the Internet has not got infinite velocity"
   ]
  },
  {
   "cell_type": "code",
   "execution_count": 3,
   "metadata": {},
   "outputs": [],
   "source": [
    "from time import sleep"
   ]
  },
  {
   "cell_type": "code",
   "execution_count": 4,
   "metadata": {},
   "outputs": [
    {
     "name": "stdout",
     "output_type": "stream",
     "text": [
      "hola\n",
      "adios\n"
     ]
    }
   ],
   "source": [
    "print(\"hola\")\n",
    "sleep(3)\n",
    "print(\"adios\")"
   ]
  },
  {
   "cell_type": "code",
   "execution_count": 26,
   "metadata": {},
   "outputs": [],
   "source": [
    "def grita(mensa1, mensa2, sleep_time=1):\n",
    "    print(mensa1.upper())\n",
    "    sleep(sleep_time)\n",
    "    print(mensa2.upper())"
   ]
  },
  {
   "cell_type": "code",
   "execution_count": 27,
   "metadata": {},
   "outputs": [
    {
     "name": "stdout",
     "output_type": "stream",
     "text": [
      "HI\n",
      "BYE\n"
     ]
    }
   ],
   "source": [
    "grita(\"hi\", \"bye\", 2)"
   ]
  },
  {
   "cell_type": "markdown",
   "metadata": {},
   "source": [
    "## Webdriver"
   ]
  },
  {
   "cell_type": "markdown",
   "metadata": {},
   "source": [
    "I need a Chrome **webdriver** to let Python use Chrome browser: [Link](https://chromedriver.chromium.org/downloads)"
   ]
  },
  {
   "cell_type": "markdown",
   "metadata": {},
   "source": [
    "Lets initialize the robot and play with it"
   ]
  },
  {
   "cell_type": "code",
   "execution_count": 94,
   "metadata": {},
   "outputs": [],
   "source": [
    "driver = webdriver.Chrome(\"./chromedriver\")"
   ]
  },
  {
   "cell_type": "markdown",
   "metadata": {},
   "source": [
    "On Windows, try `./chromedriver.exe`"
   ]
  },
  {
   "cell_type": "code",
   "execution_count": 41,
   "metadata": {},
   "outputs": [],
   "source": [
    "driver.get(\"https://www.20minutos.es\")\n",
    "sleep(1)"
   ]
  },
  {
   "cell_type": "code",
   "execution_count": 35,
   "metadata": {},
   "outputs": [],
   "source": [
    "boton_aceptar = driver.find_element_by_id(\"didomi-notice-agree-button\")"
   ]
  },
  {
   "cell_type": "code",
   "execution_count": 37,
   "metadata": {},
   "outputs": [],
   "source": [
    "boton_aceptar.click()"
   ]
  },
  {
   "cell_type": "markdown",
   "metadata": {},
   "source": [
    "To find by tag and class, we use syntax \"tag.class\". If class name has spaces, change them by \".\""
   ]
  },
  {
   "cell_type": "markdown",
   "metadata": {},
   "source": [
    "[CSS selectors documentation](https://www.w3schools.com/cssref/css_selectors.asp)"
   ]
  },
  {
   "cell_type": "code",
   "execution_count": 45,
   "metadata": {},
   "outputs": [],
   "source": [
    "# click on Search button\n",
    "driver.find_element_by_css_selector(\"i.fal.fa-search\").click()"
   ]
  },
  {
   "cell_type": "code",
   "execution_count": 43,
   "metadata": {},
   "outputs": [],
   "source": [
    "# write my search text\n",
    "driver.find_element_by_css_selector(\"input[name='q']\").send_keys(\"Real Madrid\")\n",
    "sleep(1)"
   ]
  },
  {
   "cell_type": "code",
   "execution_count": 46,
   "metadata": {},
   "outputs": [],
   "source": [
    "# click again on search button\n",
    "driver.find_elements_by_css_selector(\"i.fal.fa-search\")[1].click()"
   ]
  },
  {
   "cell_type": "code",
   "execution_count": 71,
   "metadata": {},
   "outputs": [],
   "source": [
    "driver.get(\"https://www.20minutos.es\")"
   ]
  },
  {
   "cell_type": "code",
   "execution_count": 86,
   "metadata": {},
   "outputs": [],
   "source": [
    "driver.maximize_window()"
   ]
  },
  {
   "cell_type": "code",
   "execution_count": 77,
   "metadata": {},
   "outputs": [],
   "source": [
    "def find_on_20_minutos(tema, is_first_time):\n",
    "    driver.maximize_window()\n",
    "    driver.get(\"https://www.20minutos.es\")\n",
    "    sleep(2)\n",
    "\n",
    "    if is_first_time:\n",
    "        boton_aceptar = driver.find_element_by_id(\"didomi-notice-agree-button\")\n",
    "        boton_aceptar.click()\n",
    "        \n",
    "    # click on Search button\n",
    "    driver.find_element_by_css_selector(\"i.fal.fa-search\").click()\n",
    "    sleep(2)\n",
    "    \n",
    "    # write my search text\n",
    "    driver.find_element_by_css_selector(\"input[name='q']\").send_keys(tema)\n",
    "    sleep(2)\n",
    "    \n",
    "    return\n",
    "    # click again on search button\n",
    "    driver.find_elements_by_css_selector(\"i.fal.fa-search\")[1].click()\n",
    "    \n",
    "    sleep(5)\n",
    "    \n",
    "    titulos = driver.find_elements_by_css_selector(\"div.media-content header h1 a\")\n",
    "\n",
    "    textos = [t.text for t in titulos]\n",
    "    \n",
    "    return textos"
   ]
  },
  {
   "cell_type": "code",
   "execution_count": 93,
   "metadata": {},
   "outputs": [],
   "source": [
    "res = find_on_20_minutos(tema=\"Eurocopa\", is_first_time=False)"
   ]
  },
  {
   "cell_type": "markdown",
   "metadata": {},
   "source": [
    "Find something on google"
   ]
  },
  {
   "cell_type": "code",
   "execution_count": 95,
   "metadata": {},
   "outputs": [],
   "source": [
    "driver.get(\"https://www.google.com\")"
   ]
  },
  {
   "cell_type": "code",
   "execution_count": 97,
   "metadata": {},
   "outputs": [],
   "source": [
    "buscador = driver.find_element_by_class_name(\"gLFyf.gsfi\")"
   ]
  },
  {
   "cell_type": "code",
   "execution_count": 98,
   "metadata": {},
   "outputs": [],
   "source": [
    "buscador.send_keys(\"ironhack\")"
   ]
  },
  {
   "cell_type": "code",
   "execution_count": 99,
   "metadata": {},
   "outputs": [],
   "source": [
    "from selenium.webdriver.common.keys import Keys"
   ]
  },
  {
   "cell_type": "code",
   "execution_count": 100,
   "metadata": {},
   "outputs": [],
   "source": [
    "buscador.send_keys(Keys.ENTER)."
   ]
  },
  {
   "cell_type": "markdown",
   "metadata": {},
   "source": [
    "## The use case"
   ]
  },
  {
   "cell_type": "markdown",
   "metadata": {},
   "source": [
    "I need an appointment at Seguridad Social"
   ]
  },
  {
   "cell_type": "code",
   "execution_count": 125,
   "metadata": {},
   "outputs": [],
   "source": [
    "url = \"https://w6.seg-social.es/ProsaInternetAnonimo/OnlineAccess?ARQ.SPM.ACTION=LOGIN&ARQ.SPM.APPTYPE=SERVICE&ARQ.IDAPP=XV106001\""
   ]
  },
  {
   "cell_type": "markdown",
   "metadata": {},
   "source": [
    "### Access application form"
   ]
  },
  {
   "cell_type": "code",
   "execution_count": 179,
   "metadata": {},
   "outputs": [],
   "source": [
    "driver = webdriver.Chrome(\"./chromedriver\")"
   ]
  },
  {
   "cell_type": "code",
   "execution_count": 203,
   "metadata": {},
   "outputs": [],
   "source": [
    "driver.get(url)"
   ]
  },
  {
   "cell_type": "code",
   "execution_count": 204,
   "metadata": {},
   "outputs": [],
   "source": [
    "driver.find_element_by_css_selector(\"input[value='INSS']\").click()"
   ]
  },
  {
   "cell_type": "markdown",
   "metadata": {},
   "source": [
    " * Web scraping lets us access the static HTML of the webpage\n",
    " * Web **crawling** lets us interact dinamycally with the browser!"
   ]
  },
  {
   "cell_type": "markdown",
   "metadata": {},
   "source": [
    "### Fill in the fields"
   ]
  },
  {
   "cell_type": "markdown",
   "metadata": {},
   "source": [
    "Exploring..."
   ]
  },
  {
   "cell_type": "code",
   "execution_count": 119,
   "metadata": {},
   "outputs": [],
   "source": [
    "user_data = {\n",
    "    \"name\": \"Francisco Lopez\",\n",
    "    \"NIF\": \"12345678Z\",\n",
    "    \"mail\": \"pacolopez99@gmail.com\",\n",
    "    \"telf\": \"666555888\",\n",
    "    \"ciudad\": \"madrid\"\n",
    "}"
   ]
  },
  {
   "cell_type": "markdown",
   "metadata": {},
   "source": [
    "Fill it with your information using `.send_keys()`"
   ]
  },
  {
   "cell_type": "code",
   "execution_count": 111,
   "metadata": {},
   "outputs": [],
   "source": [
    "driver.find_element_by_name(\"nombreApellidos\").send_keys(user_data.get(\"name\"))"
   ]
  },
  {
   "cell_type": "code",
   "execution_count": 112,
   "metadata": {},
   "outputs": [],
   "source": [
    "driver.find_element_by_name(\"tipo\").send_keys(\"nif\")"
   ]
  },
  {
   "cell_type": "code",
   "execution_count": 113,
   "metadata": {},
   "outputs": [],
   "source": [
    "driver.find_element_by_name(\"numeroDocumento\").send_keys(user_data.get(\"NIF\"))"
   ]
  },
  {
   "cell_type": "code",
   "execution_count": 114,
   "metadata": {},
   "outputs": [],
   "source": [
    "driver.find_element_by_name(\"telefono\").send_keys(user_data.get(\"telf\"))"
   ]
  },
  {
   "cell_type": "code",
   "execution_count": 115,
   "metadata": {},
   "outputs": [],
   "source": [
    "driver.find_element_by_name(\"eMail\").send_keys(user_data.get(\"mail\"))"
   ]
  },
  {
   "cell_type": "code",
   "execution_count": 120,
   "metadata": {},
   "outputs": [],
   "source": [
    "driver.find_element_by_id(\"radioProvincia\").click()\n",
    "driver.find_element_by_name(\"provincia\").send_keys(user_data.get(\"ciudad\"))"
   ]
  },
  {
   "cell_type": "code",
   "execution_count": 182,
   "metadata": {},
   "outputs": [],
   "source": [
    "def fill_fields(user_data):\n",
    "    driver.find_element_by_name(\"nombreApellidos\").send_keys(user_data.get(\"name\"))\n",
    "\n",
    "    driver.find_element_by_name(\"tipo\").send_keys(\"n\")\n",
    "\n",
    "    driver.find_element_by_name(\"numeroDocumento\").send_keys(user_data.get(\"NIF\"))\n",
    "\n",
    "    driver.find_element_by_name(\"telefono\").send_keys(user_data.get(\"telf\"))\n",
    "\n",
    "    driver.find_element_by_name(\"eMail\").send_keys(user_data.get(\"mail\"))\n",
    "    driver.find_element_by_id(\"radioProvincia\").click()\n",
    "    driver.find_element_by_name(\"provincia\").send_keys(user_data.get(\"ciudad\"))"
   ]
  },
  {
   "cell_type": "code",
   "execution_count": 205,
   "metadata": {},
   "outputs": [],
   "source": [
    "mama = {\n",
    "    \"name\": \"Francisca Lopez\",\n",
    "    \"NIF\": \"12345678Z\",\n",
    "    \"mail\": \"paquita888@gmail.com\",\n",
    "    \"telf\": \"666666111\",\n",
    "    \"ciudad\": \"madrid\"\n",
    "}"
   ]
  },
  {
   "cell_type": "code",
   "execution_count": 206,
   "metadata": {},
   "outputs": [],
   "source": [
    "fill_fields(mama)"
   ]
  },
  {
   "cell_type": "code",
   "execution_count": 207,
   "metadata": {},
   "outputs": [],
   "source": [
    "# TODO manage citas en Valencia"
   ]
  },
  {
   "cell_type": "markdown",
   "metadata": {},
   "source": [
    "### Solve captcha"
   ]
  },
  {
   "cell_type": "code",
   "execution_count": 200,
   "metadata": {},
   "outputs": [],
   "source": [
    "import random"
   ]
  },
  {
   "cell_type": "markdown",
   "metadata": {},
   "source": [
    "`.text` is used to access a tag's textual content"
   ]
  },
  {
   "cell_type": "code",
   "execution_count": 201,
   "metadata": {},
   "outputs": [],
   "source": [
    "words = driver.find_element_by_css_selector(\"p.p0\").text.split(\": \")[:-1]"
   ]
  },
  {
   "cell_type": "code",
   "execution_count": 187,
   "metadata": {},
   "outputs": [
    {
     "data": {
      "text/plain": [
       "['Negro', 'Dos', 'Moscú', 'Comedor', 'Castañuelas']"
      ]
     },
     "execution_count": 187,
     "metadata": {},
     "output_type": "execute_result"
    }
   ],
   "source": [
    "words"
   ]
  },
  {
   "cell_type": "code",
   "execution_count": 188,
   "metadata": {},
   "outputs": [],
   "source": [
    "our_choice = random.choice(words)"
   ]
  },
  {
   "cell_type": "code",
   "execution_count": 190,
   "metadata": {},
   "outputs": [
    {
     "data": {
      "text/plain": [
       "'Castañuelas'"
      ]
     },
     "execution_count": 190,
     "metadata": {},
     "output_type": "execute_result"
    }
   ],
   "source": [
    "our_choice"
   ]
  },
  {
   "cell_type": "code",
   "execution_count": 191,
   "metadata": {},
   "outputs": [],
   "source": [
    "driver.find_element_by_id(\"ARQ.CAPTCHA\").send_keys(our_choice)"
   ]
  },
  {
   "cell_type": "code",
   "execution_count": 192,
   "metadata": {},
   "outputs": [],
   "source": [
    "# pulsar Siguiente\n",
    "driver.find_element_by_id(\"SPM.ACC.SIGUIENTE\").click()"
   ]
  },
  {
   "cell_type": "markdown",
   "metadata": {},
   "source": [
    "Build while loop until passed"
   ]
  },
  {
   "cell_type": "code",
   "execution_count": 193,
   "metadata": {},
   "outputs": [],
   "source": [
    "def we_passed():\n",
    "    try:\n",
    "        driver.find_element_by_css_selector(\"li.mensajeError\")\n",
    "        return False\n",
    "    except:\n",
    "        return True"
   ]
  },
  {
   "cell_type": "code",
   "execution_count": 194,
   "metadata": {},
   "outputs": [
    {
     "data": {
      "text/plain": [
       "False"
      ]
     },
     "execution_count": 194,
     "metadata": {},
     "output_type": "execute_result"
    }
   ],
   "source": [
    "we_passed()"
   ]
  },
  {
   "cell_type": "code",
   "execution_count": 208,
   "metadata": {},
   "outputs": [
    {
     "name": "stdout",
     "output_type": "stream",
     "text": [
      "failed\n",
      "failed\n",
      "failed\n",
      "failed\n",
      "failed\n",
      "failed\n",
      "failed\n",
      "failed\n",
      "failed\n",
      "passed\n"
     ]
    }
   ],
   "source": [
    "while True: \n",
    "    words = driver.find_element_by_css_selector(\"p.p0\").text.split(\": \")[:-1]\n",
    "\n",
    "    our_choice = random.choice(words)\n",
    "\n",
    "    driver.find_element_by_id(\"ARQ.CAPTCHA\").send_keys(our_choice)\n",
    "\n",
    "    # pulsar Siguiente\n",
    "    driver.find_element_by_id(\"SPM.ACC.SIGUIENTE\").click()\n",
    "    \n",
    "    sleep(1)\n",
    "    if we_passed():\n",
    "        print(\"passed\")\n",
    "        break\n",
    "    else:\n",
    "        print(\"failed\")"
   ]
  },
  {
   "cell_type": "code",
   "execution_count": null,
   "metadata": {},
   "outputs": [],
   "source": []
  },
  {
   "cell_type": "markdown",
   "metadata": {},
   "source": [
    "### Choose option"
   ]
  },
  {
   "cell_type": "markdown",
   "metadata": {},
   "source": [
    "Build while loop until passed"
   ]
  },
  {
   "cell_type": "code",
   "execution_count": 210,
   "metadata": {},
   "outputs": [],
   "source": [
    "def we_passed_second_step():\n",
    "    try:\n",
    "        driver.find_element_by_css_selector(\"li.mensajeCpmsTam2\")\n",
    "        return False\n",
    "    except:\n",
    "        return True"
   ]
  },
  {
   "cell_type": "code",
   "execution_count": 211,
   "metadata": {},
   "outputs": [
    {
     "ename": "KeyboardInterrupt",
     "evalue": "",
     "output_type": "error",
     "traceback": [
      "\u001b[0;31m---------------------------------------------------------------------------\u001b[0m",
      "\u001b[0;31mKeyboardInterrupt\u001b[0m                         Traceback (most recent call last)",
      "\u001b[0;32m<ipython-input-211-cfab3baca7d7>\u001b[0m in \u001b[0;36m<module>\u001b[0;34m\u001b[0m\n\u001b[1;32m      1\u001b[0m \u001b[0;32mwhile\u001b[0m \u001b[0;32mTrue\u001b[0m\u001b[0;34m:\u001b[0m\u001b[0;34m\u001b[0m\u001b[0;34m\u001b[0m\u001b[0m\n\u001b[0;32m----> 2\u001b[0;31m     \u001b[0msleep\u001b[0m\u001b[0;34m(\u001b[0m\u001b[0;36m2\u001b[0m\u001b[0;34m)\u001b[0m\u001b[0;34m\u001b[0m\u001b[0;34m\u001b[0m\u001b[0m\n\u001b[0m\u001b[1;32m      3\u001b[0m     \u001b[0mdriver\u001b[0m\u001b[0;34m.\u001b[0m\u001b[0mfind_element_by_id\u001b[0m\u001b[0;34m(\u001b[0m\u001b[0;34m\"335\"\u001b[0m\u001b[0;34m)\u001b[0m\u001b[0;34m.\u001b[0m\u001b[0mclick\u001b[0m\u001b[0;34m(\u001b[0m\u001b[0;34m)\u001b[0m\u001b[0;34m\u001b[0m\u001b[0;34m\u001b[0m\u001b[0m\n\u001b[1;32m      4\u001b[0m     \u001b[0mdriver\u001b[0m\u001b[0;34m.\u001b[0m\u001b[0mfind_element_by_id\u001b[0m\u001b[0;34m(\u001b[0m\u001b[0;34m\"SPM.ACC.CONTINUAR_TRAS_SELECCIONAR_SERVICIO\"\u001b[0m\u001b[0;34m)\u001b[0m\u001b[0;34m.\u001b[0m\u001b[0mclick\u001b[0m\u001b[0;34m(\u001b[0m\u001b[0;34m)\u001b[0m\u001b[0;34m\u001b[0m\u001b[0;34m\u001b[0m\u001b[0m\n\u001b[1;32m      5\u001b[0m \u001b[0;34m\u001b[0m\u001b[0m\n",
      "\u001b[0;31mKeyboardInterrupt\u001b[0m: "
     ]
    }
   ],
   "source": [
    "while True:\n",
    "    sleep(2)\n",
    "    driver.find_element_by_id(\"335\").click()\n",
    "    driver.find_element_by_id(\"SPM.ACC.CONTINUAR_TRAS_SELECCIONAR_SERVICIO\").click()\n",
    "    \n",
    "    if we_passed_second_step():\n",
    "        break"
   ]
  },
  {
   "cell_type": "markdown",
   "metadata": {},
   "source": [
    "## Modularization is key!"
   ]
  },
  {
   "cell_type": "markdown",
   "metadata": {},
   "source": [
    "Since we have several functions for several actions, we just concatenate them in a new function!"
   ]
  },
  {
   "cell_type": "code",
   "execution_count": null,
   "metadata": {},
   "outputs": [],
   "source": [
    "def run_process():\n",
    "    # code"
   ]
  },
  {
   "cell_type": "markdown",
   "metadata": {},
   "source": [
    "You can setup an alarm when process is finished, using library pygame"
   ]
  },
  {
   "cell_type": "code",
   "execution_count": 212,
   "metadata": {},
   "outputs": [
    {
     "name": "stdout",
     "output_type": "stream",
     "text": [
      "pygame 2.0.0 (SDL 2.0.12, python 3.8.5)\n",
      "Hello from the pygame community. https://www.pygame.org/contribute.html\n"
     ]
    }
   ],
   "source": [
    "import pygame"
   ]
  },
  {
   "cell_type": "code",
   "execution_count": 213,
   "metadata": {},
   "outputs": [
    {
     "ename": "KeyboardInterrupt",
     "evalue": "",
     "output_type": "error",
     "traceback": [
      "\u001b[0;31m---------------------------------------------------------------------------\u001b[0m",
      "\u001b[0;31mKeyboardInterrupt\u001b[0m                         Traceback (most recent call last)",
      "\u001b[0;32m<ipython-input-213-899b5eae1974>\u001b[0m in \u001b[0;36m<module>\u001b[0;34m\u001b[0m\n\u001b[1;32m      3\u001b[0m \u001b[0;32mfor\u001b[0m \u001b[0m_\u001b[0m \u001b[0;32min\u001b[0m \u001b[0mrange\u001b[0m\u001b[0;34m(\u001b[0m\u001b[0;36m20\u001b[0m\u001b[0;34m)\u001b[0m\u001b[0;34m:\u001b[0m\u001b[0;34m\u001b[0m\u001b[0;34m\u001b[0m\u001b[0m\n\u001b[1;32m      4\u001b[0m     \u001b[0mpygame\u001b[0m\u001b[0;34m.\u001b[0m\u001b[0mmixer\u001b[0m\u001b[0;34m.\u001b[0m\u001b[0mmusic\u001b[0m\u001b[0;34m.\u001b[0m\u001b[0mplay\u001b[0m\u001b[0;34m(\u001b[0m\u001b[0;34m)\u001b[0m\u001b[0;34m\u001b[0m\u001b[0;34m\u001b[0m\u001b[0m\n\u001b[0;32m----> 5\u001b[0;31m     \u001b[0msleep\u001b[0m\u001b[0;34m(\u001b[0m\u001b[0;36m1\u001b[0m\u001b[0;34m)\u001b[0m\u001b[0;34m\u001b[0m\u001b[0;34m\u001b[0m\u001b[0m\n\u001b[0m",
      "\u001b[0;31mKeyboardInterrupt\u001b[0m: "
     ]
    }
   ],
   "source": [
    "pygame.mixer.init()\n",
    "pygame.mixer.music.load(\"./beep.wav\")\n",
    "for _ in range(20):\n",
    "    pygame.mixer.music.play()\n",
    "    sleep(1)"
   ]
  },
  {
   "cell_type": "markdown",
   "metadata": {},
   "source": [
    "The program would work like..."
   ]
  },
  {
   "cell_type": "code",
   "execution_count": null,
   "metadata": {},
   "outputs": [],
   "source": [
    "while True:\n",
    "    sleep(10)\n",
    "    if run_process():\n",
    "        music.play()\n",
    "        break"
   ]
  },
  {
   "cell_type": "markdown",
   "metadata": {},
   "source": [
    "## HAPPY CRAWLING!!"
   ]
  },
  {
   "cell_type": "markdown",
   "metadata": {},
   "source": [
    "Aware of `robots.txt` anticrawling documentation from webpages:  \n",
    "https://amazon.com/robots.txt  \n",
    "https://google.com/robots.txt"
   ]
  }
 ],
 "metadata": {
  "kernelspec": {
   "display_name": "Python 3",
   "language": "python",
   "name": "python3"
  },
  "language_info": {
   "codemirror_mode": {
    "name": "ipython",
    "version": 3
   },
   "file_extension": ".py",
   "mimetype": "text/x-python",
   "name": "python",
   "nbconvert_exporter": "python",
   "pygments_lexer": "ipython3",
   "version": "3.8.5"
  },
  "toc": {
   "base_numbering": 1,
   "nav_menu": {},
   "number_sections": true,
   "sideBar": true,
   "skip_h1_title": true,
   "title_cell": "Table of Contents",
   "title_sidebar": "Contents",
   "toc_cell": true,
   "toc_position": {
    "height": "629.19px",
    "left": "31px",
    "top": "110.8px",
    "width": "213.025px"
   },
   "toc_section_display": true,
   "toc_window_display": false
  },
  "varInspector": {
   "cols": {
    "lenName": 16,
    "lenType": 16,
    "lenVar": 40
   },
   "kernels_config": {
    "python": {
     "delete_cmd_postfix": "",
     "delete_cmd_prefix": "del ",
     "library": "var_list.py",
     "varRefreshCmd": "print(var_dic_list())"
    },
    "r": {
     "delete_cmd_postfix": ") ",
     "delete_cmd_prefix": "rm(",
     "library": "var_list.r",
     "varRefreshCmd": "cat(var_dic_list()) "
    }
   },
   "types_to_exclude": [
    "module",
    "function",
    "builtin_function_or_method",
    "instance",
    "_Feature"
   ],
   "window_display": false
  }
 },
 "nbformat": 4,
 "nbformat_minor": 2
}
