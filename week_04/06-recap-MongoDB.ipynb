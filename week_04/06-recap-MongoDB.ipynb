{
 "cells": [
  {
   "cell_type": "markdown",
   "id": "quiet-ballot",
   "metadata": {},
   "source": [
    "# Recap MongoDB vs SQL "
   ]
  },
  {
   "cell_type": "markdown",
   "id": "parallel-nerve",
   "metadata": {
    "toc": true
   },
   "source": [
    "<h1>Table of Contents<span class=\"tocSkip\"></span></h1>\n",
    "<div class=\"toc\"><ul class=\"toc-item\"><li><span><a href=\"#¿Cómo-vemos-todos-los-elementos-de-una-colección?\" data-toc-modified-id=\"¿Cómo-vemos-todos-los-elementos-de-una-colección?-1\"><span class=\"toc-item-num\">1&nbsp;&nbsp;</span>¿Cómo vemos todos los elementos de una colección?</a></span></li><li><span><a href=\"#Visualizar-solo-algunos-elementos\" data-toc-modified-id=\"Visualizar-solo-algunos-elementos-2\"><span class=\"toc-item-num\">2&nbsp;&nbsp;</span>Visualizar solo algunos elementos</a></span></li><li><span><a href=\"#Query-con-una-condición-en-MongoDB\" data-toc-modified-id=\"Query-con-una-condición-en-MongoDB-3\"><span class=\"toc-item-num\">3&nbsp;&nbsp;</span>Query con una condición en MongoDB</a></span></li><li><span><a href=\"#Limitamos-query\" data-toc-modified-id=\"Limitamos-query-4\"><span class=\"toc-item-num\">4&nbsp;&nbsp;</span>Limitamos query</a></span></li></ul></div>"
   ]
  },
  {
   "cell_type": "markdown",
   "id": "palestinian-engineer",
   "metadata": {},
   "source": [
    "Para conectarnos a una base de datos de Mongo con Python utilizamos pymongo"
   ]
  },
  {
   "cell_type": "code",
   "execution_count": 1,
   "id": "extreme-brake",
   "metadata": {},
   "outputs": [],
   "source": [
    "from pymongo import MongoClient"
   ]
  },
  {
   "cell_type": "code",
   "execution_count": 2,
   "id": "resistant-crossing",
   "metadata": {},
   "outputs": [],
   "source": [
    "#Mongoclient nos conecta al servidor\n",
    "client = MongoClient(\"localhost:27017\")"
   ]
  },
  {
   "cell_type": "code",
   "execution_count": 4,
   "id": "selective-pledge",
   "metadata": {},
   "outputs": [],
   "source": [
    "#Get database nos conecta a la base de datos EN CONCRETO\n",
    "db = client.get_database(\"ironhack\")"
   ]
  },
  {
   "cell_type": "code",
   "execution_count": 4,
   "id": "passing-budget",
   "metadata": {},
   "outputs": [],
   "source": [
    "# Nos conecta a la colección  que queramos dentro de la base de datos"
   ]
  },
  {
   "cell_type": "code",
   "execution_count": 5,
   "id": "wireless-potato",
   "metadata": {},
   "outputs": [],
   "source": [
    "c = db.get_collection(\"restaurants\")"
   ]
  },
  {
   "cell_type": "markdown",
   "id": "yellow-adelaide",
   "metadata": {},
   "source": [
    "En MYSQL tenemos TABLAS relacionadas y en MongoDB tenemos COLECCIONES no relacionadas entre sí."
   ]
  },
  {
   "cell_type": "markdown",
   "id": "medieval-hotel",
   "metadata": {},
   "source": [
    "## ¿Cómo vemos todos los elementos de una colección?"
   ]
  },
  {
   "cell_type": "code",
   "execution_count": 7,
   "id": "addressed-southeast",
   "metadata": {},
   "outputs": [],
   "source": [
    "import pandas as pd"
   ]
  },
  {
   "cell_type": "code",
   "execution_count": 10,
   "id": "annoying-raising",
   "metadata": {},
   "outputs": [],
   "source": [
    "df = pd.DataFrame(list(c.find({})))"
   ]
  },
  {
   "cell_type": "code",
   "execution_count": 11,
   "id": "eligible-champion",
   "metadata": {},
   "outputs": [
    {
     "data": {
      "text/html": [
       "<div>\n",
       "<style scoped>\n",
       "    .dataframe tbody tr th:only-of-type {\n",
       "        vertical-align: middle;\n",
       "    }\n",
       "\n",
       "    .dataframe tbody tr th {\n",
       "        vertical-align: top;\n",
       "    }\n",
       "\n",
       "    .dataframe thead th {\n",
       "        text-align: right;\n",
       "    }\n",
       "</style>\n",
       "<table border=\"1\" class=\"dataframe\">\n",
       "  <thead>\n",
       "    <tr style=\"text-align: right;\">\n",
       "      <th></th>\n",
       "      <th>_id</th>\n",
       "      <th>URL</th>\n",
       "      <th>address</th>\n",
       "      <th>address line 2</th>\n",
       "      <th>name</th>\n",
       "      <th>outcode</th>\n",
       "      <th>postcode</th>\n",
       "      <th>rating</th>\n",
       "      <th>type_of_food</th>\n",
       "    </tr>\n",
       "  </thead>\n",
       "  <tbody>\n",
       "    <tr>\n",
       "      <th>0</th>\n",
       "      <td>55f14312c7447c3da7051b26</td>\n",
       "      <td>http://www.just-eat.co.uk/restaurants-cn-chine...</td>\n",
       "      <td>228 City Road</td>\n",
       "      <td>Cardiff</td>\n",
       "      <td>.CN Chinese</td>\n",
       "      <td>CF24</td>\n",
       "      <td>3JH</td>\n",
       "      <td>5.0</td>\n",
       "      <td>Chinese</td>\n",
       "    </tr>\n",
       "    <tr>\n",
       "      <th>1</th>\n",
       "      <td>55f14312c7447c3da7051b2a</td>\n",
       "      <td>http://www.just-eat.co.uk/restaurants-indianco...</td>\n",
       "      <td>9 Broughton Hall Road</td>\n",
       "      <td>Broughton</td>\n",
       "      <td>@Indian.com</td>\n",
       "      <td>CH4</td>\n",
       "      <td>0QR</td>\n",
       "      <td>6.0</td>\n",
       "      <td>Curry</td>\n",
       "    </tr>\n",
       "    <tr>\n",
       "      <th>2</th>\n",
       "      <td>55f14312c7447c3da7051b28</td>\n",
       "      <td>http://www.just-eat.co.uk/restaurants-atthaire...</td>\n",
       "      <td>30 Greyhound Road Hammersmith</td>\n",
       "      <td>London</td>\n",
       "      <td>@ Thai Restaurant</td>\n",
       "      <td>W6</td>\n",
       "      <td>8NX</td>\n",
       "      <td>4.5</td>\n",
       "      <td>Thai</td>\n",
       "    </tr>\n",
       "    <tr>\n",
       "      <th>3</th>\n",
       "      <td>55f14312c7447c3da7051b27</td>\n",
       "      <td>http://www.just-eat.co.uk/restaurants-atthai-s...</td>\n",
       "      <td>376 Rayleigh Road</td>\n",
       "      <td>Essex</td>\n",
       "      <td>@ Thai</td>\n",
       "      <td>SS9</td>\n",
       "      <td>5PT</td>\n",
       "      <td>5.5</td>\n",
       "      <td>Thai</td>\n",
       "    </tr>\n",
       "    <tr>\n",
       "      <th>4</th>\n",
       "      <td>55f14312c7447c3da7051b29</td>\n",
       "      <td>http://www.just-eat.co.uk/restaurants-atthaire...</td>\n",
       "      <td>30 Greyhound Road Hammersmith</td>\n",
       "      <td>London</td>\n",
       "      <td>@ Thai Restaurant</td>\n",
       "      <td>W6</td>\n",
       "      <td>8NX</td>\n",
       "      <td>4.5</td>\n",
       "      <td>Thai</td>\n",
       "    </tr>\n",
       "  </tbody>\n",
       "</table>\n",
       "</div>"
      ],
      "text/plain": [
       "                        _id  \\\n",
       "0  55f14312c7447c3da7051b26   \n",
       "1  55f14312c7447c3da7051b2a   \n",
       "2  55f14312c7447c3da7051b28   \n",
       "3  55f14312c7447c3da7051b27   \n",
       "4  55f14312c7447c3da7051b29   \n",
       "\n",
       "                                                 URL  \\\n",
       "0  http://www.just-eat.co.uk/restaurants-cn-chine...   \n",
       "1  http://www.just-eat.co.uk/restaurants-indianco...   \n",
       "2  http://www.just-eat.co.uk/restaurants-atthaire...   \n",
       "3  http://www.just-eat.co.uk/restaurants-atthai-s...   \n",
       "4  http://www.just-eat.co.uk/restaurants-atthaire...   \n",
       "\n",
       "                         address address line 2               name outcode  \\\n",
       "0                  228 City Road        Cardiff        .CN Chinese    CF24   \n",
       "1          9 Broughton Hall Road      Broughton        @Indian.com     CH4   \n",
       "2  30 Greyhound Road Hammersmith         London  @ Thai Restaurant      W6   \n",
       "3              376 Rayleigh Road          Essex             @ Thai     SS9   \n",
       "4  30 Greyhound Road Hammersmith         London  @ Thai Restaurant      W6   \n",
       "\n",
       "  postcode  rating type_of_food  \n",
       "0      3JH     5.0      Chinese  \n",
       "1      0QR     6.0        Curry  \n",
       "2      8NX     4.5         Thai  \n",
       "3      5PT     5.5         Thai  \n",
       "4      8NX     4.5         Thai  "
      ]
     },
     "execution_count": 11,
     "metadata": {},
     "output_type": "execute_result"
    }
   ],
   "source": [
    "df.head()"
   ]
  },
  {
   "cell_type": "markdown",
   "id": "aggressive-italian",
   "metadata": {},
   "source": [
    "## Visualizar solo algunos elementos"
   ]
  },
  {
   "cell_type": "code",
   "execution_count": 12,
   "id": "confident-frost",
   "metadata": {},
   "outputs": [],
   "source": [
    "proj = {\"_id\": 0, \"name\": 1, \"type_of_food\": 1}"
   ]
  },
  {
   "cell_type": "code",
   "execution_count": 13,
   "id": "floppy-warrior",
   "metadata": {},
   "outputs": [],
   "source": [
    "df = pd.DataFrame(list(c.find({}, proj)))"
   ]
  },
  {
   "cell_type": "code",
   "execution_count": 14,
   "id": "understanding-struggle",
   "metadata": {},
   "outputs": [
    {
     "data": {
      "text/html": [
       "<div>\n",
       "<style scoped>\n",
       "    .dataframe tbody tr th:only-of-type {\n",
       "        vertical-align: middle;\n",
       "    }\n",
       "\n",
       "    .dataframe tbody tr th {\n",
       "        vertical-align: top;\n",
       "    }\n",
       "\n",
       "    .dataframe thead th {\n",
       "        text-align: right;\n",
       "    }\n",
       "</style>\n",
       "<table border=\"1\" class=\"dataframe\">\n",
       "  <thead>\n",
       "    <tr style=\"text-align: right;\">\n",
       "      <th></th>\n",
       "      <th>name</th>\n",
       "      <th>type_of_food</th>\n",
       "    </tr>\n",
       "  </thead>\n",
       "  <tbody>\n",
       "    <tr>\n",
       "      <th>0</th>\n",
       "      <td>.CN Chinese</td>\n",
       "      <td>Chinese</td>\n",
       "    </tr>\n",
       "    <tr>\n",
       "      <th>1</th>\n",
       "      <td>@Indian.com</td>\n",
       "      <td>Curry</td>\n",
       "    </tr>\n",
       "    <tr>\n",
       "      <th>2</th>\n",
       "      <td>@ Thai Restaurant</td>\n",
       "      <td>Thai</td>\n",
       "    </tr>\n",
       "    <tr>\n",
       "      <th>3</th>\n",
       "      <td>@ Thai</td>\n",
       "      <td>Thai</td>\n",
       "    </tr>\n",
       "    <tr>\n",
       "      <th>4</th>\n",
       "      <td>@ Thai Restaurant</td>\n",
       "      <td>Thai</td>\n",
       "    </tr>\n",
       "  </tbody>\n",
       "</table>\n",
       "</div>"
      ],
      "text/plain": [
       "                name type_of_food\n",
       "0        .CN Chinese      Chinese\n",
       "1        @Indian.com        Curry\n",
       "2  @ Thai Restaurant         Thai\n",
       "3             @ Thai         Thai\n",
       "4  @ Thai Restaurant         Thai"
      ]
     },
     "execution_count": 14,
     "metadata": {},
     "output_type": "execute_result"
    }
   ],
   "source": [
    "df.head()"
   ]
  },
  {
   "cell_type": "markdown",
   "id": "apart-standard",
   "metadata": {},
   "source": [
    "## Query con una condición en MongoDB"
   ]
  },
  {
   "cell_type": "code",
   "execution_count": 16,
   "id": "systematic-lyric",
   "metadata": {},
   "outputs": [],
   "source": [
    "#Sintaxis con diccionarios\n",
    "filtro = {\"rating\": {\"$gte\": 5}}"
   ]
  },
  {
   "cell_type": "code",
   "execution_count": 17,
   "id": "particular-technical",
   "metadata": {},
   "outputs": [
    {
     "data": {
      "text/html": [
       "<div>\n",
       "<style scoped>\n",
       "    .dataframe tbody tr th:only-of-type {\n",
       "        vertical-align: middle;\n",
       "    }\n",
       "\n",
       "    .dataframe tbody tr th {\n",
       "        vertical-align: top;\n",
       "    }\n",
       "\n",
       "    .dataframe thead th {\n",
       "        text-align: right;\n",
       "    }\n",
       "</style>\n",
       "<table border=\"1\" class=\"dataframe\">\n",
       "  <thead>\n",
       "    <tr style=\"text-align: right;\">\n",
       "      <th></th>\n",
       "      <th>_id</th>\n",
       "      <th>URL</th>\n",
       "      <th>address</th>\n",
       "      <th>address line 2</th>\n",
       "      <th>name</th>\n",
       "      <th>outcode</th>\n",
       "      <th>postcode</th>\n",
       "      <th>rating</th>\n",
       "      <th>type_of_food</th>\n",
       "    </tr>\n",
       "  </thead>\n",
       "  <tbody>\n",
       "    <tr>\n",
       "      <th>0</th>\n",
       "      <td>55f14312c7447c3da7051b26</td>\n",
       "      <td>http://www.just-eat.co.uk/restaurants-cn-chine...</td>\n",
       "      <td>228 City Road</td>\n",
       "      <td>Cardiff</td>\n",
       "      <td>.CN Chinese</td>\n",
       "      <td>CF24</td>\n",
       "      <td>3JH</td>\n",
       "      <td>5.0</td>\n",
       "      <td>Chinese</td>\n",
       "    </tr>\n",
       "    <tr>\n",
       "      <th>1</th>\n",
       "      <td>55f14312c7447c3da7051b2a</td>\n",
       "      <td>http://www.just-eat.co.uk/restaurants-indianco...</td>\n",
       "      <td>9 Broughton Hall Road</td>\n",
       "      <td>Broughton</td>\n",
       "      <td>@Indian.com</td>\n",
       "      <td>CH4</td>\n",
       "      <td>0QR</td>\n",
       "      <td>6.0</td>\n",
       "      <td>Curry</td>\n",
       "    </tr>\n",
       "    <tr>\n",
       "      <th>2</th>\n",
       "      <td>55f14312c7447c3da7051b27</td>\n",
       "      <td>http://www.just-eat.co.uk/restaurants-atthai-s...</td>\n",
       "      <td>376 Rayleigh Road</td>\n",
       "      <td>Essex</td>\n",
       "      <td>@ Thai</td>\n",
       "      <td>SS9</td>\n",
       "      <td>5PT</td>\n",
       "      <td>5.5</td>\n",
       "      <td>Thai</td>\n",
       "    </tr>\n",
       "    <tr>\n",
       "      <th>3</th>\n",
       "      <td>55f14312c7447c3da7051b2b</td>\n",
       "      <td>http://www.just-eat.co.uk/restaurants-007takea...</td>\n",
       "      <td>6 Drummond Street</td>\n",
       "      <td>Rotherham</td>\n",
       "      <td>007 Takeaway</td>\n",
       "      <td>S65</td>\n",
       "      <td>1HY</td>\n",
       "      <td>6.0</td>\n",
       "      <td>Pizza</td>\n",
       "    </tr>\n",
       "    <tr>\n",
       "      <th>4</th>\n",
       "      <td>55f14312c7447c3da7051b31</td>\n",
       "      <td>http://www.just-eat.co.uk/restaurants-100-degr...</td>\n",
       "      <td>67 Park Street</td>\n",
       "      <td>Treforest</td>\n",
       "      <td>100 Degrees Chinese Restaurant</td>\n",
       "      <td>CF37</td>\n",
       "      <td>1SN</td>\n",
       "      <td>5.0</td>\n",
       "      <td>Chinese</td>\n",
       "    </tr>\n",
       "  </tbody>\n",
       "</table>\n",
       "</div>"
      ],
      "text/plain": [
       "                        _id  \\\n",
       "0  55f14312c7447c3da7051b26   \n",
       "1  55f14312c7447c3da7051b2a   \n",
       "2  55f14312c7447c3da7051b27   \n",
       "3  55f14312c7447c3da7051b2b   \n",
       "4  55f14312c7447c3da7051b31   \n",
       "\n",
       "                                                 URL                address  \\\n",
       "0  http://www.just-eat.co.uk/restaurants-cn-chine...          228 City Road   \n",
       "1  http://www.just-eat.co.uk/restaurants-indianco...  9 Broughton Hall Road   \n",
       "2  http://www.just-eat.co.uk/restaurants-atthai-s...      376 Rayleigh Road   \n",
       "3  http://www.just-eat.co.uk/restaurants-007takea...      6 Drummond Street   \n",
       "4  http://www.just-eat.co.uk/restaurants-100-degr...         67 Park Street   \n",
       "\n",
       "  address line 2                            name outcode postcode  rating  \\\n",
       "0        Cardiff                     .CN Chinese    CF24      3JH     5.0   \n",
       "1      Broughton                     @Indian.com     CH4      0QR     6.0   \n",
       "2          Essex                          @ Thai     SS9      5PT     5.5   \n",
       "3      Rotherham                    007 Takeaway     S65      1HY     6.0   \n",
       "4      Treforest  100 Degrees Chinese Restaurant    CF37      1SN     5.0   \n",
       "\n",
       "  type_of_food  \n",
       "0      Chinese  \n",
       "1        Curry  \n",
       "2         Thai  \n",
       "3        Pizza  \n",
       "4      Chinese  "
      ]
     },
     "execution_count": 17,
     "metadata": {},
     "output_type": "execute_result"
    }
   ],
   "source": [
    "df = pd.DataFrame(list(c.find(filtro)))\n",
    "df.head()"
   ]
  },
  {
   "cell_type": "markdown",
   "id": "ongoing-jaguar",
   "metadata": {},
   "source": [
    "## Limitamos query"
   ]
  },
  {
   "cell_type": "code",
   "execution_count": 18,
   "id": "adaptive-engineering",
   "metadata": {},
   "outputs": [],
   "source": [
    "lista = list(c.find(filtro).limit(3))"
   ]
  },
  {
   "cell_type": "code",
   "execution_count": 19,
   "id": "marine-reynolds",
   "metadata": {},
   "outputs": [
    {
     "data": {
      "text/html": [
       "<div>\n",
       "<style scoped>\n",
       "    .dataframe tbody tr th:only-of-type {\n",
       "        vertical-align: middle;\n",
       "    }\n",
       "\n",
       "    .dataframe tbody tr th {\n",
       "        vertical-align: top;\n",
       "    }\n",
       "\n",
       "    .dataframe thead th {\n",
       "        text-align: right;\n",
       "    }\n",
       "</style>\n",
       "<table border=\"1\" class=\"dataframe\">\n",
       "  <thead>\n",
       "    <tr style=\"text-align: right;\">\n",
       "      <th></th>\n",
       "      <th>_id</th>\n",
       "      <th>URL</th>\n",
       "      <th>address</th>\n",
       "      <th>address line 2</th>\n",
       "      <th>name</th>\n",
       "      <th>outcode</th>\n",
       "      <th>postcode</th>\n",
       "      <th>rating</th>\n",
       "      <th>type_of_food</th>\n",
       "    </tr>\n",
       "  </thead>\n",
       "  <tbody>\n",
       "    <tr>\n",
       "      <th>0</th>\n",
       "      <td>55f14312c7447c3da7051b26</td>\n",
       "      <td>http://www.just-eat.co.uk/restaurants-cn-chine...</td>\n",
       "      <td>228 City Road</td>\n",
       "      <td>Cardiff</td>\n",
       "      <td>.CN Chinese</td>\n",
       "      <td>CF24</td>\n",
       "      <td>3JH</td>\n",
       "      <td>5.0</td>\n",
       "      <td>Chinese</td>\n",
       "    </tr>\n",
       "    <tr>\n",
       "      <th>1</th>\n",
       "      <td>55f14312c7447c3da7051b2a</td>\n",
       "      <td>http://www.just-eat.co.uk/restaurants-indianco...</td>\n",
       "      <td>9 Broughton Hall Road</td>\n",
       "      <td>Broughton</td>\n",
       "      <td>@Indian.com</td>\n",
       "      <td>CH4</td>\n",
       "      <td>0QR</td>\n",
       "      <td>6.0</td>\n",
       "      <td>Curry</td>\n",
       "    </tr>\n",
       "    <tr>\n",
       "      <th>2</th>\n",
       "      <td>55f14312c7447c3da7051b27</td>\n",
       "      <td>http://www.just-eat.co.uk/restaurants-atthai-s...</td>\n",
       "      <td>376 Rayleigh Road</td>\n",
       "      <td>Essex</td>\n",
       "      <td>@ Thai</td>\n",
       "      <td>SS9</td>\n",
       "      <td>5PT</td>\n",
       "      <td>5.5</td>\n",
       "      <td>Thai</td>\n",
       "    </tr>\n",
       "  </tbody>\n",
       "</table>\n",
       "</div>"
      ],
      "text/plain": [
       "                        _id  \\\n",
       "0  55f14312c7447c3da7051b26   \n",
       "1  55f14312c7447c3da7051b2a   \n",
       "2  55f14312c7447c3da7051b27   \n",
       "\n",
       "                                                 URL                address  \\\n",
       "0  http://www.just-eat.co.uk/restaurants-cn-chine...          228 City Road   \n",
       "1  http://www.just-eat.co.uk/restaurants-indianco...  9 Broughton Hall Road   \n",
       "2  http://www.just-eat.co.uk/restaurants-atthai-s...      376 Rayleigh Road   \n",
       "\n",
       "  address line 2         name outcode postcode  rating type_of_food  \n",
       "0        Cardiff  .CN Chinese    CF24      3JH     5.0      Chinese  \n",
       "1      Broughton  @Indian.com     CH4      0QR     6.0        Curry  \n",
       "2          Essex       @ Thai     SS9      5PT     5.5         Thai  "
      ]
     },
     "execution_count": 19,
     "metadata": {},
     "output_type": "execute_result"
    }
   ],
   "source": [
    "df = pd.DataFrame(lista)\n",
    "df.head()"
   ]
  }
 ],
 "metadata": {
  "kernelspec": {
   "display_name": "ironhack",
   "language": "python",
   "name": "ironhack"
  },
  "language_info": {
   "codemirror_mode": {
    "name": "ipython",
    "version": 3
   },
   "file_extension": ".py",
   "mimetype": "text/x-python",
   "name": "python",
   "nbconvert_exporter": "python",
   "pygments_lexer": "ipython3",
   "version": "3.8.5"
  },
  "toc": {
   "base_numbering": 1,
   "nav_menu": {},
   "number_sections": true,
   "sideBar": true,
   "skip_h1_title": true,
   "title_cell": "Table of Contents",
   "title_sidebar": "Contents",
   "toc_cell": true,
   "toc_position": {
    "height": "calc(100% - 180px)",
    "left": "10px",
    "top": "150px",
    "width": "288px"
   },
   "toc_section_display": true,
   "toc_window_display": true
  }
 },
 "nbformat": 4,
 "nbformat_minor": 5
}
