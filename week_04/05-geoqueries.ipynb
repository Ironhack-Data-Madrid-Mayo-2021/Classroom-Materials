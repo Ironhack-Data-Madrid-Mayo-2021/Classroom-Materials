{
 "cells": [
  {
   "cell_type": "markdown",
   "id": "nominated-holmes",
   "metadata": {},
   "source": [
    "# Geoqueries en Mongo"
   ]
  },
  {
   "cell_type": "markdown",
   "id": "supported-dividend",
   "metadata": {
    "toc": true
   },
   "source": [
    "<h1>Table of Contents<span class=\"tocSkip\"></span></h1>\n",
    "<div class=\"toc\"><ul class=\"toc-item\"><li><span><a href=\"#¿Qué-podemos-hacer-con-las-geoqueries?\" data-toc-modified-id=\"¿Qué-podemos-hacer-con-las-geoqueries?-1\"><span class=\"toc-item-num\">1&nbsp;&nbsp;</span>¿Qué podemos hacer con las geoqueries?</a></span></li><li><span><a href=\"#Generamos-la-conexión-con-Mongo\" data-toc-modified-id=\"Generamos-la-conexión-con-Mongo-2\"><span class=\"toc-item-num\">2&nbsp;&nbsp;</span>Generamos la conexión con Mongo</a></span></li><li><span><a href=\"#Importar-colecciones\" data-toc-modified-id=\"Importar-colecciones-3\"><span class=\"toc-item-num\">3&nbsp;&nbsp;</span>Importar colecciones</a></span></li><li><span><a href=\"#Crear-indexes\" data-toc-modified-id=\"Crear-indexes-4\"><span class=\"toc-item-num\">4&nbsp;&nbsp;</span>Crear indexes</a></span></li><li><span><a href=\"#Generamos-las-conexiones-con-la-base-de-datos\" data-toc-modified-id=\"Generamos-las-conexiones-con-la-base-de-datos-5\"><span class=\"toc-item-num\">5&nbsp;&nbsp;</span>Generamos las conexiones con la base de datos</a></span></li><li><span><a href=\"#Empezamos-con-las-Geoqueries\" data-toc-modified-id=\"Empezamos-con-las-Geoqueries-6\"><span class=\"toc-item-num\">6&nbsp;&nbsp;</span>Empezamos con las Geoqueries</a></span></li><li><span><a href=\"#Intersects\" data-toc-modified-id=\"Intersects-7\"><span class=\"toc-item-num\">7&nbsp;&nbsp;</span>Intersects</a></span></li><li><span><a href=\"#GeoWithin\" data-toc-modified-id=\"GeoWithin-8\"><span class=\"toc-item-num\">8&nbsp;&nbsp;</span>GeoWithin</a></span></li><li><span><a href=\"#Near\" data-toc-modified-id=\"Near-9\"><span class=\"toc-item-num\">9&nbsp;&nbsp;</span>Near</a></span></li><li><span><a href=\"#Extra,-extra!!-mis-datos-extraídos-de-Foursquare-en-Mongo\" data-toc-modified-id=\"Extra,-extra!!-mis-datos-extraídos-de-Foursquare-en-Mongo-10\"><span class=\"toc-item-num\">10&nbsp;&nbsp;</span>Extra, extra!! mis datos extraídos de Foursquare en Mongo</a></span><ul class=\"toc-item\"><li><span><a href=\"#Voy-a-traerme-todas-las-fruterías-de-Madrid\" data-toc-modified-id=\"Voy-a-traerme-todas-las-fruterías-de-Madrid-10.1\"><span class=\"toc-item-num\">10.1&nbsp;&nbsp;</span>Voy a traerme todas las fruterías de Madrid</a></span></li></ul></li><li><span><a href=\"#Vamos-a-buscar-a-cuántos-km-están-las-fruterías-de-mi-casa\" data-toc-modified-id=\"Vamos-a-buscar-a-cuántos-km-están-las-fruterías-de-mi-casa-11\"><span class=\"toc-item-num\">11&nbsp;&nbsp;</span>Vamos a buscar a cuántos km están las fruterías de mi casa</a></span></li></ul></div>"
   ]
  },
  {
   "cell_type": "markdown",
   "id": "bridal-strategy",
   "metadata": {},
   "source": [
    "## ¿Qué podemos hacer con las geoqueries?\n",
    "Con las geoquerías podemos responder a preguntas como las siguientes\n",
    " * ¿Dónde están las farmacias más cercanas a mi ubicación?\n",
    " * ¿Qué restaurantes hay en esta poligonal?"
   ]
  },
  {
   "cell_type": "markdown",
   "id": "selective-discharge",
   "metadata": {},
   "source": [
    "Cada punto de la Tierra se caracteriza por dos números:\n",
    " * Longitud: ángulo respecto al meridiano de Greenwich. Va de -180° (antiGreenwich) a +180° (también antiGreenwich)\n",
    " * Latitud: ángulo con respecto al ecuador. Va de -90° (sur) a +90° (norte)"
   ]
  },
  {
   "cell_type": "markdown",
   "id": "signal-kuwait",
   "metadata": {},
   "source": [
    "![latierra](../images/latlon.gif)"
   ]
  },
  {
   "cell_type": "markdown",
   "id": "killing-adams",
   "metadata": {},
   "source": [
    "## Generamos la conexión con Mongo"
   ]
  },
  {
   "cell_type": "code",
   "execution_count": 2,
   "id": "continuing-world",
   "metadata": {},
   "outputs": [],
   "source": [
    "from pymongo import MongoClient\n",
    "conn = MongoClient(\"localhost:27017\")\n",
    "db = conn.get_database(\"ironhack\")"
   ]
  },
  {
   "cell_type": "markdown",
   "id": "functioning-cylinder",
   "metadata": {},
   "source": [
    "## Importar colecciones     \n",
    "Sigamos la documentación oficial de Mongo: [Mongo Geo Example](https://docs.mongodb.com/manual/tutorial/geospatial-tutorial/)\n",
    "Creamos estas dos colecciones nuevas:\n",
    " * `restaurants2`\n",
    " * `neighborhoods`"
   ]
  },
  {
   "cell_type": "markdown",
   "id": "peripheral-spelling",
   "metadata": {},
   "source": [
    "## Crear indexes\n",
    "La indexación geoespacial de MongoDB permite ejecutar eficientemente **consultas espaciales** sobre una colección que contiene formas y puntos geoespaciales.\n",
    "Vamos a crear un índice geográfico para que Mongo sepa que queremos hacer geo-consultas en esta colección.  \n",
    "Esto sólo debe hacerse una vez, y ahora la colección de Mongo está correctamente indexada para siempre."
   ]
  },
  {
   "cell_type": "code",
   "execution_count": 3,
   "id": "marked-offset",
   "metadata": {},
   "outputs": [],
   "source": [
    "from pymongo import GEOSPHERE"
   ]
  },
  {
   "cell_type": "code",
   "execution_count": 5,
   "id": "northern-tender",
   "metadata": {},
   "outputs": [
    {
     "data": {
      "text/plain": [
       "'location_2dsphere'"
      ]
     },
     "execution_count": 5,
     "metadata": {},
     "output_type": "execute_result"
    }
   ],
   "source": [
    "# Creamos el  index 2dsphere desde pymongo\n",
    "db.restaurantes_prueba.create_index([(\"location\", GEOSPHERE)])"
   ]
  },
  {
   "cell_type": "code",
   "execution_count": 6,
   "id": "several-classification",
   "metadata": {},
   "outputs": [
    {
     "data": {
      "text/plain": [
       "{'_id': ObjectId('55cba2476c522cafdb053add'),\n",
       " 'location': {'coordinates': [-73.856077, 40.848447], 'type': 'Point'},\n",
       " 'name': 'Morris Park Bake Shop'}"
      ]
     },
     "execution_count": 6,
     "metadata": {},
     "output_type": "execute_result"
    }
   ],
   "source": [
    "db.restaurants2.find_one({})"
   ]
  },
  {
   "cell_type": "markdown",
   "id": "brave-singles",
   "metadata": {},
   "source": [
    "Es importante indicarle el campo donde  tenemo tanto el tipo de elemento (polígonos o  puntos (point)) como las coordenadas."
   ]
  },
  {
   "cell_type": "code",
   "execution_count": 7,
   "id": "toxic-luxembourg",
   "metadata": {},
   "outputs": [
    {
     "data": {
      "text/plain": [
       "'geometry_2dsphere'"
      ]
     },
     "execution_count": 7,
     "metadata": {},
     "output_type": "execute_result"
    }
   ],
   "source": [
    "db.neighborhoods.create_index([(\"geometry\", GEOSPHERE)])"
   ]
  },
  {
   "cell_type": "code",
   "execution_count": 9,
   "id": "printable-shareware",
   "metadata": {},
   "outputs": [],
   "source": [
    "#db.neighborhoods.find_one({})"
   ]
  },
  {
   "cell_type": "markdown",
   "id": "thermal-truth",
   "metadata": {},
   "source": [
    "## Generamos las conexiones con la base de datos"
   ]
  },
  {
   "cell_type": "code",
   "execution_count": 27,
   "id": "loaded-billion",
   "metadata": {},
   "outputs": [],
   "source": [
    "n = db.get_collection(\"neighborhoods\")\n",
    "r = db.get_collection(\"restaurants2\")"
   ]
  },
  {
   "cell_type": "markdown",
   "id": "auburn-sixth",
   "metadata": {},
   "source": [
    "## Empezamos con las Geoqueries   \n",
    "¿En qué barrio estoy?      \n",
    "¿Qué elementos **intersecan** el elemento dado?"
   ]
  },
  {
   "cell_type": "markdown",
   "id": "material-relationship",
   "metadata": {},
   "source": [
    "## Intersects"
   ]
  },
  {
   "cell_type": "markdown",
   "id": "positive-gregory",
   "metadata": {},
   "source": [
    "Necesitamos tener los datos  con tipo polígono en este caso tenemos una colección con barrios donde cada barrio  tiene dentro  el polígono que lo delimita. Y cada barrio es un documento, por eso cuando  intersecta me devuelve el documento y yo veo  que es el barrio  en concreto.    \n",
    "Selecciona los documentos cuyos datos geoespaciales se cruzan con un objeto GeoJSON especificado; es decir, cuando la intersección de los datos y el objeto especificado no está vacía."
   ]
  },
  {
   "cell_type": "code",
   "execution_count": 11,
   "id": "enormous-camel",
   "metadata": {},
   "outputs": [],
   "source": [
    "coordenadas = [-73.93, 40.82]"
   ]
  },
  {
   "cell_type": "code",
   "execution_count": 12,
   "id": "configured-symphony",
   "metadata": {},
   "outputs": [],
   "source": [
    "coord_buscar = {\"type\": \"Point\", \"coordinates\": coordenadas}"
   ]
  },
  {
   "cell_type": "code",
   "execution_count": 14,
   "id": "compliant-cologne",
   "metadata": {},
   "outputs": [],
   "source": [
    "proj = {\"_id\": 0, \"name\": 1}"
   ]
  },
  {
   "cell_type": "code",
   "execution_count": 15,
   "id": "different-style",
   "metadata": {},
   "outputs": [
    {
     "data": {
      "text/plain": [
       "dict_keys(['_id', 'geometry', 'name'])"
      ]
     },
     "execution_count": 15,
     "metadata": {},
     "output_type": "execute_result"
    }
   ],
   "source": [
    "n.find_one({}).keys()"
   ]
  },
  {
   "cell_type": "code",
   "execution_count": 17,
   "id": "bound-blake",
   "metadata": {},
   "outputs": [
    {
     "data": {
      "text/plain": [
       "{'name': 'West Concourse'}"
      ]
     },
     "execution_count": 17,
     "metadata": {},
     "output_type": "execute_result"
    }
   ],
   "source": [
    "n.find_one({\"geometry\": {\"$geoIntersects\": {\"$geometry\": coord_buscar }}}, proj)"
   ]
  },
  {
   "cell_type": "code",
   "execution_count": 41,
   "id": "urban-caribbean",
   "metadata": {},
   "outputs": [],
   "source": [
    "# LO QUE LLAMÁBAMOS FILTRO A LA HOROA DE HAXER LA QUERY\n",
    "filtro = {\"geometry\": {\"$geoIntersects\": {\"$geometry\": coord_buscar }}}"
   ]
  },
  {
   "cell_type": "markdown",
   "id": "timely-amazon",
   "metadata": {},
   "source": [
    "## GeoWithin"
   ]
  },
  {
   "cell_type": "markdown",
   "id": "greek-regular",
   "metadata": {},
   "source": [
    "¿Qué elementos están **contenidos** en el elemento dado?     \n",
    "¿Qué restaurantes hay en este barrio (polígono)?"
   ]
  },
  {
   "cell_type": "code",
   "execution_count": 18,
   "id": "registered-thirty",
   "metadata": {},
   "outputs": [
    {
     "data": {
      "text/plain": [
       "dict_keys(['_id', 'geometry', 'name'])"
      ]
     },
     "execution_count": 18,
     "metadata": {},
     "output_type": "execute_result"
    }
   ],
   "source": [
    "# Vemos la estructura de los documentos sacando uno y viendo sus keys\n",
    "n.find_one({}).keys()"
   ]
  },
  {
   "cell_type": "code",
   "execution_count": 22,
   "id": "extensive-cincinnati",
   "metadata": {},
   "outputs": [],
   "source": [
    "#bUSCAMOS UN barrio en  concreto\n",
    "barrio = n.find_one({'name': 'West Concourse'})\n",
    "#barrio"
   ]
  },
  {
   "cell_type": "code",
   "execution_count": 25,
   "id": "tribal-ceramic",
   "metadata": {},
   "outputs": [],
   "source": [
    "#Extraigo las coordenadas\n",
    "geo = barrio.get(\"geometry\")"
   ]
  },
  {
   "cell_type": "code",
   "execution_count": 28,
   "id": "level-reception",
   "metadata": {},
   "outputs": [
    {
     "data": {
      "text/plain": [
       "dict_keys(['_id', 'location', 'name'])"
      ]
     },
     "execution_count": 28,
     "metadata": {},
     "output_type": "execute_result"
    }
   ],
   "source": [
    "#Saco las keys de un documento de la coleccción  de restaurantes\n",
    "r.find_one({}).keys()"
   ]
  },
  {
   "cell_type": "code",
   "execution_count": 38,
   "id": "million-priest",
   "metadata": {},
   "outputs": [],
   "source": [
    "query = r.find({\"location\": {\"$geoWithin\": {\"$geometry\": geo}}})"
   ]
  },
  {
   "cell_type": "code",
   "execution_count": 33,
   "id": "allied-original",
   "metadata": {},
   "outputs": [],
   "source": [
    "#list(query)"
   ]
  },
  {
   "cell_type": "code",
   "execution_count": 42,
   "id": "laughing-productivity",
   "metadata": {},
   "outputs": [],
   "source": [
    "# ER FIRTRO\n",
    "#Location porque la key de la colección donde están las coordenadas se llama location\n",
    "\n",
    "filtro = {\"location\": {\"$geoWithin\": {\"$geometry\": geo}}}"
   ]
  },
  {
   "cell_type": "code",
   "execution_count": 39,
   "id": "hungry-masters",
   "metadata": {},
   "outputs": [
    {
     "data": {
      "text/html": [
       "<div>\n",
       "<style scoped>\n",
       "    .dataframe tbody tr th:only-of-type {\n",
       "        vertical-align: middle;\n",
       "    }\n",
       "\n",
       "    .dataframe tbody tr th {\n",
       "        vertical-align: top;\n",
       "    }\n",
       "\n",
       "    .dataframe thead th {\n",
       "        text-align: right;\n",
       "    }\n",
       "</style>\n",
       "<table border=\"1\" class=\"dataframe\">\n",
       "  <thead>\n",
       "    <tr style=\"text-align: right;\">\n",
       "      <th></th>\n",
       "      <th>_id</th>\n",
       "      <th>location</th>\n",
       "      <th>name</th>\n",
       "    </tr>\n",
       "  </thead>\n",
       "  <tbody>\n",
       "    <tr>\n",
       "      <th>0</th>\n",
       "      <td>55cba2476c522cafdb056004</td>\n",
       "      <td>{'coordinates': [-73.9259201, 40.8278293], 'ty...</td>\n",
       "      <td>Hard Rock Cafe</td>\n",
       "    </tr>\n",
       "    <tr>\n",
       "      <th>1</th>\n",
       "      <td>55cba2476c522cafdb056005</td>\n",
       "      <td>{'coordinates': [-73.9259201, 40.8278293], 'ty...</td>\n",
       "      <td>Nyy Steak</td>\n",
       "    </tr>\n",
       "    <tr>\n",
       "      <th>2</th>\n",
       "      <td>55cba2476c522cafdb058ae9</td>\n",
       "      <td>{'coordinates': [-73.9259245, 40.827435], 'typ...</td>\n",
       "      <td>Dunkin Donuts</td>\n",
       "    </tr>\n",
       "    <tr>\n",
       "      <th>3</th>\n",
       "      <td>55cba2476c522cafdb0543cb</td>\n",
       "      <td>{'coordinates': [-73.92594439999999, 40.827212...</td>\n",
       "      <td>Billy'S Sport Bar Restaurant &amp; Lounge</td>\n",
       "    </tr>\n",
       "    <tr>\n",
       "      <th>4</th>\n",
       "      <td>55cba2476c522cafdb056784</td>\n",
       "      <td>{'coordinates': [-73.9262845, 40.8266956999999...</td>\n",
       "      <td>Stan'S Sports Bar</td>\n",
       "    </tr>\n",
       "  </tbody>\n",
       "</table>\n",
       "</div>"
      ],
      "text/plain": [
       "                        _id  \\\n",
       "0  55cba2476c522cafdb056004   \n",
       "1  55cba2476c522cafdb056005   \n",
       "2  55cba2476c522cafdb058ae9   \n",
       "3  55cba2476c522cafdb0543cb   \n",
       "4  55cba2476c522cafdb056784   \n",
       "\n",
       "                                            location  \\\n",
       "0  {'coordinates': [-73.9259201, 40.8278293], 'ty...   \n",
       "1  {'coordinates': [-73.9259201, 40.8278293], 'ty...   \n",
       "2  {'coordinates': [-73.9259245, 40.827435], 'typ...   \n",
       "3  {'coordinates': [-73.92594439999999, 40.827212...   \n",
       "4  {'coordinates': [-73.9262845, 40.8266956999999...   \n",
       "\n",
       "                                    name  \n",
       "0                         Hard Rock Cafe  \n",
       "1                              Nyy Steak  \n",
       "2                          Dunkin Donuts  \n",
       "3  Billy'S Sport Bar Restaurant & Lounge  \n",
       "4                      Stan'S Sports Bar  "
      ]
     },
     "execution_count": 39,
     "metadata": {},
     "output_type": "execute_result"
    }
   ],
   "source": [
    "import pandas as pd\n",
    "df = pd.DataFrame(list(query))\n",
    "df.head()"
   ]
  },
  {
   "cell_type": "code",
   "execution_count": 43,
   "id": "current-durham",
   "metadata": {},
   "outputs": [
    {
     "data": {
      "text/plain": [
       "(125, 3)"
      ]
     },
     "execution_count": 43,
     "metadata": {},
     "output_type": "execute_result"
    }
   ],
   "source": [
    "df.shape"
   ]
  },
  {
   "cell_type": "markdown",
   "id": "lightweight-section",
   "metadata": {},
   "source": [
    "## Near"
   ]
  },
  {
   "cell_type": "markdown",
   "id": "wound-campus",
   "metadata": {},
   "source": [
    "¿Qué elementos se encuentran a una distancia de una geometría determinada?     \n",
    "`$nearSphere`/`$near` y `$maxDistance` nos ayudan a encontrar todos los elementos dentro de `maxDistance` metros de la geometría deseada, **ordenados** de más cercano a más lejano."
   ]
  },
  {
   "cell_type": "code",
   "execution_count": 46,
   "id": "dental-radar",
   "metadata": {},
   "outputs": [],
   "source": [
    "#  Mi posición, voy a buscar restaurantes cercanos a  ESTE punto\n",
    "coordenadas2 = [-73.93, 40.82]\n",
    "coord_point = {\"type\":\"Point\", \"coordinates\": coordenadas2}"
   ]
  },
  {
   "cell_type": "code",
   "execution_count": 45,
   "id": "digital-young",
   "metadata": {},
   "outputs": [],
   "source": [
    "# Km que quiero  caminar\n",
    "metros = 3000"
   ]
  },
  {
   "cell_type": "code",
   "execution_count": 58,
   "id": "flying-essex",
   "metadata": {},
   "outputs": [],
   "source": [
    "query = {\"location\": {\"$near\": {\"$geometry\": coord_point, \"$minDistance\": 500, \"$maxDistance\": metros}}}"
   ]
  },
  {
   "cell_type": "code",
   "execution_count": 59,
   "id": "twenty-queens",
   "metadata": {},
   "outputs": [],
   "source": [
    "query_final = r.find(query)"
   ]
  },
  {
   "cell_type": "code",
   "execution_count": 60,
   "id": "competitive-heavy",
   "metadata": {},
   "outputs": [],
   "source": [
    "otro_df = pd.DataFrame(list(query_final))"
   ]
  },
  {
   "cell_type": "code",
   "execution_count": 61,
   "id": "concrete-lambda",
   "metadata": {},
   "outputs": [
    {
     "data": {
      "text/html": [
       "<div>\n",
       "<style scoped>\n",
       "    .dataframe tbody tr th:only-of-type {\n",
       "        vertical-align: middle;\n",
       "    }\n",
       "\n",
       "    .dataframe tbody tr th {\n",
       "        vertical-align: top;\n",
       "    }\n",
       "\n",
       "    .dataframe thead th {\n",
       "        text-align: right;\n",
       "    }\n",
       "</style>\n",
       "<table border=\"1\" class=\"dataframe\">\n",
       "  <thead>\n",
       "    <tr style=\"text-align: right;\">\n",
       "      <th></th>\n",
       "      <th>_id</th>\n",
       "      <th>location</th>\n",
       "      <th>name</th>\n",
       "    </tr>\n",
       "  </thead>\n",
       "  <tbody>\n",
       "    <tr>\n",
       "      <th>0</th>\n",
       "      <td>55cba2476c522cafdb055a6d</td>\n",
       "      <td>{'coordinates': [-73.9244744, 40.8180032], 'ty...</td>\n",
       "      <td>Jo Jo Pizza</td>\n",
       "    </tr>\n",
       "    <tr>\n",
       "      <th>1</th>\n",
       "      <td>55cba2476c522cafdb0574cd</td>\n",
       "      <td>{'coordinates': [-73.9365102, 40.8202205], 'ty...</td>\n",
       "      <td>Kentucky Fried Chicken</td>\n",
       "    </tr>\n",
       "    <tr>\n",
       "      <th>2</th>\n",
       "      <td>55cba2476c522cafdb05476a</td>\n",
       "      <td>{'coordinates': [-73.9365637, 40.8201488], 'ty...</td>\n",
       "      <td>Papa John'S</td>\n",
       "    </tr>\n",
       "    <tr>\n",
       "      <th>3</th>\n",
       "      <td>55cba2486c522cafdb059a11</td>\n",
       "      <td>{'coordinates': [-73.9365637, 40.8201488], 'ty...</td>\n",
       "      <td>Jimbo'S Hamburgers</td>\n",
       "    </tr>\n",
       "    <tr>\n",
       "      <th>4</th>\n",
       "      <td>55cba2476c522cafdb05814c</td>\n",
       "      <td>{'coordinates': [-73.9367511, 40.8198978], 'ty...</td>\n",
       "      <td>Sweet Mama'S Soul Food</td>\n",
       "    </tr>\n",
       "  </tbody>\n",
       "</table>\n",
       "</div>"
      ],
      "text/plain": [
       "                        _id  \\\n",
       "0  55cba2476c522cafdb055a6d   \n",
       "1  55cba2476c522cafdb0574cd   \n",
       "2  55cba2476c522cafdb05476a   \n",
       "3  55cba2486c522cafdb059a11   \n",
       "4  55cba2476c522cafdb05814c   \n",
       "\n",
       "                                            location                    name  \n",
       "0  {'coordinates': [-73.9244744, 40.8180032], 'ty...             Jo Jo Pizza  \n",
       "1  {'coordinates': [-73.9365102, 40.8202205], 'ty...  Kentucky Fried Chicken  \n",
       "2  {'coordinates': [-73.9365637, 40.8201488], 'ty...             Papa John'S  \n",
       "3  {'coordinates': [-73.9365637, 40.8201488], 'ty...      Jimbo'S Hamburgers  \n",
       "4  {'coordinates': [-73.9367511, 40.8198978], 'ty...  Sweet Mama'S Soul Food  "
      ]
     },
     "execution_count": 61,
     "metadata": {},
     "output_type": "execute_result"
    }
   ],
   "source": [
    "otro_df.head()"
   ]
  },
  {
   "cell_type": "markdown",
   "id": "hybrid-despite",
   "metadata": {},
   "source": [
    "## Extra, extra!! mis datos extraídos de Foursquare en Mongo"
   ]
  },
  {
   "cell_type": "markdown",
   "id": "driving-dublin",
   "metadata": {},
   "source": [
    "### Voy a traerme todas las fruterías de Madrid"
   ]
  },
  {
   "cell_type": "code",
   "execution_count": 62,
   "id": "tight-spiritual",
   "metadata": {},
   "outputs": [
    {
     "data": {
      "text/plain": [
       "True"
      ]
     },
     "execution_count": 62,
     "metadata": {},
     "output_type": "execute_result"
    }
   ],
   "source": [
    "import requests\n",
    "import json\n",
    "from dotenv import load_dotenv\n",
    "import os\n",
    "import pandas as pd\n",
    "load_dotenv()"
   ]
  },
  {
   "cell_type": "code",
   "execution_count": 63,
   "id": "sacred-investigator",
   "metadata": {},
   "outputs": [],
   "source": [
    "tok1= os.getenv(\"tok1\")\n",
    "tok2= os.getenv(\"tok2\")"
   ]
  },
  {
   "cell_type": "code",
   "execution_count": 64,
   "id": "vietnamese-timothy",
   "metadata": {},
   "outputs": [],
   "source": [
    "madrid = {'type': 'Point', 'coordinates': [40.42955,-3.6793]}"
   ]
  },
  {
   "cell_type": "code",
   "execution_count": 65,
   "id": "popular-shanghai",
   "metadata": {},
   "outputs": [],
   "source": [
    "url_query = 'https://api.foursquare.com/v2/venues/explore'"
   ]
  },
  {
   "cell_type": "code",
   "execution_count": 105,
   "id": "removable-affair",
   "metadata": {},
   "outputs": [],
   "source": [
    "parametros = {\n",
    "    \"client_id\": tok1,\n",
    "    \"client_secret\": tok2,\n",
    "    \"v\": \"20180323\",\n",
    "    \"ll\": f\"{madrid.get('coordinates')[0]}, {madrid.get('coordinates')[1]}\",\n",
    "    \"query\": \"café\",\n",
    "    \"limit\": 100 \n",
    "}"
   ]
  },
  {
   "cell_type": "code",
   "execution_count": 106,
   "id": "satisfactory-security",
   "metadata": {},
   "outputs": [],
   "source": [
    "resp = requests.get(url= url_query, params = parametros).json()"
   ]
  },
  {
   "cell_type": "code",
   "execution_count": 107,
   "id": "incomplete-while",
   "metadata": {},
   "outputs": [],
   "source": [
    "data = resp.get(\"response\").get(\"groups\")[0].get(\"items\")"
   ]
  },
  {
   "cell_type": "code",
   "execution_count": 108,
   "id": "collectible-literature",
   "metadata": {},
   "outputs": [],
   "source": [
    "from functools import reduce\n",
    "import operator"
   ]
  },
  {
   "cell_type": "code",
   "execution_count": 109,
   "id": "sacred-mercy",
   "metadata": {},
   "outputs": [],
   "source": [
    "# Mis fuentes --stackoverflow\n",
    "def getFromDict(diccionario,mapa):\n",
    "    return reduce(operator.getitem,mapa,diccionario)"
   ]
  },
  {
   "cell_type": "code",
   "execution_count": 110,
   "id": "signal-boost",
   "metadata": {},
   "outputs": [],
   "source": [
    "mapa_nombre =  [\"venue\", \"name\"]\n",
    "mapa_latitud = [\"venue\", \"location\", \"lat\"]\n",
    "mapa_longitud = [\"venue\", \"location\", \"lng\"]"
   ]
  },
  {
   "cell_type": "code",
   "execution_count": 111,
   "id": "universal-bedroom",
   "metadata": {},
   "outputs": [],
   "source": [
    "lista_frutas = []\n",
    "for dic in data:\n",
    "    paralista = {}\n",
    "    paralista[\"name\"] = getFromDict(dic, mapa_nombre)\n",
    "    paralista[\"latitud\"]= getFromDict(dic, mapa_latitud)\n",
    "    paralista[\"longitud\"] = getFromDict(dic,mapa_longitud)\n",
    "    lista_frutas.append(paralista)"
   ]
  },
  {
   "cell_type": "code",
   "execution_count": 113,
   "id": "stuffed-friendly",
   "metadata": {},
   "outputs": [
    {
     "data": {
      "text/plain": [
       "(100, 3)"
      ]
     },
     "execution_count": 113,
     "metadata": {},
     "output_type": "execute_result"
    }
   ],
   "source": [
    "df = pd.DataFrame(lista_frutas)\n",
    "df.shape"
   ]
  },
  {
   "cell_type": "markdown",
   "id": "alert-passenger",
   "metadata": {},
   "source": [
    "Vamos a manipular los datos para tener esta misma estructura en tipo point y poder hacer un index en Mongo para realizar geoqueries"
   ]
  },
  {
   "cell_type": "code",
   "execution_count": 78,
   "id": "material-cancer",
   "metadata": {},
   "outputs": [
    {
     "data": {
      "text/plain": [
       "{'name': 'Platea Madrid',\n",
       " 'latitud': 40.426083288964996,\n",
       " 'longitud': -3.68866416486341}"
      ]
     },
     "execution_count": 78,
     "metadata": {},
     "output_type": "execute_result"
    }
   ],
   "source": [
    "lista_frutas[0]"
   ]
  },
  {
   "cell_type": "code",
   "execution_count": 79,
   "id": "accepting-lebanon",
   "metadata": {},
   "outputs": [],
   "source": [
    "documentos = []\n",
    "for diccionario in lista_frutas:\n",
    "    temporal = {\n",
    "        \"name\": diccionario.get(\"name\"),\n",
    "        \"location\": {\"type\": \"Point\", \"coordinates\": [diccionario.get(\"latitud\"), diccionario.get(\"longitud\")]}    \n",
    "    }\n",
    "    documentos.append(temporal)"
   ]
  },
  {
   "cell_type": "code",
   "execution_count": 81,
   "id": "oriental-sequence",
   "metadata": {},
   "outputs": [
    {
     "data": {
      "text/plain": [
       "{'name': 'Platea Madrid',\n",
       " 'location': {'type': 'Point',\n",
       "  'coordinates': [40.426083288964996, -3.68866416486341]}}"
      ]
     },
     "execution_count": 81,
     "metadata": {},
     "output_type": "execute_result"
    }
   ],
   "source": [
    "documentos[0]"
   ]
  },
  {
   "cell_type": "code",
   "execution_count": 82,
   "id": "automatic-singapore",
   "metadata": {},
   "outputs": [],
   "source": [
    "nolollamesdf = pd.DataFrame(documentos)"
   ]
  },
  {
   "cell_type": "code",
   "execution_count": 83,
   "id": "juvenile-tourism",
   "metadata": {},
   "outputs": [
    {
     "data": {
      "text/html": [
       "<div>\n",
       "<style scoped>\n",
       "    .dataframe tbody tr th:only-of-type {\n",
       "        vertical-align: middle;\n",
       "    }\n",
       "\n",
       "    .dataframe tbody tr th {\n",
       "        vertical-align: top;\n",
       "    }\n",
       "\n",
       "    .dataframe thead th {\n",
       "        text-align: right;\n",
       "    }\n",
       "</style>\n",
       "<table border=\"1\" class=\"dataframe\">\n",
       "  <thead>\n",
       "    <tr style=\"text-align: right;\">\n",
       "      <th></th>\n",
       "      <th>name</th>\n",
       "      <th>location</th>\n",
       "    </tr>\n",
       "  </thead>\n",
       "  <tbody>\n",
       "    <tr>\n",
       "      <th>0</th>\n",
       "      <td>Platea Madrid</td>\n",
       "      <td>{'type': 'Point', 'coordinates': [40.426083288...</td>\n",
       "    </tr>\n",
       "    <tr>\n",
       "      <th>1</th>\n",
       "      <td>Supermercado Rotterdam</td>\n",
       "      <td>{'type': 'Point', 'coordinates': [40.426497213...</td>\n",
       "    </tr>\n",
       "    <tr>\n",
       "      <th>2</th>\n",
       "      <td>Frutas Charito</td>\n",
       "      <td>{'type': 'Point', 'coordinates': [40.457392971...</td>\n",
       "    </tr>\n",
       "    <tr>\n",
       "      <th>3</th>\n",
       "      <td>Frutería Vázquez</td>\n",
       "      <td>{'type': 'Point', 'coordinates': [40.427789898...</td>\n",
       "    </tr>\n",
       "    <tr>\n",
       "      <th>4</th>\n",
       "      <td>Fruteria Helen - La 24</td>\n",
       "      <td>{'type': 'Point', 'coordinates': [40.444155226...</td>\n",
       "    </tr>\n",
       "  </tbody>\n",
       "</table>\n",
       "</div>"
      ],
      "text/plain": [
       "                     name                                           location\n",
       "0           Platea Madrid  {'type': 'Point', 'coordinates': [40.426083288...\n",
       "1  Supermercado Rotterdam  {'type': 'Point', 'coordinates': [40.426497213...\n",
       "2          Frutas Charito  {'type': 'Point', 'coordinates': [40.457392971...\n",
       "3        Frutería Vázquez  {'type': 'Point', 'coordinates': [40.427789898...\n",
       "4  Fruteria Helen - La 24  {'type': 'Point', 'coordinates': [40.444155226..."
      ]
     },
     "execution_count": 83,
     "metadata": {},
     "output_type": "execute_result"
    }
   ],
   "source": [
    "nolollamesdf.head()"
   ]
  },
  {
   "cell_type": "code",
   "execution_count": 85,
   "id": "defensive-array",
   "metadata": {},
   "outputs": [],
   "source": [
    "nolollamesdf.to_json(\"lasfruterias.json\", orient=\"records\")"
   ]
  },
  {
   "cell_type": "markdown",
   "id": "dried-motion",
   "metadata": {},
   "source": [
    "## Vamos a buscar a cuántos km están las fruterías de mi casa"
   ]
  },
  {
   "cell_type": "code",
   "execution_count": 115,
   "id": "rolled-complement",
   "metadata": {},
   "outputs": [],
   "source": [
    "fruterias = db.get_collection(\"fruterias\")"
   ]
  },
  {
   "cell_type": "code",
   "execution_count": 116,
   "id": "operating-financing",
   "metadata": {},
   "outputs": [
    {
     "data": {
      "text/plain": [
       "'location_2dsphere'"
      ]
     },
     "execution_count": 116,
     "metadata": {},
     "output_type": "execute_result"
    }
   ],
   "source": [
    "fruterias.create_index([(\"location\", GEOSPHERE)])"
   ]
  },
  {
   "cell_type": "code",
   "execution_count": 117,
   "id": "retained-classic",
   "metadata": {},
   "outputs": [
    {
     "data": {
      "text/plain": [
       "{'_id': ObjectId('60d4535e457071ac5cbc53bc'),\n",
       " 'name': 'Platea Madrid',\n",
       " 'location': {'type': 'Point', 'coordinates': [40.426083289, -3.6886641649]}}"
      ]
     },
     "execution_count": 117,
     "metadata": {},
     "output_type": "execute_result"
    }
   ],
   "source": [
    "fruterias.find_one({})"
   ]
  },
  {
   "cell_type": "code",
   "execution_count": 119,
   "id": "burning-background",
   "metadata": {},
   "outputs": [],
   "source": [
    "lavapi = [40.408808, -3.7034796]\n",
    "lavapi_point = {\"type\": \"Point\", \"coordinates\": lavapi}"
   ]
  },
  {
   "cell_type": "code",
   "execution_count": 120,
   "id": "absent-assistant",
   "metadata": {},
   "outputs": [],
   "source": [
    "consulta = {\"location\": {\"$near\": {\"$geometry\": lavapi_point, \"$maxDistance\": 2000}}}"
   ]
  },
  {
   "cell_type": "code",
   "execution_count": 121,
   "id": "ordered-contract",
   "metadata": {},
   "outputs": [
    {
     "data": {
      "text/plain": [
       "[{'_id': ObjectId('60d4535e457071ac5cbc53bd'),\n",
       "  'name': 'Supermercado Rotterdam',\n",
       "  'location': {'type': 'Point',\n",
       "   'coordinates': [40.4264972132, -3.7067738427]}}]"
      ]
     },
     "execution_count": 121,
     "metadata": {},
     "output_type": "execute_result"
    }
   ],
   "source": [
    "fru = list(fruterias.find(consulta))\n",
    "fru"
   ]
  },
  {
   "cell_type": "code",
   "execution_count": 122,
   "id": "inner-subscription",
   "metadata": {},
   "outputs": [
    {
     "data": {
      "text/html": [
       "<div>\n",
       "<style scoped>\n",
       "    .dataframe tbody tr th:only-of-type {\n",
       "        vertical-align: middle;\n",
       "    }\n",
       "\n",
       "    .dataframe tbody tr th {\n",
       "        vertical-align: top;\n",
       "    }\n",
       "\n",
       "    .dataframe thead th {\n",
       "        text-align: right;\n",
       "    }\n",
       "</style>\n",
       "<table border=\"1\" class=\"dataframe\">\n",
       "  <thead>\n",
       "    <tr style=\"text-align: right;\">\n",
       "      <th></th>\n",
       "      <th>_id</th>\n",
       "      <th>name</th>\n",
       "      <th>location</th>\n",
       "    </tr>\n",
       "  </thead>\n",
       "  <tbody>\n",
       "    <tr>\n",
       "      <th>0</th>\n",
       "      <td>60d4535e457071ac5cbc53bd</td>\n",
       "      <td>Supermercado Rotterdam</td>\n",
       "      <td>{'type': 'Point', 'coordinates': [40.426497213...</td>\n",
       "    </tr>\n",
       "  </tbody>\n",
       "</table>\n",
       "</div>"
      ],
      "text/plain": [
       "                        _id                    name  \\\n",
       "0  60d4535e457071ac5cbc53bd  Supermercado Rotterdam   \n",
       "\n",
       "                                            location  \n",
       "0  {'type': 'Point', 'coordinates': [40.426497213...  "
      ]
     },
     "execution_count": 122,
     "metadata": {},
     "output_type": "execute_result"
    }
   ],
   "source": [
    "df = pd.DataFrame(fru)\n",
    "df.head()"
   ]
  },
  {
   "cell_type": "code",
   "execution_count": null,
   "id": "crucial-teddy",
   "metadata": {},
   "outputs": [],
   "source": [
    "$geoNear"
   ]
  }
 ],
 "metadata": {
  "kernelspec": {
   "display_name": "ironhack",
   "language": "python",
   "name": "ironhack"
  },
  "language_info": {
   "codemirror_mode": {
    "name": "ipython",
    "version": 3
   },
   "file_extension": ".py",
   "mimetype": "text/x-python",
   "name": "python",
   "nbconvert_exporter": "python",
   "pygments_lexer": "ipython3",
   "version": "3.8.5"
  },
  "toc": {
   "base_numbering": 1,
   "nav_menu": {},
   "number_sections": true,
   "sideBar": true,
   "skip_h1_title": true,
   "title_cell": "Table of Contents",
   "title_sidebar": "Contents",
   "toc_cell": true,
   "toc_position": {
    "height": "calc(100% - 180px)",
    "left": "10px",
    "top": "150px",
    "width": "288px"
   },
   "toc_section_display": true,
   "toc_window_display": true
  }
 },
 "nbformat": 4,
 "nbformat_minor": 5
}
