{
 "cells": [
  {
   "cell_type": "markdown",
   "id": "starting-vacuum",
   "metadata": {
    "toc": true
   },
   "source": [
    "<h1>Table of Contents<span class=\"tocSkip\"></span></h1>\n",
    "<div class=\"toc\"><ul class=\"toc-item\"><li><span><a href=\"#Introducción\" data-toc-modified-id=\"Introducción-1\"><span class=\"toc-item-num\">1&nbsp;&nbsp;</span>Introducción</a></span></li><li><span><a href=\"#Instalación\" data-toc-modified-id=\"Instalación-2\"><span class=\"toc-item-num\">2&nbsp;&nbsp;</span>Instalación</a></span></li><li><span><a href=\"#Introducción-a-las-estructuras-de-datos-de-pandas\" data-toc-modified-id=\"Introducción-a-las-estructuras-de-datos-de-pandas-3\"><span class=\"toc-item-num\">3&nbsp;&nbsp;</span>Introducción a las estructuras de datos de pandas</a></span><ul class=\"toc-item\"><li><span><a href=\"#Series\" data-toc-modified-id=\"Series-3.1\"><span class=\"toc-item-num\">3.1&nbsp;&nbsp;</span>Series</a></span></li><li><span><a href=\"#Buscar-valores-NaN\" data-toc-modified-id=\"Buscar-valores-NaN-3.2\"><span class=\"toc-item-num\">3.2&nbsp;&nbsp;</span>Buscar valores NaN</a></span></li></ul></li><li><span><a href=\"#Datos-de-lectura/escritura\" data-toc-modified-id=\"Datos-de-lectura/escritura-4\"><span class=\"toc-item-num\">4&nbsp;&nbsp;</span>Datos de lectura/escritura</a></span><ul class=\"toc-item\"><li><span><a href=\"#Cargamos-datos-en-formato-CSV\" data-toc-modified-id=\"Cargamos-datos-en-formato-CSV-4.1\"><span class=\"toc-item-num\">4.1&nbsp;&nbsp;</span>Cargamos datos en formato CSV</a></span></li><li><span><a href=\"#Visualizamos-las-primeras-filas\" data-toc-modified-id=\"Visualizamos-las-primeras-filas-4.2\"><span class=\"toc-item-num\">4.2&nbsp;&nbsp;</span>Visualizamos las primeras filas</a></span></li><li><span><a href=\"#Visualizamos-las-últimas-filas\" data-toc-modified-id=\"Visualizamos-las-últimas-filas-4.3\"><span class=\"toc-item-num\">4.3&nbsp;&nbsp;</span>Visualizamos las últimas filas</a></span></li><li><span><a href=\"#Visualizamos-una-muestra-aleatoria\" data-toc-modified-id=\"Visualizamos-una-muestra-aleatoria-4.4\"><span class=\"toc-item-num\">4.4&nbsp;&nbsp;</span>Visualizamos una muestra aleatoria</a></span></li></ul></li><li><span><a href=\"#Operaciones-básicas-con-los-dataframes\" data-toc-modified-id=\"Operaciones-básicas-con-los-dataframes-5\"><span class=\"toc-item-num\">5&nbsp;&nbsp;</span>Operaciones básicas con los dataframes</a></span><ul class=\"toc-item\"><li><span><a href=\"#Seleccionamos-una-columna\" data-toc-modified-id=\"Seleccionamos-una-columna-5.1\"><span class=\"toc-item-num\">5.1&nbsp;&nbsp;</span>Seleccionamos una columna</a></span></li><li><span><a href=\"#Seleccionamos-varias-columnas\" data-toc-modified-id=\"Seleccionamos-varias-columnas-5.2\"><span class=\"toc-item-num\">5.2&nbsp;&nbsp;</span>Seleccionamos varias columnas</a></span></li><li><span><a href=\"#Obtener-los-valores-únicos-de-una-columna-(es-decir,-una-serie)\" data-toc-modified-id=\"Obtener-los-valores-únicos-de-una-columna-(es-decir,-una-serie)-5.3\"><span class=\"toc-item-num\">5.3&nbsp;&nbsp;</span>Obtener los valores únicos de una columna (es decir, una serie)</a></span></li><li><span><a href=\"#Filtramos-los-datos-por-el-valor-de-las-columnas\" data-toc-modified-id=\"Filtramos-los-datos-por-el-valor-de-las-columnas-5.4\"><span class=\"toc-item-num\">5.4&nbsp;&nbsp;</span>Filtramos los datos por el valor de las columnas</a></span></li><li><span><a href=\"#Copia-de-un-dataframe-y-renombrar-columnas\" data-toc-modified-id=\"Copia-de-un-dataframe-y-renombrar-columnas-5.5\"><span class=\"toc-item-num\">5.5&nbsp;&nbsp;</span>Copia de un dataframe y renombrar columnas</a></span><ul class=\"toc-item\"><li><span><a href=\"#Podemos-renombrar-las-columnas-machacando-el-atributo-de-la-instancia...-¿os-suena-esto?\" data-toc-modified-id=\"Podemos-renombrar-las-columnas-machacando-el-atributo-de-la-instancia...-¿os-suena-esto?-5.5.1\"><span class=\"toc-item-num\">5.5.1&nbsp;&nbsp;</span>Podemos renombrar las columnas machacando el atributo de la instancia... ¿os suena esto?</a></span></li></ul></li><li><span><a href=\"#Borramos-columnas\" data-toc-modified-id=\"Borramos-columnas-5.6\"><span class=\"toc-item-num\">5.6&nbsp;&nbsp;</span>Borramos columnas</a></span></li><li><span><a href=\"#Borramos-filas\" data-toc-modified-id=\"Borramos-filas-5.7\"><span class=\"toc-item-num\">5.7&nbsp;&nbsp;</span>Borramos filas</a></span></li><li><span><a href=\"#Reset_index-y-set_index\" data-toc-modified-id=\"Reset_index-y-set_index-5.8\"><span class=\"toc-item-num\">5.8&nbsp;&nbsp;</span>Reset_index y set_index</a></span><ul class=\"toc-item\"><li><span><a href=\"#SET_INDEX\" data-toc-modified-id=\"SET_INDEX-5.8.1\"><span class=\"toc-item-num\">5.8.1&nbsp;&nbsp;</span>SET_INDEX</a></span></li></ul></li><li><span><a href=\"#Operaciones-entre-columnas\" data-toc-modified-id=\"Operaciones-entre-columnas-5.9\"><span class=\"toc-item-num\">5.9&nbsp;&nbsp;</span>Operaciones entre columnas</a></span></li></ul></li><li><span><a href=\"#Apply-!!\" data-toc-modified-id=\"Apply-!!-6\"><span class=\"toc-item-num\">6&nbsp;&nbsp;</span>Apply !!</a></span></li><li><span><a href=\"#Df-.loc-e-.iloc\" data-toc-modified-id=\"Df-.loc-e-.iloc-7\"><span class=\"toc-item-num\">7&nbsp;&nbsp;</span>Df .loc e .iloc</a></span><ul class=\"toc-item\"><li><span><a href=\"#Seleccionar-filas-y-columnas-en-Pandas-mediante-posición-con-iloc\" data-toc-modified-id=\"Seleccionar-filas-y-columnas-en-Pandas-mediante-posición-con-iloc-7.1\"><span class=\"toc-item-num\">7.1&nbsp;&nbsp;</span>Seleccionar filas y columnas en Pandas mediante posición con iloc</a></span></li><li><span><a href=\"#Seleccionar-filas-y-columnas-en-Pandas-en-base-a-etiquetas-con-loc\" data-toc-modified-id=\"Seleccionar-filas-y-columnas-en-Pandas-en-base-a-etiquetas-con-loc-7.2\"><span class=\"toc-item-num\">7.2&nbsp;&nbsp;</span>Seleccionar filas y columnas en Pandas en base a etiquetas con loc</a></span><ul class=\"toc-item\"><li><span><a href=\"#En-base-a-etiqueta\" data-toc-modified-id=\"En-base-a-etiqueta-7.2.1\"><span class=\"toc-item-num\">7.2.1&nbsp;&nbsp;</span>En base a etiqueta</a></span></li><li><span><a href=\"#En-base-a-una-condición\" data-toc-modified-id=\"En-base-a-una-condición-7.2.2\"><span class=\"toc-item-num\">7.2.2&nbsp;&nbsp;</span>En base a una condición</a></span></li></ul></li></ul></li><li><span><a href=\"#Análisis-exploratorio-de-un-dataframe\" data-toc-modified-id=\"Análisis-exploratorio-de-un-dataframe-8\"><span class=\"toc-item-num\">8&nbsp;&nbsp;</span>Análisis exploratorio de un dataframe</a></span><ul class=\"toc-item\"><li><span><a href=\"#Buscamos-valores-nulos\" data-toc-modified-id=\"Buscamos-valores-nulos-8.1\"><span class=\"toc-item-num\">8.1&nbsp;&nbsp;</span>Buscamos valores nulos</a></span></li><li><span><a href=\"#Borramos-los-valores-nulos\" data-toc-modified-id=\"Borramos-los-valores-nulos-8.2\"><span class=\"toc-item-num\">8.2&nbsp;&nbsp;</span>Borramos los valores nulos</a></span></li><li><span><a href=\"#Cómo-rellenar-los-datos-que-faltan\" data-toc-modified-id=\"Cómo-rellenar-los-datos-que-faltan-8.3\"><span class=\"toc-item-num\">8.3&nbsp;&nbsp;</span>Cómo rellenar los datos que faltan</a></span></li></ul></li><li><span><a href=\"#Agregación-de-datos\" data-toc-modified-id=\"Agregación-de-datos-9\"><span class=\"toc-item-num\">9&nbsp;&nbsp;</span>Agregación de datos</a></span><ul class=\"toc-item\"><li><span><a href=\"#Merge-/-Concat\" data-toc-modified-id=\"Merge-/-Concat-9.1\"><span class=\"toc-item-num\">9.1&nbsp;&nbsp;</span>Merge / Concat</a></span></li></ul></li><li><span><a href=\"#Spoiler-fantasioso-de-mañana\" data-toc-modified-id=\"Spoiler-fantasioso-de-mañana-10\"><span class=\"toc-item-num\">10&nbsp;&nbsp;</span>Spoiler fantasioso de mañana</a></span></li><li><span><a href=\"#Summary\" data-toc-modified-id=\"Summary-11\"><span class=\"toc-item-num\">11&nbsp;&nbsp;</span>Summary</a></span></li><li><span><a href=\"#Further-materials\" data-toc-modified-id=\"Further-materials-12\"><span class=\"toc-item-num\">12&nbsp;&nbsp;</span>Further materials</a></span></li></ul></div>"
   ]
  },
  {
   "cell_type": "markdown",
   "id": "desperate-backing",
   "metadata": {},
   "source": [
    "# Pandas"
   ]
  },
  {
   "cell_type": "markdown",
   "id": "minimal-distinction",
   "metadata": {},
   "source": [
    "![pandas](https://media.giphy.com/media/nVsLCrW5iHf6E/giphy.gif)"
   ]
  },
  {
   "cell_type": "markdown",
   "id": "quiet-atmosphere",
   "metadata": {},
   "source": [
    "Mi gif favorito para la que, a partir de ahora, será tu librería favorita 😍"
   ]
  },
  {
   "cell_type": "markdown",
   "id": "understood-proxy",
   "metadata": {},
   "source": [
    "## Introducción \n",
    "Pandas es, sin duda, la biblioteca más utilizada en el ecosistema de Python para el análisis y la manipulación de datos. Es rápida, potente, flexible, fácil de usar y de código abierto. \n",
    "\n",
    "\n",
    "Entre sus principales características están\n",
    "* Un objeto **DataFrame** rápido y eficiente para la manipulación de datos con indexación integrada\n",
    "* **Lectura y escritura** de datos en multitud de formatos: Microsoflt Excel, CSV, bases de datos SQL, etc;\n",
    "* Métodos integrados y eficientes para todo tipo de manipulación de datos: datos faltantes, subconjunto, unión, fusión, etc; \n",
    "* Facilidad para trabajar con datos temporales (de hecho, Pandas se llama así por \"PANnel DAta\") \n",
    "* Buena **integración con otras librerías** de análisis de datos o Machine learning: scikit-learn, scipy, seaborn, plotly, etc;\n",
    "* Es **ampliamente utilizado** tanto en el sector privado como en el académico     \n",
    "\n",
    "\n",
    "Pandas proporciona estructuras de datos de alto nivel y funciones diseñadas para hacer que el trabajo con datos estructurados o tabulares sea rápido, fácil y expresivo. Desde su aparición en 2010, ha ayudado a que Python sea un entorno de análisis de datos potente y productivo. Los principales objetos de pandas que se utilizarán en este libro son el DataFrame, una estructura de datos tabular orientada a columnas con etiquetas de filas y columnas, y la Serie, un objeto de matriz unidimensional etiquetado.\n",
    "\n",
    "Pandas combina las ideas de alto rendimiento de NumPy con las capacidades flexibles de manipulación de datos de las hojas de cálculo y las bases de datos relacionales (como SQL). Proporciona una sofisticada funcionalidad de indexación para facilitar la remodelación, el corte y la división, la realización de agregaciones y la selección de subconjuntos de datos. \n"
   ]
  },
  {
   "cell_type": "markdown",
   "id": "severe-costume",
   "metadata": {},
   "source": [
    "![image](https://thumbor.forbes.com/thumbor/960x0/https%3A%2F%2Fblogs-images.forbes.com%2Fgilpress%2Ffiles%2F2016%2F03%2FTime-1200x511.jpg)\n",
    "\n",
    "\n",
    "\n",
    "Fuente: [Forbes](https://www.forbes.com/sites/gilpress/2016/03/23/data-preparation-most-time-consuming-least-enjoyable-data-science-task-survey-says/#1ba071616f63)"
   ]
  },
  {
   "cell_type": "markdown",
   "id": "dangerous-wellington",
   "metadata": {},
   "source": [
    "## Instalación"
   ]
  },
  {
   "cell_type": "markdown",
   "id": "weird-laugh",
   "metadata": {},
   "source": [
    "Lo primerito que deberás hacer, siempre será     \n",
    "pip install pandas"
   ]
  },
  {
   "cell_type": "code",
   "execution_count": null,
   "id": "promising-requirement",
   "metadata": {},
   "outputs": [],
   "source": [
    "import pandas as pd"
   ]
  },
  {
   "cell_type": "markdown",
   "id": "lesser-apache",
   "metadata": {},
   "source": [
    "## Introducción a las estructuras de datos de pandas\n",
    "Para empezar con pandas, necesitarás sentirte cómodo con sus dos estructuras de datos de trabajo: Series y DataFrame. Aunque no son una solución universal para todos los problemas, proporcionan una base sólida y fácil de usar para la mayoría de las aplicaciones."
   ]
  },
  {
   "cell_type": "markdown",
   "id": "fitting-pioneer",
   "metadata": {},
   "source": [
    "### Series\n",
    "Una Serie es un objeto tipo array unidimensional que contiene una secuencia de valores (de tipos similares a los de NumPy) y un array asociado de etiquetas de datos, llamado su índice. La Serie más sencilla se forma a partir de un único array de datos:"
   ]
  },
  {
   "cell_type": "code",
   "execution_count": null,
   "id": "monetary-sheriff",
   "metadata": {},
   "outputs": [],
   "source": []
  },
  {
   "cell_type": "markdown",
   "id": "comparable-movement",
   "metadata": {},
   "source": [
    "La representación en cadena de una Serie mostrada interactivamente muestra el índice a la izquierda y los valores a la derecha. Como no especificamos un índice para los datos, se crea uno por defecto formado por los enteros 0 a N - 1 (donde N es la longitud de los datos). Puedes obtener la representación del array y el objeto índice de la Serie a través de sus atributos values e index, respectivamente:"
   ]
  },
  {
   "cell_type": "code",
   "execution_count": null,
   "id": "proprietary-network",
   "metadata": {},
   "outputs": [],
   "source": []
  },
  {
   "cell_type": "code",
   "execution_count": null,
   "id": "strange-profile",
   "metadata": {},
   "outputs": [],
   "source": []
  },
  {
   "cell_type": "markdown",
   "id": "classified-preservation",
   "metadata": {},
   "source": [
    "Otra forma de pensar en una Serie es como un dict ordenado de longitud fija, ya que es un mapeo de valores de índice a valores de datos. Se puede utilizar en muchos contextos en los que se podría utilizar un diccionario.\n",
    "Si tienes datos contenidos en un dict de Python, puedes crear una Serie a partir de ellos pasando el dict:"
   ]
  },
  {
   "cell_type": "code",
   "execution_count": null,
   "id": "exotic-certificate",
   "metadata": {},
   "outputs": [],
   "source": [
    "sdata = {'Ohio': 35000, 'Texas': 71000, 'Oregon': 16000, 'Utah': 5000}\n"
   ]
  },
  {
   "cell_type": "markdown",
   "id": "wicked-portfolio",
   "metadata": {},
   "source": [
    "Cuando sólo se pasa un dict, el índice de la Serie resultante tendrá las claves del dict en orden. Puedes anular esto pasando las claves del dict en el orden que desee que aparezcan en la Serie resultante:"
   ]
  },
  {
   "cell_type": "code",
   "execution_count": null,
   "id": "cloudy-plate",
   "metadata": {},
   "outputs": [],
   "source": [
    "estados = ['California', 'Ohio', 'Oregon', 'Texas']\n"
   ]
  },
  {
   "cell_type": "code",
   "execution_count": null,
   "id": "numerous-turkey",
   "metadata": {},
   "outputs": [],
   "source": []
  },
  {
   "cell_type": "markdown",
   "id": "vietnamese-playlist",
   "metadata": {},
   "source": [
    "Aquí, los tres valores encontrados en sdata se colocaron en los lugares apropiados, pero como no se encontró ningún valor para 'California', aparece como NaN (no es un número), lo que se considera en pandas para marcar valores perdidos o NA. Como \"Utah\" no se incluyó en los estados, se excluye del objeto resultante."
   ]
  },
  {
   "cell_type": "markdown",
   "id": "above-wallace",
   "metadata": {},
   "source": [
    "### Buscar valores NaN\n",
    "NaN significa Not A Number (No es un número) y es una de las formas habituales de representar el valor que falta en los datos. Es un valor especial de punto flotante y no puede ser convertido a otro tipo que no sea float.\n",
    "El valor NaN es uno de los principales problemas en el análisis de datos. Es muy esencial tratar con NaN para obtener los resultados deseados."
   ]
  },
  {
   "cell_type": "code",
   "execution_count": null,
   "id": "dimensional-couple",
   "metadata": {},
   "outputs": [],
   "source": []
  },
  {
   "cell_type": "code",
   "execution_count": null,
   "id": "changed-chrome",
   "metadata": {},
   "outputs": [],
   "source": []
  },
  {
   "cell_type": "code",
   "execution_count": null,
   "id": "animal-maximum",
   "metadata": {},
   "outputs": [],
   "source": []
  },
  {
   "cell_type": "markdown",
   "id": "fatty-reader",
   "metadata": {},
   "source": [
    "## Datos de lectura/escritura\n",
    "\n",
    "Pandas puede leer y escribir datos de una gran variedad de formatos. [Lee la documentación](https://pandas.pydata.org/pandas-docs/stable/user_guide/io.html)\n",
    "Aunque una de las más comunes es a partir de un dictado de listas de igual longitud o arrays NumPy:"
   ]
  },
  {
   "cell_type": "code",
   "execution_count": null,
   "id": "automated-lover",
   "metadata": {},
   "outputs": [],
   "source": [
    "# Desde un diccionario\n",
    "data = {'state': ['Ohio', 'Ohio', 'Ohio', 'Nevada', 'Nevada', 'Nevada'],\n",
    "        'year': [2000, 2001, 2002, 2001, 2002, 2003],\n",
    "        'pop': [1.5, 1.7, 3.6, 2.4, 2.9, 3.2]}\n"
   ]
  },
  {
   "cell_type": "code",
   "execution_count": null,
   "id": "recent-chile",
   "metadata": {},
   "outputs": [],
   "source": [
    "# Desde una lista de diccionarios\n",
    "datos = [{'nombre': 'Fer',\n",
    "               'apellido': 'Costa',\n",
    "               'email': 'fer.costa@ironhack.com',\n",
    "               'vacaciones': 30,\n",
    "               'saludo': lambda : print('Holi, soy Fer, hacedme lo primerito la Pull Request')}, \n",
    "         \n",
    "         {'nombre': 'Ana',\n",
    "               'apellido': 'García',\n",
    "                  'email': 'ana.garcia@ironhack.com',\n",
    "               'vacaciones': 30,\n",
    "               'saludo': lambda : print('Hola, soy Ana, cuidado con los print infinitos') }]"
   ]
  },
  {
   "cell_type": "code",
   "execution_count": null,
   "id": "major-canadian",
   "metadata": {},
   "outputs": [],
   "source": []
  },
  {
   "cell_type": "code",
   "execution_count": null,
   "id": "considerable-seminar",
   "metadata": {},
   "outputs": [],
   "source": []
  },
  {
   "cell_type": "code",
   "execution_count": null,
   "id": "powered-vatican",
   "metadata": {},
   "outputs": [],
   "source": []
  },
  {
   "cell_type": "markdown",
   "id": "indirect-friend",
   "metadata": {},
   "source": [
    "Como estamos usando Jupyter Notebook, los objetos DataFrame de pandas se mostrarán como una tabla HTML más amigable para el navegador.\n"
   ]
  },
  {
   "cell_type": "markdown",
   "id": "german-prairie",
   "metadata": {},
   "source": [
    "### Cargamos datos en formato CSV"
   ]
  },
  {
   "cell_type": "code",
   "execution_count": null,
   "id": "entertaining-luxembourg",
   "metadata": {},
   "outputs": [],
   "source": []
  },
  {
   "cell_type": "markdown",
   "id": "latest-stretch",
   "metadata": {},
   "source": [
    "### Visualizamos las primeras filas"
   ]
  },
  {
   "cell_type": "code",
   "execution_count": null,
   "id": "painful-movie",
   "metadata": {},
   "outputs": [],
   "source": []
  },
  {
   "cell_type": "markdown",
   "id": "thick-milan",
   "metadata": {},
   "source": [
    "Por defecto head me muestra las 5 primeras filas, puedo ver algunas más o algunas menos pasándole un número como parámetro "
   ]
  },
  {
   "cell_type": "code",
   "execution_count": null,
   "id": "binding-commercial",
   "metadata": {},
   "outputs": [],
   "source": []
  },
  {
   "cell_type": "markdown",
   "id": "therapeutic-substitute",
   "metadata": {},
   "source": [
    "### Visualizamos las últimas filas "
   ]
  },
  {
   "cell_type": "code",
   "execution_count": null,
   "id": "trained-workstation",
   "metadata": {},
   "outputs": [],
   "source": []
  },
  {
   "cell_type": "markdown",
   "id": "necessary-clark",
   "metadata": {},
   "source": [
    "Excatamente igual que con .head() le pasamos un parámetro a .tail()"
   ]
  },
  {
   "cell_type": "code",
   "execution_count": null,
   "id": "divine-rebel",
   "metadata": {},
   "outputs": [],
   "source": []
  },
  {
   "cell_type": "markdown",
   "id": "noble-montana",
   "metadata": {},
   "source": [
    "### Visualizamos una muestra aleatoria"
   ]
  },
  {
   "cell_type": "code",
   "execution_count": null,
   "id": "viral-empire",
   "metadata": {},
   "outputs": [],
   "source": [
    " #si no le pasamos un parámetro, visualiza una sola fila de forma aleatoria."
   ]
  },
  {
   "cell_type": "code",
   "execution_count": null,
   "id": "indie-disabled",
   "metadata": {},
   "outputs": [],
   "source": []
  },
  {
   "cell_type": "code",
   "execution_count": null,
   "id": "present-buyer",
   "metadata": {},
   "outputs": [],
   "source": []
  },
  {
   "cell_type": "markdown",
   "id": "modern-majority",
   "metadata": {},
   "source": [
    "## Operaciones básicas con los dataframes"
   ]
  },
  {
   "cell_type": "markdown",
   "id": "lyric-festival",
   "metadata": {},
   "source": [
    "### Seleccionamos una columna"
   ]
  },
  {
   "cell_type": "code",
   "execution_count": null,
   "id": "worst-heating",
   "metadata": {},
   "outputs": [],
   "source": []
  },
  {
   "cell_type": "code",
   "execution_count": null,
   "id": "conditional-background",
   "metadata": {},
   "outputs": [],
   "source": []
  },
  {
   "cell_type": "code",
   "execution_count": null,
   "id": "internal-juvenile",
   "metadata": {},
   "outputs": [],
   "source": []
  },
  {
   "cell_type": "code",
   "execution_count": null,
   "id": "minimal-wyoming",
   "metadata": {},
   "outputs": [],
   "source": []
  },
  {
   "cell_type": "code",
   "execution_count": null,
   "id": "american-grass",
   "metadata": {},
   "outputs": [],
   "source": [
    "# O dos :), o las que queramos"
   ]
  },
  {
   "cell_type": "code",
   "execution_count": null,
   "id": "other-decade",
   "metadata": {},
   "outputs": [],
   "source": []
  },
  {
   "cell_type": "markdown",
   "id": "stuffed-lightweight",
   "metadata": {},
   "source": [
    "### Seleccionamos varias columnas"
   ]
  },
  {
   "cell_type": "code",
   "execution_count": null,
   "id": "entertaining-following",
   "metadata": {},
   "outputs": [],
   "source": []
  },
  {
   "cell_type": "code",
   "execution_count": null,
   "id": "identical-dispatch",
   "metadata": {},
   "outputs": [],
   "source": [
    "#le podemos pasar directamente una lista con los nombres de las columnas\n"
   ]
  },
  {
   "cell_type": "code",
   "execution_count": null,
   "id": "intended-customs",
   "metadata": {},
   "outputs": [],
   "source": [
    "# Listar los nombres de columnas de un dataframe"
   ]
  },
  {
   "cell_type": "code",
   "execution_count": null,
   "id": "enabling-karma",
   "metadata": {},
   "outputs": [],
   "source": []
  },
  {
   "cell_type": "code",
   "execution_count": null,
   "id": "electrical-liquid",
   "metadata": {},
   "outputs": [],
   "source": []
  },
  {
   "cell_type": "markdown",
   "id": "bright-dominant",
   "metadata": {},
   "source": [
    "### Obtener los valores únicos de una columna (es decir, una serie)"
   ]
  },
  {
   "cell_type": "code",
   "execution_count": null,
   "id": "municipal-aviation",
   "metadata": {},
   "outputs": [],
   "source": []
  },
  {
   "cell_type": "code",
   "execution_count": null,
   "id": "naval-dominican",
   "metadata": {},
   "outputs": [],
   "source": []
  },
  {
   "cell_type": "markdown",
   "id": "arabic-addiction",
   "metadata": {},
   "source": [
    "### Filtramos los datos por el valor de las columnas"
   ]
  },
  {
   "cell_type": "code",
   "execution_count": null,
   "id": "peaceful-vatican",
   "metadata": {},
   "outputs": [],
   "source": []
  },
  {
   "cell_type": "code",
   "execution_count": null,
   "id": "dangerous-consultancy",
   "metadata": {},
   "outputs": [],
   "source": []
  },
  {
   "cell_type": "markdown",
   "id": "false-practitioner",
   "metadata": {},
   "source": [
    "### Copia de un dataframe y renombrar columnas"
   ]
  },
  {
   "cell_type": "code",
   "execution_count": null,
   "id": "collected-sleeping",
   "metadata": {},
   "outputs": [],
   "source": []
  },
  {
   "cell_type": "code",
   "execution_count": null,
   "id": "injured-mattress",
   "metadata": {},
   "outputs": [],
   "source": []
  },
  {
   "cell_type": "code",
   "execution_count": null,
   "id": "quick-audit",
   "metadata": {},
   "outputs": [],
   "source": []
  },
  {
   "cell_type": "code",
   "execution_count": null,
   "id": "brave-running",
   "metadata": {},
   "outputs": [],
   "source": [
    "#Utilizamos el inplace=True para que se ejecute la acción sobre el dataframe\n"
   ]
  },
  {
   "cell_type": "code",
   "execution_count": null,
   "id": "abstract-petersburg",
   "metadata": {},
   "outputs": [],
   "source": [
    "# Podríamos guardarlo en una nueva variable\n"
   ]
  },
  {
   "cell_type": "code",
   "execution_count": null,
   "id": "israeli-attempt",
   "metadata": {},
   "outputs": [],
   "source": [
    "# O podríamos machacar la variable df \n"
   ]
  },
  {
   "cell_type": "markdown",
   "id": "eastern-burton",
   "metadata": {},
   "source": [
    "#### Podemos renombrar las columnas machacando el atributo de la instancia... ¿os suena esto?"
   ]
  },
  {
   "cell_type": "code",
   "execution_count": null,
   "id": "compressed-allowance",
   "metadata": {},
   "outputs": [],
   "source": []
  },
  {
   "cell_type": "code",
   "execution_count": null,
   "id": "democratic-rescue",
   "metadata": {},
   "outputs": [],
   "source": []
  },
  {
   "cell_type": "code",
   "execution_count": null,
   "id": "fundamental-charger",
   "metadata": {},
   "outputs": [],
   "source": []
  },
  {
   "cell_type": "code",
   "execution_count": null,
   "id": "established-greek",
   "metadata": {},
   "outputs": [],
   "source": []
  },
  {
   "cell_type": "markdown",
   "id": "religious-tender",
   "metadata": {},
   "source": [
    "### Borramos columnas"
   ]
  },
  {
   "cell_type": "code",
   "execution_count": null,
   "id": "forbidden-attraction",
   "metadata": {},
   "outputs": [],
   "source": [
    "# Axis 1 siempre columnas"
   ]
  },
  {
   "cell_type": "code",
   "execution_count": null,
   "id": "limiting-screw",
   "metadata": {},
   "outputs": [],
   "source": []
  },
  {
   "cell_type": "markdown",
   "id": "photographic-physiology",
   "metadata": {},
   "source": [
    "### Borramos filas"
   ]
  },
  {
   "cell_type": "code",
   "execution_count": null,
   "id": "dramatic-anxiety",
   "metadata": {},
   "outputs": [],
   "source": [
    "# Axis 0 siempre filas"
   ]
  },
  {
   "cell_type": "code",
   "execution_count": null,
   "id": "departmental-genetics",
   "metadata": {},
   "outputs": [],
   "source": []
  },
  {
   "cell_type": "markdown",
   "id": "structural-variety",
   "metadata": {},
   "source": [
    "Las filas también se pueden eliminar. Ten en cuenta que los índices no se reinician. El índice se asocia a la fila, no a la orden.   \n",
    "¿Se puede reiniciar el index? Correcto\n"
   ]
  },
  {
   "cell_type": "markdown",
   "id": "younger-calendar",
   "metadata": {},
   "source": [
    "### Reset_index y set_index"
   ]
  },
  {
   "cell_type": "markdown",
   "id": "loved-dinner",
   "metadata": {},
   "source": [
    "Leemos la [documentación](https://pandas.pydata.org/pandas-docs/stable/reference/api/pandas.DataFrame.reset_index.html) para entender algunos parámetros"
   ]
  },
  {
   "cell_type": "code",
   "execution_count": null,
   "id": "dress-wrestling",
   "metadata": {},
   "outputs": [],
   "source": [
    "#Drop = True evita que se genere otra columna con el index anterior\n"
   ]
  },
  {
   "cell_type": "code",
   "execution_count": null,
   "id": "surprised-water",
   "metadata": {},
   "outputs": [],
   "source": []
  },
  {
   "cell_type": "code",
   "execution_count": null,
   "id": "level-consultation",
   "metadata": {},
   "outputs": [],
   "source": []
  },
  {
   "cell_type": "code",
   "execution_count": null,
   "id": "suspected-consistency",
   "metadata": {},
   "outputs": [],
   "source": []
  },
  {
   "cell_type": "markdown",
   "id": "constitutional-slave",
   "metadata": {},
   "source": [
    "#### SET_INDEX"
   ]
  },
  {
   "cell_type": "code",
   "execution_count": null,
   "id": "sufficient-blanket",
   "metadata": {},
   "outputs": [],
   "source": []
  },
  {
   "cell_type": "markdown",
   "id": "right-loading",
   "metadata": {},
   "source": [
    "### Operaciones entre columnas"
   ]
  },
  {
   "cell_type": "code",
   "execution_count": null,
   "id": "silver-keeping",
   "metadata": {},
   "outputs": [],
   "source": [
    "# Para generar una columna nueva solo tengo que ponerle un nombre"
   ]
  },
  {
   "cell_type": "code",
   "execution_count": null,
   "id": "artificial-operator",
   "metadata": {},
   "outputs": [],
   "source": []
  },
  {
   "cell_type": "markdown",
   "id": "computational-research",
   "metadata": {},
   "source": [
    "## Apply !! "
   ]
  },
  {
   "cell_type": "markdown",
   "id": "incoming-partnership",
   "metadata": {},
   "source": [
    "Aplica una función a lo largo de un eje del DataFrame.      \n",
    "[Lee la doc](https://pandas.pydata.org/docs/reference/api/pandas.DataFrame.apply.html)"
   ]
  },
  {
   "cell_type": "code",
   "execution_count": null,
   "id": "patent-footage",
   "metadata": {},
   "outputs": [],
   "source": [
    "#Creamos una función sencilla que vamos a aplicar\n"
   ]
  },
  {
   "cell_type": "code",
   "execution_count": null,
   "id": "compound-border",
   "metadata": {},
   "outputs": [],
   "source": []
  },
  {
   "cell_type": "code",
   "execution_count": null,
   "id": "adequate-modern",
   "metadata": {},
   "outputs": [],
   "source": [
    "# Aplicamos la función a una columna y vemos el resultado en la salida\n"
   ]
  },
  {
   "cell_type": "code",
   "execution_count": null,
   "id": "conventional-rochester",
   "metadata": {},
   "outputs": [],
   "source": [
    "# Vamos a crear una columna nueva haciendo un apply a otra columna\n",
    "df[\"nueva\"] = df[\"resta\"].apply(devuelve_entero)"
   ]
  },
  {
   "cell_type": "code",
   "execution_count": null,
   "id": "challenging-karaoke",
   "metadata": {},
   "outputs": [],
   "source": [
    "df.head()"
   ]
  },
  {
   "cell_type": "code",
   "execution_count": null,
   "id": "hundred-contest",
   "metadata": {},
   "outputs": [],
   "source": [
    "#Hazlo con lambda!!\n"
   ]
  },
  {
   "cell_type": "markdown",
   "id": "temporal-trunk",
   "metadata": {},
   "source": [
    "## Df .loc e .iloc"
   ]
  },
  {
   "cell_type": "markdown",
   "id": "neither-legend",
   "metadata": {},
   "source": [
    "### Seleccionar filas y columnas en Pandas mediante posición con iloc"
   ]
  },
  {
   "cell_type": "markdown",
   "id": "fleet-hearing",
   "metadata": {},
   "source": [
    "El método iloc se utiliza en los DataFrames para seleccionar los elementos en base a su ubicación. Su sintaxis es data.iloc[<filas>, <columnas>], donde <filas> y <columnas> son la posición de las filas y columnas que se desean seleccionar en el orden que aparecen en el objeto. Una notación familiar para los usuarios de Matlab. En un DataFrame cada una de las filas tiene un número que va desde 0 hasta el total de filas menos uno. Siendo iloc el método que permite seleccionar los datos en base a estos números. Lo mismo que aplica a las columnas.\n",
    "\n",
    "En iloc hay dos argumentos filas y columnas. En caso de que se omita el segundo, se seleccionarán todas las columnas de la fila. Así para seleccionar diferentes filas se puede utilizar."
   ]
  },
  {
   "cell_type": "code",
   "execution_count": null,
   "id": "printable-russell",
   "metadata": {},
   "outputs": [],
   "source": [
    "#seleccionamos un registro completo\n"
   ]
  },
  {
   "cell_type": "code",
   "execution_count": null,
   "id": "maritime-mineral",
   "metadata": {},
   "outputs": [],
   "source": [
    "#un rango de registros con sliding\n"
   ]
  },
  {
   "cell_type": "code",
   "execution_count": null,
   "id": "essential-prototype",
   "metadata": {},
   "outputs": [],
   "source": []
  },
  {
   "cell_type": "code",
   "execution_count": null,
   "id": "limiting-watershed",
   "metadata": {},
   "outputs": [],
   "source": [
    "# Registros de la primera columna"
   ]
  },
  {
   "cell_type": "code",
   "execution_count": null,
   "id": "geographic-stockholm",
   "metadata": {},
   "outputs": [],
   "source": []
  },
  {
   "cell_type": "markdown",
   "id": "recovered-michigan",
   "metadata": {},
   "source": [
    "### Seleccionar filas y columnas en Pandas en base a etiquetas con loc\n",
    "El método loc se puede usar de dos formas diferentes: seleccionar filas o columnas en base a una etiqueta o seleccionar filas o columnas en base a una condición."
   ]
  },
  {
   "cell_type": "markdown",
   "id": "superb-bunny",
   "metadata": {},
   "source": [
    "#### En base a etiqueta"
   ]
  },
  {
   "cell_type": "code",
   "execution_count": null,
   "id": "hollywood-deputy",
   "metadata": {},
   "outputs": [],
   "source": []
  },
  {
   "cell_type": "markdown",
   "id": "solid-cloud",
   "metadata": {},
   "source": [
    "#### En base a una condición\n",
    "Quizás esta sea una de las opciones más interesantes de las vistas, ya que permite seleccionar los datos en un DataFrame en base condiciones lógicas. Las cuales se pueden obtener a partir de los valores"
   ]
  },
  {
   "cell_type": "code",
   "execution_count": null,
   "id": "found-fashion",
   "metadata": {},
   "outputs": [],
   "source": []
  },
  {
   "cell_type": "markdown",
   "id": "charming-computer",
   "metadata": {},
   "source": [
    "¿Queremos meterle más de una doncidición? let`s go!"
   ]
  },
  {
   "cell_type": "code",
   "execution_count": null,
   "id": "aware-skirt",
   "metadata": {},
   "outputs": [],
   "source": []
  },
  {
   "cell_type": "markdown",
   "id": "optional-project",
   "metadata": {},
   "source": [
    "Sintaxis del loc con varias condiciones\n",
    "```python \n",
    "df.loc[(df[\"columna\"] condición) & (df[\"columna\"] condición)]\n",
    "````"
   ]
  },
  {
   "cell_type": "markdown",
   "id": "endangered-level",
   "metadata": {},
   "source": [
    "Misma operación, pero dame solo columnas concretas"
   ]
  },
  {
   "cell_type": "code",
   "execution_count": null,
   "id": "advanced-garden",
   "metadata": {},
   "outputs": [],
   "source": []
  },
  {
   "cell_type": "markdown",
   "id": "southeast-castle",
   "metadata": {},
   "source": [
    "## Análisis exploratorio de un dataframe"
   ]
  },
  {
   "cell_type": "code",
   "execution_count": null,
   "id": "narrow-count",
   "metadata": {},
   "outputs": [],
   "source": []
  },
  {
   "cell_type": "code",
   "execution_count": null,
   "id": "compound-craft",
   "metadata": {},
   "outputs": [],
   "source": []
  },
  {
   "cell_type": "code",
   "execution_count": null,
   "id": "favorite-effect",
   "metadata": {},
   "outputs": [],
   "source": []
  },
  {
   "cell_type": "code",
   "execution_count": null,
   "id": "dynamic-bradley",
   "metadata": {},
   "outputs": [],
   "source": []
  },
  {
   "cell_type": "code",
   "execution_count": null,
   "id": "structured-shadow",
   "metadata": {},
   "outputs": [],
   "source": []
  },
  {
   "cell_type": "code",
   "execution_count": null,
   "id": "given-basics",
   "metadata": {},
   "outputs": [],
   "source": []
  },
  {
   "cell_type": "code",
   "execution_count": null,
   "id": "close-halifax",
   "metadata": {},
   "outputs": [],
   "source": []
  },
  {
   "cell_type": "code",
   "execution_count": null,
   "id": "statutory-express",
   "metadata": {},
   "outputs": [],
   "source": []
  },
  {
   "cell_type": "markdown",
   "id": "swedish-store",
   "metadata": {},
   "source": [
    "### Buscamos valores nulos "
   ]
  },
  {
   "cell_type": "code",
   "execution_count": null,
   "id": "fifteen-throat",
   "metadata": {},
   "outputs": [],
   "source": [
    "import seaborn as sns"
   ]
  },
  {
   "cell_type": "code",
   "execution_count": null,
   "id": "statistical-arrow",
   "metadata": {},
   "outputs": [],
   "source": []
  },
  {
   "cell_type": "code",
   "execution_count": null,
   "id": "accessory-apple",
   "metadata": {},
   "outputs": [],
   "source": [
    "df_titanic.head()"
   ]
  },
  {
   "cell_type": "code",
   "execution_count": null,
   "id": "deluxe-sperm",
   "metadata": {},
   "outputs": [],
   "source": []
  },
  {
   "cell_type": "code",
   "execution_count": null,
   "id": "documented-offer",
   "metadata": {},
   "outputs": [],
   "source": []
  },
  {
   "cell_type": "code",
   "execution_count": null,
   "id": "numerical-soccer",
   "metadata": {},
   "outputs": [],
   "source": []
  },
  {
   "cell_type": "code",
   "execution_count": null,
   "id": "fantastic-title",
   "metadata": {},
   "outputs": [],
   "source": [
    "# Usemos sort values de las series para ordenar los valores y verlo más claramente\n"
   ]
  },
  {
   "cell_type": "markdown",
   "id": "oriental-trainer",
   "metadata": {},
   "source": [
    "### Borramos los valores nulos\n",
    "Hay varias formas de hacerlo, tenemos en cuenta el parámetro \"how\" y, desde luego, [nos leemos la documentación](https://pandas.pydata.org/pandas-docs/stable/reference/api/pandas.DataFrame.dropna.html)."
   ]
  },
  {
   "cell_type": "code",
   "execution_count": null,
   "id": "homeless-hybrid",
   "metadata": {},
   "outputs": [],
   "source": [
    "#Con \"all\" borramos donde TODOS los registros sean NaN"
   ]
  },
  {
   "cell_type": "markdown",
   "id": "remarkable-norman",
   "metadata": {},
   "source": [
    "Con \"any\" (parámetro que viene by default así que ojo con no poner nada) se borran todos los registros en los que en alguna columna haya un NaN"
   ]
  },
  {
   "cell_type": "code",
   "execution_count": null,
   "id": "reported-singles",
   "metadata": {},
   "outputs": [],
   "source": []
  },
  {
   "cell_type": "code",
   "execution_count": null,
   "id": "outer-wisconsin",
   "metadata": {},
   "outputs": [],
   "source": []
  },
  {
   "cell_type": "code",
   "execution_count": null,
   "id": "clinical-chamber",
   "metadata": {},
   "outputs": [],
   "source": []
  },
  {
   "cell_type": "code",
   "execution_count": null,
   "id": "portuguese-valley",
   "metadata": {},
   "outputs": [],
   "source": [
    "# Si pongo axis 1 trabajo con columnas, por tanto, me cargaré aquellas columnas que tengan un solo NaN"
   ]
  },
  {
   "cell_type": "code",
   "execution_count": null,
   "id": "essential-joining",
   "metadata": {},
   "outputs": [],
   "source": []
  },
  {
   "cell_type": "markdown",
   "id": "comic-relationship",
   "metadata": {},
   "source": [
    "### Cómo rellenar los datos que faltan"
   ]
  },
  {
   "cell_type": "markdown",
   "id": "fiscal-personal",
   "metadata": {},
   "source": [
    "¿Qué os parece un poquito de [documentación](https://pandas.pydata.org/docs/reference/api/pandas.DataFrame.fillna.html)?"
   ]
  },
  {
   "cell_type": "code",
   "execution_count": null,
   "id": "effective-laser",
   "metadata": {},
   "outputs": [],
   "source": []
  },
  {
   "cell_type": "code",
   "execution_count": null,
   "id": "specific-broadway",
   "metadata": {},
   "outputs": [],
   "source": []
  },
  {
   "cell_type": "code",
   "execution_count": null,
   "id": "herbal-papua",
   "metadata": {},
   "outputs": [],
   "source": []
  },
  {
   "cell_type": "markdown",
   "id": "pleased-veteran",
   "metadata": {},
   "source": [
    "## Agregación de datos\n",
    "Un DataFrame puede agruparse en sus filas (eje=0) o en sus columnas (eje=1). Una vez hecho esto, se aplica una función a cada grupo, produciendo un nuevo valor. Finalmente, los resultados de todas esas aplicaciones de funciones se combinan en un objeto resultado. La forma del objeto resultante dependerá normalmente de lo que se haga con los datos."
   ]
  },
  {
   "cell_type": "markdown",
   "id": "adjustable-civilization",
   "metadata": {},
   "source": [
    "https://pandas.pydata.org/docs/reference/api/pandas.DataFrame.groupby.html"
   ]
  },
  {
   "cell_type": "code",
   "execution_count": null,
   "id": "august-stuff",
   "metadata": {},
   "outputs": [],
   "source": [
    "import numpy as np"
   ]
  },
  {
   "cell_type": "code",
   "execution_count": null,
   "id": "functional-upset",
   "metadata": {},
   "outputs": [],
   "source": []
  },
  {
   "cell_type": "code",
   "execution_count": null,
   "id": "premium-crossing",
   "metadata": {},
   "outputs": [],
   "source": []
  },
  {
   "cell_type": "markdown",
   "id": "verbal-catalog",
   "metadata": {},
   "source": [
    "Supongamos que queremos calcular la media de la columna data1 utilizando las etiquetas de key1. Hay varias formas de hacerlo. Una es acceder a datos1 y llamar a groupby con la columna (una Serie) en clave1:"
   ]
  },
  {
   "cell_type": "code",
   "execution_count": null,
   "id": "constant-malaysia",
   "metadata": {},
   "outputs": [],
   "source": []
  },
  {
   "cell_type": "code",
   "execution_count": null,
   "id": "textile-sussex",
   "metadata": {},
   "outputs": [],
   "source": []
  },
  {
   "cell_type": "markdown",
   "id": "daily-groove",
   "metadata": {},
   "source": [
    "Los datos (una Serie) han sido agregados según la clave de grupo, produciendo una nueva Serie que ahora está indexada por los valores únicos de la columna clave1. El índice resultante tiene el nombre 'clave1' porque la columna DataFrame df['clave1'] lo hizo.    \n",
    "Si en su lugar hubiéramos pasado múltiples arrays como una lista, obtendríamos algo diferente:"
   ]
  },
  {
   "cell_type": "code",
   "execution_count": null,
   "id": "separate-pottery",
   "metadata": {},
   "outputs": [],
   "source": []
  },
  {
   "cell_type": "markdown",
   "id": "parental-blogger",
   "metadata": {},
   "source": [
    "Otra forma de groupby con sintaxis agg     \n",
    "https://pandas.pydata.org/docs/reference/api/pandas.core.groupby.DataFrameGroupBy.aggregate.html"
   ]
  },
  {
   "cell_type": "code",
   "execution_count": null,
   "id": "powered-french",
   "metadata": {},
   "outputs": [],
   "source": []
  },
  {
   "cell_type": "markdown",
   "id": "genuine-stuff",
   "metadata": {},
   "source": [
    "### Merge / Concat "
   ]
  },
  {
   "cell_type": "code",
   "execution_count": null,
   "id": "regional-development",
   "metadata": {},
   "outputs": [],
   "source": [
    "df_occupations = pd.read_csv('https://raw.githubusercontent.com/justmarkham/DAT8/master/data/u.user',\n",
    "                             sep='|', \n",
    "                             index_col='user_id')"
   ]
  },
  {
   "cell_type": "code",
   "execution_count": null,
   "id": "peripheral-charter",
   "metadata": {},
   "outputs": [],
   "source": []
  },
  {
   "cell_type": "code",
   "execution_count": null,
   "id": "african-asian",
   "metadata": {},
   "outputs": [],
   "source": [
    "# Concat"
   ]
  },
  {
   "cell_type": "code",
   "execution_count": null,
   "id": "exotic-airport",
   "metadata": {},
   "outputs": [],
   "source": []
  },
  {
   "cell_type": "code",
   "execution_count": null,
   "id": "deluxe-suggestion",
   "metadata": {},
   "outputs": [],
   "source": []
  },
  {
   "cell_type": "code",
   "execution_count": null,
   "id": "alike-president",
   "metadata": {},
   "outputs": [],
   "source": []
  },
  {
   "cell_type": "code",
   "execution_count": null,
   "id": "atlantic-newspaper",
   "metadata": {},
   "outputs": [],
   "source": []
  },
  {
   "cell_type": "code",
   "execution_count": null,
   "id": "developmental-karen",
   "metadata": {},
   "outputs": [],
   "source": []
  },
  {
   "cell_type": "code",
   "execution_count": null,
   "id": "driven-capacity",
   "metadata": {},
   "outputs": [],
   "source": [
    "# Merge"
   ]
  },
  {
   "cell_type": "markdown",
   "id": "fleet-radius",
   "metadata": {},
   "source": [
    "¿Podemos recuperar el archivo original? ¡Yaaaaass, `merge` al rescate!\n",
    "[Lee la documentación](https://pandas.pydata.org/pandas-docs/stable/reference/api/pandas.DataFrame.merge.html)"
   ]
  },
  {
   "cell_type": "code",
   "execution_count": null,
   "id": "surgical-worry",
   "metadata": {},
   "outputs": [],
   "source": []
  },
  {
   "cell_type": "code",
   "execution_count": null,
   "id": "under-daisy",
   "metadata": {},
   "outputs": [],
   "source": []
  },
  {
   "cell_type": "code",
   "execution_count": null,
   "id": "regulation-niger",
   "metadata": {},
   "outputs": [],
   "source": []
  },
  {
   "cell_type": "code",
   "execution_count": null,
   "id": "irish-necklace",
   "metadata": {},
   "outputs": [],
   "source": []
  },
  {
   "cell_type": "markdown",
   "id": "dimensional-bangkok",
   "metadata": {},
   "source": [
    "## Spoiler fantasioso de mañana"
   ]
  },
  {
   "cell_type": "markdown",
   "id": "immediate-distribution",
   "metadata": {},
   "source": [
    "https://plotly.com/python/bar-charts/"
   ]
  },
  {
   "cell_type": "code",
   "execution_count": null,
   "id": "vertical-craft",
   "metadata": {},
   "outputs": [],
   "source": [
    "import plotly.express as px"
   ]
  },
  {
   "cell_type": "code",
   "execution_count": null,
   "id": "unlimited-climb",
   "metadata": {},
   "outputs": [],
   "source": [
    "long_df = px.data.medals_long()"
   ]
  },
  {
   "cell_type": "code",
   "execution_count": null,
   "id": "middle-daughter",
   "metadata": {},
   "outputs": [],
   "source": []
  },
  {
   "cell_type": "code",
   "execution_count": null,
   "id": "heated-interaction",
   "metadata": {},
   "outputs": [],
   "source": []
  },
  {
   "cell_type": "markdown",
   "id": "preceding-martial",
   "metadata": {},
   "source": [
    "## Summary"
   ]
  },
  {
   "cell_type": "markdown",
   "id": "killing-jesus",
   "metadata": {},
   "source": []
  },
  {
   "cell_type": "markdown",
   "id": "instrumental-burton",
   "metadata": {},
   "source": [
    "## Further materials\n",
    "\n",
    "* [Read the docs!](https://pandas.pydata.org/pandas-docs/stable/index.html)\n",
    "* [Cheatsheet](https://pandas.pydata.org/Pandas_Cheat_Sheet.pdf)\n",
    "* [Exercises to practice](https://github.com/guipsamora/pandas_exercises)\n",
    "* [More on merge, concat, and join](https://realpython.com/pandas-merge-join-and-concat/#pandas-join-combining-data-on-a-column-or-index). And [even more!](https://pandas.pydata.org/pandas-docs/stable/user_guide/merging.html)\n",
    "* [Materials by a friend of a friend Juan Huguet](https://github.com/juanhuguetgarcia/uib-aa-g1-material/tree/master/W1%20-%20Intro%20to%20python%20y%20pandas) "
   ]
  }
 ],
 "metadata": {
  "kernelspec": {
   "display_name": "Python 3",
   "language": "python",
   "name": "python3"
  },
  "language_info": {
   "codemirror_mode": {
    "name": "ipython",
    "version": 3
   },
   "file_extension": ".py",
   "mimetype": "text/x-python",
   "name": "python",
   "nbconvert_exporter": "python",
   "pygments_lexer": "ipython3",
   "version": "3.8.5"
  },
  "toc": {
   "base_numbering": 1,
   "nav_menu": {},
   "number_sections": true,
   "sideBar": true,
   "skip_h1_title": true,
   "title_cell": "Table of Contents",
   "title_sidebar": "Contents",
   "toc_cell": true,
   "toc_position": {
    "height": "calc(100% - 180px)",
    "left": "10px",
    "top": "150px",
    "width": "288px"
   },
   "toc_section_display": true,
   "toc_window_display": false
  }
 },
 "nbformat": 4,
 "nbformat_minor": 5
}
