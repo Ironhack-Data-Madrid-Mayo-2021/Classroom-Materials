{
 "cells": [
  {
   "cell_type": "markdown",
   "id": "hungry-creativity",
   "metadata": {
    "toc": true
   },
   "source": [
    "<h1>Table of Contents<span class=\"tocSkip\"></span></h1>\n",
    "<div class=\"toc\"><ul class=\"toc-item\"><li><span><a href=\"#La-sentencia-&quot;while&quot;\" data-toc-modified-id=\"La-sentencia-&quot;while&quot;-1\"><span class=\"toc-item-num\">1&nbsp;&nbsp;</span>La sentencia \"while\"</a></span><ul class=\"toc-item\"><li><ul class=\"toc-item\"><li><span><a href=\"#Tu-turno\" data-toc-modified-id=\"Tu-turno-1.0.1\"><span class=\"toc-item-num\">1.0.1&nbsp;&nbsp;</span>Tu turno</a></span></li></ul></li></ul></li><li><span><a href=\"#Pass\" data-toc-modified-id=\"Pass-2\"><span class=\"toc-item-num\">2&nbsp;&nbsp;</span>Pass</a></span></li><li><span><a href=\"#For\" data-toc-modified-id=\"For-3\"><span class=\"toc-item-num\">3&nbsp;&nbsp;</span>For</a></span><ul class=\"toc-item\"><li><ul class=\"toc-item\"><li><span><a href=\"#Tu-turno\" data-toc-modified-id=\"Tu-turno-3.0.1\"><span class=\"toc-item-num\">3.0.1&nbsp;&nbsp;</span>Tu turno</a></span></li></ul></li><li><span><a href=\"#Iteramos-por-strings\" data-toc-modified-id=\"Iteramos-por-strings-3.1\"><span class=\"toc-item-num\">3.1&nbsp;&nbsp;</span>Iteramos por strings</a></span></li><li><span><a href=\"#Iterate-por-una-lista\" data-toc-modified-id=\"Iterate-por-una-lista-3.2\"><span class=\"toc-item-num\">3.2&nbsp;&nbsp;</span>Iterate por una lista</a></span></li><li><span><a href=\"#Iteramos-por-listas-sobre-su-índice\" data-toc-modified-id=\"Iteramos-por-listas-sobre-su-índice-3.3\"><span class=\"toc-item-num\">3.3&nbsp;&nbsp;</span>Iteramos por listas sobre su índice</a></span></li><li><span><a href=\"#Iteramos-por-dos-listas-al-mismo-tiempo\" data-toc-modified-id=\"Iteramos-por-dos-listas-al-mismo-tiempo-3.4\"><span class=\"toc-item-num\">3.4&nbsp;&nbsp;</span>Iteramos por dos listas al mismo tiempo</a></span></li><li><span><a href=\"#Iterar-sobre-los-elementos-de-un-diccionario\" data-toc-modified-id=\"Iterar-sobre-los-elementos-de-un-diccionario-3.5\"><span class=\"toc-item-num\">3.5&nbsp;&nbsp;</span>Iterar sobre los elementos de un diccionario</a></span></li></ul></li><li><span><a href=\"#Break\" data-toc-modified-id=\"Break-4\"><span class=\"toc-item-num\">4&nbsp;&nbsp;</span>Break</a></span></li><li><span><a href=\"#Let`s-go\" data-toc-modified-id=\"Let`s-go-5\"><span class=\"toc-item-num\">5&nbsp;&nbsp;</span>Let`s go</a></span></li><li><span><a href=\"#Summary\" data-toc-modified-id=\"Summary-6\"><span class=\"toc-item-num\">6&nbsp;&nbsp;</span>Summary</a></span></li></ul></div>"
   ]
  },
  {
   "cell_type": "markdown",
   "id": "chemical-canadian",
   "metadata": {},
   "source": [
    "# Let's keep the flow going"
   ]
  },
  {
   "cell_type": "markdown",
   "id": "departmental-stress",
   "metadata": {},
   "source": [
    "![FLOW](https://media.giphy.com/media/h8y265b9iKtzKT0pDj/giphy.gif)"
   ]
  },
  {
   "cell_type": "markdown",
   "id": "contrary-editing",
   "metadata": {},
   "source": [
    "## La sentencia \"while\"\n",
    "\n",
    "A veces queremos ejecutar un programa hasta que se cumpla una condición. Podemos conseguirlo con la cláusula `while`.\n",
    "\n",
    "**Nota:** ¡Cuidado con las recursiones infinitas!"
   ]
  },
  {
   "cell_type": "code",
   "execution_count": null,
   "id": "eleven-postage",
   "metadata": {},
   "outputs": [],
   "source": [
    "# ¡La recursividad infinita es divertida!\n",
    "# ¿Qué atajo nos permite romper esta recursión infinita?\n"
   ]
  },
  {
   "cell_type": "code",
   "execution_count": null,
   "id": "nutritional-order",
   "metadata": {},
   "outputs": [],
   "source": []
  },
  {
   "cell_type": "code",
   "execution_count": null,
   "id": "random-blood",
   "metadata": {},
   "outputs": [],
   "source": [
    "# Pregunta al usuario por un número hasta que introduce 0.\n"
   ]
  },
  {
   "cell_type": "markdown",
   "id": "collected-organic",
   "metadata": {},
   "source": [
    "[NoneType](https://www.educative.io/edpresso/what-is-the-none-keyword-in-python#:~:text=In%20Python%2C%20None%20keyword%20is,not%20create%20other%20NoneType%20objects.)"
   ]
  },
  {
   "cell_type": "code",
   "execution_count": null,
   "id": "respiratory-police",
   "metadata": {},
   "outputs": [],
   "source": []
  },
  {
   "cell_type": "markdown",
   "id": "active-entrance",
   "metadata": {},
   "source": [
    "En el caso de while True la expresión siempre va a ser evaluada como verdadera por definición. \n",
    "Equivaldría a:\n",
    "\n",
    "```python\n",
    "mientras verdadero sea verdadero:    \n",
    "    hacer algo\n",
    "   ````"
   ]
  },
  {
   "cell_type": "code",
   "execution_count": null,
   "id": "certain-classroom",
   "metadata": {},
   "outputs": [],
   "source": []
  },
  {
   "cell_type": "markdown",
   "id": "measured-signal",
   "metadata": {},
   "source": [
    "#### Tu turno\n",
    "Lee los números enteros del teclado, hasta que el usuario introduzca el 0. Finalmente, muestra la suma de todos los números positivos introducidos."
   ]
  },
  {
   "cell_type": "code",
   "execution_count": null,
   "id": "competitive-edward",
   "metadata": {},
   "outputs": [],
   "source": []
  },
  {
   "cell_type": "code",
   "execution_count": null,
   "id": "approximate-weapon",
   "metadata": {},
   "outputs": [],
   "source": []
  },
  {
   "cell_type": "markdown",
   "id": "civic-environment",
   "metadata": {},
   "source": [
    "Leer números enteros positivos del teclado, hasta que el usuario introduzca 0. Informar del mayor número introducido."
   ]
  },
  {
   "cell_type": "code",
   "execution_count": null,
   "id": "written-cemetery",
   "metadata": {},
   "outputs": [],
   "source": []
  },
  {
   "cell_type": "code",
   "execution_count": null,
   "id": "eastern-ambassador",
   "metadata": {},
   "outputs": [],
   "source": []
  },
  {
   "cell_type": "markdown",
   "id": "three-dividend",
   "metadata": {},
   "source": [
    "## Pass\n",
    "La sentencia pass no hace nada. Puede utilizarse cuando se requiere una sentencia sintáctica pero el programa no requiere ninguna acción (de los [docs](https://docs.python.org/3/tutorial/controlflow.html))           \n",
    "\n",
    "(Nuestra sentencia favorita de cara a nuestra jubilación)    \n",
    "Aunque pueda sorprendernos, resulta útil en varias situaciones. En Python no podemos tener sin definir un bloque de código (por ejemplo, el cuerpo de una función, el cuerpo de una condición o el de un bucle). Así que es habitual usar pass cuando estamos escribiendo la estructura de nuestro programa pero aún no hemos abordado la implementación de determinados bloques de código."
   ]
  },
  {
   "cell_type": "code",
   "execution_count": null,
   "id": "hairy-consumer",
   "metadata": {},
   "outputs": [],
   "source": []
  },
  {
   "cell_type": "code",
   "execution_count": null,
   "id": "polish-priority",
   "metadata": {},
   "outputs": [],
   "source": []
  },
  {
   "cell_type": "markdown",
   "id": "concerned-hearts",
   "metadata": {},
   "source": [
    "## For"
   ]
  },
  {
   "cell_type": "markdown",
   "id": "express-jesus",
   "metadata": {},
   "source": [
    "Es muy habitual escribir un código con bucles dentro de estas dos posibles situaciones:    \n",
    "    - 1: Cuando utilizamos un contador en el seno de una repetición. El contador es una variable que va incrementándose o disminuyendo de forma constante en cada iteración del bucle hasta alcanzar un valor límite que marca el fin de las repeticiones.   \n",
    "    - 2: Cuando iteramos sobre los elementos de un contenedor, por ejemplo, una lista, para operar sobre cada uno de ellos. También en este caso conocemos de antemano el número de repeticiones que tendrán lugar."
   ]
  },
  {
   "cell_type": "markdown",
   "id": "loving-style",
   "metadata": {},
   "source": [
    "La sentencia For, en Python, permite iterar sobre secuencias de valores (listas o cadenas) según un orden establecido. A diferencia de otros lenguajes, con el for de Python no se definen contadores o expresiones que cambien a cada iteración sino una secuencia sobre la cual la variable contador tomará sus valores. En cualquier caso, es la opción más adecuada para resolver los dos casos anteriores....vamos a poner un ejemplo:"
   ]
  },
  {
   "cell_type": "code",
   "execution_count": null,
   "id": "subjective-liechtenstein",
   "metadata": {},
   "outputs": [],
   "source": []
  },
  {
   "cell_type": "markdown",
   "id": "needed-billy",
   "metadata": {},
   "source": [
    "La sentencia for, en Python, itera sobre colecciones. Por tanto, si necesitamos un contador que se incremente en cada iteración, Python proporciona la función range(), que genera listas de enteros. Esta función permite generar secuencias y es bastante versátil y podemos invocarla de diferentes maneras:"
   ]
  },
  {
   "cell_type": "markdown",
   "id": "impaired-athletics",
   "metadata": {},
   "source": [
    "- Con un solo argumento: genera enteros que van desde 0 hasta el anterior indicado como parámetro:"
   ]
  },
  {
   "cell_type": "code",
   "execution_count": null,
   "id": "threaded-houston",
   "metadata": {},
   "outputs": [],
   "source": []
  },
  {
   "cell_type": "code",
   "execution_count": null,
   "id": "caroline-christopher",
   "metadata": {},
   "outputs": [],
   "source": []
  },
  {
   "cell_type": "code",
   "execution_count": null,
   "id": "renewable-zealand",
   "metadata": {},
   "outputs": [],
   "source": []
  },
  {
   "cell_type": "markdown",
   "id": "adaptive-journalism",
   "metadata": {},
   "source": [
    "- Con dos argumentos. El primer parámetro es el valor inicial y el segundo el valor por debajo del cual deben estar los elementos de la lista:"
   ]
  },
  {
   "cell_type": "code",
   "execution_count": null,
   "id": "noted-louisiana",
   "metadata": {},
   "outputs": [],
   "source": []
  },
  {
   "cell_type": "markdown",
   "id": "polish-functionality",
   "metadata": {},
   "source": [
    "- Con tres argumentos. Igual que en el anterior, pero el tercer parámetro indica el incremento que se produce de un elemento al siguiente:"
   ]
  },
  {
   "cell_type": "code",
   "execution_count": null,
   "id": "cheap-sherman",
   "metadata": {},
   "outputs": [],
   "source": []
  },
  {
   "cell_type": "code",
   "execution_count": null,
   "id": "christian-dealer",
   "metadata": {},
   "outputs": [],
   "source": []
  },
  {
   "cell_type": "markdown",
   "id": "illegal-guard",
   "metadata": {},
   "source": [
    "#### Tu turno\n",
    "Escribe un programa que pregunte al usuario por su edad y muestre todos los años que ha alcanzado (desde el 1 hasta su edad)."
   ]
  },
  {
   "cell_type": "markdown",
   "id": "moral-atlantic",
   "metadata": {},
   "source": [
    "### Iteramos por strings"
   ]
  },
  {
   "cell_type": "code",
   "execution_count": null,
   "id": "subjective-arizona",
   "metadata": {},
   "outputs": [],
   "source": []
  },
  {
   "cell_type": "markdown",
   "id": "hourly-lewis",
   "metadata": {},
   "source": [
    "### Iterate por una lista"
   ]
  },
  {
   "cell_type": "code",
   "execution_count": null,
   "id": "little-vegetable",
   "metadata": {},
   "outputs": [],
   "source": []
  },
  {
   "cell_type": "markdown",
   "id": "reduced-result",
   "metadata": {},
   "source": [
    "### Iteramos por listas sobre su índice"
   ]
  },
  {
   "cell_type": "code",
   "execution_count": null,
   "id": "unsigned-parallel",
   "metadata": {},
   "outputs": [],
   "source": []
  },
  {
   "cell_type": "markdown",
   "id": "limiting-external",
   "metadata": {},
   "source": [
    "### Iteramos por dos listas al mismo tiempo"
   ]
  },
  {
   "cell_type": "code",
   "execution_count": null,
   "id": "yellow-mouth",
   "metadata": {},
   "outputs": [],
   "source": []
  },
  {
   "cell_type": "code",
   "execution_count": null,
   "id": "familiar-roulette",
   "metadata": {},
   "outputs": [],
   "source": []
  },
  {
   "cell_type": "code",
   "execution_count": null,
   "id": "historical-westminster",
   "metadata": {},
   "outputs": [],
   "source": [
    "# enumerate + zip a mano"
   ]
  },
  {
   "cell_type": "code",
   "execution_count": null,
   "id": "timely-template",
   "metadata": {},
   "outputs": [],
   "source": []
  },
  {
   "cell_type": "code",
   "execution_count": null,
   "id": "mechanical-bronze",
   "metadata": {
    "scrolled": true
   },
   "outputs": [],
   "source": []
  },
  {
   "cell_type": "code",
   "execution_count": null,
   "id": "brutal-polymer",
   "metadata": {},
   "outputs": [],
   "source": [
    "# Enumerate + zip en el bucle directamente"
   ]
  },
  {
   "cell_type": "code",
   "execution_count": null,
   "id": "municipal-steel",
   "metadata": {},
   "outputs": [],
   "source": []
  },
  {
   "cell_type": "markdown",
   "id": "virtual-exchange",
   "metadata": {},
   "source": [
    "### Iterar sobre los elementos de un diccionario"
   ]
  },
  {
   "cell_type": "code",
   "execution_count": null,
   "id": "exposed-character",
   "metadata": {},
   "outputs": [],
   "source": [
    "diccionario = { \"Nombre\": \"Dobby\",\n",
    "               \"Raza\" : \"Galgo\",\n",
    "               \"Emoji\": \"🐶\"\n",
    "}"
   ]
  },
  {
   "cell_type": "code",
   "execution_count": null,
   "id": "excellent-duncan",
   "metadata": {},
   "outputs": [],
   "source": []
  },
  {
   "cell_type": "code",
   "execution_count": null,
   "id": "historic-economics",
   "metadata": {},
   "outputs": [],
   "source": []
  },
  {
   "cell_type": "code",
   "execution_count": null,
   "id": "dried-domestic",
   "metadata": {},
   "outputs": [],
   "source": []
  },
  {
   "cell_type": "code",
   "execution_count": null,
   "id": "equivalent-outline",
   "metadata": {},
   "outputs": [],
   "source": []
  },
  {
   "cell_type": "code",
   "execution_count": null,
   "id": "minor-scotland",
   "metadata": {},
   "outputs": [],
   "source": []
  },
  {
   "cell_type": "code",
   "execution_count": null,
   "id": "promotional-radio",
   "metadata": {},
   "outputs": [],
   "source": []
  },
  {
   "cell_type": "markdown",
   "id": "level-cardiff",
   "metadata": {},
   "source": [
    "## Break"
   ]
  },
  {
   "cell_type": "markdown",
   "id": "opponent-legislature",
   "metadata": {},
   "source": [
    "Podemos literalmente \"romper\" una recursión cuando se cumple una condición"
   ]
  },
  {
   "cell_type": "code",
   "execution_count": null,
   "id": "african-authority",
   "metadata": {},
   "outputs": [],
   "source": [
    "grupos = [\"Rufus T. Firefly\", \"Viva Suecia\", \"Standstill\",\"Bowie\", \"Fuel Fandango\"]"
   ]
  },
  {
   "cell_type": "code",
   "execution_count": null,
   "id": "prescribed-boxing",
   "metadata": {},
   "outputs": [],
   "source": []
  },
  {
   "cell_type": "markdown",
   "id": "published-independence",
   "metadata": {},
   "source": [
    "## Let`s go"
   ]
  },
  {
   "cell_type": "markdown",
   "id": "inclusive-headset",
   "metadata": {},
   "source": [
    "Escribir un programa que pregunte al usuario su edad y muestre por pantalla todos los años que ha cumplido (desde 1 hasta su edad)."
   ]
  },
  {
   "cell_type": "markdown",
   "id": "accomplished-messaging",
   "metadata": {},
   "source": [
    "Escribir un programa que pida al usuario un número entero positivo y muestre por pantalla todos los números impares desde 1 hasta ese número separados por comas."
   ]
  },
  {
   "cell_type": "markdown",
   "id": "sufficient-pontiac",
   "metadata": {},
   "source": [
    "## Summary \n",
    "Es tu turno: Qué hemos aprendido?\n"
   ]
  }
 ],
 "metadata": {
  "kernelspec": {
   "display_name": "Python 3",
   "language": "python",
   "name": "python3"
  },
  "language_info": {
   "codemirror_mode": {
    "name": "ipython",
    "version": 3
   },
   "file_extension": ".py",
   "mimetype": "text/x-python",
   "name": "python",
   "nbconvert_exporter": "python",
   "pygments_lexer": "ipython3",
   "version": "3.8.5"
  },
  "toc": {
   "base_numbering": 1,
   "nav_menu": {},
   "number_sections": true,
   "sideBar": true,
   "skip_h1_title": true,
   "title_cell": "Table of Contents",
   "title_sidebar": "Contents",
   "toc_cell": true,
   "toc_position": {},
   "toc_section_display": true,
   "toc_window_display": false
  }
 },
 "nbformat": 4,
 "nbformat_minor": 5
}
