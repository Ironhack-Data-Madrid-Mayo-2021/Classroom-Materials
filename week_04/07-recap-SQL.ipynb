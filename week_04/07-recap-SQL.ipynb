{
 "cells": [
  {
   "cell_type": "markdown",
   "id": "determined-phone",
   "metadata": {},
   "source": [
    "# Recap SQL vs MongoDB"
   ]
  },
  {
   "cell_type": "markdown",
   "id": "ready-residence",
   "metadata": {
    "toc": true
   },
   "source": [
    "<h1>Table of Contents<span class=\"tocSkip\"></span></h1>\n",
    "<div class=\"toc\"><ul class=\"toc-item\"><li><span><a href=\"#¿Cómo-vemos-todos-los-elementos-de-una-tabla?\" data-toc-modified-id=\"¿Cómo-vemos-todos-los-elementos-de-una-tabla?-1\"><span class=\"toc-item-num\">1&nbsp;&nbsp;</span>¿Cómo vemos todos los elementos de una tabla?</a></span></li><li><span><a href=\"#Visualizar-solo-algunos-elementos\" data-toc-modified-id=\"Visualizar-solo-algunos-elementos-2\"><span class=\"toc-item-num\">2&nbsp;&nbsp;</span>Visualizar solo algunos elementos</a></span></li><li><span><a href=\"#Query-con-una-condición-en-MYSQL\" data-toc-modified-id=\"Query-con-una-condición-en-MYSQL-3\"><span class=\"toc-item-num\">3&nbsp;&nbsp;</span>Query con una condición en MYSQL</a></span></li><li><span><a href=\"#Limitamos-query\" data-toc-modified-id=\"Limitamos-query-4\"><span class=\"toc-item-num\">4&nbsp;&nbsp;</span>Limitamos query</a></span></li><li><span><a href=\"#Tablas-Temporales\" data-toc-modified-id=\"Tablas-Temporales-5\"><span class=\"toc-item-num\">5&nbsp;&nbsp;</span>Tablas Temporales</a></span></li></ul></div>"
   ]
  },
  {
   "cell_type": "markdown",
   "id": "secret-wrist",
   "metadata": {},
   "source": [
    "Para conectarnos a una base de datos de SQL con Python utilizamos SQL Alchemy"
   ]
  },
  {
   "cell_type": "code",
   "execution_count": null,
   "id": "opponent-mayor",
   "metadata": {},
   "outputs": [],
   "source": []
  },
  {
   "cell_type": "markdown",
   "id": "structured-vampire",
   "metadata": {},
   "source": [
    "Recordamos también que en MYSQL necesitamos un user y una contraseña"
   ]
  },
  {
   "cell_type": "code",
   "execution_count": null,
   "id": "yellow-interview",
   "metadata": {},
   "outputs": [],
   "source": []
  },
  {
   "cell_type": "code",
   "execution_count": null,
   "id": "linear-packing",
   "metadata": {},
   "outputs": [],
   "source": [
    "# Almacenamos contraseña y ruta de conexión\n"
   ]
  },
  {
   "cell_type": "code",
   "execution_count": null,
   "id": "original-dollar",
   "metadata": {},
   "outputs": [],
   "source": []
  },
  {
   "cell_type": "markdown",
   "id": "ongoing-cholesterol",
   "metadata": {},
   "source": [
    "Lo primero que hay que hacer para trabajar con SQLAlchemy es crear un engine. El engine es el punto de entrada a la base de datos, es decir, el que permite a SQLAlchemy comunicarse con esta.\n",
    "El motor se usa principalmente para manejar dos elementos: los pools de conexiones y el dialecto a utilizar."
   ]
  },
  {
   "cell_type": "code",
   "execution_count": null,
   "id": "caroline-producer",
   "metadata": {},
   "outputs": [],
   "source": []
  },
  {
   "cell_type": "markdown",
   "id": "informed-waste",
   "metadata": {},
   "source": [
    "En mysql tenemos tablas relacionadas entre sí, entonces con que nos conectemos a la base de datos podemos acceder a la información de TODAS las tablas"
   ]
  },
  {
   "cell_type": "markdown",
   "id": "south-environment",
   "metadata": {},
   "source": [
    "## ¿Cómo vemos todos los elementos de una tabla?"
   ]
  },
  {
   "cell_type": "code",
   "execution_count": null,
   "id": "canadian-neutral",
   "metadata": {},
   "outputs": [],
   "source": []
  },
  {
   "cell_type": "code",
   "execution_count": null,
   "id": "optical-circuit",
   "metadata": {},
   "outputs": [],
   "source": []
  },
  {
   "cell_type": "markdown",
   "id": "animal-courtesy",
   "metadata": {},
   "source": [
    "## Visualizar solo algunos elementos"
   ]
  },
  {
   "cell_type": "code",
   "execution_count": null,
   "id": "collected-destiny",
   "metadata": {},
   "outputs": [],
   "source": []
  },
  {
   "cell_type": "markdown",
   "id": "military-recognition",
   "metadata": {},
   "source": [
    "## Query con una condición en MYSQL"
   ]
  },
  {
   "cell_type": "code",
   "execution_count": null,
   "id": "surprising-democrat",
   "metadata": {},
   "outputs": [],
   "source": []
  },
  {
   "cell_type": "markdown",
   "id": "genuine-relief",
   "metadata": {},
   "source": [
    "## Limitamos query"
   ]
  },
  {
   "cell_type": "code",
   "execution_count": null,
   "id": "needed-mouth",
   "metadata": {},
   "outputs": [],
   "source": [
    "\n",
    "# SQL Tiene su propia sintaxis"
   ]
  },
  {
   "cell_type": "markdown",
   "id": "latter-comment",
   "metadata": {},
   "source": [
    "Las subqueries son consultas anidadas dentro de otras consultas. Una subquery devuelve resultados que pueden ser utilizados por la consulta principal en la que está incrustada, transformados posteriormente o unidos con otras tablas o subconsultas. Veamos un ejemplo utilizando nuestro conjunto de datos de publicaciones.\n",
    "\n",
    "Supongamos que hemos creado una consulta para resumir las ventas de la tienda, incluyendo el número de pedidos, el número de artículos y la cantidad total de unidades vendidas."
   ]
  },
  {
   "cell_type": "code",
   "execution_count": null,
   "id": "widespread-roman",
   "metadata": {},
   "outputs": [],
   "source": [
    "# Primero hacemos dos queries a las tablas para explorarlas y plantear cómo hacemos la query que queremos hacer"
   ]
  },
  {
   "cell_type": "code",
   "execution_count": null,
   "id": "significant-territory",
   "metadata": {},
   "outputs": [],
   "source": []
  },
  {
   "cell_type": "code",
   "execution_count": null,
   "id": "numerical-employer",
   "metadata": {},
   "outputs": [],
   "source": []
  },
  {
   "cell_type": "markdown",
   "id": "social-contrast",
   "metadata": {},
   "source": [
    "Ventas de la tienda incluyendo:     \n",
    "    - número de pedidos (orders)\n",
    "    - número de artículos (    \n",
    "    - cantidad total de unidades vendidas.   "
   ]
  },
  {
   "cell_type": "code",
   "execution_count": null,
   "id": "timely-stick",
   "metadata": {},
   "outputs": [],
   "source": [
    "\n",
    "df.head()"
   ]
  },
  {
   "cell_type": "markdown",
   "id": "amended-grocery",
   "metadata": {},
   "source": [
    "Si quisiéramos mostrar el número medio de artículos por pedido y la cantidad media por artículo para cada tienda, podríamos hacerlo incrustando esta consulta como una subconsulta en otra consulta que realice esos cálculos."
   ]
  },
  {
   "cell_type": "code",
   "execution_count": null,
   "id": "rubber-horse",
   "metadata": {},
   "outputs": [],
   "source": []
  },
  {
   "cell_type": "markdown",
   "id": "cooperative-onion",
   "metadata": {},
   "source": [
    "La query principal utiliza los resultados de la subquery y nos permite realizar los cálculos utilizando los nombres de los campos que asignamos en la subquery. Para acceder a los resultados de la subquery, también necesitamos encerrarla entre paréntesis y darle un nombre.\n",
    "\n",
    "Una query principal puede contener múltiples subqueries, a veces con otras subconsultas anidadas dentro de ellas también. Desde la perspectiva de la consulta principal, los resultados devueltos por una subconsulta tienen el mismo propósito que una tabla. Son una fuente de datos para la consulta principal. De hecho, incluso se pueden unir tablas y resultados de subconsultas dentro de la consulta principal."
   ]
  },
  {
   "cell_type": "markdown",
   "id": "downtown-aluminum",
   "metadata": {},
   "source": [
    "## Tablas Temporales "
   ]
  },
  {
   "cell_type": "markdown",
   "id": "promotional-hands",
   "metadata": {},
   "source": [
    "Las tablas temporales son tablas provisionales que se construyen a partir de los resultados de las consultas y se eliminan una vez que la sesión de la base de datos ha finalizado. Sirven para almacenar los resultados de la consulta para su uso posterior en la sesión. La forma de evitar tener que escribir la misma subconsulta varias veces es guardando los resultados de la consulta en una tabla temporal y luego consultando la tabla temporal cada vez que necesitemos acceder a esos resultados.\n",
    "\n",
    "Veamos cómo podríamos haber cambiado la subconsulta de la sección anterior por una tabla temporal. Para ello, podemos utilizar el comando CREATE TEMPORARY TABLE, seguido del nombre que queramos dar a la nueva tabla y de la consulta."
   ]
  },
  {
   "cell_type": "code",
   "execution_count": null,
   "id": "curious-being",
   "metadata": {},
   "outputs": [],
   "source": []
  },
  {
   "cell_type": "code",
   "execution_count": null,
   "id": "constant-thanks",
   "metadata": {},
   "outputs": [],
   "source": []
  },
  {
   "cell_type": "code",
   "execution_count": null,
   "id": "universal-consciousness",
   "metadata": {},
   "outputs": [],
   "source": []
  }
 ],
 "metadata": {
  "kernelspec": {
   "display_name": "ironhack",
   "language": "python",
   "name": "ironhack"
  },
  "language_info": {
   "codemirror_mode": {
    "name": "ipython",
    "version": 3
   },
   "file_extension": ".py",
   "mimetype": "text/x-python",
   "name": "python",
   "nbconvert_exporter": "python",
   "pygments_lexer": "ipython3",
   "version": "3.8.5"
  },
  "toc": {
   "base_numbering": 1,
   "nav_menu": {},
   "number_sections": true,
   "sideBar": true,
   "skip_h1_title": true,
   "title_cell": "Table of Contents",
   "title_sidebar": "Contents",
   "toc_cell": true,
   "toc_position": {
    "height": "calc(100% - 180px)",
    "left": "10px",
    "top": "150px",
    "width": "288px"
   },
   "toc_section_display": true,
   "toc_window_display": true
  }
 },
 "nbformat": 4,
 "nbformat_minor": 5
}
