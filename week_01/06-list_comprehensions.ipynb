{
 "cells": [
  {
   "cell_type": "markdown",
   "metadata": {},
   "source": [
    "# Comprehensions"
   ]
  },
  {
   "cell_type": "markdown",
   "metadata": {
    "toc": true
   },
   "source": [
    "<h1>Table of Contents<span class=\"tocSkip\"></span></h1>\n",
    "<div class=\"toc\"><ul class=\"toc-item\"><li><span><a href=\"#Basic-list-comprehensions\" data-toc-modified-id=\"Basic-list-comprehensions-1\"><span class=\"toc-item-num\">1&nbsp;&nbsp;</span>Basic list comprehensions</a></span><ul class=\"toc-item\"><li><span><a href=\"#for-loop\" data-toc-modified-id=\"for-loop-1.1\"><span class=\"toc-item-num\">1.1&nbsp;&nbsp;</span><code>for</code> loop</a></span></li><li><span><a href=\"#for-loop-&amp;-if-condition\" data-toc-modified-id=\"for-loop-&amp;-if-condition-1.2\"><span class=\"toc-item-num\">1.2&nbsp;&nbsp;</span><code>for</code> loop &amp; <code>if</code> condition</a></span></li></ul></li><li><span><a href=\"#Double-list-comprehensions\" data-toc-modified-id=\"Double-list-comprehensions-2\"><span class=\"toc-item-num\">2&nbsp;&nbsp;</span>Double list comprehensions</a></span></li><li><span><a href=\"#Nested-list-comprehensions\" data-toc-modified-id=\"Nested-list-comprehensions-3\"><span class=\"toc-item-num\">3&nbsp;&nbsp;</span>Nested list comprehensions</a></span></li><li><span><a href=\"#Dictionary-comprehensions\" data-toc-modified-id=\"Dictionary-comprehensions-4\"><span class=\"toc-item-num\">4&nbsp;&nbsp;</span>Dictionary comprehensions</a></span></li><li><span><a href=\"#Set-comprehensions\" data-toc-modified-id=\"Set-comprehensions-5\"><span class=\"toc-item-num\">5&nbsp;&nbsp;</span>Set comprehensions</a></span></li><li><span><a href=\"#Summary\" data-toc-modified-id=\"Summary-6\"><span class=\"toc-item-num\">6&nbsp;&nbsp;</span>Summary</a></span></li><li><span><a href=\"#Timings\" data-toc-modified-id=\"Timings-7\"><span class=\"toc-item-num\">7&nbsp;&nbsp;</span>Timings</a></span></li></ul></div>"
   ]
  },
  {
   "cell_type": "markdown",
   "metadata": {},
   "source": [
    "## Basic list comprehensions"
   ]
  },
  {
   "cell_type": "markdown",
   "metadata": {},
   "source": [
    "### `for` loop"
   ]
  },
  {
   "cell_type": "code",
   "execution_count": 1,
   "metadata": {},
   "outputs": [],
   "source": [
    "words = ['play', 'filling', 'bar', 'theatre', 'easygoing', 'date', 'lead', 'that', 'story',  'island']"
   ]
  },
  {
   "cell_type": "code",
   "execution_count": 2,
   "metadata": {},
   "outputs": [
    {
     "data": {
      "text/plain": [
       "list"
      ]
     },
     "execution_count": 2,
     "metadata": {},
     "output_type": "execute_result"
    }
   ],
   "source": [
    "type(words)"
   ]
  },
  {
   "cell_type": "code",
   "execution_count": 3,
   "metadata": {},
   "outputs": [
    {
     "data": {
      "text/plain": [
       "10"
      ]
     },
     "execution_count": 3,
     "metadata": {},
     "output_type": "execute_result"
    }
   ],
   "source": [
    "len(words)"
   ]
  },
  {
   "cell_type": "code",
   "execution_count": 4,
   "metadata": {},
   "outputs": [
    {
     "data": {
      "text/plain": [
       "['play',\n",
       " 'filling',\n",
       " 'bar',\n",
       " 'theatre',\n",
       " 'easygoing',\n",
       " 'date',\n",
       " 'lead',\n",
       " 'that',\n",
       " 'story',\n",
       " 'island']"
      ]
     },
     "execution_count": 4,
     "metadata": {},
     "output_type": "execute_result"
    }
   ],
   "source": [
    "words"
   ]
  },
  {
   "cell_type": "markdown",
   "metadata": {},
   "source": [
    "**Exercise**: we want another list with same words in upper case (mayúsculas)"
   ]
  },
  {
   "cell_type": "code",
   "execution_count": 5,
   "metadata": {},
   "outputs": [],
   "source": [
    "words_big = []\n",
    "for w in words:\n",
    "    w_big = w.upper()\n",
    "    words_big.append(w_big)"
   ]
  },
  {
   "cell_type": "code",
   "execution_count": 6,
   "metadata": {},
   "outputs": [
    {
     "data": {
      "text/plain": [
       "['PLAY',\n",
       " 'FILLING',\n",
       " 'BAR',\n",
       " 'THEATRE',\n",
       " 'EASYGOING',\n",
       " 'DATE',\n",
       " 'LEAD',\n",
       " 'THAT',\n",
       " 'STORY',\n",
       " 'ISLAND']"
      ]
     },
     "execution_count": 6,
     "metadata": {},
     "output_type": "execute_result"
    }
   ],
   "source": [
    "words_big"
   ]
  },
  {
   "cell_type": "markdown",
   "metadata": {},
   "source": [
    "Let's create UPPER list with a comprehension"
   ]
  },
  {
   "cell_type": "markdown",
   "metadata": {},
   "source": [
    "<img width=600 src=\"https://miro.medium.com/max/1022/1*RycJnooSC4_amWAXsvvKhw.png\">"
   ]
  },
  {
   "cell_type": "code",
   "execution_count": 8,
   "metadata": {},
   "outputs": [
    {
     "data": {
      "text/plain": [
       "['play',\n",
       " 'filling',\n",
       " 'bar',\n",
       " 'theatre',\n",
       " 'easygoing',\n",
       " 'date',\n",
       " 'lead',\n",
       " 'that',\n",
       " 'story',\n",
       " 'island']"
      ]
     },
     "execution_count": 8,
     "metadata": {},
     "output_type": "execute_result"
    }
   ],
   "source": [
    "words"
   ]
  },
  {
   "cell_type": "code",
   "execution_count": 9,
   "metadata": {},
   "outputs": [],
   "source": [
    "words_big = [w.upper() for w in words]"
   ]
  },
  {
   "cell_type": "code",
   "execution_count": 10,
   "metadata": {},
   "outputs": [
    {
     "data": {
      "text/plain": [
       "['PLAY',\n",
       " 'FILLING',\n",
       " 'BAR',\n",
       " 'THEATRE',\n",
       " 'EASYGOING',\n",
       " 'DATE',\n",
       " 'LEAD',\n",
       " 'THAT',\n",
       " 'STORY',\n",
       " 'ISLAND']"
      ]
     },
     "execution_count": 10,
     "metadata": {},
     "output_type": "execute_result"
    }
   ],
   "source": [
    "words_big"
   ]
  },
  {
   "cell_type": "markdown",
   "metadata": {},
   "source": [
    "**Exercise**: we want a list containing the squares of numbers from 1 to 10."
   ]
  },
  {
   "cell_type": "code",
   "execution_count": 18,
   "metadata": {},
   "outputs": [],
   "source": [
    "# classic\n",
    "sqs = []\n",
    "for n in range(1, 11):\n",
    "    sqs.append(n ** 2)"
   ]
  },
  {
   "cell_type": "code",
   "execution_count": 19,
   "metadata": {},
   "outputs": [
    {
     "data": {
      "text/plain": [
       "[1, 4, 9, 16, 25, 36, 49, 64, 81, 100]"
      ]
     },
     "execution_count": 19,
     "metadata": {},
     "output_type": "execute_result"
    }
   ],
   "source": [
    "sqs"
   ]
  },
  {
   "cell_type": "code",
   "execution_count": 22,
   "metadata": {},
   "outputs": [
    {
     "data": {
      "text/plain": [
       "[1, 4, 9, 16, 25, 36, 49, 64, 81, 100]"
      ]
     },
     "execution_count": 22,
     "metadata": {},
     "output_type": "execute_result"
    }
   ],
   "source": [
    "# list comprehension\n",
    "[n ** 2 for n in range(1, 11)]"
   ]
  },
  {
   "cell_type": "code",
   "execution_count": 25,
   "metadata": {},
   "outputs": [
    {
     "data": {
      "text/plain": [
       "[1, 2, 0, 1, 2, 0, 1, 2, 0, 1]"
      ]
     },
     "execution_count": 25,
     "metadata": {},
     "output_type": "execute_result"
    }
   ],
   "source": [
    "# list comprehension\n",
    "[n % 3 for n in range(1, 11)]"
   ]
  },
  {
   "cell_type": "markdown",
   "metadata": {},
   "source": [
    "**Exercise**: Replace \"a\"s by \"e\"s in every word of the list"
   ]
  },
  {
   "cell_type": "code",
   "execution_count": 41,
   "metadata": {},
   "outputs": [
    {
     "data": {
      "text/plain": [
       "['play',\n",
       " 'filling',\n",
       " 'bar',\n",
       " 'theatre',\n",
       " 'easygoing',\n",
       " 'date',\n",
       " 'lead',\n",
       " 'that',\n",
       " 'story',\n",
       " 'island']"
      ]
     },
     "execution_count": 41,
     "metadata": {},
     "output_type": "execute_result"
    }
   ],
   "source": [
    "words"
   ]
  },
  {
   "cell_type": "code",
   "execution_count": 47,
   "metadata": {},
   "outputs": [
    {
     "data": {
      "text/plain": [
       "['pley',\n",
       " 'filling',\n",
       " 'ber',\n",
       " 'theetre',\n",
       " 'eesygoing',\n",
       " 'dete',\n",
       " 'leed',\n",
       " 'thet',\n",
       " 'story',\n",
       " 'islend']"
      ]
     },
     "execution_count": 47,
     "metadata": {},
     "output_type": "execute_result"
    }
   ],
   "source": [
    "# list comprehension\n",
    "[w.replace(\"a\", \"e\") for w in words]"
   ]
  },
  {
   "cell_type": "markdown",
   "metadata": {},
   "source": [
    "### `for` loop & `if` condition"
   ]
  },
  {
   "cell_type": "markdown",
   "metadata": {},
   "source": [
    "**Exercise**: We want the sub-list with words longer than 6 characters."
   ]
  },
  {
   "cell_type": "code",
   "execution_count": 26,
   "metadata": {},
   "outputs": [
    {
     "data": {
      "text/plain": [
       "['play',\n",
       " 'filling',\n",
       " 'bar',\n",
       " 'theatre',\n",
       " 'easygoing',\n",
       " 'date',\n",
       " 'lead',\n",
       " 'that',\n",
       " 'story',\n",
       " 'island']"
      ]
     },
     "execution_count": 26,
     "metadata": {},
     "output_type": "execute_result"
    }
   ],
   "source": [
    "words"
   ]
  },
  {
   "cell_type": "code",
   "execution_count": 27,
   "metadata": {},
   "outputs": [],
   "source": [
    "max_len = 6"
   ]
  },
  {
   "cell_type": "code",
   "execution_count": 28,
   "metadata": {},
   "outputs": [],
   "source": [
    "# classic\n",
    "long_words = []\n",
    "\n",
    "for word in words:\n",
    "    if len(word) > 6:\n",
    "        long_words.append(word)"
   ]
  },
  {
   "cell_type": "code",
   "execution_count": 29,
   "metadata": {},
   "outputs": [
    {
     "data": {
      "text/plain": [
       "['filling', 'theatre', 'easygoing']"
      ]
     },
     "execution_count": 29,
     "metadata": {},
     "output_type": "execute_result"
    }
   ],
   "source": [
    "long_words"
   ]
  },
  {
   "cell_type": "markdown",
   "metadata": {},
   "source": [
    "<img width=600 src=\"https://www.mrdbourke.com/content/images/2019/09/python-list-comprehension-article.png\">"
   ]
  },
  {
   "cell_type": "code",
   "execution_count": 32,
   "metadata": {},
   "outputs": [
    {
     "data": {
      "text/plain": [
       "['FILLING', 'THEATRE', 'EASYGOING']"
      ]
     },
     "execution_count": 32,
     "metadata": {},
     "output_type": "execute_result"
    }
   ],
   "source": [
    "# list comprehension\n",
    "[w.upper() for w in words if len(w) > 6]"
   ]
  },
  {
   "cell_type": "markdown",
   "metadata": {},
   "source": [
    "**Exercise**: create a list of names of people with more than one kid"
   ]
  },
  {
   "cell_type": "code",
   "execution_count": 37,
   "metadata": {},
   "outputs": [
    {
     "data": {
      "text/plain": [
       "list"
      ]
     },
     "execution_count": 37,
     "metadata": {},
     "output_type": "execute_result"
    }
   ],
   "source": [
    "type(people)"
   ]
  },
  {
   "cell_type": "code",
   "execution_count": 34,
   "metadata": {},
   "outputs": [],
   "source": [
    "people = [\n",
    "    {\n",
    "        \"name\": \"Juan\",\n",
    "        \"age\": 34,\n",
    "        \"n_kids\": 2\n",
    "    },\n",
    "    {\n",
    "        \"name\": \"Pepe\",\n",
    "        \"age\": 27,\n",
    "        \"n_kids\": 0\n",
    "    },\n",
    "    {\n",
    "        \"name\": \"Sonia\",\n",
    "        \"age\": 41,\n",
    "        \"n_kids\": 1\n",
    "    },\n",
    "    {\n",
    "        \"name\": \"Lucía\",\n",
    "        \"age\": 22,\n",
    "        \"n_kids\": 2\n",
    "    },\n",
    "    {\n",
    "        \"name\": \"Leo\",\n",
    "        \"age\": 55,\n",
    "        \"n_kids\": 5\n",
    "    }\n",
    "]"
   ]
  },
  {
   "cell_type": "code",
   "execution_count": 36,
   "metadata": {},
   "outputs": [
    {
     "data": {
      "text/plain": [
       "['Juan', 'Lucía', 'Leo']"
      ]
     },
     "execution_count": 36,
     "metadata": {},
     "output_type": "execute_result"
    }
   ],
   "source": [
    "[p[\"name\"] for p in people if p[\"n_kids\"] > 1]"
   ]
  },
  {
   "cell_type": "markdown",
   "metadata": {},
   "source": [
    "**Exercise**: Build a list with all multiples of 5 between 0 and 100."
   ]
  },
  {
   "cell_type": "code",
   "execution_count": 57,
   "metadata": {},
   "outputs": [
    {
     "data": {
      "text/plain": [
       "[0, 5, 10, 15, 20, 25, 30, 35, 40, 45, 50, 55, 60, 65, 70, 75, 80, 85, 90, 95]"
      ]
     },
     "execution_count": 57,
     "metadata": {},
     "output_type": "execute_result"
    }
   ],
   "source": [
    "# list comprehension\n",
    "[n for n in range(100) if n % 5 == 0]"
   ]
  },
  {
   "cell_type": "markdown",
   "metadata": {},
   "source": [
    "Examples"
   ]
  },
  {
   "cell_type": "code",
   "execution_count": 58,
   "metadata": {},
   "outputs": [
    {
     "data": {
      "text/plain": [
       "[0, 2, 4, 6, 8, 10, 12, 14, 16, 18]"
      ]
     },
     "execution_count": 58,
     "metadata": {},
     "output_type": "execute_result"
    }
   ],
   "source": [
    "[2 * x for x in range(10)]"
   ]
  },
  {
   "cell_type": "code",
   "execution_count": 61,
   "metadata": {},
   "outputs": [
    {
     "data": {
      "text/plain": [
       "[7, 7, 7, 7, 7, 7, 7, 7, 7, 7]"
      ]
     },
     "execution_count": 61,
     "metadata": {},
     "output_type": "execute_result"
    }
   ],
   "source": [
    "[7 for x in range(10)]"
   ]
  },
  {
   "cell_type": "code",
   "execution_count": 62,
   "metadata": {},
   "outputs": [
    {
     "data": {
      "text/plain": [
       "[1, 9, 25, 49, 81]"
      ]
     },
     "execution_count": 62,
     "metadata": {},
     "output_type": "execute_result"
    }
   ],
   "source": [
    "[x ** 2 for x in range(10) if x % 2 == 1]"
   ]
  },
  {
   "cell_type": "code",
   "execution_count": 63,
   "metadata": {},
   "outputs": [
    {
     "data": {
      "text/plain": [
       "[0.0, 0.5, 1.0, 1.5, 2.0, 2.5, 3.0, 3.5, 4.0, 4.5]"
      ]
     },
     "execution_count": 63,
     "metadata": {},
     "output_type": "execute_result"
    }
   ],
   "source": [
    "[numerito / 2 for numerito in range(10)]"
   ]
  },
  {
   "cell_type": "markdown",
   "metadata": {},
   "source": [
    "## Double list comprehensions"
   ]
  },
  {
   "cell_type": "markdown",
   "metadata": {},
   "source": [
    "**Exercise**: we are 4 friends. We want to visit 3 countries.  \n",
    "Create a list of strings, containing all the posibilities of \"name loves country\""
   ]
  },
  {
   "cell_type": "markdown",
   "metadata": {},
   "source": [
    "How many combinations are there?"
   ]
  },
  {
   "cell_type": "code",
   "execution_count": 68,
   "metadata": {},
   "outputs": [],
   "source": [
    "countries = [\"Brasil\", \"Morocco\", \"New Zealand\"]\n",
    "friends = [\"Alice\", \"Bob\", \"Eve\", \"John\"]"
   ]
  },
  {
   "cell_type": "code",
   "execution_count": 87,
   "metadata": {},
   "outputs": [
    {
     "name": "stdout",
     "output_type": "stream",
     "text": [
      "Hola soy Alice\n",
      "Alice loves Brasil\n",
      "Alice loves Morocco\n",
      "Alice loves New Zealand\n",
      "Me despido, soy Alice\n",
      "\n",
      "Hola soy Bob\n",
      "Bob loves Brasil\n",
      "Bob loves Morocco\n",
      "Bob loves New Zealand\n",
      "Me despido, soy Bob\n",
      "\n",
      "Hola soy Eve\n",
      "Eve loves Brasil\n",
      "Eve loves Morocco\n",
      "Eve loves New Zealand\n",
      "Me despido, soy Eve\n",
      "\n",
      "Hola soy John\n",
      "John loves Brasil\n",
      "John loves Morocco\n",
      "John loves New Zealand\n",
      "Me despido, soy John\n",
      "\n"
     ]
    }
   ],
   "source": [
    "# classic\n",
    "for f in friends:\n",
    "    print(f\"Hola soy {f}\")\n",
    "    \n",
    "    for c in countries:\n",
    "        print(f\"{f} loves {c}\")\n",
    "        \n",
    "    print(f\"Me despido, soy {f}\\n\")"
   ]
  },
  {
   "cell_type": "code",
   "execution_count": 83,
   "metadata": {},
   "outputs": [
    {
     "data": {
      "text/plain": [
       "['Alice loves Brasil',\n",
       " 'Alice loves Morocco',\n",
       " 'Alice loves New Zealand',\n",
       " 'Bob loves Brasil',\n",
       " 'Bob loves Morocco',\n",
       " 'Bob loves New Zealand',\n",
       " 'Eve loves Brasil',\n",
       " 'Eve loves Morocco',\n",
       " 'Eve loves New Zealand',\n",
       " 'John loves Brasil',\n",
       " 'John loves Morocco',\n",
       " 'John loves New Zealand']"
      ]
     },
     "execution_count": 83,
     "metadata": {},
     "output_type": "execute_result"
    }
   ],
   "source": [
    "# list comprehension\n",
    "[f\"{f} loves {c}\" for f in friends for c in countries]"
   ]
  },
  {
   "cell_type": "markdown",
   "metadata": {},
   "source": [
    "**Exercise**: for each letter of each word, print it if it is a vowel"
   ]
  },
  {
   "cell_type": "markdown",
   "metadata": {},
   "source": [
    "## Nested list comprehensions"
   ]
  },
  {
   "cell_type": "code",
   "execution_count": 99,
   "metadata": {},
   "outputs": [
    {
     "data": {
      "text/plain": [
       "['Alice', 'Bob', 'Eve', 'John']"
      ]
     },
     "execution_count": 99,
     "metadata": {},
     "output_type": "execute_result"
    }
   ],
   "source": [
    "friends"
   ]
  },
  {
   "cell_type": "markdown",
   "metadata": {},
   "source": [
    "Build a list of lists with names in upper and lower\n",
    "\n",
    "first element shold be `[\"Alice\", \"ALICE\", \"alice\"]`"
   ]
  },
  {
   "cell_type": "code",
   "execution_count": 105,
   "metadata": {},
   "outputs": [],
   "source": [
    "# classic\n",
    "names_diff = []\n",
    "\n",
    "for f in friends:\n",
    "    names = [f, f.upper(), f.lower()]\n",
    "    \n",
    "    names_diff.append(names)"
   ]
  },
  {
   "cell_type": "code",
   "execution_count": 106,
   "metadata": {},
   "outputs": [
    {
     "data": {
      "text/plain": [
       "[['Alice', 'ALICE', 'alice'],\n",
       " ['Bob', 'BOB', 'bob'],\n",
       " ['Eve', 'EVE', 'eve'],\n",
       " ['John', 'JOHN', 'john']]"
      ]
     },
     "execution_count": 106,
     "metadata": {},
     "output_type": "execute_result"
    }
   ],
   "source": [
    "names_diff"
   ]
  },
  {
   "cell_type": "code",
   "execution_count": 110,
   "metadata": {},
   "outputs": [
    {
     "data": {
      "text/plain": [
       "[['Alice', 'ALICE', 'alice'],\n",
       " ['Bob', 'BOB', 'bob'],\n",
       " ['Eve', 'EVE', 'eve'],\n",
       " ['John', 'JOHN', 'john']]"
      ]
     },
     "execution_count": 110,
     "metadata": {},
     "output_type": "execute_result"
    }
   ],
   "source": [
    "# list comprehension\n",
    "[[f, f.upper(), f.lower()] for f in friends]"
   ]
  },
  {
   "cell_type": "markdown",
   "metadata": {},
   "source": [
    "## Dictionary comprehensions"
   ]
  },
  {
   "cell_type": "markdown",
   "metadata": {},
   "source": [
    "**Exercise**: you are given a list of words. Write a dictionary containing the length of every word."
   ]
  },
  {
   "cell_type": "markdown",
   "metadata": {},
   "source": [
    "```\n",
    "{\n",
    "    \"play\": 4,\n",
    "    \"filling\": 7,\n",
    "    ...\n",
    "}\n",
    "```"
   ]
  },
  {
   "cell_type": "code",
   "execution_count": 119,
   "metadata": {},
   "outputs": [
    {
     "data": {
      "text/plain": [
       "['play',\n",
       " 'filling',\n",
       " 'bar',\n",
       " 'theatre',\n",
       " 'easygoing',\n",
       " 'date',\n",
       " 'lead',\n",
       " 'that',\n",
       " 'story',\n",
       " 'island']"
      ]
     },
     "execution_count": 119,
     "metadata": {},
     "output_type": "execute_result"
    }
   ],
   "source": [
    "words"
   ]
  },
  {
   "cell_type": "code",
   "execution_count": 125,
   "metadata": {},
   "outputs": [],
   "source": [
    "# classic\n",
    "word_dict = dict()\n",
    "# equiv to {} but less readable (couldn't it be a set?)\n",
    "\n",
    "for w in words:\n",
    "    word_dict[w] = len(w)"
   ]
  },
  {
   "cell_type": "code",
   "execution_count": 127,
   "metadata": {},
   "outputs": [
    {
     "data": {
      "text/plain": [
       "{'play': 4,\n",
       " 'filling': 7,\n",
       " 'bar': 3,\n",
       " 'theatre': 7,\n",
       " 'easygoing': 9,\n",
       " 'date': 4,\n",
       " 'lead': 4,\n",
       " 'that': 4,\n",
       " 'story': 5,\n",
       " 'island': 6}"
      ]
     },
     "execution_count": 127,
     "metadata": {},
     "output_type": "execute_result"
    }
   ],
   "source": [
    "word_dict"
   ]
  },
  {
   "cell_type": "code",
   "execution_count": null,
   "metadata": {},
   "outputs": [],
   "source": [
    "# dict comprehension"
   ]
  },
  {
   "cell_type": "code",
   "execution_count": 128,
   "metadata": {},
   "outputs": [
    {
     "data": {
      "text/plain": [
       "{'play': 4,\n",
       " 'filling': 7,\n",
       " 'bar': 3,\n",
       " 'theatre': 7,\n",
       " 'easygoing': 9,\n",
       " 'date': 4,\n",
       " 'lead': 4,\n",
       " 'that': 4,\n",
       " 'story': 5,\n",
       " 'island': 6}"
      ]
     },
     "execution_count": 128,
     "metadata": {},
     "output_type": "execute_result"
    }
   ],
   "source": [
    "{w: len(w) for w in words}"
   ]
  },
  {
   "cell_type": "code",
   "execution_count": 129,
   "metadata": {},
   "outputs": [
    {
     "data": {
      "text/plain": [
       "{'PLAY': 4,\n",
       " 'FILLING': 7,\n",
       " 'BAR': 3,\n",
       " 'THEATRE': 7,\n",
       " 'EASYGOING': 9,\n",
       " 'DATE': 4,\n",
       " 'LEAD': 4,\n",
       " 'THAT': 4,\n",
       " 'STORY': 5,\n",
       " 'ISLAND': 6}"
      ]
     },
     "execution_count": 129,
     "metadata": {},
     "output_type": "execute_result"
    }
   ],
   "source": [
    "# more use cases\n",
    "{w.upper(): len(w) for w in words}"
   ]
  },
  {
   "cell_type": "code",
   "execution_count": 130,
   "metadata": {},
   "outputs": [
    {
     "data": {
      "text/plain": [
       "{'FILLING': 7, 'THEATRE': 7, 'EASYGOING': 9, 'ISLAND': 6}"
      ]
     },
     "execution_count": 130,
     "metadata": {},
     "output_type": "execute_result"
    }
   ],
   "source": [
    "# more use cases\n",
    "{w.upper(): len(w) for w in words if len(w) > 5}"
   ]
  },
  {
   "cell_type": "code",
   "execution_count": 135,
   "metadata": {},
   "outputs": [
    {
     "data": {
      "text/plain": [
       "{'PLAY': 0,\n",
       " 'FILLING': 1,\n",
       " 'BAR': 4,\n",
       " 'THEATRE': 9,\n",
       " 'EASYGOING': 16,\n",
       " 'DATE': 25,\n",
       " 'LEAD': 36,\n",
       " 'THAT': 49,\n",
       " 'STORY': 64,\n",
       " 'ISLAND': 81}"
      ]
     },
     "execution_count": 135,
     "metadata": {},
     "output_type": "execute_result"
    }
   ],
   "source": [
    "{w.upper(): ind ** 2 for ind, w in enumerate(words)}"
   ]
  },
  {
   "cell_type": "markdown",
   "metadata": {},
   "source": [
    "**Exercise**: you are given a dict of ages.  \n",
    "Create a dictionary containing their ages in 5 years time."
   ]
  },
  {
   "cell_type": "code",
   "execution_count": 137,
   "metadata": {},
   "outputs": [],
   "source": [
    "ages = {\n",
    "    \"Alice\": 24,\n",
    "    \"Bob\": 28,\n",
    "    \"Eve\": 34,\n",
    "    \"John\": 19\n",
    "}"
   ]
  },
  {
   "cell_type": "code",
   "execution_count": 138,
   "metadata": {},
   "outputs": [
    {
     "data": {
      "text/plain": [
       "{'Alice': 29, 'Bob': 33, 'Eve': 39, 'John': 24}"
      ]
     },
     "execution_count": 138,
     "metadata": {},
     "output_type": "execute_result"
    }
   ],
   "source": [
    "{name: age + 5 for name, age in ages.items()}"
   ]
  },
  {
   "cell_type": "code",
   "execution_count": 139,
   "metadata": {},
   "outputs": [
    {
     "data": {
      "text/plain": [
       "[29, 33, 39, 24]"
      ]
     },
     "execution_count": 139,
     "metadata": {},
     "output_type": "execute_result"
    }
   ],
   "source": [
    "[age + 5 for name, age in ages.items()]"
   ]
  },
  {
   "cell_type": "markdown",
   "metadata": {},
   "source": [
    "**Exercise**: you are given the following country-city pairs. Invert it."
   ]
  },
  {
   "cell_type": "code",
   "execution_count": 147,
   "metadata": {},
   "outputs": [],
   "source": [
    "fav_cities = {\n",
    "    \"Alvaro\": \"Valencia\",\n",
    "    \"Manu\": \"Marseille\",\n",
    "    \"Vic\": \"Rome\",\n",
    "    \"Borja\": \"New York\"\n",
    "}"
   ]
  },
  {
   "cell_type": "code",
   "execution_count": 148,
   "metadata": {},
   "outputs": [
    {
     "data": {
      "text/plain": [
       "{'Valencia': 'Alvaro', 'Marseille': 'Manu', 'Rome': 'Vic', 'New York': 'Borja'}"
      ]
     },
     "execution_count": 148,
     "metadata": {},
     "output_type": "execute_result"
    }
   ],
   "source": [
    "{ci: p for p, ci in fav_cities.items()}"
   ]
  },
  {
   "cell_type": "markdown",
   "metadata": {},
   "source": [
    "## Set comprehensions"
   ]
  },
  {
   "cell_type": "markdown",
   "metadata": {},
   "source": [
    "**Exercise**: you are given country-age pairs for several users. Build a set with unique countries."
   ]
  },
  {
   "cell_type": "code",
   "execution_count": 149,
   "metadata": {},
   "outputs": [],
   "source": [
    "codes = [\"es-91\", \"en-88\", \"en-43\", \"fr-12\", \"it-33\", \"es-15\", \"fr-55\", \"es-66\", \"usa-55\"]"
   ]
  },
  {
   "cell_type": "code",
   "execution_count": 159,
   "metadata": {},
   "outputs": [
    {
     "data": {
      "text/plain": [
       "['es', 'en', 'en', 'fr', 'it', 'es', 'fr', 'es', 'usa']"
      ]
     },
     "execution_count": 159,
     "metadata": {},
     "output_type": "execute_result"
    }
   ],
   "source": [
    "[c.split(\"-\")[0] for c in codes]"
   ]
  },
  {
   "cell_type": "code",
   "execution_count": 163,
   "metadata": {},
   "outputs": [
    {
     "data": {
      "text/plain": [
       "{'en', 'es', 'fr', 'it', 'usa'}"
      ]
     },
     "execution_count": 163,
     "metadata": {},
     "output_type": "execute_result"
    }
   ],
   "source": [
    "{c.split(\"-\")[0] for c in codes}"
   ]
  },
  {
   "cell_type": "code",
   "execution_count": 164,
   "metadata": {},
   "outputs": [
    {
     "data": {
      "text/plain": [
       "{'en', 'es', 'fr', 'it', 'usa'}"
      ]
     },
     "execution_count": 164,
     "metadata": {},
     "output_type": "execute_result"
    }
   ],
   "source": [
    "# equiv\n",
    "set([c.split(\"-\")[0] for c in codes])"
   ]
  },
  {
   "cell_type": "markdown",
   "metadata": {},
   "source": [
    "## Summary"
   ]
  },
  {
   "cell_type": "markdown",
   "metadata": {},
   "source": [
    " * Comprehensions are elegant.\n",
    " * Comprehensions are compact.\n",
    " * Readability counts: do not ALWAYS use comprehensions.\n",
    " * List, set, dict comprehensions"
   ]
  },
  {
   "cell_type": "markdown",
   "metadata": {},
   "source": [
    "## Timings"
   ]
  },
  {
   "cell_type": "code",
   "execution_count": 165,
   "metadata": {},
   "outputs": [],
   "source": [
    "nums = list(range(10 ** 6))"
   ]
  },
  {
   "cell_type": "code",
   "execution_count": 169,
   "metadata": {},
   "outputs": [
    {
     "name": "stdout",
     "output_type": "stream",
     "text": [
      "488 ms ± 21.6 ms per loop (mean ± std. dev. of 7 runs, 1 loop each)\n"
     ]
    }
   ],
   "source": [
    "%%timeit\n",
    "squares = []\n",
    "for n in nums:\n",
    "    squares.append(n ** 2)"
   ]
  },
  {
   "cell_type": "code",
   "execution_count": 167,
   "metadata": {},
   "outputs": [
    {
     "name": "stdout",
     "output_type": "stream",
     "text": [
      "422 ms ± 11.8 ms per loop (mean ± std. dev. of 7 runs, 1 loop each)\n"
     ]
    }
   ],
   "source": [
    "%%timeit\n",
    "[x ** 2 for x in nums]"
   ]
  },
  {
   "cell_type": "markdown",
   "metadata": {},
   "source": [
    "Very similar times as expected"
   ]
  }
 ],
 "metadata": {
  "kernelspec": {
   "display_name": "Python 3",
   "language": "python",
   "name": "python3"
  },
  "language_info": {
   "codemirror_mode": {
    "name": "ipython",
    "version": 3
   },
   "file_extension": ".py",
   "mimetype": "text/x-python",
   "name": "python",
   "nbconvert_exporter": "python",
   "pygments_lexer": "ipython3",
   "version": "3.8.5"
  },
  "toc": {
   "base_numbering": 1,
   "nav_menu": {},
   "number_sections": true,
   "sideBar": true,
   "skip_h1_title": true,
   "title_cell": "Table of Contents",
   "title_sidebar": "Contents",
   "toc_cell": true,
   "toc_position": {},
   "toc_section_display": true,
   "toc_window_display": true
  },
  "varInspector": {
   "cols": {
    "lenName": 16,
    "lenType": 16,
    "lenVar": 40
   },
   "kernels_config": {
    "python": {
     "delete_cmd_postfix": "",
     "delete_cmd_prefix": "del ",
     "library": "var_list.py",
     "varRefreshCmd": "print(var_dic_list())"
    },
    "r": {
     "delete_cmd_postfix": ") ",
     "delete_cmd_prefix": "rm(",
     "library": "var_list.r",
     "varRefreshCmd": "cat(var_dic_list()) "
    }
   },
   "types_to_exclude": [
    "module",
    "function",
    "builtin_function_or_method",
    "instance",
    "_Feature"
   ],
   "window_display": false
  }
 },
 "nbformat": 4,
 "nbformat_minor": 4
}
