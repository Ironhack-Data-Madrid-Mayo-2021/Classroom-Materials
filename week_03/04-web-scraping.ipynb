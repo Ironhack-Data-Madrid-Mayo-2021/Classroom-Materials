{
 "cells": [
  {
   "cell_type": "markdown",
   "metadata": {},
   "source": [
    "# Web scraping"
   ]
  },
  {
   "cell_type": "markdown",
   "metadata": {
    "toc": true
   },
   "source": [
    "<h1>Table of Contents<span class=\"tocSkip\"></span></h1>\n",
    "<div class=\"toc\"><ul class=\"toc-item\"><li><span><a href=\"#Webpages\" data-toc-modified-id=\"Webpages-1\"><span class=\"toc-item-num\">1&nbsp;&nbsp;</span>Webpages</a></span></li><li><span><a href=\"#HTML\" data-toc-modified-id=\"HTML-2\"><span class=\"toc-item-num\">2&nbsp;&nbsp;</span>HTML</a></span><ul class=\"toc-item\"><li><span><a href=\"#Basics\" data-toc-modified-id=\"Basics-2.1\"><span class=\"toc-item-num\">2.1&nbsp;&nbsp;</span>Basics</a></span></li><li><span><a href=\"#Tags\" data-toc-modified-id=\"Tags-2.2\"><span class=\"toc-item-num\">2.2&nbsp;&nbsp;</span>Tags</a></span></li><li><span><a href=\"#Attributes\" data-toc-modified-id=\"Attributes-2.3\"><span class=\"toc-item-num\">2.3&nbsp;&nbsp;</span>Attributes</a></span></li></ul></li><li><span><a href=\"#Web-scraping\" data-toc-modified-id=\"Web-scraping-3\"><span class=\"toc-item-num\">3&nbsp;&nbsp;</span>Web scraping</a></span><ul class=\"toc-item\"><li><span><a href=\"#Intro\" data-toc-modified-id=\"Intro-3.1\"><span class=\"toc-item-num\">3.1&nbsp;&nbsp;</span>Intro</a></span></li><li><span><a href=\"#Example:-Bycicles-webpage\" data-toc-modified-id=\"Example:-Bycicles-webpage-3.2\"><span class=\"toc-item-num\">3.2&nbsp;&nbsp;</span>Example: Bycicles webpage</a></span><ul class=\"toc-item\"><li><span><a href=\"#Research\" data-toc-modified-id=\"Research-3.2.1\"><span class=\"toc-item-num\">3.2.1&nbsp;&nbsp;</span>Research</a></span></li><li><span><a href=\"#Getting-the-title-tag\" data-toc-modified-id=\"Getting-the-title-tag-3.2.2\"><span class=\"toc-item-num\">3.2.2&nbsp;&nbsp;</span>Getting the title tag</a></span></li><li><span><a href=\"#Get-shoes-names\" data-toc-modified-id=\"Get-shoes-names-3.2.3\"><span class=\"toc-item-num\">3.2.3&nbsp;&nbsp;</span>Get shoes names</a></span></li><li><span><a href=\"#Shoes-prices\" data-toc-modified-id=\"Shoes-prices-3.2.4\"><span class=\"toc-item-num\">3.2.4&nbsp;&nbsp;</span>Shoes prices</a></span></li><li><span><a href=\"#Finding-alltoguether,-price-and-name\" data-toc-modified-id=\"Finding-alltoguether,-price-and-name-3.2.5\"><span class=\"toc-item-num\">3.2.5&nbsp;&nbsp;</span>Finding alltoguether, price and name</a></span></li></ul></li></ul></li><li><span><a href=\"#Advanced\" data-toc-modified-id=\"Advanced-4\"><span class=\"toc-item-num\">4&nbsp;&nbsp;</span>Advanced</a></span><ul class=\"toc-item\"><li><span><a href=\"#CSS-selectors\" data-toc-modified-id=\"CSS-selectors-4.1\"><span class=\"toc-item-num\">4.1&nbsp;&nbsp;</span>CSS selectors</a></span></li><li><span><a href=\"#Getting-attribute-values\" data-toc-modified-id=\"Getting-attribute-values-4.2\"><span class=\"toc-item-num\">4.2&nbsp;&nbsp;</span>Getting attribute values</a></span></li><li><span><a href=\"#Querying-by-other-attributes\" data-toc-modified-id=\"Querying-by-other-attributes-4.3\"><span class=\"toc-item-num\">4.3&nbsp;&nbsp;</span>Querying by other attributes</a></span></li></ul></li><li><span><a href=\"#Example:-Wiki-medallero\" data-toc-modified-id=\"Example:-Wiki-medallero-5\"><span class=\"toc-item-num\">5&nbsp;&nbsp;</span>Example: Wiki medallero</a></span></li><li><span><a href=\"#Comments\" data-toc-modified-id=\"Comments-6\"><span class=\"toc-item-num\">6&nbsp;&nbsp;</span>Comments</a></span></li><li><span><a href=\"#Summary\" data-toc-modified-id=\"Summary-7\"><span class=\"toc-item-num\">7&nbsp;&nbsp;</span>Summary</a></span></li><li><span><a href=\"#Further-materials\" data-toc-modified-id=\"Further-materials-8\"><span class=\"toc-item-num\">8&nbsp;&nbsp;</span>Further materials</a></span></li></ul></div>"
   ]
  },
  {
   "cell_type": "markdown",
   "metadata": {},
   "source": [
    "## Webpages"
   ]
  },
  {
   "cell_type": "markdown",
   "metadata": {},
   "source": [
    "Webpages are built mainly with 3 tools:\n",
    " * HTML: content (structure, headings, paragraphs, tables...)\n",
    " * CSS: style (color, shape, size...)\n",
    " * JavaScript: logic (clicks, popups, dynamic banners...)"
   ]
  },
  {
   "cell_type": "markdown",
   "metadata": {},
   "source": [
    "## HTML"
   ]
  },
  {
   "cell_type": "markdown",
   "metadata": {},
   "source": [
    "### Basics"
   ]
  },
  {
   "cell_type": "markdown",
   "metadata": {},
   "source": [
    "HTML code consists of `<tagged>` content."
   ]
  },
  {
   "cell_type": "markdown",
   "metadata": {},
   "source": [
    "HTML has a hierarchichal structure: parent tags, children tags, sibling tags:  \n",
    "```\n",
    "<html>\n",
    "    <head>\n",
    "        <title>Page Title</title>\n",
    "    </head>\n",
    "    <body>\n",
    "        <h1>My First Heading</h1>\n",
    "        <p>My first paragraph.</p>\n",
    "    </body>\n",
    "</html>\n",
    "```"
   ]
  },
  {
   "cell_type": "markdown",
   "metadata": {},
   "source": [
    "### Tags"
   ]
  },
  {
   "cell_type": "markdown",
   "metadata": {},
   "source": [
    "Tags may be classified in different groups, depending on the type of content they are expected to posess\n",
    " * heading: `<h1>`, `<h2>`, `<h3>`, `<hgroup>`...\n",
    " * phrasing: `<b>`, `<img>`, `<sub>`...\n",
    " * embedded: `<audio>`, `<img>`, `<video>`...\n",
    " * tabulated: `<table>`, `<tr>`, `<tbody>`...\n",
    " * sections: `<header>`, `<section>`, `<article>`...\n",
    " * metadata: `<meta>`, `<title>`, `<script>`..."
   ]
  },
  {
   "cell_type": "markdown",
   "metadata": {},
   "source": [
    "### Attributes"
   ]
  },
  {
   "cell_type": "markdown",
   "metadata": {},
   "source": [
    "This tag has no attributes\n",
    "`<div> Zapas Marca Joma X54 </div>`"
   ]
  },
  {
   "cell_type": "markdown",
   "metadata": {},
   "source": [
    "Tags may have attributes. Here,  \n",
    "`<div class=\"price-item\" id=\"offer\"> Zapas Marca Joma X54 </div>`,  the `div` tag has:\n",
    " * a `class` attribute with value `price-item`\n",
    " * an `id` attribute with value `offer`  "
   ]
  },
  {
   "cell_type": "markdown",
   "metadata": {},
   "source": [
    "`id` attribute should be unique for a tag (no two tags should have same `id`)"
   ]
  },
  {
   "cell_type": "markdown",
   "metadata": {},
   "source": [
    "`class` is not intended to be unique, it usually groups tags with similar behavior"
   ]
  },
  {
   "cell_type": "markdown",
   "metadata": {},
   "source": [
    "Other frequently used attributes are:\n",
    " * `dir`\n",
    " * `lang`\n",
    " * `style` (not to be confused with `<style>` tag)\n",
    " * `title` (not to be confused with `<title>` tag)"
   ]
  },
  {
   "cell_type": "markdown",
   "metadata": {},
   "source": [
    "## Web scraping"
   ]
  },
  {
   "cell_type": "markdown",
   "metadata": {},
   "source": [
    "### Intro"
   ]
  },
  {
   "cell_type": "markdown",
   "metadata": {},
   "source": [
    "When scraping, we want to filter tags by:\n",
    " * tag name\n",
    " * class\n",
    " * id\n",
    " * other attribute"
   ]
  },
  {
   "cell_type": "markdown",
   "metadata": {},
   "source": [
    "Our browser Console is very useful for this:  we can **Inspect** content in the web and find the corresponding piece of HTML code"
   ]
  },
  {
   "cell_type": "markdown",
   "metadata": {},
   "source": [
    "We use `requests` library to bring the HTML content to our Python script"
   ]
  },
  {
   "cell_type": "markdown",
   "metadata": {},
   "source": [
    "We use `Beautiful Soup` library to easily navigate through the HTML in Python"
   ]
  },
  {
   "cell_type": "markdown",
   "metadata": {},
   "source": [
    "[BeautifulSoup Documentation](https://www.crummy.com/software/BeautifulSoup/bs4/doc/) 🤭"
   ]
  },
  {
   "cell_type": "code",
   "execution_count": null,
   "metadata": {},
   "outputs": [],
   "source": [
    "!pip install beautifulsoup4"
   ]
  },
  {
   "cell_type": "code",
   "execution_count": 1,
   "metadata": {},
   "outputs": [],
   "source": [
    "import requests"
   ]
  },
  {
   "cell_type": "code",
   "execution_count": 2,
   "metadata": {},
   "outputs": [],
   "source": [
    "from bs4 import BeautifulSoup"
   ]
  },
  {
   "cell_type": "markdown",
   "metadata": {},
   "source": [
    "### Example: Bycicles webpage"
   ]
  },
  {
   "cell_type": "markdown",
   "metadata": {},
   "source": [
    "Lets scrape Bycicle Store!"
   ]
  },
  {
   "cell_type": "code",
   "execution_count": 55,
   "metadata": {},
   "outputs": [],
   "source": [
    "url_depor = \"https://www.nike.com/es/w/hombre-lifestyle-zapatillas-13jrmznik1zy7ok\""
   ]
  },
  {
   "cell_type": "markdown",
   "metadata": {},
   "source": [
    "#### Research"
   ]
  },
  {
   "cell_type": "code",
   "execution_count": 56,
   "metadata": {},
   "outputs": [],
   "source": [
    "response = requests.get(url_depor)"
   ]
  },
  {
   "cell_type": "code",
   "execution_count": 57,
   "metadata": {},
   "outputs": [
    {
     "data": {
      "text/plain": [
       "<Response [200]>"
      ]
     },
     "execution_count": 57,
     "metadata": {},
     "output_type": "execute_result"
    }
   ],
   "source": [
    "response"
   ]
  },
  {
   "cell_type": "code",
   "execution_count": 58,
   "metadata": {},
   "outputs": [
    {
     "data": {
      "text/plain": [
       "200"
      ]
     },
     "execution_count": 58,
     "metadata": {},
     "output_type": "execute_result"
    }
   ],
   "source": [
    "response.status_code"
   ]
  },
  {
   "cell_type": "markdown",
   "metadata": {},
   "source": [
    "When we requested API endpoints, generally response content was a JSON."
   ]
  },
  {
   "cell_type": "markdown",
   "metadata": {},
   "source": [
    "Lets see what happens in this case"
   ]
  },
  {
   "cell_type": "code",
   "execution_count": 62,
   "metadata": {},
   "outputs": [
    {
     "name": "stdout",
     "output_type": "stream",
     "text": [
      "Response is not JSON\n"
     ]
    }
   ],
   "source": [
    "try:\n",
    "    response.json()\n",
    "except:\n",
    "    print(\"Response is not JSON\")"
   ]
  },
  {
   "cell_type": "markdown",
   "metadata": {},
   "source": [
    "But we just requested a non-API URL, so we receive raw HTML content!"
   ]
  },
  {
   "cell_type": "code",
   "execution_count": 65,
   "metadata": {},
   "outputs": [
    {
     "data": {
      "text/plain": [
       "b\"\\n    <!doctype html>\\n    \\n    \\n          \\n      <!-- segmenter ran at 2021-06-18T08:46:27.011Z -->\\n      \\n      \\n\\n      \\n        \\n      \\n    \\n          \\n\\n<script>\\nif (!(() =>\\n            document.cookie.includes('audience_segmentation_performed'))([])) {\\n  (fragmentPath => {\\n  const error = new Error(\\n    // eslint-disable-next-line prefer-template\\n    'ESI fragment ' + fragmentPath + ' requested, but not found in client',\\n  );\\n  // eslint-disable-next-line no-undef\\n  if (window.newrelic) {\\n    console.warn(error);\\n    // eslint-disable-next-line no-undef\\n    newrelic.noticeError(error, {\\n      type: 'ESI_LOAD_ERROR',\\n      fragment: fragmentPath,\\n    });\\n  } else {\\n    throw error; // let another monitoring system catch the error.\\n  }\\n})('https://www.nike.com/fragments/audience')\\n} else {\\n  (fragmentPath => {\\n  // eslint-disable-next-line no-undef\\n  if (window.newrelic) {\\n    // eslint-disable-next-line no-undef\\n    newrelic.addPageAction('ESI_LOAD', { fragment: fragmentPath });\\n  }\\n}\""
      ]
     },
     "execution_count": 65,
     "metadata": {},
     "output_type": "execute_result"
    }
   ],
   "source": [
    "# just show some substring\n",
    "response.content[:1000]"
   ]
  },
  {
   "cell_type": "code",
   "execution_count": 66,
   "metadata": {},
   "outputs": [
    {
     "data": {
      "text/plain": [
       "True"
      ]
     },
     "execution_count": 66,
     "metadata": {},
     "output_type": "execute_result"
    }
   ],
   "source": [
    "\"<span>\" in str(response.content)"
   ]
  },
  {
   "cell_type": "code",
   "execution_count": 67,
   "metadata": {},
   "outputs": [
    {
     "data": {
      "text/plain": [
       "bytes"
      ]
     },
     "execution_count": 67,
     "metadata": {},
     "output_type": "execute_result"
    }
   ],
   "source": [
    "type(response.content)"
   ]
  },
  {
   "cell_type": "markdown",
   "metadata": {},
   "source": [
    "`Beautiful Soup` helps us with the task of accessing this info"
   ]
  },
  {
   "cell_type": "code",
   "execution_count": 68,
   "metadata": {},
   "outputs": [],
   "source": [
    "soup = BeautifulSoup(response.content)"
   ]
  },
  {
   "cell_type": "code",
   "execution_count": 69,
   "metadata": {},
   "outputs": [
    {
     "data": {
      "text/plain": [
       "bs4.BeautifulSoup"
      ]
     },
     "execution_count": 69,
     "metadata": {},
     "output_type": "execute_result"
    }
   ],
   "source": [
    "type(soup)"
   ]
  },
  {
   "cell_type": "markdown",
   "metadata": {},
   "source": [
    "#### Getting the title tag"
   ]
  },
  {
   "cell_type": "markdown",
   "metadata": {},
   "source": [
    "When using `find` or `find_all`, we search by tag"
   ]
  },
  {
   "cell_type": "code",
   "execution_count": 72,
   "metadata": {},
   "outputs": [
    {
     "data": {
      "text/plain": [
       "<title data-react-helmet=\"true\">Men's Lifestyle Shoes. Nike ES</title>"
      ]
     },
     "execution_count": 72,
     "metadata": {},
     "output_type": "execute_result"
    }
   ],
   "source": [
    "soup.find(\"title\")"
   ]
  },
  {
   "cell_type": "markdown",
   "metadata": {},
   "source": [
    "[Documentation .find_all](https://www.crummy.com/software/BeautifulSoup/bs4/doc/#calling-a-tag-is-like-calling-find-all)    "
   ]
  },
  {
   "cell_type": "code",
   "execution_count": 77,
   "metadata": {},
   "outputs": [
    {
     "data": {
      "text/plain": [
       "192"
      ]
     },
     "execution_count": 77,
     "metadata": {},
     "output_type": "execute_result"
    }
   ],
   "source": [
    "len(soup.find_all(\"span\"))"
   ]
  },
  {
   "cell_type": "code",
   "execution_count": 78,
   "metadata": {},
   "outputs": [
    {
     "data": {
      "text/plain": [
       "1148"
      ]
     },
     "execution_count": 78,
     "metadata": {},
     "output_type": "execute_result"
    }
   ],
   "source": [
    "len(soup.find_all(\"div\"))"
   ]
  },
  {
   "cell_type": "markdown",
   "metadata": {},
   "source": [
    "#### Get shoes names"
   ]
  },
  {
   "cell_type": "markdown",
   "metadata": {},
   "source": [
    "Going to Chrome console and inspecting..."
   ]
  },
  {
   "cell_type": "markdown",
   "metadata": {},
   "source": [
    "You can find html tags by running `soup.find_all(name=tag_name, class_=class_name)`"
   ]
  },
  {
   "cell_type": "code",
   "execution_count": 79,
   "metadata": {},
   "outputs": [],
   "source": [
    "shoes_names_tags = soup.find_all(\n",
    "    name=\"div\", \n",
    "    class_=\"product-card__title\"\n",
    ")"
   ]
  },
  {
   "cell_type": "code",
   "execution_count": 81,
   "metadata": {},
   "outputs": [
    {
     "data": {
      "text/plain": [
       "bs4.element.ResultSet"
      ]
     },
     "execution_count": 81,
     "metadata": {},
     "output_type": "execute_result"
    }
   ],
   "source": [
    "type(shoes_names_tags)"
   ]
  },
  {
   "cell_type": "code",
   "execution_count": 82,
   "metadata": {},
   "outputs": [
    {
     "data": {
      "text/plain": [
       "24"
      ]
     },
     "execution_count": 82,
     "metadata": {},
     "output_type": "execute_result"
    }
   ],
   "source": [
    "len(shoes_names_tags)"
   ]
  },
  {
   "cell_type": "markdown",
   "metadata": {},
   "source": [
    "**HINT**: execute in the console `document.querySelectorAll('a').forEach(elm => elm.style.background = 'red')` to check how your guesses are working.  \n",
    "\n",
    "You shall change `a` by your used tag or by `.class_name` for a class name"
   ]
  },
  {
   "cell_type": "code",
   "execution_count": 85,
   "metadata": {},
   "outputs": [
    {
     "data": {
      "text/plain": [
       "<div class=\"product-card__title\" id=\"Nike Blazer Low X\">Nike Blazer Low X</div>"
      ]
     },
     "execution_count": 85,
     "metadata": {},
     "output_type": "execute_result"
    }
   ],
   "source": [
    "shoes_names_tags[0]"
   ]
  },
  {
   "cell_type": "code",
   "execution_count": 86,
   "metadata": {},
   "outputs": [
    {
     "data": {
      "text/plain": [
       "'Nike Blazer Low X'"
      ]
     },
     "execution_count": 86,
     "metadata": {},
     "output_type": "execute_result"
    }
   ],
   "source": [
    "shoes_names_tags[0].text"
   ]
  },
  {
   "cell_type": "code",
   "execution_count": 87,
   "metadata": {},
   "outputs": [],
   "source": [
    "names = [shoe.text for shoe in shoes_names_tags]"
   ]
  },
  {
   "cell_type": "code",
   "execution_count": 88,
   "metadata": {},
   "outputs": [
    {
     "data": {
      "text/plain": [
       "['Nike Blazer Low X',\n",
       " \"Nike Blazer Low '77\",\n",
       " 'Nike Air Max Plus',\n",
       " 'Nike Air Max Plus 3',\n",
       " \"Nike Blazer Low '77\",\n",
       " \"Nike Blazer Mid '77\",\n",
       " 'Nike Air Max Genome',\n",
       " 'Nike Crater Impact',\n",
       " 'Nike Air Max 95 Essential',\n",
       " 'Nike Air Max 95 OG']"
      ]
     },
     "execution_count": 88,
     "metadata": {},
     "output_type": "execute_result"
    }
   ],
   "source": [
    "names[:10]"
   ]
  },
  {
   "cell_type": "markdown",
   "metadata": {},
   "source": [
    "#### Shoes prices"
   ]
  },
  {
   "cell_type": "markdown",
   "metadata": {},
   "source": [
    "Inspect, guess the tag you must look for, paint green all item prices"
   ]
  },
  {
   "cell_type": "code",
   "execution_count": 95,
   "metadata": {},
   "outputs": [],
   "source": [
    "price_div_tags = soup.find_all(\"div\", class_=\"product-card__price-wrapper\")"
   ]
  },
  {
   "cell_type": "code",
   "execution_count": 96,
   "metadata": {},
   "outputs": [
    {
     "data": {
      "text/plain": [
       "24"
      ]
     },
     "execution_count": 96,
     "metadata": {},
     "output_type": "execute_result"
    }
   ],
   "source": [
    "len(price_div_tags)"
   ]
  },
  {
   "cell_type": "code",
   "execution_count": 108,
   "metadata": {},
   "outputs": [],
   "source": [
    "def precio_str_to_float(texto_precio):\n",
    "    return float(texto_precio.split()[0].replace(\",\", \".\"))"
   ]
  },
  {
   "cell_type": "code",
   "execution_count": 116,
   "metadata": {},
   "outputs": [],
   "source": [
    "precios = [precio_str_to_float(p.text) for p in price_div_tags]"
   ]
  },
  {
   "cell_type": "code",
   "execution_count": 117,
   "metadata": {},
   "outputs": [
    {
     "data": {
      "text/plain": [
       "[94.99,\n",
       " 89.99,\n",
       " 169.99,\n",
       " 179.99,\n",
       " 89.99,\n",
       " 99.99,\n",
       " 169.99,\n",
       " 109.99,\n",
       " 169.99,\n",
       " 169.99,\n",
       " 109.99,\n",
       " 169.99,\n",
       " 169.99,\n",
       " 179.99,\n",
       " 109.99,\n",
       " 149.99,\n",
       " 119.99,\n",
       " 109.99,\n",
       " 84.99,\n",
       " 74.99,\n",
       " 180.0,\n",
       " 179.99,\n",
       " 129.99,\n",
       " 129.99]"
      ]
     },
     "execution_count": 117,
     "metadata": {},
     "output_type": "execute_result"
    }
   ],
   "source": [
    "precios"
   ]
  },
  {
   "cell_type": "markdown",
   "metadata": {},
   "source": [
    "#### Finding alltoguether, price and name"
   ]
  },
  {
   "cell_type": "code",
   "execution_count": 168,
   "metadata": {},
   "outputs": [],
   "source": [
    "cuadros = soup.find_all(\"div\", class_=\"product-card__body\")"
   ]
  },
  {
   "cell_type": "code",
   "execution_count": 169,
   "metadata": {},
   "outputs": [
    {
     "data": {
      "text/plain": [
       "24"
      ]
     },
     "execution_count": 169,
     "metadata": {},
     "output_type": "execute_result"
    }
   ],
   "source": [
    "len(cuadros)"
   ]
  },
  {
   "cell_type": "markdown",
   "metadata": {},
   "source": [
    "`find_all` can also be applied to a \"cuadros\" object"
   ]
  },
  {
   "cell_type": "code",
   "execution_count": 125,
   "metadata": {},
   "outputs": [],
   "source": [
    "c = cuadros[0]"
   ]
  },
  {
   "cell_type": "code",
   "execution_count": 126,
   "metadata": {},
   "outputs": [
    {
     "data": {
      "text/plain": [
       "<div class=\"product-card__body\" data-el-type=\"Card\"><figure><a class=\"product-card__link-overlay\" href=\"https://www.nike.com/es/t/blazer-low-zapatillas-xBBTB0/DA2045-100\">Nike Blazer Low X</a><a aria-label=\"Nike Blazer Low X\" class=\"product-card__img-link-overlay\" data-el-type=\"Hero\" href=\"https://www.nike.com/es/t/blazer-low-zapatillas-xBBTB0/DA2045-100\"><div class=\"wall-image-loader css-1la3v4n\"><div><img alt=\"Nike Blazer Low X Zapatillas - Hombre\" class=\"css-1fxh5tw product-card__hero-image\" loading=\"lazy\" sizes=\"\" src=\"data:image/gif;base64,R0lGODlhAQABAIAAAAAAAP///yH5BAEAAAAALAAAAAABAAEAAAIBRAA7\" srcset=\"\"/><noscript><img alt=\"Nike Blazer Low X Zapatillas - Hombre\" class=\"css-1fxh5tw product-card__hero-image\" height=\"400\" loading=\"lazy\" src=\"https://static.nike.com/a/images/c_limit,w_318,f_auto/t_product_v1/82aee44a-6880-47b7-90df-c5174965732f/blazer-low-zapatillas-xBBTB0.png\" width=\"400\"/></noscript></div></div></a><div class=\"product-card__info disable-animations\"><div class=\"\"><div class=\"product-card__titles\"><div class=\"product-card__title\" id=\"Nike Blazer Low X\">Nike Blazer Low X</div><div class=\"product-card__subtitle\">Zapatillas - Hombre</div></div></div><div class=\"product-card__count-wrapper false undefined\"><div class=\"product-card__count-item\"><button class=\"product-card__colorway-btn\" type=\"button\"><div aria-label=\"Producto disponible en 1 color\" class=\"product-card__product-count\">1 color</div></button></div></div><div class=\"product-card__animation_wrapper\"><div class=\"product-card__price-wrapper\"><div class=\"product-card__price\"><div class=\"product-price__wrapper css-cl9118\"><div class=\"product-price css-11s12ax is--current-price\" data-test=\"product-price\">94,99 €</div></div></div></div></div></div></figure></div>"
      ]
     },
     "execution_count": 126,
     "metadata": {},
     "output_type": "execute_result"
    }
   ],
   "source": [
    "c"
   ]
  },
  {
   "cell_type": "code",
   "execution_count": 133,
   "metadata": {},
   "outputs": [
    {
     "data": {
      "text/plain": [
       "<div class=\"product-card__title\" id=\"Nike Blazer Low X\">Nike Blazer Low X</div>"
      ]
     },
     "execution_count": 133,
     "metadata": {},
     "output_type": "execute_result"
    }
   ],
   "source": [
    "c.find(\"div\", class_=\"product-card__title\")"
   ]
  },
  {
   "cell_type": "code",
   "execution_count": 131,
   "metadata": {},
   "outputs": [
    {
     "data": {
      "text/plain": [
       "<div class=\"product-card__price\"><div class=\"product-price__wrapper css-cl9118\"><div class=\"product-price css-11s12ax is--current-price\" data-test=\"product-price\">94,99 €</div></div></div>"
      ]
     },
     "execution_count": 131,
     "metadata": {},
     "output_type": "execute_result"
    }
   ],
   "source": [
    "c.find(\"div\", class_=\"product-card__price\")"
   ]
  },
  {
   "cell_type": "code",
   "execution_count": 157,
   "metadata": {},
   "outputs": [],
   "source": [
    "def get_properties(cuadro):\n",
    "    name = cuadro.find(\"div\", class_=\"product-card__title\").text\n",
    "    sub = cuadro.find(\"div\", class_=\"product-card__subtitle\").text    \n",
    "    price = precio_str_to_float(cuadro.find(\"div\", class_=\"product-card__price\").text)\n",
    "    \n",
    "    return {\n",
    "        \"name\": name,\n",
    "        \"sub\": sub,\n",
    "        \"price\": price\n",
    "    }"
   ]
  },
  {
   "cell_type": "code",
   "execution_count": 158,
   "metadata": {},
   "outputs": [
    {
     "data": {
      "text/plain": [
       "{'name': 'Nike Air Max Plus', 'sub': 'Zapatillas - Hombre', 'price': 169.99}"
      ]
     },
     "execution_count": 158,
     "metadata": {},
     "output_type": "execute_result"
    }
   ],
   "source": [
    "get_properties(cuadros[11])"
   ]
  },
  {
   "cell_type": "code",
   "execution_count": 159,
   "metadata": {},
   "outputs": [],
   "source": [
    "import pandas as pd"
   ]
  },
  {
   "cell_type": "code",
   "execution_count": 160,
   "metadata": {},
   "outputs": [],
   "source": [
    "df = pd.DataFrame([get_properties(cuadrito) for cuadrito in cuadros])"
   ]
  },
  {
   "cell_type": "code",
   "execution_count": 161,
   "metadata": {},
   "outputs": [
    {
     "data": {
      "text/html": [
       "<div>\n",
       "<style scoped>\n",
       "    .dataframe tbody tr th:only-of-type {\n",
       "        vertical-align: middle;\n",
       "    }\n",
       "\n",
       "    .dataframe tbody tr th {\n",
       "        vertical-align: top;\n",
       "    }\n",
       "\n",
       "    .dataframe thead th {\n",
       "        text-align: right;\n",
       "    }\n",
       "</style>\n",
       "<table border=\"1\" class=\"dataframe\">\n",
       "  <thead>\n",
       "    <tr style=\"text-align: right;\">\n",
       "      <th></th>\n",
       "      <th>name</th>\n",
       "      <th>sub</th>\n",
       "      <th>price</th>\n",
       "    </tr>\n",
       "  </thead>\n",
       "  <tbody>\n",
       "    <tr>\n",
       "      <th>11</th>\n",
       "      <td>Nike Air Max Plus</td>\n",
       "      <td>Zapatillas - Hombre</td>\n",
       "      <td>169.99</td>\n",
       "    </tr>\n",
       "    <tr>\n",
       "      <th>13</th>\n",
       "      <td>Nike Air Max Plus 3</td>\n",
       "      <td>Zapatillas - Hombre</td>\n",
       "      <td>179.99</td>\n",
       "    </tr>\n",
       "    <tr>\n",
       "      <th>3</th>\n",
       "      <td>Nike Air Max Plus 3</td>\n",
       "      <td>Zapatillas - Hombre</td>\n",
       "      <td>179.99</td>\n",
       "    </tr>\n",
       "    <tr>\n",
       "      <th>21</th>\n",
       "      <td>Nike Air Max Plus 3</td>\n",
       "      <td>Zapatillas - Hombre</td>\n",
       "      <td>179.99</td>\n",
       "    </tr>\n",
       "    <tr>\n",
       "      <th>20</th>\n",
       "      <td>Nike Air Max 97</td>\n",
       "      <td>Zapatillas - Hombre</td>\n",
       "      <td>180.00</td>\n",
       "    </tr>\n",
       "  </tbody>\n",
       "</table>\n",
       "</div>"
      ],
      "text/plain": [
       "                   name                  sub   price\n",
       "11    Nike Air Max Plus  Zapatillas - Hombre  169.99\n",
       "13  Nike Air Max Plus 3  Zapatillas - Hombre  179.99\n",
       "3   Nike Air Max Plus 3  Zapatillas - Hombre  179.99\n",
       "21  Nike Air Max Plus 3  Zapatillas - Hombre  179.99\n",
       "20      Nike Air Max 97  Zapatillas - Hombre  180.00"
      ]
     },
     "execution_count": 161,
     "metadata": {},
     "output_type": "execute_result"
    }
   ],
   "source": [
    "df.sort_values(\"price\").tail()"
   ]
  },
  {
   "cell_type": "code",
   "execution_count": 165,
   "metadata": {},
   "outputs": [
    {
     "data": {
      "text/plain": [
       "Zapatillas - Hombre         18\n",
       "Zapatillas                   4\n",
       "Zapatillas de skateboard     2\n",
       "Name: sub, dtype: int64"
      ]
     },
     "execution_count": 165,
     "metadata": {},
     "output_type": "execute_result"
    }
   ],
   "source": [
    "df[\"sub\"].value_counts()"
   ]
  },
  {
   "cell_type": "code",
   "execution_count": 163,
   "metadata": {},
   "outputs": [
    {
     "data": {
      "text/html": [
       "<div>\n",
       "<style scoped>\n",
       "    .dataframe tbody tr th:only-of-type {\n",
       "        vertical-align: middle;\n",
       "    }\n",
       "\n",
       "    .dataframe tbody tr th {\n",
       "        vertical-align: top;\n",
       "    }\n",
       "\n",
       "    .dataframe thead th {\n",
       "        text-align: right;\n",
       "    }\n",
       "</style>\n",
       "<table border=\"1\" class=\"dataframe\">\n",
       "  <thead>\n",
       "    <tr style=\"text-align: right;\">\n",
       "      <th></th>\n",
       "      <th>name</th>\n",
       "      <th>sub</th>\n",
       "      <th>price</th>\n",
       "    </tr>\n",
       "  </thead>\n",
       "  <tbody>\n",
       "    <tr>\n",
       "      <th>2</th>\n",
       "      <td>Nike Air Max Plus</td>\n",
       "      <td>Zapatillas - Hombre</td>\n",
       "      <td>169.99</td>\n",
       "    </tr>\n",
       "    <tr>\n",
       "      <th>3</th>\n",
       "      <td>Nike Air Max Plus 3</td>\n",
       "      <td>Zapatillas - Hombre</td>\n",
       "      <td>179.99</td>\n",
       "    </tr>\n",
       "    <tr>\n",
       "      <th>11</th>\n",
       "      <td>Nike Air Max Plus</td>\n",
       "      <td>Zapatillas - Hombre</td>\n",
       "      <td>169.99</td>\n",
       "    </tr>\n",
       "    <tr>\n",
       "      <th>12</th>\n",
       "      <td>Nike Air Max Plus</td>\n",
       "      <td>Zapatillas - Hombre</td>\n",
       "      <td>169.99</td>\n",
       "    </tr>\n",
       "    <tr>\n",
       "      <th>13</th>\n",
       "      <td>Nike Air Max Plus 3</td>\n",
       "      <td>Zapatillas - Hombre</td>\n",
       "      <td>179.99</td>\n",
       "    </tr>\n",
       "    <tr>\n",
       "      <th>21</th>\n",
       "      <td>Nike Air Max Plus 3</td>\n",
       "      <td>Zapatillas - Hombre</td>\n",
       "      <td>179.99</td>\n",
       "    </tr>\n",
       "  </tbody>\n",
       "</table>\n",
       "</div>"
      ],
      "text/plain": [
       "                   name                  sub   price\n",
       "2     Nike Air Max Plus  Zapatillas - Hombre  169.99\n",
       "3   Nike Air Max Plus 3  Zapatillas - Hombre  179.99\n",
       "11    Nike Air Max Plus  Zapatillas - Hombre  169.99\n",
       "12    Nike Air Max Plus  Zapatillas - Hombre  169.99\n",
       "13  Nike Air Max Plus 3  Zapatillas - Hombre  179.99\n",
       "21  Nike Air Max Plus 3  Zapatillas - Hombre  179.99"
      ]
     },
     "execution_count": 163,
     "metadata": {},
     "output_type": "execute_result"
    }
   ],
   "source": [
    "df[df.name.str.contains(\"Plus\")]"
   ]
  },
  {
   "cell_type": "code",
   "execution_count": 162,
   "metadata": {},
   "outputs": [
    {
     "data": {
      "text/html": [
       "<div>\n",
       "<style scoped>\n",
       "    .dataframe tbody tr th:only-of-type {\n",
       "        vertical-align: middle;\n",
       "    }\n",
       "\n",
       "    .dataframe tbody tr th {\n",
       "        vertical-align: top;\n",
       "    }\n",
       "\n",
       "    .dataframe thead th {\n",
       "        text-align: right;\n",
       "    }\n",
       "</style>\n",
       "<table border=\"1\" class=\"dataframe\">\n",
       "  <thead>\n",
       "    <tr style=\"text-align: right;\">\n",
       "      <th></th>\n",
       "      <th>name</th>\n",
       "      <th>sub</th>\n",
       "      <th>price</th>\n",
       "    </tr>\n",
       "  </thead>\n",
       "  <tbody>\n",
       "    <tr>\n",
       "      <th>0</th>\n",
       "      <td>Nike Blazer Low X</td>\n",
       "      <td>Zapatillas - Hombre</td>\n",
       "      <td>94.99</td>\n",
       "    </tr>\n",
       "    <tr>\n",
       "      <th>1</th>\n",
       "      <td>Nike Blazer Low '77</td>\n",
       "      <td>Zapatillas</td>\n",
       "      <td>89.99</td>\n",
       "    </tr>\n",
       "    <tr>\n",
       "      <th>4</th>\n",
       "      <td>Nike Blazer Low '77</td>\n",
       "      <td>Zapatillas - Hombre</td>\n",
       "      <td>89.99</td>\n",
       "    </tr>\n",
       "    <tr>\n",
       "      <th>5</th>\n",
       "      <td>Nike Blazer Mid '77</td>\n",
       "      <td>Zapatillas - Hombre</td>\n",
       "      <td>99.99</td>\n",
       "    </tr>\n",
       "    <tr>\n",
       "      <th>18</th>\n",
       "      <td>Nike SB Zoom Stefan Janoski RM</td>\n",
       "      <td>Zapatillas de skateboard</td>\n",
       "      <td>84.99</td>\n",
       "    </tr>\n",
       "    <tr>\n",
       "      <th>19</th>\n",
       "      <td>Nike SB Shane</td>\n",
       "      <td>Zapatillas de skateboard</td>\n",
       "      <td>74.99</td>\n",
       "    </tr>\n",
       "  </tbody>\n",
       "</table>\n",
       "</div>"
      ],
      "text/plain": [
       "                              name                       sub  price\n",
       "0                Nike Blazer Low X       Zapatillas - Hombre  94.99\n",
       "1              Nike Blazer Low '77                Zapatillas  89.99\n",
       "4              Nike Blazer Low '77       Zapatillas - Hombre  89.99\n",
       "5              Nike Blazer Mid '77       Zapatillas - Hombre  99.99\n",
       "18  Nike SB Zoom Stefan Janoski RM  Zapatillas de skateboard  84.99\n",
       "19                   Nike SB Shane  Zapatillas de skateboard  74.99"
      ]
     },
     "execution_count": 162,
     "metadata": {},
     "output_type": "execute_result"
    }
   ],
   "source": [
    "df[df.price < 100]"
   ]
  },
  {
   "cell_type": "markdown",
   "metadata": {},
   "source": [
    "There are many pages, what if we want to scrape all of them?  \n",
    "1. Build a function `get_df_from_url` and insert all the previous logic  \n",
    "2. Build a list of urls"
   ]
  },
  {
   "cell_type": "markdown",
   "metadata": {},
   "source": [
    "## Advanced"
   ]
  },
  {
   "cell_type": "markdown",
   "metadata": {},
   "source": [
    "### CSS selectors"
   ]
  },
  {
   "cell_type": "markdown",
   "metadata": {},
   "source": [
    "We can use CSS selectors to find in a more specific way:\n",
    " * descendant selectors\n",
    " * combined selectors\n",
    " * siblings\n",
    " * has attribute\n",
    " * ..."
   ]
  },
  {
   "cell_type": "markdown",
   "metadata": {},
   "source": [
    "In what other ways can we use CSS selectors to find tags inside HTML content?"
   ]
  },
  {
   "cell_type": "markdown",
   "metadata": {},
   "source": [
    "[Documentation .select](https://www.crummy.com/software/BeautifulSoup/bs4/doc/#css-selectors) "
   ]
  },
  {
   "cell_type": "markdown",
   "metadata": {},
   "source": [
    "`soup.select(\"tagname1 tagname2\")` finds tag 2 inside tag 1"
   ]
  },
  {
   "cell_type": "code",
   "execution_count": 184,
   "metadata": {},
   "outputs": [
    {
     "data": {
      "text/plain": [
       "192"
      ]
     },
     "execution_count": 184,
     "metadata": {},
     "output_type": "execute_result"
    }
   ],
   "source": [
    "# how many spans?\n",
    "len(soup.select(\"span\"))"
   ]
  },
  {
   "cell_type": "code",
   "execution_count": 185,
   "metadata": {},
   "outputs": [
    {
     "data": {
      "text/plain": [
       "6"
      ]
     },
     "execution_count": 185,
     "metadata": {},
     "output_type": "execute_result"
    }
   ],
   "source": [
    "len(soup.select(\"span span\"))"
   ]
  },
  {
   "cell_type": "code",
   "execution_count": 186,
   "metadata": {},
   "outputs": [
    {
     "data": {
      "text/plain": [
       "0"
      ]
     },
     "execution_count": 186,
     "metadata": {},
     "output_type": "execute_result"
    }
   ],
   "source": [
    "# how many spans inside spans inside spans?\n",
    "len(soup.select(\"span span span\"))"
   ]
  },
  {
   "cell_type": "code",
   "execution_count": 191,
   "metadata": {},
   "outputs": [
    {
     "data": {
      "text/plain": [
       "177"
      ]
     },
     "execution_count": 191,
     "metadata": {},
     "output_type": "execute_result"
    }
   ],
   "source": [
    "# how many spans inside spans inside spans?\n",
    "len(soup.select(\"div div div div div div div div span\"))"
   ]
  },
  {
   "cell_type": "markdown",
   "metadata": {},
   "source": [
    "We use a `.` to find by class"
   ]
  },
  {
   "cell_type": "markdown",
   "metadata": {},
   "source": [
    "`soup.select(\".classname\")`"
   ]
  },
  {
   "cell_type": "markdown",
   "metadata": {},
   "source": [
    "If a classname has spaces, they must be replaced by `.`"
   ]
  },
  {
   "cell_type": "code",
   "execution_count": 193,
   "metadata": {},
   "outputs": [
    {
     "data": {
      "text/plain": [
       "24"
      ]
     },
     "execution_count": 193,
     "metadata": {},
     "output_type": "execute_result"
    }
   ],
   "source": [
    "len(soup.select(\".product-card__link-overlay\"))"
   ]
  },
  {
   "cell_type": "markdown",
   "metadata": {},
   "source": [
    "`soup.select(\"tagname.classname\")`"
   ]
  },
  {
   "cell_type": "code",
   "execution_count": 196,
   "metadata": {},
   "outputs": [],
   "source": [
    "response = requests.get(\"https://www.elpais.com\")"
   ]
  },
  {
   "cell_type": "code",
   "execution_count": 197,
   "metadata": {},
   "outputs": [],
   "source": [
    "soup_pais = BeautifulSoup(response.content)"
   ]
  },
  {
   "cell_type": "code",
   "execution_count": 200,
   "metadata": {},
   "outputs": [
    {
     "data": {
      "text/plain": [
       "[<div class=\"logo primary_claim\"></div>]"
      ]
     },
     "execution_count": 200,
     "metadata": {},
     "output_type": "execute_result"
    }
   ],
   "source": [
    "soup_pais.select(\"div.logo.primary_claim\")"
   ]
  },
  {
   "cell_type": "markdown",
   "metadata": {},
   "source": [
    "[Beautiful Soup selectors](https://www.crummy.com/software/BeautifulSoup/bs4/doc/)"
   ]
  },
  {
   "cell_type": "markdown",
   "metadata": {},
   "source": [
    "### Getting attribute values"
   ]
  },
  {
   "cell_type": "markdown",
   "metadata": {},
   "source": [
    "Do you want to get the description and hyperlinks to images in a webpage?  "
   ]
  },
  {
   "cell_type": "markdown",
   "metadata": {},
   "source": [
    "We use `tag.get(attr_name)` to get the attribute value"
   ]
  },
  {
   "cell_type": "code",
   "execution_count": 201,
   "metadata": {},
   "outputs": [],
   "source": [
    "img_tags = soup_pais.select(\"img\")"
   ]
  },
  {
   "cell_type": "code",
   "execution_count": 202,
   "metadata": {},
   "outputs": [
    {
     "data": {
      "text/plain": [
       "4"
      ]
     },
     "execution_count": 202,
     "metadata": {},
     "output_type": "execute_result"
    }
   ],
   "source": [
    "len(img_tags)"
   ]
  },
  {
   "cell_type": "code",
   "execution_count": 206,
   "metadata": {},
   "outputs": [
    {
     "data": {
      "text/plain": [
       "<img alt=\"SEVILLA, 12/06/2021,- Aficionados se fotografían junto a una réplica del balón del torneo en el estadio de La Cartuja de Sevilla. El España-Suecia, con el que la selección que entrena Luis Enrique inicia la Eurocopa el próximo lunes, será el tercero con aficionados en el estadio sevillano desde que en marzo del pasado año se dictaron normas sanitarias por la covid-19 y solo puntualmente se autorizó la presencia de espectadores en los recintos deportivos. EFE/Julio Muñoz\" class=\"block width_full breakout_mobile\" loading=\"eager\" src=\"https://imagenes.elpais.com/resizer/R-vHzyT-R8uqnVTA0x8IziAuG-M=/62x62/cloudfront-eu-central-1.images.arcpublishing.com/prisa/LLLOTEC42JGXPJBGXIA2BQUH5M.jpg\"/>"
      ]
     },
     "execution_count": 206,
     "metadata": {},
     "output_type": "execute_result"
    }
   ],
   "source": [
    "img_tags[0]"
   ]
  },
  {
   "cell_type": "code",
   "execution_count": 207,
   "metadata": {},
   "outputs": [
    {
     "data": {
      "text/plain": [
       "'SEVILLA, 12/06/2021,- Aficionados se fotografían junto a una réplica del balón del torneo en el estadio de La Cartuja de Sevilla. El España-Suecia, con el que la selección que entrena Luis Enrique inicia la Eurocopa el próximo lunes, será el tercero con aficionados en el estadio sevillano desde que en marzo del pasado año se dictaron normas sanitarias por la covid-19 y solo puntualmente se autorizó la presencia de espectadores en los recintos deportivos. EFE/Julio Muñoz'"
      ]
     },
     "execution_count": 207,
     "metadata": {},
     "output_type": "execute_result"
    }
   ],
   "source": [
    "img_tags[0].get(\"alt\")"
   ]
  },
  {
   "cell_type": "code",
   "execution_count": 205,
   "metadata": {},
   "outputs": [
    {
     "data": {
      "text/plain": [
       "'https://imagenes.elpais.com/resizer/R-vHzyT-R8uqnVTA0x8IziAuG-M=/62x62/cloudfront-eu-central-1.images.arcpublishing.com/prisa/LLLOTEC42JGXPJBGXIA2BQUH5M.jpg'"
      ]
     },
     "execution_count": 205,
     "metadata": {},
     "output_type": "execute_result"
    }
   ],
   "source": [
    "img_tags[0].get(\"src\")"
   ]
  },
  {
   "cell_type": "code",
   "execution_count": 208,
   "metadata": {},
   "outputs": [
    {
     "name": "stdout",
     "output_type": "stream",
     "text": [
      "SEVILLA, 12/06/2021,- Aficionados se fotografían junto a una réplica del balón del torneo en el estadio de La Cartuja de Sevilla. El España-Suecia, con el que la selección que entrena Luis Enrique inicia la Eurocopa el próximo lunes, será el tercero con aficionados en el estadio sevillano desde que en marzo del pasado año se dictaron normas sanitarias por la covid-19 y solo puntualmente se autorizó la presencia de espectadores en los recintos deportivos. EFE/Julio Muñoz https://imagenes.elpais.com/resizer/R-vHzyT-R8uqnVTA0x8IziAuG-M=/62x62/cloudfront-eu-central-1.images.arcpublishing.com/prisa/LLLOTEC42JGXPJBGXIA2BQUH5M.jpg\n",
      "¿Cómo de bueno es cada equipo? https://imagenes.elpais.com/resizer/0S0H_TRPIaopf1nWnbJn52__kF8=/62x62/cloudfront-eu-central-1.images.arcpublishing.com/prisa/JTUJ7NTDLZHHVCCDVHE6MYOCII.jpg\n",
      "Dior recupera los grandes desfiles con una monumental puesta en escena en Atenas https://imagenes.elpais.com/resizer/Jbb_MGMhVGSE3LBc4EF6H5NekHw=/62x46/cloudfront-eu-central-1.images.arcpublishing.com/prisa/BBZZ2UBW7NAENAS3DK5PE4G7FU.jpg\n",
      "Una contribuyente ante la declaración de la Renta. https://imagenes.elpais.com/resizer/zUBmbPxy7nTWkYI-06ebt1JlZdo=/62x46/cloudfront-eu-central-1.images.arcpublishing.com/prisa/KKSPBPKDDOJEDMVZMMAY5JGM5E.jpg\n"
     ]
    }
   ],
   "source": [
    "for im in img_tags:\n",
    "    print(im.get(\"alt\"), im.get(\"src\"))"
   ]
  },
  {
   "cell_type": "markdown",
   "metadata": {},
   "source": [
    "### Querying by other attributes"
   ]
  },
  {
   "cell_type": "code",
   "execution_count": 215,
   "metadata": {},
   "outputs": [],
   "source": [
    "soup = BeautifulSoup(requests.get(\"https://www.elmundo.es/\").content)"
   ]
  },
  {
   "cell_type": "code",
   "execution_count": 216,
   "metadata": {},
   "outputs": [
    {
     "data": {
      "text/plain": [
       "346"
      ]
     },
     "execution_count": 216,
     "metadata": {},
     "output_type": "execute_result"
    }
   ],
   "source": [
    "len(soup.find_all(\"a\"))"
   ]
  },
  {
   "cell_type": "code",
   "execution_count": 218,
   "metadata": {},
   "outputs": [
    {
     "data": {
      "text/plain": [
       "[' España     España   Madrid   Andalucía   Sevilla   Málaga   El caminante   Campus andaluz     Baleares   Ibiza     Castilla y León   El correo de Burgos   Diario de Soria   Diario de Valladolid     Cataluña   Comunidad Valenciana   Castellón     País Vasco   El panel EM/Sigmados   ',\n",
       " ' España ',\n",
       " ' Madrid ',\n",
       " ' Andalucía   Sevilla   Málaga   El caminante   Campus andaluz   ',\n",
       " ' Sevilla ',\n",
       " ' Málaga ',\n",
       " ' El caminante ',\n",
       " ' Campus andaluz ',\n",
       " ' Baleares   Ibiza   ',\n",
       " ' Ibiza ',\n",
       " ' Castilla y León   El correo de Burgos   Diario de Soria   Diario de Valladolid   ',\n",
       " ' El correo de Burgos ',\n",
       " ' Diario de Soria ',\n",
       " ' Diario de Valladolid ',\n",
       " ' Cataluña ',\n",
       " ' Comunidad Valenciana   Castellón   ',\n",
       " ' Castellón ',\n",
       " ' País Vasco ',\n",
       " ' El panel EM/Sigmados ',\n",
       " ' Opinión     Opinión   Editoriales   Columnistas   Blogs   ',\n",
       " ' Opinión ',\n",
       " ' Editoriales ',\n",
       " ' Columnistas ',\n",
       " ' Blogs ',\n",
       " ' Economía     Economía   Actualidad económica   Consumistas   Macroeconomía   Empresas   Vivienda   INnovadores   Comparador   Los más ricos   ',\n",
       " ' Economía ',\n",
       " ' Actualidad económica ',\n",
       " ' Consumistas ',\n",
       " ' Macroeconomía ',\n",
       " ' Empresas ',\n",
       " ' Vivienda ',\n",
       " ' INnovadores ',\n",
       " ' Comparador ',\n",
       " ' Los más ricos ',\n",
       " ' Internacional     Internacional   Europa   América   Asia   África   Oceanía   ',\n",
       " ' Internacional ',\n",
       " ' Europa ',\n",
       " ' América ',\n",
       " ' Asia ',\n",
       " ' África ',\n",
       " ' Oceanía ',\n",
       " ' Deportes     Deportes   Fútbol   EURO 2020   LaLiga Santander   LaLiga SmartBank   Champions League   Europa League   Copa del Rey   Premier League   Bundesliga   Serie A   Ligue 1   Liga portuguesa   Liga argentina   Segunda división B   UEFA Nations League   Mundial   Fútbol femenino     Baloncesto   Liga Endesa   NBA   Euroliga   Copa del Rey   Mundial     Fórmula 1   Motociclismo   Tenis   Open de Australia   Roland Garros   Wimbledon   US Open   ATP Finals   WTA Finals     Ciclismo   Giro de Italia   Tour de Francia   Vuelta a España     Golf    Boxeo   Balonmano   Liga Asobal   EHF Champions League   Mundial   Europeo femenino     Rugby   Seis naciones     Fútbol sala   Fútbol americano   Pádel   Juegos Olímpicos   Más deporte   Más motor   ',\n",
       " ' Deportes ',\n",
       " ' Fútbol   EURO 2020   LaLiga Santander   LaLiga SmartBank   Champions League   Europa League   Copa del Rey   Premier League   Bundesliga   Serie A   Ligue 1   Liga portuguesa   Liga argentina   Segunda división B   UEFA Nations League   Mundial   Fútbol femenino   ',\n",
       " ' EURO 2020 ',\n",
       " ' LaLiga Santander ',\n",
       " ' LaLiga SmartBank ',\n",
       " ' Champions League ',\n",
       " ' Europa League ',\n",
       " ' Copa del Rey ',\n",
       " ' Premier League ',\n",
       " ' Bundesliga ',\n",
       " ' Serie A ',\n",
       " ' Ligue 1 ',\n",
       " ' Liga portuguesa ',\n",
       " ' Liga argentina ',\n",
       " ' Segunda división B ',\n",
       " ' UEFA Nations League ',\n",
       " ' Mundial ',\n",
       " ' Fútbol femenino ',\n",
       " ' Baloncesto   Liga Endesa   NBA   Euroliga   Copa del Rey   Mundial   ',\n",
       " ' Liga Endesa ',\n",
       " ' NBA ',\n",
       " ' Euroliga ',\n",
       " ' Copa del Rey ',\n",
       " ' Mundial ',\n",
       " ' Fórmula 1 ',\n",
       " ' Motociclismo ',\n",
       " ' Tenis   Open de Australia   Roland Garros   Wimbledon   US Open   ATP Finals   WTA Finals   ',\n",
       " ' Open de Australia ',\n",
       " ' Roland Garros ',\n",
       " ' Wimbledon ',\n",
       " ' US Open ',\n",
       " ' ATP Finals ',\n",
       " ' WTA Finals ',\n",
       " ' Ciclismo   Giro de Italia   Tour de Francia   Vuelta a España   ',\n",
       " ' Giro de Italia ',\n",
       " ' Tour de Francia ',\n",
       " ' Vuelta a España ',\n",
       " ' Golf  ',\n",
       " ' Boxeo ',\n",
       " ' Balonmano   Liga Asobal   EHF Champions League   Mundial   Europeo femenino   ',\n",
       " ' Liga Asobal ',\n",
       " ' EHF Champions League ',\n",
       " ' Mundial ',\n",
       " ' Europeo femenino ',\n",
       " ' Rugby   Seis naciones   ',\n",
       " ' Seis naciones ',\n",
       " ' Fútbol sala ',\n",
       " ' Fútbol americano ',\n",
       " ' Pádel ',\n",
       " ' Juegos Olímpicos ',\n",
       " ' Más deporte ',\n",
       " ' Más motor ',\n",
       " ' Cultura     Cultura   Cine   Literatura   Música   Teatro   Arte   Danza   Cómic   Fotografía   Toros   ',\n",
       " ' Cultura ',\n",
       " ' Cine ',\n",
       " ' Literatura ',\n",
       " ' Música ',\n",
       " ' Teatro ',\n",
       " ' Arte ',\n",
       " ' Danza ',\n",
       " ' Cómic ',\n",
       " ' Fotografía ',\n",
       " ' Toros ',\n",
       " ' Televisión     Televisión   Medios   Guía TV   Momentvs   Series   ',\n",
       " ' Televisión ',\n",
       " ' Medios ',\n",
       " ' Guía TV ',\n",
       " ' Momentvs ',\n",
       " ' Series ',\n",
       " ' Ciencia y Salud     Ciencia y Salud   Ciencia   Salud   Sostenibles   Comparador de seguros   ',\n",
       " ' Ciencia y Salud ',\n",
       " ' Ciencia ',\n",
       " ' Salud ',\n",
       " ' Sostenibles ',\n",
       " ' Comparador de seguros ',\n",
       " ' Tecnología     Tecnología   Gadgets   Trucos   Creadores   Videojuegos   Innovación   Working Progress   ',\n",
       " ' Tecnología ',\n",
       " ' Gadgets ',\n",
       " ' Trucos ',\n",
       " ' Creadores ',\n",
       " ' Videojuegos ',\n",
       " ' Innovación ',\n",
       " ' Working Progress ',\n",
       " ' LOC ',\n",
       " ' España ',\n",
       " ' Opinión ',\n",
       " ' Economía ',\n",
       " ' Internacional ',\n",
       " ' Deportes ',\n",
       " ' Cultura ',\n",
       " ' Televisión ',\n",
       " ' Ciencia y Salud ',\n",
       " ' Tecnología ',\n",
       " ' LOC ',\n",
       " '  \\n\\n\\n\\n\\n\\n\\n\\n\\n\\n\\n\\n Crónica   ',\n",
       " '  \\n\\n\\n\\n\\n\\n\\n\\n\\n\\n\\n YoDona   ',\n",
       " '  \\n\\n\\n\\n\\n\\n\\n\\n\\n\\n\\n\\n\\n\\n\\n\\n\\n\\n\\n\\n\\n\\n\\n\\n\\n\\n\\n\\n\\n Papel   ',\n",
       " '  \\n\\n\\n\\n  ZEN   ',\n",
       " '  \\n\\n\\n\\n\\n\\n\\n\\n\\n\\n\\n\\n\\n LOC   ',\n",
       " '  \\n\\n\\n\\n\\n\\n\\n\\n\\n\\n\\n\\n\\n\\n\\n\\n\\n\\n\\n\\n\\n\\n\\n\\n\\n\\n Metrópoli   ',\n",
       " '  \\n\\n\\n\\n  Actualidad económica   ',\n",
       " '  \\n\\n\\n\\n\\n FCinco   ',\n",
       " '  \\n\\n\\n\\n\\n\\n\\n\\n Viajes   ',\n",
       " '  \\n\\n\\n\\n\\n\\n\\n\\n\\n\\n\\n\\n\\n\\n\\n\\n\\n\\n Motor   ',\n",
       " '  \\n\\n  Sostenibles El Mundo   ',\n",
       " '  \\n\\n\\n\\n\\n\\n\\n\\n\\n  El panel EM/Sigmados   ',\n",
       " ' Newsletters ',\n",
       " ' Traductor ',\n",
       " ' Guía TV ',\n",
       " ' El tiempo ',\n",
       " ' Descuentos ',\n",
       " ' Bazar, ofertas y regalos ',\n",
       " ' Loterías ',\n",
       " ' Ver todos ',\n",
       " ' Mejores colegios ',\n",
       " ' Mejores universidades ',\n",
       " ' Mejores másteres ',\n",
       " ' Los más ricos ',\n",
       " ' Los dueños de los cotos de caza ',\n",
       " ' Premium ',\n",
       " ' Podcasts ',\n",
       " ' Elecciones ',\n",
       " ' Niños ',\n",
       " ' Extras ',\n",
       " ' Últimas noticias ',\n",
       " '\\nPolítica de cookies\\n',\n",
       " '\\nPolítica de privacidad\\n',\n",
       " '\\nVenta de contenidos\\n',\n",
       " '\\nPublicidad\\n',\n",
       " '\\nTérminos y condiciones de uso\\n',\n",
       " '\\nCertificado por OJD\\n',\n",
       " '\\nContacto\\n']"
      ]
     },
     "execution_count": 218,
     "metadata": {},
     "output_type": "execute_result"
    }
   ],
   "source": [
    "[a.text for a in soup.find_all(\"li\", attrs={\"role\": \"presentation\"})]"
   ]
  },
  {
   "cell_type": "markdown",
   "metadata": {},
   "source": [
    "## Example: Wiki medallero"
   ]
  },
  {
   "cell_type": "code",
   "execution_count": 219,
   "metadata": {},
   "outputs": [],
   "source": [
    "url_medallero = \"https://es.wikipedia.org/wiki/Juegos_Ol%C3%ADmpicos_de_Barcelona_1992\""
   ]
  },
  {
   "cell_type": "code",
   "execution_count": 220,
   "metadata": {},
   "outputs": [],
   "source": [
    "soup = BeautifulSoup(requests.get(url_medallero).content)"
   ]
  },
  {
   "cell_type": "code",
   "execution_count": 225,
   "metadata": {},
   "outputs": [],
   "source": [
    "# tables\n",
    "tablas = soup.find_all(\"table\")"
   ]
  },
  {
   "cell_type": "code",
   "execution_count": 232,
   "metadata": {},
   "outputs": [
    {
     "data": {
      "text/plain": [
       "14"
      ]
     },
     "execution_count": 232,
     "metadata": {},
     "output_type": "execute_result"
    }
   ],
   "source": [
    "len(tablas)"
   ]
  },
  {
   "cell_type": "code",
   "execution_count": 238,
   "metadata": {},
   "outputs": [
    {
     "name": "stdout",
     "output_type": "stream",
     "text": [
      "9\n",
      "10\n"
     ]
    }
   ],
   "source": [
    "for i, t in enumerate(tablas):\n",
    "    if \"Unificado\" in str(t) and \"45\" in str(t):\n",
    "        print(i)"
   ]
  },
  {
   "cell_type": "markdown",
   "metadata": {},
   "source": [
    "tablas 10 seems to be our objective"
   ]
  },
  {
   "cell_type": "code",
   "execution_count": 242,
   "metadata": {},
   "outputs": [],
   "source": [
    "t = tablas[10]"
   ]
  },
  {
   "cell_type": "code",
   "execution_count": 250,
   "metadata": {},
   "outputs": [],
   "source": [
    "tbody = t.find(\"tbody\")"
   ]
  },
  {
   "cell_type": "code",
   "execution_count": 251,
   "metadata": {},
   "outputs": [
    {
     "data": {
      "text/plain": [
       "<tbody><tr>\n",
       "<th>Núm.\n",
       "</th>\n",
       "<th>País\n",
       "</th>\n",
       "<th><a class=\"image\" href=\"/wiki/Archivo:Gold_medal.svg\" title=\"Oro\"><img alt=\"Oro\" data-file-height=\"300\" data-file-width=\"300\" decoding=\"async\" height=\"18\" src=\"//upload.wikimedia.org/wikipedia/commons/thumb/1/15/Gold_medal.svg/18px-Gold_medal.svg.png\" srcset=\"//upload.wikimedia.org/wikipedia/commons/thumb/1/15/Gold_medal.svg/27px-Gold_medal.svg.png 1.5x, //upload.wikimedia.org/wikipedia/commons/thumb/1/15/Gold_medal.svg/36px-Gold_medal.svg.png 2x\" width=\"18\"/></a>\n",
       "</th>\n",
       "<th><a class=\"image\" href=\"/wiki/Archivo:Silver_medal.svg\" title=\"Plata\"><img alt=\"Plata\" data-file-height=\"300\" data-file-width=\"300\" decoding=\"async\" height=\"18\" src=\"//upload.wikimedia.org/wikipedia/commons/thumb/0/03/Silver_medal.svg/18px-Silver_medal.svg.png\" srcset=\"//upload.wikimedia.org/wikipedia/commons/thumb/0/03/Silver_medal.svg/27px-Silver_medal.svg.png 1.5x, //upload.wikimedia.org/wikipedia/commons/thumb/0/03/Silver_medal.svg/36px-Silver_medal.svg.png 2x\" width=\"18\"/></a>\n",
       "</th>\n",
       "<th><a class=\"image\" href=\"/wiki/Archivo:Bronze_medal.svg\" title=\"Bronce\"><img alt=\"Bronce\" data-file-height=\"300\" data-file-width=\"300\" decoding=\"async\" height=\"18\" src=\"//upload.wikimedia.org/wikipedia/commons/thumb/5/52/Bronze_medal.svg/18px-Bronze_medal.svg.png\" srcset=\"//upload.wikimedia.org/wikipedia/commons/thumb/5/52/Bronze_medal.svg/27px-Bronze_medal.svg.png 1.5x, //upload.wikimedia.org/wikipedia/commons/thumb/5/52/Bronze_medal.svg/36px-Bronze_medal.svg.png 2x\" width=\"18\"/></a>\n",
       "</th>\n",
       "<th>Total\n",
       "</th></tr>\n",
       "<tr>\n",
       "<td>1</td>\n",
       "<td align=\"left\"><img alt=\"Equipo Unificado\" class=\"thumbborder\" data-file-height=\"600\" data-file-width=\"900\" decoding=\"async\" height=\"15\" src=\"//upload.wikimedia.org/wikipedia/commons/thumb/a/a7/Olympic_flag.svg/22px-Olympic_flag.svg.png\" srcset=\"//upload.wikimedia.org/wikipedia/commons/thumb/a/a7/Olympic_flag.svg/33px-Olympic_flag.svg.png 1.5x, //upload.wikimedia.org/wikipedia/commons/thumb/a/a7/Olympic_flag.svg/44px-Olympic_flag.svg.png 2x\" width=\"22\"/> <a href=\"/wiki/Equipo_Unificado_en_los_Juegos_Ol%C3%ADmpicos_de_Barcelona_1992\" title=\"Equipo Unificado en los Juegos Olímpicos de Barcelona 1992\">Equipo Unificado </a> <small>(EUN)</small></td>\n",
       "<td>45</td>\n",
       "<td>38</td>\n",
       "<td>29</td>\n",
       "<td>112\n",
       "</td></tr>\n",
       "<tr>\n",
       "<td>2</td>\n",
       "<td align=\"left\"><img alt=\"Estados Unidos\" class=\"thumbborder\" data-file-height=\"650\" data-file-width=\"1235\" decoding=\"async\" height=\"12\" src=\"//upload.wikimedia.org/wikipedia/commons/thumb/a/a4/Flag_of_the_United_States.svg/22px-Flag_of_the_United_States.svg.png\" srcset=\"//upload.wikimedia.org/wikipedia/commons/thumb/a/a4/Flag_of_the_United_States.svg/33px-Flag_of_the_United_States.svg.png 1.5x, //upload.wikimedia.org/wikipedia/commons/thumb/a/a4/Flag_of_the_United_States.svg/44px-Flag_of_the_United_States.svg.png 2x\" width=\"22\"/> <a href=\"/wiki/Estados_Unidos_en_los_Juegos_Ol%C3%ADmpicos_de_Barcelona_1992\" title=\"Estados Unidos en los Juegos Olímpicos de Barcelona 1992\">Estados Unidos </a> <small>(USA)</small></td>\n",
       "<td>37</td>\n",
       "<td>34</td>\n",
       "<td>37</td>\n",
       "<td>108\n",
       "</td></tr>\n",
       "<tr>\n",
       "<td>3</td>\n",
       "<td align=\"left\"><img alt=\"Alemania\" class=\"thumbborder\" data-file-height=\"600\" data-file-width=\"1000\" decoding=\"async\" height=\"13\" src=\"//upload.wikimedia.org/wikipedia/commons/thumb/b/ba/Flag_of_Germany.svg/22px-Flag_of_Germany.svg.png\" srcset=\"//upload.wikimedia.org/wikipedia/commons/thumb/b/ba/Flag_of_Germany.svg/33px-Flag_of_Germany.svg.png 1.5x, //upload.wikimedia.org/wikipedia/commons/thumb/b/ba/Flag_of_Germany.svg/44px-Flag_of_Germany.svg.png 2x\" width=\"22\"/> <a href=\"/wiki/Alemania_en_los_Juegos_Ol%C3%ADmpicos_de_Barcelona_1992\" title=\"Alemania en los Juegos Olímpicos de Barcelona 1992\">Alemania </a> <small>(GER)</small></td>\n",
       "<td>33</td>\n",
       "<td>21</td>\n",
       "<td>28</td>\n",
       "<td>82\n",
       "</td></tr>\n",
       "<tr>\n",
       "<td>4</td>\n",
       "<td align=\"left\"><img alt=\"China\" class=\"thumbborder\" data-file-height=\"600\" data-file-width=\"900\" decoding=\"async\" height=\"15\" src=\"//upload.wikimedia.org/wikipedia/commons/thumb/f/fa/Flag_of_the_People%27s_Republic_of_China.svg/22px-Flag_of_the_People%27s_Republic_of_China.svg.png\" srcset=\"//upload.wikimedia.org/wikipedia/commons/thumb/f/fa/Flag_of_the_People%27s_Republic_of_China.svg/33px-Flag_of_the_People%27s_Republic_of_China.svg.png 1.5x, //upload.wikimedia.org/wikipedia/commons/thumb/f/fa/Flag_of_the_People%27s_Republic_of_China.svg/44px-Flag_of_the_People%27s_Republic_of_China.svg.png 2x\" width=\"22\"/> <a href=\"/wiki/China_en_los_Juegos_Ol%C3%ADmpicos_de_Barcelona_1992\" title=\"China en los Juegos Olímpicos de Barcelona 1992\">China </a> <small>(CHN)</small></td>\n",
       "<td>16</td>\n",
       "<td>22</td>\n",
       "<td>16</td>\n",
       "<td>54\n",
       "</td></tr>\n",
       "<tr>\n",
       "<td>5</td>\n",
       "<td align=\"left\"><img alt=\"Cuba\" class=\"thumbborder\" data-file-height=\"600\" data-file-width=\"1200\" decoding=\"async\" height=\"11\" src=\"//upload.wikimedia.org/wikipedia/commons/thumb/b/bd/Flag_of_Cuba.svg/22px-Flag_of_Cuba.svg.png\" srcset=\"//upload.wikimedia.org/wikipedia/commons/thumb/b/bd/Flag_of_Cuba.svg/33px-Flag_of_Cuba.svg.png 1.5x, //upload.wikimedia.org/wikipedia/commons/thumb/b/bd/Flag_of_Cuba.svg/44px-Flag_of_Cuba.svg.png 2x\" width=\"22\"/> <a href=\"/wiki/Cuba_en_los_Juegos_Ol%C3%ADmpicos_de_Barcelona_1992\" title=\"Cuba en los Juegos Olímpicos de Barcelona 1992\">Cuba </a> <small>(CUB)</small></td>\n",
       "<td>14</td>\n",
       "<td>6</td>\n",
       "<td>11</td>\n",
       "<td>31\n",
       "</td></tr>\n",
       "<tr bgcolor=\"ccccff\">\n",
       "<td>6</td>\n",
       "<td align=\"left\"><img alt=\"España\" class=\"thumbborder\" data-file-height=\"500\" data-file-width=\"750\" decoding=\"async\" height=\"15\" src=\"//upload.wikimedia.org/wikipedia/commons/thumb/9/9a/Flag_of_Spain.svg/22px-Flag_of_Spain.svg.png\" srcset=\"//upload.wikimedia.org/wikipedia/commons/thumb/9/9a/Flag_of_Spain.svg/33px-Flag_of_Spain.svg.png 1.5x, //upload.wikimedia.org/wikipedia/commons/thumb/9/9a/Flag_of_Spain.svg/44px-Flag_of_Spain.svg.png 2x\" width=\"22\"/> <a href=\"/wiki/Espa%C3%B1a_en_los_Juegos_Ol%C3%ADmpicos_de_Barcelona_1992\" title=\"España en los Juegos Olímpicos de Barcelona 1992\">España </a> <small>(ESP)</small></td>\n",
       "<td>13</td>\n",
       "<td>7</td>\n",
       "<td>2</td>\n",
       "<td>22\n",
       "</td></tr>\n",
       "<tr>\n",
       "<td>7</td>\n",
       "<td align=\"left\"><img alt=\"Corea del Sur\" class=\"thumbborder\" data-file-height=\"600\" data-file-width=\"900\" decoding=\"async\" height=\"15\" src=\"//upload.wikimedia.org/wikipedia/commons/thumb/a/a9/Flag_of_South_Korea_%281984%E2%80%931997%29.svg/22px-Flag_of_South_Korea_%281984%E2%80%931997%29.svg.png\" srcset=\"//upload.wikimedia.org/wikipedia/commons/thumb/a/a9/Flag_of_South_Korea_%281984%E2%80%931997%29.svg/33px-Flag_of_South_Korea_%281984%E2%80%931997%29.svg.png 1.5x, //upload.wikimedia.org/wikipedia/commons/thumb/a/a9/Flag_of_South_Korea_%281984%E2%80%931997%29.svg/44px-Flag_of_South_Korea_%281984%E2%80%931997%29.svg.png 2x\" width=\"22\"/> <a href=\"/wiki/Corea_del_Sur_en_los_Juegos_Ol%C3%ADmpicos_de_Barcelona_1992\" title=\"Corea del Sur en los Juegos Olímpicos de Barcelona 1992\">Corea del Sur </a> <small>(KOR)</small></td>\n",
       "<td>12</td>\n",
       "<td>5</td>\n",
       "<td>12</td>\n",
       "<td>29\n",
       "</td></tr>\n",
       "<tr>\n",
       "<td>8</td>\n",
       "<td align=\"left\"><img alt=\"Hungría\" class=\"thumbborder\" data-file-height=\"600\" data-file-width=\"1200\" decoding=\"async\" height=\"11\" src=\"//upload.wikimedia.org/wikipedia/commons/thumb/c/c1/Flag_of_Hungary.svg/22px-Flag_of_Hungary.svg.png\" srcset=\"//upload.wikimedia.org/wikipedia/commons/thumb/c/c1/Flag_of_Hungary.svg/33px-Flag_of_Hungary.svg.png 1.5x, //upload.wikimedia.org/wikipedia/commons/thumb/c/c1/Flag_of_Hungary.svg/44px-Flag_of_Hungary.svg.png 2x\" width=\"22\"/> <a href=\"/wiki/Hungr%C3%ADa_en_los_Juegos_Ol%C3%ADmpicos_de_Barcelona_1992\" title=\"Hungría en los Juegos Olímpicos de Barcelona 1992\">Hungría </a> <small>(HUN)</small></td>\n",
       "<td>11</td>\n",
       "<td>12</td>\n",
       "<td>7</td>\n",
       "<td>30\n",
       "</td></tr>\n",
       "<tr>\n",
       "<td>9</td>\n",
       "<td align=\"left\"><img alt=\"Francia\" class=\"thumbborder\" data-file-height=\"600\" data-file-width=\"900\" decoding=\"async\" height=\"15\" src=\"//upload.wikimedia.org/wikipedia/commons/thumb/c/c3/Flag_of_France.svg/22px-Flag_of_France.svg.png\" srcset=\"//upload.wikimedia.org/wikipedia/commons/thumb/c/c3/Flag_of_France.svg/33px-Flag_of_France.svg.png 1.5x, //upload.wikimedia.org/wikipedia/commons/thumb/c/c3/Flag_of_France.svg/44px-Flag_of_France.svg.png 2x\" width=\"22\"/> <a href=\"/wiki/Francia_en_los_Juegos_Ol%C3%ADmpicos_de_Barcelona_1992\" title=\"Francia en los Juegos Olímpicos de Barcelona 1992\">Francia </a> <small>(FRA)</small></td>\n",
       "<td>8</td>\n",
       "<td>5</td>\n",
       "<td>16</td>\n",
       "<td>29\n",
       "</td></tr>\n",
       "<tr>\n",
       "<td>10</td>\n",
       "<td align=\"left\"><img alt=\"Australia\" class=\"thumbborder\" data-file-height=\"640\" data-file-width=\"1280\" decoding=\"async\" height=\"11\" src=\"//upload.wikimedia.org/wikipedia/commons/thumb/b/b9/Flag_of_Australia.svg/22px-Flag_of_Australia.svg.png\" srcset=\"//upload.wikimedia.org/wikipedia/commons/thumb/b/b9/Flag_of_Australia.svg/33px-Flag_of_Australia.svg.png 1.5x, //upload.wikimedia.org/wikipedia/commons/thumb/b/b9/Flag_of_Australia.svg/44px-Flag_of_Australia.svg.png 2x\" width=\"22\"/> <a href=\"/wiki/Australia_en_los_Juegos_Ol%C3%ADmpicos_de_Barcelona_1992\" title=\"Australia en los Juegos Olímpicos de Barcelona 1992\">Australia </a> <small>(AUS)</small></td>\n",
       "<td>7</td>\n",
       "<td>9</td>\n",
       "<td>11</td>\n",
       "<td>27\n",
       "</td></tr></tbody>"
      ]
     },
     "execution_count": 251,
     "metadata": {},
     "output_type": "execute_result"
    }
   ],
   "source": [
    "tbody"
   ]
  },
  {
   "cell_type": "code",
   "execution_count": 252,
   "metadata": {},
   "outputs": [],
   "source": [
    "trs = tbody.find_all(\"tr\")"
   ]
  },
  {
   "cell_type": "code",
   "execution_count": 253,
   "metadata": {},
   "outputs": [
    {
     "data": {
      "text/plain": [
       "11"
      ]
     },
     "execution_count": 253,
     "metadata": {},
     "output_type": "execute_result"
    }
   ],
   "source": [
    "len(trs)"
   ]
  },
  {
   "cell_type": "code",
   "execution_count": 257,
   "metadata": {},
   "outputs": [],
   "source": [
    "tr = trs[1]"
   ]
  },
  {
   "cell_type": "code",
   "execution_count": 258,
   "metadata": {},
   "outputs": [
    {
     "data": {
      "text/plain": [
       "<tr>\n",
       "<td>1</td>\n",
       "<td align=\"left\"><img alt=\"Equipo Unificado\" class=\"thumbborder\" data-file-height=\"600\" data-file-width=\"900\" decoding=\"async\" height=\"15\" src=\"//upload.wikimedia.org/wikipedia/commons/thumb/a/a7/Olympic_flag.svg/22px-Olympic_flag.svg.png\" srcset=\"//upload.wikimedia.org/wikipedia/commons/thumb/a/a7/Olympic_flag.svg/33px-Olympic_flag.svg.png 1.5x, //upload.wikimedia.org/wikipedia/commons/thumb/a/a7/Olympic_flag.svg/44px-Olympic_flag.svg.png 2x\" width=\"22\"/> <a href=\"/wiki/Equipo_Unificado_en_los_Juegos_Ol%C3%ADmpicos_de_Barcelona_1992\" title=\"Equipo Unificado en los Juegos Olímpicos de Barcelona 1992\">Equipo Unificado </a> <small>(EUN)</small></td>\n",
       "<td>45</td>\n",
       "<td>38</td>\n",
       "<td>29</td>\n",
       "<td>112\n",
       "</td></tr>"
      ]
     },
     "execution_count": 258,
     "metadata": {},
     "output_type": "execute_result"
    }
   ],
   "source": [
    "tr"
   ]
  },
  {
   "cell_type": "code",
   "execution_count": 272,
   "metadata": {},
   "outputs": [],
   "source": [
    "cols = tr.find_all(\"td\")"
   ]
  },
  {
   "cell_type": "code",
   "execution_count": 273,
   "metadata": {},
   "outputs": [
    {
     "data": {
      "text/plain": [
       "[<td>1</td>,\n",
       " <td align=\"left\"><img alt=\"Equipo Unificado\" class=\"thumbborder\" data-file-height=\"600\" data-file-width=\"900\" decoding=\"async\" height=\"15\" src=\"//upload.wikimedia.org/wikipedia/commons/thumb/a/a7/Olympic_flag.svg/22px-Olympic_flag.svg.png\" srcset=\"//upload.wikimedia.org/wikipedia/commons/thumb/a/a7/Olympic_flag.svg/33px-Olympic_flag.svg.png 1.5x, //upload.wikimedia.org/wikipedia/commons/thumb/a/a7/Olympic_flag.svg/44px-Olympic_flag.svg.png 2x\" width=\"22\"/> <a href=\"/wiki/Equipo_Unificado_en_los_Juegos_Ol%C3%ADmpicos_de_Barcelona_1992\" title=\"Equipo Unificado en los Juegos Olímpicos de Barcelona 1992\">Equipo Unificado </a> <small>(EUN)</small></td>,\n",
       " <td>45</td>,\n",
       " <td>38</td>,\n",
       " <td>29</td>,\n",
       " <td>112\n",
       " </td>]"
      ]
     },
     "execution_count": 273,
     "metadata": {},
     "output_type": "execute_result"
    }
   ],
   "source": [
    "cols"
   ]
  },
  {
   "cell_type": "code",
   "execution_count": 279,
   "metadata": {},
   "outputs": [
    {
     "data": {
      "text/plain": [
       "'112'"
      ]
     },
     "execution_count": 279,
     "metadata": {},
     "output_type": "execute_result"
    }
   ],
   "source": [
    "cols[5].text.strip()"
   ]
  },
  {
   "cell_type": "code",
   "execution_count": 290,
   "metadata": {},
   "outputs": [],
   "source": [
    "def get_row_info(row):\n",
    "    info = dict()\n",
    "    \n",
    "    cols = row.find_all(\"td\")\n",
    "    \n",
    "    info[\"rank\"] = int(cols[0].text)\n",
    "    info[\"country\"] = cols[1].text.strip()\n",
    "    info[\"ngold\"] = int(cols[2].text)\n",
    "    info[\"nsilver\"] = int(cols[3].text)\n",
    "    info[\"nbronze\"] = (cols[4].text)\n",
    "    info[\"total\"] = (cols[5].text.strip())\n",
    "    \n",
    "    return info"
   ]
  },
  {
   "cell_type": "code",
   "execution_count": 294,
   "metadata": {},
   "outputs": [
    {
     "data": {
      "text/plain": [
       "{'rank': 5,\n",
       " 'country': 'Cuba  (CUB)',\n",
       " 'ngold': 14,\n",
       " 'nsilver': 6,\n",
       " 'nbronze': '11',\n",
       " 'total': '31'}"
      ]
     },
     "execution_count": 294,
     "metadata": {},
     "output_type": "execute_result"
    }
   ],
   "source": [
    "get_row_info(trs[5])"
   ]
  },
  {
   "cell_type": "code",
   "execution_count": 292,
   "metadata": {},
   "outputs": [
    {
     "data": {
      "text/plain": [
       "[<tr>\n",
       " <th>Núm.\n",
       " </th>\n",
       " <th>País\n",
       " </th>\n",
       " <th><a class=\"image\" href=\"/wiki/Archivo:Gold_medal.svg\" title=\"Oro\"><img alt=\"Oro\" data-file-height=\"300\" data-file-width=\"300\" decoding=\"async\" height=\"18\" src=\"//upload.wikimedia.org/wikipedia/commons/thumb/1/15/Gold_medal.svg/18px-Gold_medal.svg.png\" srcset=\"//upload.wikimedia.org/wikipedia/commons/thumb/1/15/Gold_medal.svg/27px-Gold_medal.svg.png 1.5x, //upload.wikimedia.org/wikipedia/commons/thumb/1/15/Gold_medal.svg/36px-Gold_medal.svg.png 2x\" width=\"18\"/></a>\n",
       " </th>\n",
       " <th><a class=\"image\" href=\"/wiki/Archivo:Silver_medal.svg\" title=\"Plata\"><img alt=\"Plata\" data-file-height=\"300\" data-file-width=\"300\" decoding=\"async\" height=\"18\" src=\"//upload.wikimedia.org/wikipedia/commons/thumb/0/03/Silver_medal.svg/18px-Silver_medal.svg.png\" srcset=\"//upload.wikimedia.org/wikipedia/commons/thumb/0/03/Silver_medal.svg/27px-Silver_medal.svg.png 1.5x, //upload.wikimedia.org/wikipedia/commons/thumb/0/03/Silver_medal.svg/36px-Silver_medal.svg.png 2x\" width=\"18\"/></a>\n",
       " </th>\n",
       " <th><a class=\"image\" href=\"/wiki/Archivo:Bronze_medal.svg\" title=\"Bronce\"><img alt=\"Bronce\" data-file-height=\"300\" data-file-width=\"300\" decoding=\"async\" height=\"18\" src=\"//upload.wikimedia.org/wikipedia/commons/thumb/5/52/Bronze_medal.svg/18px-Bronze_medal.svg.png\" srcset=\"//upload.wikimedia.org/wikipedia/commons/thumb/5/52/Bronze_medal.svg/27px-Bronze_medal.svg.png 1.5x, //upload.wikimedia.org/wikipedia/commons/thumb/5/52/Bronze_medal.svg/36px-Bronze_medal.svg.png 2x\" width=\"18\"/></a>\n",
       " </th>\n",
       " <th>Total\n",
       " </th></tr>,\n",
       " <tr>\n",
       " <td>1</td>\n",
       " <td align=\"left\"><img alt=\"Equipo Unificado\" class=\"thumbborder\" data-file-height=\"600\" data-file-width=\"900\" decoding=\"async\" height=\"15\" src=\"//upload.wikimedia.org/wikipedia/commons/thumb/a/a7/Olympic_flag.svg/22px-Olympic_flag.svg.png\" srcset=\"//upload.wikimedia.org/wikipedia/commons/thumb/a/a7/Olympic_flag.svg/33px-Olympic_flag.svg.png 1.5x, //upload.wikimedia.org/wikipedia/commons/thumb/a/a7/Olympic_flag.svg/44px-Olympic_flag.svg.png 2x\" width=\"22\"/> <a href=\"/wiki/Equipo_Unificado_en_los_Juegos_Ol%C3%ADmpicos_de_Barcelona_1992\" title=\"Equipo Unificado en los Juegos Olímpicos de Barcelona 1992\">Equipo Unificado </a> <small>(EUN)</small></td>\n",
       " <td>45</td>\n",
       " <td>38</td>\n",
       " <td>29</td>\n",
       " <td>112\n",
       " </td></tr>,\n",
       " <tr>\n",
       " <td>2</td>\n",
       " <td align=\"left\"><img alt=\"Estados Unidos\" class=\"thumbborder\" data-file-height=\"650\" data-file-width=\"1235\" decoding=\"async\" height=\"12\" src=\"//upload.wikimedia.org/wikipedia/commons/thumb/a/a4/Flag_of_the_United_States.svg/22px-Flag_of_the_United_States.svg.png\" srcset=\"//upload.wikimedia.org/wikipedia/commons/thumb/a/a4/Flag_of_the_United_States.svg/33px-Flag_of_the_United_States.svg.png 1.5x, //upload.wikimedia.org/wikipedia/commons/thumb/a/a4/Flag_of_the_United_States.svg/44px-Flag_of_the_United_States.svg.png 2x\" width=\"22\"/> <a href=\"/wiki/Estados_Unidos_en_los_Juegos_Ol%C3%ADmpicos_de_Barcelona_1992\" title=\"Estados Unidos en los Juegos Olímpicos de Barcelona 1992\">Estados Unidos </a> <small>(USA)</small></td>\n",
       " <td>37</td>\n",
       " <td>34</td>\n",
       " <td>37</td>\n",
       " <td>108\n",
       " </td></tr>,\n",
       " <tr>\n",
       " <td>3</td>\n",
       " <td align=\"left\"><img alt=\"Alemania\" class=\"thumbborder\" data-file-height=\"600\" data-file-width=\"1000\" decoding=\"async\" height=\"13\" src=\"//upload.wikimedia.org/wikipedia/commons/thumb/b/ba/Flag_of_Germany.svg/22px-Flag_of_Germany.svg.png\" srcset=\"//upload.wikimedia.org/wikipedia/commons/thumb/b/ba/Flag_of_Germany.svg/33px-Flag_of_Germany.svg.png 1.5x, //upload.wikimedia.org/wikipedia/commons/thumb/b/ba/Flag_of_Germany.svg/44px-Flag_of_Germany.svg.png 2x\" width=\"22\"/> <a href=\"/wiki/Alemania_en_los_Juegos_Ol%C3%ADmpicos_de_Barcelona_1992\" title=\"Alemania en los Juegos Olímpicos de Barcelona 1992\">Alemania </a> <small>(GER)</small></td>\n",
       " <td>33</td>\n",
       " <td>21</td>\n",
       " <td>28</td>\n",
       " <td>82\n",
       " </td></tr>,\n",
       " <tr>\n",
       " <td>4</td>\n",
       " <td align=\"left\"><img alt=\"China\" class=\"thumbborder\" data-file-height=\"600\" data-file-width=\"900\" decoding=\"async\" height=\"15\" src=\"//upload.wikimedia.org/wikipedia/commons/thumb/f/fa/Flag_of_the_People%27s_Republic_of_China.svg/22px-Flag_of_the_People%27s_Republic_of_China.svg.png\" srcset=\"//upload.wikimedia.org/wikipedia/commons/thumb/f/fa/Flag_of_the_People%27s_Republic_of_China.svg/33px-Flag_of_the_People%27s_Republic_of_China.svg.png 1.5x, //upload.wikimedia.org/wikipedia/commons/thumb/f/fa/Flag_of_the_People%27s_Republic_of_China.svg/44px-Flag_of_the_People%27s_Republic_of_China.svg.png 2x\" width=\"22\"/> <a href=\"/wiki/China_en_los_Juegos_Ol%C3%ADmpicos_de_Barcelona_1992\" title=\"China en los Juegos Olímpicos de Barcelona 1992\">China </a> <small>(CHN)</small></td>\n",
       " <td>16</td>\n",
       " <td>22</td>\n",
       " <td>16</td>\n",
       " <td>54\n",
       " </td></tr>,\n",
       " <tr>\n",
       " <td>5</td>\n",
       " <td align=\"left\"><img alt=\"Cuba\" class=\"thumbborder\" data-file-height=\"600\" data-file-width=\"1200\" decoding=\"async\" height=\"11\" src=\"//upload.wikimedia.org/wikipedia/commons/thumb/b/bd/Flag_of_Cuba.svg/22px-Flag_of_Cuba.svg.png\" srcset=\"//upload.wikimedia.org/wikipedia/commons/thumb/b/bd/Flag_of_Cuba.svg/33px-Flag_of_Cuba.svg.png 1.5x, //upload.wikimedia.org/wikipedia/commons/thumb/b/bd/Flag_of_Cuba.svg/44px-Flag_of_Cuba.svg.png 2x\" width=\"22\"/> <a href=\"/wiki/Cuba_en_los_Juegos_Ol%C3%ADmpicos_de_Barcelona_1992\" title=\"Cuba en los Juegos Olímpicos de Barcelona 1992\">Cuba </a> <small>(CUB)</small></td>\n",
       " <td>14</td>\n",
       " <td>6</td>\n",
       " <td>11</td>\n",
       " <td>31\n",
       " </td></tr>,\n",
       " <tr bgcolor=\"ccccff\">\n",
       " <td>6</td>\n",
       " <td align=\"left\"><img alt=\"España\" class=\"thumbborder\" data-file-height=\"500\" data-file-width=\"750\" decoding=\"async\" height=\"15\" src=\"//upload.wikimedia.org/wikipedia/commons/thumb/9/9a/Flag_of_Spain.svg/22px-Flag_of_Spain.svg.png\" srcset=\"//upload.wikimedia.org/wikipedia/commons/thumb/9/9a/Flag_of_Spain.svg/33px-Flag_of_Spain.svg.png 1.5x, //upload.wikimedia.org/wikipedia/commons/thumb/9/9a/Flag_of_Spain.svg/44px-Flag_of_Spain.svg.png 2x\" width=\"22\"/> <a href=\"/wiki/Espa%C3%B1a_en_los_Juegos_Ol%C3%ADmpicos_de_Barcelona_1992\" title=\"España en los Juegos Olímpicos de Barcelona 1992\">España </a> <small>(ESP)</small></td>\n",
       " <td>13</td>\n",
       " <td>7</td>\n",
       " <td>2</td>\n",
       " <td>22\n",
       " </td></tr>,\n",
       " <tr>\n",
       " <td>7</td>\n",
       " <td align=\"left\"><img alt=\"Corea del Sur\" class=\"thumbborder\" data-file-height=\"600\" data-file-width=\"900\" decoding=\"async\" height=\"15\" src=\"//upload.wikimedia.org/wikipedia/commons/thumb/a/a9/Flag_of_South_Korea_%281984%E2%80%931997%29.svg/22px-Flag_of_South_Korea_%281984%E2%80%931997%29.svg.png\" srcset=\"//upload.wikimedia.org/wikipedia/commons/thumb/a/a9/Flag_of_South_Korea_%281984%E2%80%931997%29.svg/33px-Flag_of_South_Korea_%281984%E2%80%931997%29.svg.png 1.5x, //upload.wikimedia.org/wikipedia/commons/thumb/a/a9/Flag_of_South_Korea_%281984%E2%80%931997%29.svg/44px-Flag_of_South_Korea_%281984%E2%80%931997%29.svg.png 2x\" width=\"22\"/> <a href=\"/wiki/Corea_del_Sur_en_los_Juegos_Ol%C3%ADmpicos_de_Barcelona_1992\" title=\"Corea del Sur en los Juegos Olímpicos de Barcelona 1992\">Corea del Sur </a> <small>(KOR)</small></td>\n",
       " <td>12</td>\n",
       " <td>5</td>\n",
       " <td>12</td>\n",
       " <td>29\n",
       " </td></tr>,\n",
       " <tr>\n",
       " <td>8</td>\n",
       " <td align=\"left\"><img alt=\"Hungría\" class=\"thumbborder\" data-file-height=\"600\" data-file-width=\"1200\" decoding=\"async\" height=\"11\" src=\"//upload.wikimedia.org/wikipedia/commons/thumb/c/c1/Flag_of_Hungary.svg/22px-Flag_of_Hungary.svg.png\" srcset=\"//upload.wikimedia.org/wikipedia/commons/thumb/c/c1/Flag_of_Hungary.svg/33px-Flag_of_Hungary.svg.png 1.5x, //upload.wikimedia.org/wikipedia/commons/thumb/c/c1/Flag_of_Hungary.svg/44px-Flag_of_Hungary.svg.png 2x\" width=\"22\"/> <a href=\"/wiki/Hungr%C3%ADa_en_los_Juegos_Ol%C3%ADmpicos_de_Barcelona_1992\" title=\"Hungría en los Juegos Olímpicos de Barcelona 1992\">Hungría </a> <small>(HUN)</small></td>\n",
       " <td>11</td>\n",
       " <td>12</td>\n",
       " <td>7</td>\n",
       " <td>30\n",
       " </td></tr>,\n",
       " <tr>\n",
       " <td>9</td>\n",
       " <td align=\"left\"><img alt=\"Francia\" class=\"thumbborder\" data-file-height=\"600\" data-file-width=\"900\" decoding=\"async\" height=\"15\" src=\"//upload.wikimedia.org/wikipedia/commons/thumb/c/c3/Flag_of_France.svg/22px-Flag_of_France.svg.png\" srcset=\"//upload.wikimedia.org/wikipedia/commons/thumb/c/c3/Flag_of_France.svg/33px-Flag_of_France.svg.png 1.5x, //upload.wikimedia.org/wikipedia/commons/thumb/c/c3/Flag_of_France.svg/44px-Flag_of_France.svg.png 2x\" width=\"22\"/> <a href=\"/wiki/Francia_en_los_Juegos_Ol%C3%ADmpicos_de_Barcelona_1992\" title=\"Francia en los Juegos Olímpicos de Barcelona 1992\">Francia </a> <small>(FRA)</small></td>\n",
       " <td>8</td>\n",
       " <td>5</td>\n",
       " <td>16</td>\n",
       " <td>29\n",
       " </td></tr>,\n",
       " <tr>\n",
       " <td>10</td>\n",
       " <td align=\"left\"><img alt=\"Australia\" class=\"thumbborder\" data-file-height=\"640\" data-file-width=\"1280\" decoding=\"async\" height=\"11\" src=\"//upload.wikimedia.org/wikipedia/commons/thumb/b/b9/Flag_of_Australia.svg/22px-Flag_of_Australia.svg.png\" srcset=\"//upload.wikimedia.org/wikipedia/commons/thumb/b/b9/Flag_of_Australia.svg/33px-Flag_of_Australia.svg.png 1.5x, //upload.wikimedia.org/wikipedia/commons/thumb/b/b9/Flag_of_Australia.svg/44px-Flag_of_Australia.svg.png 2x\" width=\"22\"/> <a href=\"/wiki/Australia_en_los_Juegos_Ol%C3%ADmpicos_de_Barcelona_1992\" title=\"Australia en los Juegos Olímpicos de Barcelona 1992\">Australia </a> <small>(AUS)</small></td>\n",
       " <td>7</td>\n",
       " <td>9</td>\n",
       " <td>11</td>\n",
       " <td>27\n",
       " </td></tr>]"
      ]
     },
     "execution_count": 292,
     "metadata": {},
     "output_type": "execute_result"
    }
   ],
   "source": [
    "trs"
   ]
  },
  {
   "cell_type": "code",
   "execution_count": 298,
   "metadata": {},
   "outputs": [
    {
     "name": "stdout",
     "output_type": "stream",
     "text": [
      "0\n"
     ]
    }
   ],
   "source": [
    "for i, row in enumerate(trs):\n",
    "    try:\n",
    "        get_row_info(row)\n",
    "    except:\n",
    "        print(i)"
   ]
  },
  {
   "cell_type": "code",
   "execution_count": 297,
   "metadata": {},
   "outputs": [
    {
     "data": {
      "text/html": [
       "<div>\n",
       "<style scoped>\n",
       "    .dataframe tbody tr th:only-of-type {\n",
       "        vertical-align: middle;\n",
       "    }\n",
       "\n",
       "    .dataframe tbody tr th {\n",
       "        vertical-align: top;\n",
       "    }\n",
       "\n",
       "    .dataframe thead th {\n",
       "        text-align: right;\n",
       "    }\n",
       "</style>\n",
       "<table border=\"1\" class=\"dataframe\">\n",
       "  <thead>\n",
       "    <tr style=\"text-align: right;\">\n",
       "      <th></th>\n",
       "      <th>rank</th>\n",
       "      <th>country</th>\n",
       "      <th>ngold</th>\n",
       "      <th>nsilver</th>\n",
       "      <th>nbronze</th>\n",
       "      <th>total</th>\n",
       "    </tr>\n",
       "  </thead>\n",
       "  <tbody>\n",
       "    <tr>\n",
       "      <th>0</th>\n",
       "      <td>1</td>\n",
       "      <td>Equipo Unificado  (EUN)</td>\n",
       "      <td>45</td>\n",
       "      <td>38</td>\n",
       "      <td>29</td>\n",
       "      <td>112</td>\n",
       "    </tr>\n",
       "    <tr>\n",
       "      <th>1</th>\n",
       "      <td>2</td>\n",
       "      <td>Estados Unidos  (USA)</td>\n",
       "      <td>37</td>\n",
       "      <td>34</td>\n",
       "      <td>37</td>\n",
       "      <td>108</td>\n",
       "    </tr>\n",
       "    <tr>\n",
       "      <th>2</th>\n",
       "      <td>3</td>\n",
       "      <td>Alemania  (GER)</td>\n",
       "      <td>33</td>\n",
       "      <td>21</td>\n",
       "      <td>28</td>\n",
       "      <td>82</td>\n",
       "    </tr>\n",
       "    <tr>\n",
       "      <th>3</th>\n",
       "      <td>4</td>\n",
       "      <td>China  (CHN)</td>\n",
       "      <td>16</td>\n",
       "      <td>22</td>\n",
       "      <td>16</td>\n",
       "      <td>54</td>\n",
       "    </tr>\n",
       "    <tr>\n",
       "      <th>4</th>\n",
       "      <td>5</td>\n",
       "      <td>Cuba  (CUB)</td>\n",
       "      <td>14</td>\n",
       "      <td>6</td>\n",
       "      <td>11</td>\n",
       "      <td>31</td>\n",
       "    </tr>\n",
       "    <tr>\n",
       "      <th>5</th>\n",
       "      <td>6</td>\n",
       "      <td>España  (ESP)</td>\n",
       "      <td>13</td>\n",
       "      <td>7</td>\n",
       "      <td>2</td>\n",
       "      <td>22</td>\n",
       "    </tr>\n",
       "    <tr>\n",
       "      <th>6</th>\n",
       "      <td>7</td>\n",
       "      <td>Corea del Sur  (KOR)</td>\n",
       "      <td>12</td>\n",
       "      <td>5</td>\n",
       "      <td>12</td>\n",
       "      <td>29</td>\n",
       "    </tr>\n",
       "    <tr>\n",
       "      <th>7</th>\n",
       "      <td>8</td>\n",
       "      <td>Hungría  (HUN)</td>\n",
       "      <td>11</td>\n",
       "      <td>12</td>\n",
       "      <td>7</td>\n",
       "      <td>30</td>\n",
       "    </tr>\n",
       "    <tr>\n",
       "      <th>8</th>\n",
       "      <td>9</td>\n",
       "      <td>Francia  (FRA)</td>\n",
       "      <td>8</td>\n",
       "      <td>5</td>\n",
       "      <td>16</td>\n",
       "      <td>29</td>\n",
       "    </tr>\n",
       "    <tr>\n",
       "      <th>9</th>\n",
       "      <td>10</td>\n",
       "      <td>Australia  (AUS)</td>\n",
       "      <td>7</td>\n",
       "      <td>9</td>\n",
       "      <td>11</td>\n",
       "      <td>27</td>\n",
       "    </tr>\n",
       "  </tbody>\n",
       "</table>\n",
       "</div>"
      ],
      "text/plain": [
       "   rank                  country  ngold  nsilver nbronze total\n",
       "0     1  Equipo Unificado  (EUN)     45       38      29   112\n",
       "1     2    Estados Unidos  (USA)     37       34      37   108\n",
       "2     3          Alemania  (GER)     33       21      28    82\n",
       "3     4             China  (CHN)     16       22      16    54\n",
       "4     5              Cuba  (CUB)     14        6      11    31\n",
       "5     6            España  (ESP)     13        7       2    22\n",
       "6     7     Corea del Sur  (KOR)     12        5      12    29\n",
       "7     8           Hungría  (HUN)     11       12       7    30\n",
       "8     9           Francia  (FRA)      8        5      16    29\n",
       "9    10         Australia  (AUS)      7        9      11    27"
      ]
     },
     "execution_count": 297,
     "metadata": {},
     "output_type": "execute_result"
    }
   ],
   "source": [
    "pd.DataFrame([get_row_info(row) for row in trs[1:]])"
   ]
  },
  {
   "cell_type": "markdown",
   "metadata": {},
   "source": [
    "## Comments"
   ]
  },
  {
   "cell_type": "markdown",
   "metadata": {},
   "source": [
    "Always try and find if there is an **API** instead of scraping, because:\n",
    " * much easier\n",
    " * well documented\n",
    " * preferred by server"
   ]
  },
  {
   "cell_type": "markdown",
   "metadata": {},
   "source": [
    "robots.txt helps us know how much the server dislikes your scraping"
   ]
  },
  {
   "cell_type": "markdown",
   "metadata": {},
   "source": [
    "## Summary"
   ]
  },
  {
   "cell_type": "markdown",
   "metadata": {},
   "source": [
    " * Webs are build with HTML, CSS, JavaScript\n",
    " * HTML has the content. We scrape HTML\n",
    " * `requests` to `get` the HTML\n",
    " * `Beautiful Soup` to programatically analyse the HTML"
   ]
  },
  {
   "cell_type": "markdown",
   "metadata": {},
   "source": [
    " * HTML is hierarchical\n",
    " * HTML uses tags\n",
    " * HTML tags have attributes\n",
    " * We find tags by tagname, class name, id name, or other attributes name\n",
    " * We can use CSS selectors to select in very complex ways"
   ]
  },
  {
   "cell_type": "markdown",
   "metadata": {},
   "source": [
    "* Hint yourself by using `document.querySelectorAll('a').forEach(elm => elm.style.background = 'red')` or similar"
   ]
  },
  {
   "cell_type": "markdown",
   "metadata": {},
   "source": [
    "## Further materials"
   ]
  },
  {
   "cell_type": "markdown",
   "metadata": {},
   "source": [
    "[Web archive](http://web.archive.org/): find historical webpages state in the past!!"
   ]
  },
  {
   "cell_type": "code",
   "execution_count": 300,
   "metadata": {},
   "outputs": [],
   "source": [
    "soup = BeautifulSoup(requests.get(\"https://www.20minutos.com\").content)"
   ]
  },
  {
   "cell_type": "code",
   "execution_count": 307,
   "metadata": {},
   "outputs": [
    {
     "data": {
      "text/plain": [
       "164"
      ]
     },
     "execution_count": 307,
     "metadata": {},
     "output_type": "execute_result"
    }
   ],
   "source": [
    "len(soup.find_all(\"a\"))"
   ]
  },
  {
   "cell_type": "code",
   "execution_count": 306,
   "metadata": {},
   "outputs": [
    {
     "data": {
      "text/plain": [
       "['ONU: pese al coronavirus, millones dejaron sus casas en 2020',\n",
       " 'Israel enviará 1 millón de vacunas de COVID-19 a palestinos',\n",
       " 'Sistema tropical dejará lluvias, crecidas en Golfo de México',\n",
       " 'Sistema tropical dejará lluvias, crecidas en Golfo de México',\n",
       " 'Kim Jong Un promete estar listo para confrontación con EEUU',\n",
       " 'Juicio nulo en caso de salario a migrantes detenidos en EEUU',\n",
       " 'ELN niega estar detrás de atentado a base militar colombiana',\n",
       " 'Canadá: Preferible vacuna de Pfizer o Moderna para 2da dosis',\n",
       " 'Grupo hispano demanda al alcalde de Santa Fe por obelisco',\n",
       " 'Muere Kenneth Kaunda, 1er presidente electo de Zambia',\n",
       " 'Huelga general en Líbano por crisis financiera y política',\n",
       " 'Ambientalistas interponen queja judicial contra España',\n",
       " 'España y Polonia chocan en la Euro peleados con el gol',\n",
       " 'Alemania busca encontrar contundencia frente a Portugal',\n",
       " 'Marineros remontan con 2 carreras en 9no, superan a Rays 6-5',\n",
       " 'Angelinos ganan a Tigres impulsados por Ohtani, slam de Ward',\n",
       " 'Grand slam de Cron impulsa a Rockies frente a Cerveceros',\n",
       " 'Caratini, Hosmer jonronean en 9no, Padres vencen a Rojos 6-4',\n",
       " 'Pedidos en EEUU de bienes duraderos caen un 1,3% en abril',\n",
       " 'Brote inflacionario genera alarma en EEUU',\n",
       " 'Construcción de viviendas con impresoras 3D es una realidad',\n",
       " 'El flagelo del \"ransomware\", las extorsiones digitales',\n",
       " 'Ignorar problemas financieros por pandemia aumenta el estrés',\n",
       " 'Finanzas en tiempos de pandemia: Mantenga la cabeza fría']"
      ]
     },
     "execution_count": 306,
     "metadata": {},
     "output_type": "execute_result"
    }
   ],
   "source": [
    "[s.text for s in soup.select(\"div.media-content header h1 a\")]"
   ]
  }
 ],
 "metadata": {
  "kernelspec": {
   "display_name": "Python 3",
   "language": "python",
   "name": "python3"
  },
  "language_info": {
   "codemirror_mode": {
    "name": "ipython",
    "version": 3
   },
   "file_extension": ".py",
   "mimetype": "text/x-python",
   "name": "python",
   "nbconvert_exporter": "python",
   "pygments_lexer": "ipython3",
   "version": "3.8.5"
  },
  "toc": {
   "base_numbering": 1,
   "nav_menu": {},
   "number_sections": true,
   "sideBar": true,
   "skip_h1_title": true,
   "title_cell": "Table of Contents",
   "title_sidebar": "Contents",
   "toc_cell": true,
   "toc_position": {
    "height": "calc(100% - 180px)",
    "left": "10px",
    "top": "150px",
    "width": "263.892px"
   },
   "toc_section_display": true,
   "toc_window_display": true
  },
  "varInspector": {
   "cols": {
    "lenName": 16,
    "lenType": 16,
    "lenVar": 40
   },
   "kernels_config": {
    "python": {
     "delete_cmd_postfix": "",
     "delete_cmd_prefix": "del ",
     "library": "var_list.py",
     "varRefreshCmd": "print(var_dic_list())"
    },
    "r": {
     "delete_cmd_postfix": ") ",
     "delete_cmd_prefix": "rm(",
     "library": "var_list.r",
     "varRefreshCmd": "cat(var_dic_list()) "
    }
   },
   "types_to_exclude": [
    "module",
    "function",
    "builtin_function_or_method",
    "instance",
    "_Feature"
   ],
   "window_display": false
  }
 },
 "nbformat": 4,
 "nbformat_minor": 4
}
