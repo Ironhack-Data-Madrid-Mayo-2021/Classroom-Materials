{
 "cells": [
  {
   "cell_type": "markdown",
   "id": "sporting-delta",
   "metadata": {},
   "source": [
    "# <center>📦🧹🔍ETL 🔍🧹📦<center>"
   ]
  },
  {
   "cell_type": "markdown",
   "id": "different-luxembourg",
   "metadata": {
    "toc": true
   },
   "source": [
    "<h1>Table of Contents<span class=\"tocSkip\"></span></h1>\n",
    "<div class=\"toc\"><ul class=\"toc-item\"><li><span><a href=\"#¿Qué-significa-ETL?\" data-toc-modified-id=\"¿Qué-significa-ETL?-1\"><span class=\"toc-item-num\">1&nbsp;&nbsp;</span>¿Qué significa ETL?</a></span></li><li><span><a href=\"#¿Qué-vamos-a-hacer?\" data-toc-modified-id=\"¿Qué-vamos-a-hacer?-2\"><span class=\"toc-item-num\">2&nbsp;&nbsp;</span>¿Qué vamos a hacer?</a></span></li><li><span><a href=\"#Importamos-librerías\" data-toc-modified-id=\"Importamos-librerías-3\"><span class=\"toc-item-num\">3&nbsp;&nbsp;</span>Importamos librerías</a></span></li><li><span><a href=\"#Misión-1\" data-toc-modified-id=\"Misión-1-4\"><span class=\"toc-item-num\">4&nbsp;&nbsp;</span>Misión 1</a></span></li><li><span><a href=\"#Token-spotify\" data-toc-modified-id=\"Token-spotify-5\"><span class=\"toc-item-num\">5&nbsp;&nbsp;</span>Token spotify</a></span></li><li><span><a href=\"#Salvamos-el-token-en-nuestro-.env\" data-toc-modified-id=\"Salvamos-el-token-en-nuestro-.env-6\"><span class=\"toc-item-num\">6&nbsp;&nbsp;</span>Salvamos el token en nuestro .env</a></span></li><li><span><a href=\"#📚-Recap-hasta-ahora:\" data-toc-modified-id=\"📚-Recap-hasta-ahora:-7\"><span class=\"toc-item-num\">7&nbsp;&nbsp;</span>📚 Recap hasta ahora:</a></span></li><li><span><a href=\"#Misión-2\" data-toc-modified-id=\"Misión-2-8\"><span class=\"toc-item-num\">8&nbsp;&nbsp;</span>Misión 2</a></span><ul class=\"toc-item\"><li><span><a href=\"#Llamada-a-API-Spotify\" data-toc-modified-id=\"Llamada-a-API-Spotify-8.1\"><span class=\"toc-item-num\">8.1&nbsp;&nbsp;</span>Llamada a API Spotify</a></span><ul class=\"toc-item\"><li><span><a href=\"#Necesitamos-token-y-headers\" data-toc-modified-id=\"Necesitamos-token-y-headers-8.1.1\"><span class=\"toc-item-num\">8.1.1&nbsp;&nbsp;</span>Necesitamos token y headers</a></span></li><li><span><a href=\"#Url-+-endpoint\" data-toc-modified-id=\"Url-+-endpoint-8.1.2\"><span class=\"toc-item-num\">8.1.2&nbsp;&nbsp;</span>Url + endpoint</a></span></li><li><span><a href=\"#Hacemos-la-request\" data-toc-modified-id=\"Hacemos-la-request-8.1.3\"><span class=\"toc-item-num\">8.1.3&nbsp;&nbsp;</span>Hacemos la request</a></span></li></ul></li><li><span><a href=\"#Nos-enfrentamos-al-json-de-la-response\" data-toc-modified-id=\"Nos-enfrentamos-al-json-de-la-response-8.2\"><span class=\"toc-item-num\">8.2&nbsp;&nbsp;</span>Nos enfrentamos al json de la response</a></span><ul class=\"toc-item\"><li><span><a href=\"#Extraemos-las-canciones\" data-toc-modified-id=\"Extraemos-las-canciones-8.2.1\"><span class=\"toc-item-num\">8.2.1&nbsp;&nbsp;</span>Extraemos las canciones</a></span></li><li><span><a href=\"#Extraemos-los-artistas-de-las-canciones\" data-toc-modified-id=\"Extraemos-los-artistas-de-las-canciones-8.2.2\"><span class=\"toc-item-num\">8.2.2&nbsp;&nbsp;</span>Extraemos los artistas de las canciones</a></span></li><li><span><a href=\"#Extraemos-los-users-que-han-añadido-la-canción-a-la-lista\" data-toc-modified-id=\"Extraemos-los-users-que-han-añadido-la-canción-a-la-lista-8.2.3\"><span class=\"toc-item-num\">8.2.3&nbsp;&nbsp;</span>Extraemos los users que han añadido la canción a la lista</a></span></li></ul></li><li><span><a href=\"#¡Nos-lo-llevamos-a-Pandas!-🐼\" data-toc-modified-id=\"¡Nos-lo-llevamos-a-Pandas!-🐼-8.3\"><span class=\"toc-item-num\">8.3&nbsp;&nbsp;</span>¡Nos lo llevamos a Pandas! 🐼</a></span></li></ul></li><li><span><a href=\"#Automatizamos-procesos\" data-toc-modified-id=\"Automatizamos-procesos-9\"><span class=\"toc-item-num\">9&nbsp;&nbsp;</span>Automatizamos procesos</a></span></li><li><span><a href=\"#Misión-3\" data-toc-modified-id=\"Misión-3-10\"><span class=\"toc-item-num\">10&nbsp;&nbsp;</span>Misión 3</a></span></li><li><span><a href=\"#Extraemos-letras-de-las-canciones!\" data-toc-modified-id=\"Extraemos-letras-de-las-canciones!-11\"><span class=\"toc-item-num\">11&nbsp;&nbsp;</span>Extraemos letras de las canciones!</a></span><ul class=\"toc-item\"><li><span><a href=\"#Necesitamos-crear-las-KEYs-para-esta-librería\" data-toc-modified-id=\"Necesitamos-crear-las-KEYs-para-esta-librería-11.1\"><span class=\"toc-item-num\">11.1&nbsp;&nbsp;</span>Necesitamos crear las KEYs para esta librería</a></span></li><li><span><a href=\"#Como-la-librería-necesita-las-keys,-las-sacamos-del-.env\" data-toc-modified-id=\"Como-la-librería-necesita-las-keys,-las-sacamos-del-.env-11.2\"><span class=\"toc-item-num\">11.2&nbsp;&nbsp;</span>Como la librería necesita las keys, las sacamos del .env</a></span></li><li><span><a href=\"#La-guardamos-en-una-variable\" data-toc-modified-id=\"La-guardamos-en-una-variable-11.3\"><span class=\"toc-item-num\">11.3&nbsp;&nbsp;</span>La guardamos en una variable</a></span></li><li><span><a href=\"#Buscamos-una-letra\" data-toc-modified-id=\"Buscamos-una-letra-11.4\"><span class=\"toc-item-num\">11.4&nbsp;&nbsp;</span>Buscamos una letra</a></span></li><li><span><a href=\"#¡¡Muchas-letras!!\" data-toc-modified-id=\"¡¡Muchas-letras!!-11.5\"><span class=\"toc-item-num\">11.5&nbsp;&nbsp;</span>¡¡Muchas letras!!</a></span></li><li><span><a href=\"#Creamos-una-columna-nueva-con-las-letras\" data-toc-modified-id=\"Creamos-una-columna-nueva-con-las-letras-11.6\"><span class=\"toc-item-num\">11.6&nbsp;&nbsp;</span>Creamos una columna nueva con las letras</a></span></li></ul></li></ul></div>"
   ]
  },
  {
   "cell_type": "markdown",
   "id": "sixth-transparency",
   "metadata": {},
   "source": [
    "![data](https://media.giphy.com/media/xT9C25UNTwfZuk85WP/giphy.gif)"
   ]
  },
  {
   "cell_type": "markdown",
   "id": "placed-williams",
   "metadata": {},
   "source": [
    "## ¿Qué significa ETL?\n",
    "**Extract**, **Transform** and **Load** es el proceso que permite a las organizaciones mover datos desde múltiples fuentes, reformatearlos y limpiarlos, y cargarlos en otra base de datos, data mart, o data warehouse para analizar, o en otro sistema operacional para apoyar un proceso de negocio."
   ]
  },
  {
   "cell_type": "markdown",
   "id": "differential-arkansas",
   "metadata": {},
   "source": [
    "## ¿Qué vamos a hacer?\n",
    "- Aprender a usar la API de spotify con Oauth\n",
    "- Extraer datos de dicha API\n",
    "- Limpiarlos y transformarlos\n",
    "- Enriquecerlos\n",
    "- Guardarlos en diferentes bases de datos\n",
    "- Hacer queries para hacer análisis de sentimientos con librerías NLP"
   ]
  },
  {
   "cell_type": "markdown",
   "id": "hungry-victoria",
   "metadata": {},
   "source": [
    "## Importamos librerías"
   ]
  },
  {
   "cell_type": "code",
   "execution_count": 62,
   "id": "statutory-shirt",
   "metadata": {},
   "outputs": [
    {
     "data": {
      "text/plain": [
       "True"
      ]
     },
     "execution_count": 62,
     "metadata": {},
     "output_type": "execute_result"
    }
   ],
   "source": [
    "import os\n",
    "import json\n",
    "import requests\n",
    "from dotenv import load_dotenv\n",
    "load_dotenv()"
   ]
  },
  {
   "cell_type": "markdown",
   "id": "polish-madison",
   "metadata": {},
   "source": [
    "## Misión 1\n",
    " # <center> Obtener el token de Spotify para hacer uso de su API 🗝</center> "
   ]
  },
  {
   "cell_type": "markdown",
   "id": "injured-reset",
   "metadata": {},
   "source": [
    "## Token spotify\n",
    "https://developer.spotify.com/dashboard/login     \n",
    "Necesitamos tener los token CLIENT_ID y SECRET_ID, y los guardamos en el .env. \n",
    "Para llamar a la aapi de spotify y conseguir el token que nos va a permitir hacer request, vamos a tener que guardar unas cuantas variables.   \n",
    "Leed la [Documentación](https://developer.spotify.com/documentation/general/guides/authorization-guide/)"
   ]
  },
  {
   "cell_type": "code",
   "execution_count": 55,
   "id": "tracked-performance",
   "metadata": {},
   "outputs": [
    {
     "name": "stderr",
     "output_type": "stream",
     "text": [
      "/usr/local/Caskroom/miniconda/base/envs/ironhack/lib/python3.8/site-packages/urllib3/connectionpool.py:1013: InsecureRequestWarning: Unverified HTTPS request is being made to host 'accounts.spotify.com'. Adding certificate verification is strongly advised. See: https://urllib3.readthedocs.io/en/latest/advanced-usage.html#ssl-warnings\n",
      "  warnings.warn(\n"
     ]
    }
   ],
   "source": [
    "# Autenticación\n",
    "CLIENT_ID = os.getenv(\"CLIENT_ID\")\n",
    "CLIENT_SECRET = os.getenv(\"CLIENT_SECRET\")\n",
    "\n",
    "#Scope del token\n",
    "grant_type = 'client_credentials'\n",
    "body_params = {'grant_type' : grant_type}\n",
    "#Url a la que pedimos el token\n",
    "url='https://accounts.spotify.com/api/token'\n",
    "    \n",
    "#La request\n",
    "response = requests.post(url, data=body_params, auth = (CLIENT_ID, CLIENT_SECRET), verify=False) "
   ]
  },
  {
   "cell_type": "code",
   "execution_count": 56,
   "id": "greater-afghanistan",
   "metadata": {},
   "outputs": [],
   "source": [
    "#El token\n",
    "token_raw = json.loads(response.text)"
   ]
  },
  {
   "cell_type": "markdown",
   "id": "protective-abuse",
   "metadata": {},
   "source": [
    "Vamos a escribir todo esto en una función porque, como hemos visto, el token expira y así podemos llamarla cuando queramos y reutilizarla. ¡Para esto sirven las funciones!"
   ]
  },
  {
   "cell_type": "code",
   "execution_count": 57,
   "id": "final-silence",
   "metadata": {},
   "outputs": [],
   "source": [
    "def spotifyToken():\n",
    "    \"\"\"\n",
    "    Esta función hace una request a spotify para conseguir \n",
    "    el token que vamos a necesitar para hacer request y que nos dé información la api\n",
    "    \"\"\"\n",
    "    #Autenticación\n",
    "    CLIENT_ID = os.getenv(\"CLIENT_ID\")\n",
    "    CLIENT_SECRET = os.getenv(\"CLIENT_SECRET\")\n",
    "    #Scope del token\n",
    "    grant_type = 'client_credentials'\n",
    "    body_params = {'grant_type' : grant_type}\n",
    "    #Url a la que pedimos el token\n",
    "    url='https://accounts.spotify.com/api/token'\n",
    "    \n",
    "    #La request\n",
    "    response = requests.post(url, data=body_params, auth = (CLIENT_ID, CLIENT_SECRET), verify=False) \n",
    "    \n",
    "    #El token\n",
    "    token_raw = json.loads(response.text)\n",
    "    \n",
    "    try:\n",
    "        token = token_raw['access_token']\n",
    "        return token\n",
    "    \n",
    "    except:\n",
    "        return token_raw"
   ]
  },
  {
   "cell_type": "code",
   "execution_count": 58,
   "id": "dirty-cornell",
   "metadata": {},
   "outputs": [
    {
     "name": "stderr",
     "output_type": "stream",
     "text": [
      "/usr/local/Caskroom/miniconda/base/envs/ironhack/lib/python3.8/site-packages/urllib3/connectionpool.py:1013: InsecureRequestWarning: Unverified HTTPS request is being made to host 'accounts.spotify.com'. Adding certificate verification is strongly advised. See: https://urllib3.readthedocs.io/en/latest/advanced-usage.html#ssl-warnings\n",
      "  warnings.warn(\n"
     ]
    }
   ],
   "source": [
    "token = spotifyToken()"
   ]
  },
  {
   "cell_type": "code",
   "execution_count": 60,
   "id": "swiss-broadcast",
   "metadata": {},
   "outputs": [],
   "source": [
    "#token"
   ]
  },
  {
   "cell_type": "markdown",
   "id": "atmospheric-source",
   "metadata": {},
   "source": [
    "## Salvamos el token en nuestro .env"
   ]
  },
  {
   "cell_type": "code",
   "execution_count": 61,
   "id": "corresponding-yellow",
   "metadata": {},
   "outputs": [
    {
     "name": "stderr",
     "output_type": "stream",
     "text": [
      "/usr/local/Caskroom/miniconda/base/envs/ironhack/lib/python3.8/site-packages/urllib3/connectionpool.py:1013: InsecureRequestWarning: Unverified HTTPS request is being made to host 'accounts.spotify.com'. Adding certificate verification is strongly advised. See: https://urllib3.readthedocs.io/en/latest/advanced-usage.html#ssl-warnings\n",
      "  warnings.warn(\n"
     ]
    }
   ],
   "source": [
    "file = open(\".env\", \"a\")\n",
    "file.write(\"\\n\")\n",
    "file.write(f\"token={spotifyToken()}\")\n",
    "file.close()"
   ]
  },
  {
   "cell_type": "markdown",
   "id": "republican-carry",
   "metadata": {},
   "source": [
    "Hacemos unan función que hace lo mismo para poder reutilizarla"
   ]
  },
  {
   "cell_type": "code",
   "execution_count": 8,
   "id": "obvious-diary",
   "metadata": {},
   "outputs": [],
   "source": [
    "def salva_env(nombre,key):\n",
    "    file = open(\".env\",\"a\")\n",
    "    file.write(\"\\n\")\n",
    "    file.write(f\"{nombre}={key}\")"
   ]
  },
  {
   "cell_type": "code",
   "execution_count": 9,
   "id": "several-conservative",
   "metadata": {},
   "outputs": [],
   "source": [
    "salva_env(\"token\",token)"
   ]
  },
  {
   "cell_type": "markdown",
   "id": "brief-adapter",
   "metadata": {},
   "source": [
    "## 📚 Recap hasta ahora:\n",
    "\n",
    "**Lo que hemos hecho**\n",
    "- 1. Conseguimos nuestra autentificación de Spotify\n",
    "- 2. Con eso, conseguimos nuestro `token` de spotify\n",
    "- 3. Guardamos el `token` en el .env <br>\n",
    "<br>\n",
    "\n",
    "**Para recordar**\n",
    "\n",
    "- **CLIENT_ID** & **CLIENT_SECRET** es sólo un medio para obtener el `token`, no la autenticidad en sí.\n",
    "- El `token` expira"
   ]
  },
  {
   "cell_type": "markdown",
   "id": "atlantic-disclosure",
   "metadata": {},
   "source": [
    " ## Misión 2\n",
    " # <center> Obtener la lista de canciones y artistas de la API de Spotify 🔥</center>\n",
    "Pero no vayamos a olvidarnos de la [documentación](https://developer.spotify.com/console/)   \n",
    "Lo primero que vamos a hacer es una llamada a la API    \n",
    "Recordemos la sintaxis:       \n",
    "\n",
    "       \n",
    "`request.get(url, headers)`"
   ]
  },
  {
   "cell_type": "markdown",
   "id": "designing-grant",
   "metadata": {},
   "source": [
    "### Llamada a API Spotify"
   ]
  },
  {
   "cell_type": "markdown",
   "id": "stopped-intermediate",
   "metadata": {},
   "source": [
    "#### Necesitamos token y headers"
   ]
  },
  {
   "cell_type": "code",
   "execution_count": 63,
   "id": "continuous-language",
   "metadata": {},
   "outputs": [],
   "source": [
    "# Por si necesitáramos el token, aunque ya lo tenemos\n",
    "token = os.getenv(\"token\")"
   ]
  },
  {
   "cell_type": "code",
   "execution_count": 64,
   "id": "outstanding-grenada",
   "metadata": {},
   "outputs": [
    {
     "data": {
      "text/plain": [
       "'BQDamQ3cCECPr7T4ay9zFhljcWHu_tbWQnpdgKWd4qaeORCOBKID0WrapfaQhO9gdYs6blsZsGzYn65k4Wg'"
      ]
     },
     "execution_count": 64,
     "metadata": {},
     "output_type": "execute_result"
    }
   ],
   "source": [
    "#token"
   ]
  },
  {
   "cell_type": "code",
   "execution_count": 65,
   "id": "embedded-hamburg",
   "metadata": {},
   "outputs": [],
   "source": [
    "headers = {\n",
    "    'Authorization': f'Bearer {token}'\n",
    "}"
   ]
  },
  {
   "cell_type": "markdown",
   "id": "exterior-gibraltar",
   "metadata": {},
   "source": [
    "#### Url + endpoint"
   ]
  },
  {
   "cell_type": "code",
   "execution_count": 66,
   "id": "operating-fleece",
   "metadata": {},
   "outputs": [],
   "source": [
    "url_base = \"https://api.spotify.com/v1/\""
   ]
  },
  {
   "cell_type": "markdown",
   "id": "cordless-queensland",
   "metadata": {},
   "source": [
    "El ID de la lista de la cual queremos hacer la request"
   ]
  },
  {
   "cell_type": "code",
   "execution_count": 67,
   "id": "experienced-fancy",
   "metadata": {},
   "outputs": [],
   "source": [
    "playlist_id = \"6hrGEF3uh9ZZtn2WrpLqNK\""
   ]
  },
  {
   "cell_type": "code",
   "execution_count": 68,
   "id": "catholic-vertex",
   "metadata": {},
   "outputs": [],
   "source": [
    "endpoint = f\"playlists/{playlist_id}\""
   ]
  },
  {
   "cell_type": "code",
   "execution_count": 69,
   "id": "patient-import",
   "metadata": {},
   "outputs": [],
   "source": [
    "query = url_base + endpoint"
   ]
  },
  {
   "cell_type": "markdown",
   "id": "wanted-bradford",
   "metadata": {},
   "source": [
    "#### Hacemos la request"
   ]
  },
  {
   "cell_type": "code",
   "execution_count": 70,
   "id": "signed-vampire",
   "metadata": {},
   "outputs": [],
   "source": [
    "response = requests.get(query, headers = headers).json()"
   ]
  },
  {
   "cell_type": "markdown",
   "id": "threatened-involvement",
   "metadata": {},
   "source": [
    "### Nos enfrentamos al json de la response"
   ]
  },
  {
   "cell_type": "code",
   "execution_count": 72,
   "id": "attempted-check",
   "metadata": {},
   "outputs": [],
   "source": [
    "#response"
   ]
  },
  {
   "cell_type": "code",
   "execution_count": 73,
   "id": "dirty-leisure",
   "metadata": {},
   "outputs": [],
   "source": [
    "import pandas as pd\n",
    "df = pd.json_normalize(response)"
   ]
  },
  {
   "cell_type": "code",
   "execution_count": 74,
   "id": "vocational-tract",
   "metadata": {},
   "outputs": [
    {
     "data": {
      "text/html": [
       "<div>\n",
       "<style scoped>\n",
       "    .dataframe tbody tr th:only-of-type {\n",
       "        vertical-align: middle;\n",
       "    }\n",
       "\n",
       "    .dataframe tbody tr th {\n",
       "        vertical-align: top;\n",
       "    }\n",
       "\n",
       "    .dataframe thead th {\n",
       "        text-align: right;\n",
       "    }\n",
       "</style>\n",
       "<table border=\"1\" class=\"dataframe\">\n",
       "  <thead>\n",
       "    <tr style=\"text-align: right;\">\n",
       "      <th></th>\n",
       "      <th>collaborative</th>\n",
       "      <th>description</th>\n",
       "      <th>href</th>\n",
       "      <th>id</th>\n",
       "      <th>images</th>\n",
       "      <th>name</th>\n",
       "      <th>primary_color</th>\n",
       "      <th>public</th>\n",
       "      <th>snapshot_id</th>\n",
       "      <th>type</th>\n",
       "      <th>...</th>\n",
       "      <th>owner.id</th>\n",
       "      <th>owner.type</th>\n",
       "      <th>owner.uri</th>\n",
       "      <th>tracks.href</th>\n",
       "      <th>tracks.items</th>\n",
       "      <th>tracks.limit</th>\n",
       "      <th>tracks.next</th>\n",
       "      <th>tracks.offset</th>\n",
       "      <th>tracks.previous</th>\n",
       "      <th>tracks.total</th>\n",
       "    </tr>\n",
       "  </thead>\n",
       "  <tbody>\n",
       "    <tr>\n",
       "      <th>0</th>\n",
       "      <td>True</td>\n",
       "      <td></td>\n",
       "      <td>https://api.spotify.com/v1/playlists/6hrGEF3uh...</td>\n",
       "      <td>6hrGEF3uh9ZZtn2WrpLqNK</td>\n",
       "      <td>[{'height': 640, 'url': 'https://mosaic.scdn.c...</td>\n",
       "      <td>datamad0321 🚀</td>\n",
       "      <td>None</td>\n",
       "      <td>False</td>\n",
       "      <td>MTE1LDk4ZjU3NWIxOTYyNWQ3ZDY2ZjhiYmE0ZWNlYjMwMG...</td>\n",
       "      <td>playlist</td>\n",
       "      <td>...</td>\n",
       "      <td>ferqwertyuiop</td>\n",
       "      <td>user</td>\n",
       "      <td>spotify:user:ferqwertyuiop</td>\n",
       "      <td>https://api.spotify.com/v1/playlists/6hrGEF3uh...</td>\n",
       "      <td>[{'added_at': '2021-03-23T14:48:50Z', 'added_b...</td>\n",
       "      <td>100</td>\n",
       "      <td>None</td>\n",
       "      <td>0</td>\n",
       "      <td>None</td>\n",
       "      <td>81</td>\n",
       "    </tr>\n",
       "  </tbody>\n",
       "</table>\n",
       "<p>1 rows × 27 columns</p>\n",
       "</div>"
      ],
      "text/plain": [
       "   collaborative description  \\\n",
       "0           True               \n",
       "\n",
       "                                                href                      id  \\\n",
       "0  https://api.spotify.com/v1/playlists/6hrGEF3uh...  6hrGEF3uh9ZZtn2WrpLqNK   \n",
       "\n",
       "                                              images           name  \\\n",
       "0  [{'height': 640, 'url': 'https://mosaic.scdn.c...  datamad0321 🚀   \n",
       "\n",
       "  primary_color  public                                        snapshot_id  \\\n",
       "0          None   False  MTE1LDk4ZjU3NWIxOTYyNWQ3ZDY2ZjhiYmE0ZWNlYjMwMG...   \n",
       "\n",
       "       type  ...       owner.id owner.type                   owner.uri  \\\n",
       "0  playlist  ...  ferqwertyuiop       user  spotify:user:ferqwertyuiop   \n",
       "\n",
       "                                         tracks.href  \\\n",
       "0  https://api.spotify.com/v1/playlists/6hrGEF3uh...   \n",
       "\n",
       "                                        tracks.items tracks.limit tracks.next  \\\n",
       "0  [{'added_at': '2021-03-23T14:48:50Z', 'added_b...          100        None   \n",
       "\n",
       "  tracks.offset tracks.previous tracks.total  \n",
       "0             0            None           81  \n",
       "\n",
       "[1 rows x 27 columns]"
      ]
     },
     "execution_count": 74,
     "metadata": {},
     "output_type": "execute_result"
    }
   ],
   "source": [
    "df.head()"
   ]
  },
  {
   "cell_type": "code",
   "execution_count": 75,
   "id": "banned-training",
   "metadata": {},
   "outputs": [
    {
     "data": {
      "text/plain": [
       "dict_keys(['collaborative', 'description', 'external_urls', 'followers', 'href', 'id', 'images', 'name', 'owner', 'primary_color', 'public', 'snapshot_id', 'tracks', 'type', 'uri'])"
      ]
     },
     "execution_count": 75,
     "metadata": {},
     "output_type": "execute_result"
    }
   ],
   "source": [
    "response.keys()"
   ]
  },
  {
   "cell_type": "code",
   "execution_count": 76,
   "id": "vietnamese-albert",
   "metadata": {},
   "outputs": [
    {
     "data": {
      "text/plain": [
       "dict_keys(['href', 'items', 'limit', 'next', 'offset', 'previous', 'total'])"
      ]
     },
     "execution_count": 76,
     "metadata": {},
     "output_type": "execute_result"
    }
   ],
   "source": [
    "response[\"tracks\"].keys()"
   ]
  },
  {
   "cell_type": "markdown",
   "id": "brief-vacation",
   "metadata": {},
   "source": [
    "#### Extraemos las canciones"
   ]
  },
  {
   "cell_type": "code",
   "execution_count": 77,
   "id": "prostate-copying",
   "metadata": {},
   "outputs": [],
   "source": [
    "# Vamos a obtener solo las canciones\n",
    "cada_cancion = response['tracks']['items']\n",
    "#cada_cancion[0]"
   ]
  },
  {
   "cell_type": "code",
   "execution_count": 78,
   "id": "continuous-portrait",
   "metadata": {},
   "outputs": [
    {
     "data": {
      "text/plain": [
       "81"
      ]
     },
     "execution_count": 78,
     "metadata": {},
     "output_type": "execute_result"
    }
   ],
   "source": [
    "len(cada_cancion)"
   ]
  },
  {
   "cell_type": "markdown",
   "id": "addressed-business",
   "metadata": {},
   "source": [
    "#### Extraemos los artistas de las canciones"
   ]
  },
  {
   "cell_type": "code",
   "execution_count": 79,
   "id": "dangerous-sculpture",
   "metadata": {},
   "outputs": [
    {
     "data": {
      "text/plain": [
       "'Calavera'"
      ]
     },
     "execution_count": 79,
     "metadata": {},
     "output_type": "execute_result"
    }
   ],
   "source": [
    "artista = cada_cancion[80]['track']['artists'][0]['name']\n",
    "artista"
   ]
  },
  {
   "cell_type": "markdown",
   "id": "imperial-operations",
   "metadata": {},
   "source": [
    "#### Extraemos los users que han añadido la canción a la lista"
   ]
  },
  {
   "cell_type": "code",
   "execution_count": 80,
   "id": "moved-quantity",
   "metadata": {},
   "outputs": [
    {
     "data": {
      "text/plain": [
       "'soyungalgo'"
      ]
     },
     "execution_count": 80,
     "metadata": {},
     "output_type": "execute_result"
    }
   ],
   "source": [
    "usuario = cada_cancion[80]['added_by']['id']\n",
    "usuario"
   ]
  },
  {
   "cell_type": "markdown",
   "id": "higher-correspondence",
   "metadata": {},
   "source": [
    "### ¡Nos lo llevamos a Pandas! 🐼\n",
    "¿Cómo? Vamos a iterar por toda la lista de canciones y hacemos una lista de diccionarios con la información que necesitamos para hacernos un dataframe"
   ]
  },
  {
   "cell_type": "code",
   "execution_count": 81,
   "id": "adjacent-voice",
   "metadata": {},
   "outputs": [],
   "source": [
    "toda_info = []\n",
    "for tema in range(len(cada_cancion)):\n",
    "    temporal = {}\n",
    "    temporal[\"artista\"] = cada_cancion[tema]['track']['artists'][0]['name']\n",
    "    temporal[\"nombre\"] = cada_cancion[tema]['track']['name']\n",
    "    temporal[\"ironhacker\"] = cada_cancion[tema]['added_by']['id']\n",
    "    toda_info.append(temporal)"
   ]
  },
  {
   "cell_type": "code",
   "execution_count": 82,
   "id": "experimental-biotechnology",
   "metadata": {},
   "outputs": [
    {
     "data": {
      "text/html": [
       "<div>\n",
       "<style scoped>\n",
       "    .dataframe tbody tr th:only-of-type {\n",
       "        vertical-align: middle;\n",
       "    }\n",
       "\n",
       "    .dataframe tbody tr th {\n",
       "        vertical-align: top;\n",
       "    }\n",
       "\n",
       "    .dataframe thead th {\n",
       "        text-align: right;\n",
       "    }\n",
       "</style>\n",
       "<table border=\"1\" class=\"dataframe\">\n",
       "  <thead>\n",
       "    <tr style=\"text-align: right;\">\n",
       "      <th></th>\n",
       "      <th>artista</th>\n",
       "      <th>nombre</th>\n",
       "      <th>ironhacker</th>\n",
       "    </tr>\n",
       "  </thead>\n",
       "  <tbody>\n",
       "    <tr>\n",
       "      <th>80</th>\n",
       "      <td>Calavera</td>\n",
       "      <td>No te das cuenta</td>\n",
       "      <td>soyungalgo</td>\n",
       "    </tr>\n",
       "    <tr>\n",
       "      <th>11</th>\n",
       "      <td>Me First and the Gimme Gimmes</td>\n",
       "      <td>Favorite Things</td>\n",
       "      <td>entzo</td>\n",
       "    </tr>\n",
       "    <tr>\n",
       "      <th>46</th>\n",
       "      <td>Alphaville</td>\n",
       "      <td>Forever Young</td>\n",
       "      <td>11124266126</td>\n",
       "    </tr>\n",
       "    <tr>\n",
       "      <th>29</th>\n",
       "      <td>Buena Vista Social Club</td>\n",
       "      <td>Chan Chan - Live</td>\n",
       "      <td>1194170124</td>\n",
       "    </tr>\n",
       "    <tr>\n",
       "      <th>47</th>\n",
       "      <td>The Alan Parsons Project</td>\n",
       "      <td>Eye In The Sky</td>\n",
       "      <td>11124266126</td>\n",
       "    </tr>\n",
       "    <tr>\n",
       "      <th>21</th>\n",
       "      <td>Mon Band</td>\n",
       "      <td>Quimica Brutal</td>\n",
       "      <td>soyungalgo</td>\n",
       "    </tr>\n",
       "    <tr>\n",
       "      <th>62</th>\n",
       "      <td>Litus</td>\n",
       "      <td>Margaret Keane</td>\n",
       "      <td>soyungalgo</td>\n",
       "    </tr>\n",
       "    <tr>\n",
       "      <th>37</th>\n",
       "      <td>Masego</td>\n",
       "      <td>Tadow</td>\n",
       "      <td>1194170124</td>\n",
       "    </tr>\n",
       "    <tr>\n",
       "      <th>41</th>\n",
       "      <td>Andrés Calamaro</td>\n",
       "      <td>Loco</td>\n",
       "      <td>javiercabrera9627</td>\n",
       "    </tr>\n",
       "    <tr>\n",
       "      <th>35</th>\n",
       "      <td>Andrés Calamaro</td>\n",
       "      <td>Victoria y Soledad</td>\n",
       "      <td>q3e2mxzn5mdtipnmohkaa5gy3</td>\n",
       "    </tr>\n",
       "  </tbody>\n",
       "</table>\n",
       "</div>"
      ],
      "text/plain": [
       "                          artista              nombre  \\\n",
       "80                       Calavera    No te das cuenta   \n",
       "11  Me First and the Gimme Gimmes     Favorite Things   \n",
       "46                     Alphaville       Forever Young   \n",
       "29        Buena Vista Social Club    Chan Chan - Live   \n",
       "47       The Alan Parsons Project      Eye In The Sky   \n",
       "21                       Mon Band      Quimica Brutal   \n",
       "62                          Litus      Margaret Keane   \n",
       "37                         Masego               Tadow   \n",
       "41                Andrés Calamaro                Loco   \n",
       "35                Andrés Calamaro  Victoria y Soledad   \n",
       "\n",
       "                   ironhacker  \n",
       "80                 soyungalgo  \n",
       "11                      entzo  \n",
       "46                11124266126  \n",
       "29                 1194170124  \n",
       "47                11124266126  \n",
       "21                 soyungalgo  \n",
       "62                 soyungalgo  \n",
       "37                 1194170124  \n",
       "41          javiercabrera9627  \n",
       "35  q3e2mxzn5mdtipnmohkaa5gy3  "
      ]
     },
     "execution_count": 82,
     "metadata": {},
     "output_type": "execute_result"
    }
   ],
   "source": [
    "df = pd.DataFrame(toda_info)\n",
    "df.sample(10)"
   ]
  },
  {
   "cell_type": "markdown",
   "id": "deluxe-geneva",
   "metadata": {},
   "source": [
    "## Automatizamos procesos\n",
    "Todo lo que vamos escribiendo en líneas de código, podemos hacerlo con funciones, y que estas funciones nos sirvan para poder hacer el mismo proceso con un par de funciones"
   ]
  },
  {
   "cell_type": "code",
   "execution_count": 83,
   "id": "loose-criminal",
   "metadata": {},
   "outputs": [],
   "source": [
    "def spotifyPlaylist (playlist_id):\n",
    "    '''Esto devolverá la información de una determinada lista de reproducción de Spotify.\n",
    "    Args: playlist_id como string\n",
    "    Devuelve: json'''\n",
    "    \n",
    "    token = os.getenv(\"token\")\n",
    "    headers = {\n",
    "    'Authorization': f'Bearer {token}'\n",
    "}\n",
    "    url_base = \"https://api.spotify.com/v1/\"\n",
    "    endpoint = f\"playlists/{playlist_id}\"\n",
    "    query = url_base + endpoint\n",
    "    lista = requests.get(query, headers = headers)\n",
    "    \n",
    "    return lista.json()"
   ]
  },
  {
   "cell_type": "code",
   "execution_count": 84,
   "id": "blind-trout",
   "metadata": {},
   "outputs": [],
   "source": [
    "play = spotifyPlaylist(\"4UbChG0JiHRFrwjvQvG2LJ\")"
   ]
  },
  {
   "cell_type": "code",
   "execution_count": 88,
   "id": "accomplished-telephone",
   "metadata": {},
   "outputs": [],
   "source": [
    "def getUserSongArtist(playlist_id):\n",
    "    \"\"\"\n",
    "    Extraemos la información que necesitamos de la lista\n",
    "    y devuelve un dataframae\n",
    "    \"\"\"\n",
    "    lista = playlist_id['tracks']['items']\n",
    "    toda_info = []\n",
    "    for tema in range(len(lista)):\n",
    "        temporal = {}\n",
    "        temporal[\"artista\"] = lista[tema]['track']['artists'][0]['name']\n",
    "        temporal[\"nombre\"] = lista[tema]['track']['name']\n",
    "        temporal[\"ironhacker\"] = lista[tema]['added_by']['id']\n",
    "        toda_info.append(temporal)\n",
    "    \n",
    "    return pd.DataFrame(toda_info)\n",
    "    "
   ]
  },
  {
   "cell_type": "code",
   "execution_count": 89,
   "id": "fuzzy-kazakhstan",
   "metadata": {},
   "outputs": [],
   "source": [
    "def make_all(playlist_id):\n",
    "    \"\"\"\n",
    "    Utiliza las dos funciones anteriores para recoger la información de la lista\n",
    "    y después devuelve el dataframe\n",
    "    \"\"\"\n",
    "    playlist = spotifyPlaylist(playlist_id)\n",
    "    return getUserSongArtist(playlist)"
   ]
  },
  {
   "cell_type": "code",
   "execution_count": 90,
   "id": "found-zoning",
   "metadata": {},
   "outputs": [
    {
     "data": {
      "text/html": [
       "<div>\n",
       "<style scoped>\n",
       "    .dataframe tbody tr th:only-of-type {\n",
       "        vertical-align: middle;\n",
       "    }\n",
       "\n",
       "    .dataframe tbody tr th {\n",
       "        vertical-align: top;\n",
       "    }\n",
       "\n",
       "    .dataframe thead th {\n",
       "        text-align: right;\n",
       "    }\n",
       "</style>\n",
       "<table border=\"1\" class=\"dataframe\">\n",
       "  <thead>\n",
       "    <tr style=\"text-align: right;\">\n",
       "      <th></th>\n",
       "      <th>artista</th>\n",
       "      <th>nombre</th>\n",
       "      <th>ironhacker</th>\n",
       "    </tr>\n",
       "  </thead>\n",
       "  <tbody>\n",
       "    <tr>\n",
       "      <th>0</th>\n",
       "      <td>Fuel Fandango</td>\n",
       "      <td>Mi danza (feat. Dani de Morón)</td>\n",
       "      <td>soyungalgo</td>\n",
       "    </tr>\n",
       "    <tr>\n",
       "      <th>1</th>\n",
       "      <td>Zahara</td>\n",
       "      <td>MERICHANE</td>\n",
       "      <td>soyungalgo</td>\n",
       "    </tr>\n",
       "    <tr>\n",
       "      <th>2</th>\n",
       "      <td>LOS NIKIS</td>\n",
       "      <td>Olaf el vikingo</td>\n",
       "      <td>toni085</td>\n",
       "    </tr>\n",
       "    <tr>\n",
       "      <th>3</th>\n",
       "      <td>rusowsky</td>\n",
       "      <td>So So</td>\n",
       "      <td>ferqwertyuiop</td>\n",
       "    </tr>\n",
       "    <tr>\n",
       "      <th>4</th>\n",
       "      <td>Chico Blanco</td>\n",
       "      <td>WTF Is In My Cup</td>\n",
       "      <td>1182774545</td>\n",
       "    </tr>\n",
       "    <tr>\n",
       "      <th>...</th>\n",
       "      <td>...</td>\n",
       "      <td>...</td>\n",
       "      <td>...</td>\n",
       "    </tr>\n",
       "    <tr>\n",
       "      <th>62</th>\n",
       "      <td>Samaran</td>\n",
       "      <td>Paris Madness</td>\n",
       "      <td>1182774545</td>\n",
       "    </tr>\n",
       "    <tr>\n",
       "      <th>63</th>\n",
       "      <td>Lewis OfMan</td>\n",
       "      <td>Attitude</td>\n",
       "      <td>1182774545</td>\n",
       "    </tr>\n",
       "    <tr>\n",
       "      <th>64</th>\n",
       "      <td>Gavinco</td>\n",
       "      <td>Silver</td>\n",
       "      <td>1182774545</td>\n",
       "    </tr>\n",
       "    <tr>\n",
       "      <th>65</th>\n",
       "      <td>Vengaboys</td>\n",
       "      <td>Up &amp; Down</td>\n",
       "      <td>toni085</td>\n",
       "    </tr>\n",
       "    <tr>\n",
       "      <th>66</th>\n",
       "      <td>Bicep</td>\n",
       "      <td>Glue</td>\n",
       "      <td>1182774545</td>\n",
       "    </tr>\n",
       "  </tbody>\n",
       "</table>\n",
       "<p>67 rows × 3 columns</p>\n",
       "</div>"
      ],
      "text/plain": [
       "          artista                          nombre     ironhacker\n",
       "0   Fuel Fandango  Mi danza (feat. Dani de Morón)     soyungalgo\n",
       "1          Zahara                       MERICHANE     soyungalgo\n",
       "2       LOS NIKIS                 Olaf el vikingo        toni085\n",
       "3        rusowsky                           So So  ferqwertyuiop\n",
       "4    Chico Blanco                WTF Is In My Cup     1182774545\n",
       "..            ...                             ...            ...\n",
       "62        Samaran                   Paris Madness     1182774545\n",
       "63    Lewis OfMan                        Attitude     1182774545\n",
       "64        Gavinco                          Silver     1182774545\n",
       "65      Vengaboys                       Up & Down        toni085\n",
       "66          Bicep                            Glue     1182774545\n",
       "\n",
       "[67 rows x 3 columns]"
      ]
     },
     "execution_count": 90,
     "metadata": {},
     "output_type": "execute_result"
    }
   ],
   "source": [
    "make_all(\"4UbChG0JiHRFrwjvQvG2LJ\")"
   ]
  },
  {
   "cell_type": "markdown",
   "id": "analyzed-mason",
   "metadata": {},
   "source": [
    "# 📚 Recap hasta ahora:\n",
    "\n",
    "**Lo que hicimos**\n",
    "- 1. Hicimos una llamada a la API de Spotify: para obtener la información de la lista\n",
    "- 2. Obtenemos sólo las canciones y los artistas del json\n",
    "- 3. Hacemos funcionoes que automatizan procesos y reutilizan códigoo\n",
    "- 4. Tenemos un dataframe\n",
    "<br>\n",
    "\n",
    "**Para recordar**\n",
    "\n",
    "- Añade el `.env` al `.gitignore`."
   ]
  },
  {
   "cell_type": "markdown",
   "id": "artistic-power",
   "metadata": {},
   "source": [
    " ## Misión 3\n",
    " # <center> Obtener las letras de las canciones con \"lyrics_extractor\"</center>\n",
    "## Extraemos letras de las canciones!\n",
    "Lyrics extractor es una librería que escrapea por nosotras algunas páginas de letras de canciones.     \n",
    "Echamos un ojo a la [documentación](https://pypi.org/project/lyrics-extractor/) SIEMPRE, sobre todo a la parte de **Requirements** que nos va a explicar las cosas que necesitamos tener para que funcione.  \n",
    "### Necesitamos crear las KEYs para esta librería\n",
    "1.1.1. **[Primero](https://cse.google.com/cse/create/new)**, crear un motor de búsqueda personalizado: seleccionar un sitio web de letras para raspar. por ejemplo: www.genius.com <br> \n",
    "1.1.2. **Segundo**, `Edita tu motor de búsqueda > selecciona tu web > Copia tu ID de motor de búsqueda`. \n",
    "Ahora tiene su **GCS_ENGINE_ID**<br>\n",
    "1.1.3. **[Entonces](https://developers.google.com/custom-search/v1/overview)**, `Obtener una clave > Seleccionar proyecto > copiar la clave API del buscador`. Ahora tiene su **GCS_API_KEY**."
   ]
  },
  {
   "cell_type": "code",
   "execution_count": 91,
   "id": "reflected-maryland",
   "metadata": {},
   "outputs": [],
   "source": [
    "from lyrics_extractor import SongLyrics"
   ]
  },
  {
   "cell_type": "markdown",
   "id": "silver-ribbon",
   "metadata": {},
   "source": [
    "### Como la librería necesita las keys, las sacamos del .env"
   ]
  },
  {
   "cell_type": "code",
   "execution_count": 92,
   "id": "advised-contrast",
   "metadata": {},
   "outputs": [],
   "source": [
    "GCS_API_KEY = os.getenv(\"GCS_API_KEY\")\n",
    "GCS_ENGINE_ID = os.getenv(\"GCS_ENGINE_ID\")"
   ]
  },
  {
   "cell_type": "markdown",
   "id": "featured-concern",
   "metadata": {},
   "source": [
    "### La guardamos en una variable\n",
    "Guardamos la librería en una variable llamando a SongLyrics y pasándole las claves "
   ]
  },
  {
   "cell_type": "code",
   "execution_count": 93,
   "id": "center-electric",
   "metadata": {},
   "outputs": [],
   "source": [
    "extract_lyrics = SongLyrics(GCS_API_KEY, GCS_ENGINE_ID)"
   ]
  },
  {
   "cell_type": "markdown",
   "id": "julian-lincoln",
   "metadata": {},
   "source": [
    "### Buscamos una letra"
   ]
  },
  {
   "cell_type": "code",
   "execution_count": 102,
   "id": "passive-shock",
   "metadata": {},
   "outputs": [],
   "source": [
    "letra = extract_lyrics.get_lyrics(\"shape of you\")\n",
    "#letra"
   ]
  },
  {
   "cell_type": "code",
   "execution_count": 96,
   "id": "unavailable-chicken",
   "metadata": {},
   "outputs": [
    {
     "data": {
      "text/plain": [
       "dict"
      ]
     },
     "execution_count": 96,
     "metadata": {},
     "output_type": "execute_result"
    }
   ],
   "source": [
    "# Esta librería nos devuelve un diccionario del que solo queremos un value concreto\n",
    "type(letra)"
   ]
  },
  {
   "cell_type": "code",
   "execution_count": 97,
   "id": "optical-dryer",
   "metadata": {},
   "outputs": [
    {
     "data": {
      "text/plain": [
       "dict_keys(['title', 'lyrics'])"
      ]
     },
     "execution_count": 97,
     "metadata": {},
     "output_type": "execute_result"
    }
   ],
   "source": [
    "letra.keys()"
   ]
  },
  {
   "cell_type": "code",
   "execution_count": 101,
   "id": "infectious-needle",
   "metadata": {},
   "outputs": [],
   "source": [
    "letra_bien = letra[\"lyrics\"]\n",
    "#print(letra_bien)"
   ]
  },
  {
   "cell_type": "markdown",
   "id": "recreational-weekend",
   "metadata": {},
   "source": [
    "### ¡¡Muchas letras!!"
   ]
  },
  {
   "cell_type": "code",
   "execution_count": 106,
   "id": "happy-publicity",
   "metadata": {},
   "outputs": [],
   "source": [
    "def letras(tema):\n",
    "    try:\n",
    "        letra = extract_lyrics.get_lyrics(tema)\n",
    "        solo_letra = letra[\"lyrics\"]\n",
    "        return solo_letra\n",
    "    except: \n",
    "        return np.nan"
   ]
  },
  {
   "cell_type": "code",
   "execution_count": 108,
   "id": "liked-controversy",
   "metadata": {},
   "outputs": [],
   "source": [
    "import numpy as np"
   ]
  },
  {
   "cell_type": "markdown",
   "id": "excess-nickel",
   "metadata": {},
   "source": [
    "### Creamos una columna nueva con las letras"
   ]
  },
  {
   "cell_type": "code",
   "execution_count": 109,
   "id": "final-explanation",
   "metadata": {},
   "outputs": [],
   "source": [
    "df[\"letra\"] = df.nombre.apply(letras)"
   ]
  },
  {
   "cell_type": "code",
   "execution_count": 110,
   "id": "concrete-miller",
   "metadata": {},
   "outputs": [
    {
     "data": {
      "text/html": [
       "<div>\n",
       "<style scoped>\n",
       "    .dataframe tbody tr th:only-of-type {\n",
       "        vertical-align: middle;\n",
       "    }\n",
       "\n",
       "    .dataframe tbody tr th {\n",
       "        vertical-align: top;\n",
       "    }\n",
       "\n",
       "    .dataframe thead th {\n",
       "        text-align: right;\n",
       "    }\n",
       "</style>\n",
       "<table border=\"1\" class=\"dataframe\">\n",
       "  <thead>\n",
       "    <tr style=\"text-align: right;\">\n",
       "      <th></th>\n",
       "      <th>artista</th>\n",
       "      <th>nombre</th>\n",
       "      <th>ironhacker</th>\n",
       "      <th>letra</th>\n",
       "    </tr>\n",
       "  </thead>\n",
       "  <tbody>\n",
       "    <tr>\n",
       "      <th>0</th>\n",
       "      <td>Hocus Pocus</td>\n",
       "      <td>Hip Hop ?</td>\n",
       "      <td>ferqwertyuiop</td>\n",
       "      <td>[Intro]\\nThat's what it is, uh huh\\nNick Wiz, ...</td>\n",
       "    </tr>\n",
       "    <tr>\n",
       "      <th>1</th>\n",
       "      <td>rusowsky</td>\n",
       "      <td>So So</td>\n",
       "      <td>ferqwertyuiop</td>\n",
       "      <td>[Intro]\\nWhy is it hard on my own though\\nWhy ...</td>\n",
       "    </tr>\n",
       "    <tr>\n",
       "      <th>2</th>\n",
       "      <td>Dominic Fike</td>\n",
       "      <td>Phone Numbers</td>\n",
       "      <td>ferqwertyuiop</td>\n",
       "      <td>[Intro]\\nCan you break bread with me?\\nBreak b...</td>\n",
       "    </tr>\n",
       "    <tr>\n",
       "      <th>3</th>\n",
       "      <td>Renaldo &amp; Clara</td>\n",
       "      <td>L'amor fa calor</td>\n",
       "      <td>ferqwertyuiop</td>\n",
       "      <td>Oh oh l'amor oh oh fa calor oh oh\\nOh oh l'amo...</td>\n",
       "    </tr>\n",
       "    <tr>\n",
       "      <th>4</th>\n",
       "      <td>KYTES</td>\n",
       "      <td>Alright</td>\n",
       "      <td>ferqwertyuiop</td>\n",
       "      <td>[Produced by Pharrell Williams &amp; Sounwave]\\n[D...</td>\n",
       "    </tr>\n",
       "  </tbody>\n",
       "</table>\n",
       "</div>"
      ],
      "text/plain": [
       "           artista           nombre     ironhacker  \\\n",
       "0      Hocus Pocus        Hip Hop ?  ferqwertyuiop   \n",
       "1         rusowsky            So So  ferqwertyuiop   \n",
       "2     Dominic Fike    Phone Numbers  ferqwertyuiop   \n",
       "3  Renaldo & Clara  L'amor fa calor  ferqwertyuiop   \n",
       "4            KYTES          Alright  ferqwertyuiop   \n",
       "\n",
       "                                               letra  \n",
       "0  [Intro]\\nThat's what it is, uh huh\\nNick Wiz, ...  \n",
       "1  [Intro]\\nWhy is it hard on my own though\\nWhy ...  \n",
       "2  [Intro]\\nCan you break bread with me?\\nBreak b...  \n",
       "3  Oh oh l'amor oh oh fa calor oh oh\\nOh oh l'amo...  \n",
       "4  [Produced by Pharrell Williams & Sounwave]\\n[D...  "
      ]
     },
     "execution_count": 110,
     "metadata": {},
     "output_type": "execute_result"
    }
   ],
   "source": [
    "df.head()"
   ]
  },
  {
   "cell_type": "code",
   "execution_count": 111,
   "id": "interior-maker",
   "metadata": {},
   "outputs": [],
   "source": [
    "df.to_csv(\"output/playlist_letras.csv\", index=False)"
   ]
  }
 ],
 "metadata": {
  "kernelspec": {
   "display_name": "ironhack",
   "language": "python",
   "name": "ironhack"
  },
  "language_info": {
   "codemirror_mode": {
    "name": "ipython",
    "version": 3
   },
   "file_extension": ".py",
   "mimetype": "text/x-python",
   "name": "python",
   "nbconvert_exporter": "python",
   "pygments_lexer": "ipython3",
   "version": "3.8.5"
  },
  "toc": {
   "base_numbering": 1,
   "nav_menu": {},
   "number_sections": true,
   "sideBar": true,
   "skip_h1_title": true,
   "title_cell": "Table of Contents",
   "title_sidebar": "Contents",
   "toc_cell": true,
   "toc_position": {},
   "toc_section_display": true,
   "toc_window_display": false
  }
 },
 "nbformat": 4,
 "nbformat_minor": 5
}
