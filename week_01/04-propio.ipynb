{
 "cells": [
  {
   "cell_type": "markdown",
   "id": "seeing-lexington",
   "metadata": {
    "toc": true
   },
   "source": [
    "<h1>Table of Contents<span class=\"tocSkip\"></span></h1>\n",
    "<div class=\"toc\"><ul class=\"toc-item\"><li><span><a href=\"#Operadores-de-asignación\" data-toc-modified-id=\"Operadores-de-asignación-1\"><span class=\"toc-item-num\">1&nbsp;&nbsp;</span>Operadores de asignación</a></span></li><li><span><a href=\"#Operadores-aritméticos\" data-toc-modified-id=\"Operadores-aritméticos-2\"><span class=\"toc-item-num\">2&nbsp;&nbsp;</span>Operadores aritméticos</a></span></li><li><span><a href=\"#Operadores-relacionales\" data-toc-modified-id=\"Operadores-relacionales-3\"><span class=\"toc-item-num\">3&nbsp;&nbsp;</span>Operadores relacionales</a></span></li><li><span><a href=\"#Operadores-lógicos/booleanos\" data-toc-modified-id=\"Operadores-lógicos/booleanos-4\"><span class=\"toc-item-num\">4&nbsp;&nbsp;</span>Operadores lógicos/booleanos</a></span><ul class=\"toc-item\"><li><ul class=\"toc-item\"><li><span><a href=\"#Extra-para-Nerds-🤓\" data-toc-modified-id=\"Extra-para-Nerds-🤓-4.0.1\"><span class=\"toc-item-num\">4.0.1&nbsp;&nbsp;</span>Extra para Nerds 🤓</a></span></li></ul></li></ul></li><li><span><a href=\"#Identity-operators\" data-toc-modified-id=\"Identity-operators-5\"><span class=\"toc-item-num\">5&nbsp;&nbsp;</span>Identity operators</a></span></li><li><span><a href=\"#Casteo-en-Python\" data-toc-modified-id=\"Casteo-en-Python-6\"><span class=\"toc-item-num\">6&nbsp;&nbsp;</span>Casteo en Python</a></span><ul class=\"toc-item\"><li><span><a href=\"#Conversión-implícita\" data-toc-modified-id=\"Conversión-implícita-6.1\"><span class=\"toc-item-num\">6.1&nbsp;&nbsp;</span>Conversión implícita</a></span></li><li><span><a href=\"#Conversión-explícita\" data-toc-modified-id=\"Conversión-explícita-6.2\"><span class=\"toc-item-num\">6.2&nbsp;&nbsp;</span>Conversión explícita</a></span><ul class=\"toc-item\"><li><span><a href=\"#Convertir-float-a-int\" data-toc-modified-id=\"Convertir-float-a-int-6.2.1\"><span class=\"toc-item-num\">6.2.1&nbsp;&nbsp;</span>Convertir float a int</a></span></li><li><span><a href=\"#Convertir-un-float-en-un-string\" data-toc-modified-id=\"Convertir-un-float-en-un-string-6.2.2\"><span class=\"toc-item-num\">6.2.2&nbsp;&nbsp;</span>Convertir un float en un string</a></span></li><li><span><a href=\"#Convertir-string-a-int\" data-toc-modified-id=\"Convertir-string-a-int-6.2.3\"><span class=\"toc-item-num\">6.2.3&nbsp;&nbsp;</span>Convertir string a int</a></span></li></ul></li></ul></li><li><span><a href=\"#Input\" data-toc-modified-id=\"Input-7\"><span class=\"toc-item-num\">7&nbsp;&nbsp;</span>Input</a></span></li><li><span><a href=\"#Pseudocódigo\" data-toc-modified-id=\"Pseudocódigo-8\"><span class=\"toc-item-num\">8&nbsp;&nbsp;</span>Pseudocódigo</a></span></li><li><span><a href=\"#La-sentencia-&quot;If\" data-toc-modified-id=\"La-sentencia-&quot;If-9\"><span class=\"toc-item-num\">9&nbsp;&nbsp;</span>La sentencia \"If</a></span><ul class=\"toc-item\"><li><span><a href=\"#else\" data-toc-modified-id=\"else-9.1\"><span class=\"toc-item-num\">9.1&nbsp;&nbsp;</span>else</a></span></li><li><span><a href=\"#elif\" data-toc-modified-id=\"elif-9.2\"><span class=\"toc-item-num\">9.2&nbsp;&nbsp;</span>elif</a></span></li></ul></li><li><span><a href=\"#Summary\" data-toc-modified-id=\"Summary-10\"><span class=\"toc-item-num\">10&nbsp;&nbsp;</span>Summary</a></span></li><li><span><a href=\"#Further-materials\" data-toc-modified-id=\"Further-materials-11\"><span class=\"toc-item-num\">11&nbsp;&nbsp;</span>Further materials</a></span></li></ul></div>"
   ]
  },
  {
   "cell_type": "markdown",
   "id": "comprehensive-discretion",
   "metadata": {},
   "source": [
    "# Control Flow    \n",
    "Let`s go with the flow"
   ]
  },
  {
   "cell_type": "markdown",
   "id": "vanilla-amateur",
   "metadata": {},
   "source": [
    "![the_flow](https://media.giphy.com/media/SA6RvPmPJVlJoqYo7U/giphy.gif)"
   ]
  },
  {
   "cell_type": "markdown",
   "id": "lonely-glucose",
   "metadata": {},
   "source": [
    "## Operadores de asignación"
   ]
  },
  {
   "cell_type": "markdown",
   "id": "specific-girlfriend",
   "metadata": {},
   "source": [
    "Los operadores de asignación son los que permiten dar un valor a una variable o modificarla. Python tiene ocho operadores de asignación diferentes: un operador de asignación simple y siete operadores de asignación compuestos."
   ]
  },
  {
   "cell_type": "markdown",
   "id": "adopted-beach",
   "metadata": {},
   "source": [
    "* `=` Asignación simple `a=b`     \n",
    "* `+=` Asignación de adición `a+=b`   Equivalente simple `a=a+b`   \n",
    "* `-=` Asignación de sustracción `a-=b` Equivalente simple `a=a-b`       \n",
    "* `*=` Asignación de la multiplicación `a*=b` Equivalente simple `a=a*b`\n",
    "* `/=` Asignación de división `a/=b` Equivalente simple `a=a/b`   \n",
    "* `%=` Asignación de módulo`a/=b` Equivalente simple `a=a%b`    \n",
    "* `//=` Asignación de división entera `a//=b` Equivalente simple `a=a//b`  "
   ]
  },
  {
   "cell_type": "markdown",
   "id": "united-occasions",
   "metadata": {},
   "source": [
    "El operador de asignación simple es el símbolo igual (=) y las operaciones realizadas con él tienen siempre la sintaxis: `variable = expresión`. En este tipo de operaciones, en primer lugar, se resuelve la expresión de la derecha y el valor resultante se asigna a la variable de la izquierda."
   ]
  },
  {
   "cell_type": "code",
   "execution_count": 12,
   "id": "magnetic-speed",
   "metadata": {},
   "outputs": [],
   "source": [
    "a = 8"
   ]
  },
  {
   "cell_type": "code",
   "execution_count": 13,
   "id": "narrow-moment",
   "metadata": {},
   "outputs": [],
   "source": [
    "b = 3"
   ]
  },
  {
   "cell_type": "code",
   "execution_count": 14,
   "id": "patient-today",
   "metadata": {},
   "outputs": [
    {
     "name": "stdout",
     "output_type": "stream",
     "text": [
      "11\n"
     ]
    }
   ],
   "source": [
    "# Puedo igualar una variable con la suma\n",
    "c = a + b\n",
    "print(c)"
   ]
  },
  {
   "cell_type": "code",
   "execution_count": 9,
   "id": "eligible-salem",
   "metadata": {},
   "outputs": [],
   "source": [
    "# Actualizo la varaiable a con la suma de b\n",
    "a += b"
   ]
  },
  {
   "cell_type": "code",
   "execution_count": 10,
   "id": "written-encyclopedia",
   "metadata": {},
   "outputs": [
    {
     "name": "stdout",
     "output_type": "stream",
     "text": [
      "14\n"
     ]
    }
   ],
   "source": [
    "print(a)"
   ]
  },
  {
   "cell_type": "code",
   "execution_count": 15,
   "id": "premium-constraint",
   "metadata": {},
   "outputs": [
    {
     "data": {
      "text/plain": [
       "1"
      ]
     },
     "execution_count": 15,
     "metadata": {},
     "output_type": "execute_result"
    }
   ],
   "source": [
    "# // división entera\n",
    "5 // 3"
   ]
  },
  {
   "cell_type": "markdown",
   "id": "african-construction",
   "metadata": {},
   "source": [
    "## Operadores aritméticos"
   ]
  },
  {
   "cell_type": "markdown",
   "id": "opened-charter",
   "metadata": {},
   "source": [
    "Los operadores aritméticos se utilizan para realizar operaciones aritméticas, es decir, para manipular datos numéricos mediante operaciones matemáticas como la suma, la resta o la multiplicación....."
   ]
  },
  {
   "cell_type": "code",
   "execution_count": 16,
   "id": "preliminary-darkness",
   "metadata": {},
   "outputs": [],
   "source": [
    "a = 3\n",
    "b = 4"
   ]
  },
  {
   "cell_type": "code",
   "execution_count": 17,
   "id": "consecutive-access",
   "metadata": {},
   "outputs": [
    {
     "data": {
      "text/plain": [
       "12"
      ]
     },
     "execution_count": 17,
     "metadata": {},
     "output_type": "execute_result"
    }
   ],
   "source": [
    "a * b"
   ]
  },
  {
   "cell_type": "code",
   "execution_count": 18,
   "id": "auburn-greensboro",
   "metadata": {},
   "outputs": [
    {
     "data": {
      "text/plain": [
       "7"
      ]
     },
     "execution_count": 18,
     "metadata": {},
     "output_type": "execute_result"
    }
   ],
   "source": [
    "a + b"
   ]
  },
  {
   "cell_type": "code",
   "execution_count": 19,
   "id": "ethical-prevention",
   "metadata": {},
   "outputs": [
    {
     "data": {
      "text/plain": [
       "0"
      ]
     },
     "execution_count": 19,
     "metadata": {},
     "output_type": "execute_result"
    }
   ],
   "source": [
    "# División entera\n",
    "a // b"
   ]
  },
  {
   "cell_type": "markdown",
   "id": "chubby-america",
   "metadata": {},
   "source": [
    "## Operadores relacionales"
   ]
  },
  {
   "cell_type": "markdown",
   "id": "premium-bibliography",
   "metadata": {},
   "source": [
    "Los operadores relacionales son símbolos utilizados para comparar dos valores o expresiones. El resultado de la evaluación con estos dos operadores puede ser True, si la comparación es verdadera, o False, si la comparación es falsa."
   ]
  },
  {
   "cell_type": "markdown",
   "id": "floral-header",
   "metadata": {},
   "source": [
    "*      `==` Igual a `a==b` \n",
    "*      `!=` Distinto de `a!=b` \n",
    "*      `>` Mayor que `a>b` \n",
    "*      `<` Menor que `a<b` \n",
    "*      `>=` Mayor o igual que `a>=b` \n",
    "*      `<=` Menor o igual que `a<=b` "
   ]
  },
  {
   "cell_type": "markdown",
   "id": "caroline-security",
   "metadata": {},
   "source": [
    "Observe la diferencia entre un signo de igualdad simple (=), que es una asignación, y un signo de igualdad doble (==), que es un operador relacional    \n",
    "**Consejo: Utiliza los paréntesis para mantener el orden de las operaciones."
   ]
  },
  {
   "cell_type": "code",
   "execution_count": null,
   "id": "million-marketing",
   "metadata": {},
   "outputs": [],
   "source": [
    "# Juguemos!"
   ]
  },
  {
   "cell_type": "code",
   "execution_count": 20,
   "id": "featured-watch",
   "metadata": {},
   "outputs": [
    {
     "name": "stdout",
     "output_type": "stream",
     "text": [
      "False\n"
     ]
    }
   ],
   "source": [
    "x = 1\n",
    "y = 3\n",
    "print( y == x )"
   ]
  },
  {
   "cell_type": "code",
   "execution_count": 21,
   "id": "tribal-holder",
   "metadata": {},
   "outputs": [
    {
     "name": "stdout",
     "output_type": "stream",
     "text": [
      "True\n"
     ]
    }
   ],
   "source": [
    "print ( x != y)"
   ]
  },
  {
   "cell_type": "code",
   "execution_count": 22,
   "id": "olympic-tokyo",
   "metadata": {},
   "outputs": [
    {
     "name": "stdout",
     "output_type": "stream",
     "text": [
      "True\n"
     ]
    }
   ],
   "source": [
    "print( y == (x*y))"
   ]
  },
  {
   "cell_type": "code",
   "execution_count": 24,
   "id": "composed-volunteer",
   "metadata": {},
   "outputs": [
    {
     "name": "stdout",
     "output_type": "stream",
     "text": [
      "False\n"
     ]
    }
   ],
   "source": [
    "cadena1 = \"holaaaa\"\n",
    "cadena2 = \"adiós\"\n",
    "print(cadena1 == cadena2)"
   ]
  },
  {
   "cell_type": "code",
   "execution_count": 25,
   "id": "earned-ribbon",
   "metadata": {},
   "outputs": [
    {
     "name": "stdout",
     "output_type": "stream",
     "text": [
      "True\n"
     ]
    }
   ],
   "source": [
    "print(len(cadena1) > len(cadena2))"
   ]
  },
  {
   "cell_type": "code",
   "execution_count": 26,
   "id": "express-amount",
   "metadata": {},
   "outputs": [
    {
     "data": {
      "text/plain": [
       "True"
      ]
     },
     "execution_count": 26,
     "metadata": {},
     "output_type": "execute_result"
    }
   ],
   "source": [
    "y == 3"
   ]
  },
  {
   "cell_type": "markdown",
   "id": "amended-question",
   "metadata": {},
   "source": [
    "## Operadores lógicos/booleanos"
   ]
  },
  {
   "cell_type": "markdown",
   "id": "private-category",
   "metadata": {},
   "source": [
    "Los operadores lógicos o booleanos son los que permiten conectar dos expresiones de comparación y evaluarlas lógicamente, excepto el operador not, que invierte el valor lógico de la expresión a la que se aplica. En Python existen tres operadores lógicos: and(y), or(o) y not(no). Los operadores and y or tienen la sintaxis del operador de expresión, mientras que el operador not tiene la sintaxis del operador de expresión. Las operaciones con estos operadores siempre devuelven un valor booleano: Verdadero o Falso."
   ]
  },
  {
   "cell_type": "markdown",
   "id": "convinced-round",
   "metadata": {},
   "source": [
    "Con sólo estos dos valores `Verdadero`|`Falso` podemos crear toda una rama de las matemáticas llamada [Álgebra de Boole](https://en.wikipedia.org/wiki/Boolean_algebra#Laws). Mientras que en el Álgebra regular las operaciones básicas son la suma y la multiplicación, las principales operaciones del Álgebra de Boole son la conjunción (y) denotada como ∧, la disyunción (o) denotada como ∨, y la negación (no) denotada como ¬. **Es el formalismo utilizado para describir las operaciones lógicas**.\n",
    "\n",
    "En [Python escribimos estas operaciones](https://www.geeksforgeeks.org/python-3-logical-operators/?ref=rp) como:\n",
    "\n",
    "* `x` and `y` \n",
    "* `x` or `y`\n",
    "* not `x`\n",
    "\n",
    "Aunque el significado de estas operaciones es claro, podemos definirlas completamente con la llamada \"tabla de verdad\":"
   ]
  },
  {
   "cell_type": "markdown",
   "id": "precious-lobby",
   "metadata": {},
   "source": [
    "![tablas](http://elclubdelautodidacta.es/wp/wp-content/uploads/2012/11/python-logicos.png)"
   ]
  },
  {
   "cell_type": "markdown",
   "id": "specific-vinyl",
   "metadata": {},
   "source": [
    "El operador **and** evalúa si las dos expresiones son verdaderas. Si ambas expresiones son verdaderas, devuelve True. Si alguna de las expresiones es falsa, devuelve Falso. Este tipo de tablas se conocen formalmente como \"tablas de verdad\"."
   ]
  },
  {
   "cell_type": "code",
   "execution_count": 27,
   "id": "banner-venezuela",
   "metadata": {},
   "outputs": [],
   "source": [
    "hola = True\n",
    "adios = False"
   ]
  },
  {
   "cell_type": "code",
   "execution_count": 28,
   "id": "forced-handbook",
   "metadata": {},
   "outputs": [
    {
     "data": {
      "text/plain": [
       "False"
      ]
     },
     "execution_count": 28,
     "metadata": {},
     "output_type": "execute_result"
    }
   ],
   "source": [
    "hola and adios"
   ]
  },
  {
   "cell_type": "code",
   "execution_count": 29,
   "id": "affiliated-dancing",
   "metadata": {},
   "outputs": [
    {
     "data": {
      "text/plain": [
       "True"
      ]
     },
     "execution_count": 29,
     "metadata": {},
     "output_type": "execute_result"
    }
   ],
   "source": [
    "hola and hola"
   ]
  },
  {
   "cell_type": "code",
   "execution_count": 30,
   "id": "exceptional-difficulty",
   "metadata": {},
   "outputs": [
    {
     "data": {
      "text/plain": [
       "True"
      ]
     },
     "execution_count": 30,
     "metadata": {},
     "output_type": "execute_result"
    }
   ],
   "source": [
    "4 > 2 and 1 < 5"
   ]
  },
  {
   "cell_type": "markdown",
   "id": "faced-thing",
   "metadata": {},
   "source": [
    "El operador **or** evalúa si cualquiera de las expresiones es verdadera, es decir, devuelve True si cualquiera de las expresiones es verdadera y False cuando ambas expresiones son falsas."
   ]
  },
  {
   "cell_type": "code",
   "execution_count": 31,
   "id": "considerable-saver",
   "metadata": {},
   "outputs": [],
   "source": [
    "ras_es_rica = False\n",
    "ras_vive_en_lavapies = True"
   ]
  },
  {
   "cell_type": "code",
   "execution_count": 32,
   "id": "grave-presence",
   "metadata": {},
   "outputs": [
    {
     "data": {
      "text/plain": [
       "True"
      ]
     },
     "execution_count": 32,
     "metadata": {},
     "output_type": "execute_result"
    }
   ],
   "source": [
    "ras_es_rica or ras_vive_en_lavapies"
   ]
  },
  {
   "cell_type": "markdown",
   "id": "emerging-stream",
   "metadata": {},
   "source": [
    "Por último, el operador **not** es un operador que devuelve el valor opuesto a la expresión evaluada. Si la expresión tiene el valor True, devuelve False. Por el contrario, si la expresión tiene el valor False, devuelve True."
   ]
  },
  {
   "cell_type": "code",
   "execution_count": 33,
   "id": "minus-migration",
   "metadata": {},
   "outputs": [],
   "source": [
    "verdad = True\n",
    "mentira = False"
   ]
  },
  {
   "cell_type": "code",
   "execution_count": 34,
   "id": "promising-throat",
   "metadata": {},
   "outputs": [
    {
     "data": {
      "text/plain": [
       "False"
      ]
     },
     "execution_count": 34,
     "metadata": {},
     "output_type": "execute_result"
    }
   ],
   "source": [
    "not verdad"
   ]
  },
  {
   "cell_type": "code",
   "execution_count": 35,
   "id": "lasting-movie",
   "metadata": {},
   "outputs": [
    {
     "data": {
      "text/plain": [
       "False"
      ]
     },
     "execution_count": 35,
     "metadata": {},
     "output_type": "execute_result"
    }
   ],
   "source": [
    "3 > 2 #True\n",
    "not 3 > 2"
   ]
  },
  {
   "cell_type": "markdown",
   "id": "adolescent-change",
   "metadata": {},
   "source": [
    "#### Extra para Nerds 🤓"
   ]
  },
  {
   "cell_type": "markdown",
   "id": "adaptive-transcript",
   "metadata": {},
   "source": [
    "Las cosas pueden complicarse cuando combinamos varias expresiones lógicas... Consideremos, por ejemplo, las llamadas [leyes de De Morgan](https://en.wikipedia.org/wiki/De_Morgan%27s_laws):\n",
    "\n",
    "Las reglas se pueden expresar en español como:\n",
    "- La negación de la conjunción es la disyunción de las negaciones.\n",
    "- La negación de la disyunción es la conjunción de las negaciones.\n",
    "\n",
    "\n",
    "* not (A o B) = not A y not B\n",
    "* not (A y B) = no A o no B\n",
    "\n",
    "El [álgebra booleana](https://en.wikipedia.org/wiki/Boolean_algebra#Laws) satisface muchas reglas comunes como la conmutatividad, la asociatividad, etc. Pero aquí tratamos de mantener la sencillez y aprender con la práctica."
   ]
  },
  {
   "cell_type": "code",
   "execution_count": 39,
   "id": "brazilian-arizona",
   "metadata": {},
   "outputs": [
    {
     "data": {
      "text/plain": [
       "False"
      ]
     },
     "execution_count": 39,
     "metadata": {},
     "output_type": "execute_result"
    }
   ],
   "source": [
    "a = False\n",
    "b = True\n",
    "\n",
    "not(a or b)"
   ]
  },
  {
   "cell_type": "markdown",
   "id": "compact-result",
   "metadata": {},
   "source": [
    "## Identity operators"
   ]
  },
  {
   "cell_type": "markdown",
   "id": "becoming-partition",
   "metadata": {},
   "source": [
    "Los operadores de pertenencia, también conocidos como operadores miembro, permiten comprobar si un dato forma parte o no de una colección: una lista, una tupla, un string, etc.\n",
    "    El operador `in` tiene la sintaxis `elemento in contenedor`. Se trata de un operador booleano que comprueba si el elemento forma parte del contenedor. En caso afirmativo devuelve True y en caso negativo False"
   ]
  },
  {
   "cell_type": "code",
   "execution_count": 40,
   "id": "welsh-native",
   "metadata": {},
   "outputs": [],
   "source": [
    "nums = [1,2,3,4,5,6,7]"
   ]
  },
  {
   "cell_type": "code",
   "execution_count": 41,
   "id": "technological-future",
   "metadata": {},
   "outputs": [
    {
     "data": {
      "text/plain": [
       "True"
      ]
     },
     "execution_count": 41,
     "metadata": {},
     "output_type": "execute_result"
    }
   ],
   "source": [
    "1 in nums"
   ]
  },
  {
   "cell_type": "code",
   "execution_count": 43,
   "id": "floral-lingerie",
   "metadata": {},
   "outputs": [
    {
     "data": {
      "text/plain": [
       "True"
      ]
     },
     "execution_count": 43,
     "metadata": {},
     "output_type": "execute_result"
    }
   ],
   "source": [
    "a = 3\n",
    "a in nums"
   ]
  },
  {
   "cell_type": "code",
   "execution_count": 44,
   "id": "retired-edward",
   "metadata": {},
   "outputs": [
    {
     "data": {
      "text/plain": [
       "False"
      ]
     },
     "execution_count": 44,
     "metadata": {},
     "output_type": "execute_result"
    }
   ],
   "source": [
    "cadena = \"Hola buenos días\"\n",
    "\"z\" in cadena"
   ]
  },
  {
   "cell_type": "code",
   "execution_count": 45,
   "id": "electronic-variety",
   "metadata": {},
   "outputs": [],
   "source": [
    "hola = \"z\""
   ]
  },
  {
   "cell_type": "code",
   "execution_count": 53,
   "id": "annoying-correlation",
   "metadata": {
    "scrolled": true
   },
   "outputs": [
    {
     "data": {
      "text/plain": [
       "False"
      ]
     },
     "execution_count": 53,
     "metadata": {},
     "output_type": "execute_result"
    }
   ],
   "source": [
    "hola in cadena"
   ]
  },
  {
   "cell_type": "markdown",
   "id": "black-lighting",
   "metadata": {},
   "source": [
    "## Casteo en Python"
   ]
  },
  {
   "cell_type": "markdown",
   "id": "aggregate-addiction",
   "metadata": {},
   "source": [
    "Casting significa convertir un tipo de datos en otro. Anteriormente hemos visto tipos como int, string o float. Pues bien, es posible convertir de un tipo a otro.\n",
    "Pero antes de nada, veamos los diferentes tipos de cast o conversión de tipos que se pueden hacer. Hay dos:\n",
    "\n",
    "**Conversión implícita:** Esto lo hace Python de forma automática. Ocurre cuando realizamos ciertas operaciones con dos tipos diferentes.\n",
    "\n",
    "**Conversión explícita:** La hacemos nosotros explícitamente, como por ejemplo convertir str en int con str()."
   ]
  },
  {
   "cell_type": "markdown",
   "id": "disturbed-alabama",
   "metadata": {},
   "source": [
    "### Conversión implícita\n",
    "Esta conversión de tipos la realiza Python automáticamente, prácticamente sin que nos demos cuenta. Aun así, es importante conocer lo que ocurre por debajo para evitar futuros problemas.\n",
    "\n",
    "El ejemplo más sencillo donde podemos ver este comportamiento es el siguiente:"
   ]
  },
  {
   "cell_type": "code",
   "execution_count": 48,
   "id": "pleasant-parallel",
   "metadata": {},
   "outputs": [
    {
     "name": "stdout",
     "output_type": "stream",
     "text": [
      "1\n",
      "<class 'int'>\n",
      "<class 'float'>\n"
     ]
    }
   ],
   "source": [
    "a = 1 #int\n",
    "b = 2.3 #float\n",
    "\n",
    "c = a + b \n",
    "print(a)\n",
    "print((type(a)))\n",
    "print(type(c))"
   ]
  },
  {
   "cell_type": "markdown",
   "id": "violent-suspension",
   "metadata": {},
   "source": [
    "a es un int   \n",
    "b es un float    \n",
    "Pero si sumamos a y b y almacenamos el resultado en a, podemos ver cómo internamente Python ha convertido el int a float para realizar la operación, y la variable resultante es float.\n",
    "Sin embargo, hay otros casos en los que Python no es tan inteligente y no es capaz de realizar la conversión. Si intentamos añadir un int a una cadena, obtendremos un TypeError."
   ]
  },
  {
   "cell_type": "code",
   "execution_count": 49,
   "id": "impressive-opening",
   "metadata": {},
   "outputs": [
    {
     "ename": "TypeError",
     "evalue": "unsupported operand type(s) for +: 'int' and 'str'",
     "output_type": "error",
     "traceback": [
      "\u001b[0;31m---------------------------------------------------------------------------\u001b[0m",
      "\u001b[0;31mTypeError\u001b[0m                                 Traceback (most recent call last)",
      "\u001b[0;32m<ipython-input-49-2d6f4fb368dc>\u001b[0m in \u001b[0;36m<module>\u001b[0;34m\u001b[0m\n\u001b[1;32m      1\u001b[0m \u001b[0ma\u001b[0m \u001b[0;34m=\u001b[0m \u001b[0;36m1\u001b[0m\u001b[0;34m\u001b[0m\u001b[0;34m\u001b[0m\u001b[0m\n\u001b[1;32m      2\u001b[0m \u001b[0mb\u001b[0m \u001b[0;34m=\u001b[0m \u001b[0;34m\"2.3\"\u001b[0m\u001b[0;34m\u001b[0m\u001b[0;34m\u001b[0m\u001b[0m\n\u001b[0;32m----> 3\u001b[0;31m \u001b[0mc\u001b[0m \u001b[0;34m=\u001b[0m \u001b[0ma\u001b[0m \u001b[0;34m+\u001b[0m \u001b[0mb\u001b[0m\u001b[0;34m\u001b[0m\u001b[0;34m\u001b[0m\u001b[0m\n\u001b[0m",
      "\u001b[0;31mTypeError\u001b[0m: unsupported operand type(s) for +: 'int' and 'str'"
     ]
    }
   ],
   "source": [
    "a = 1\n",
    "b = \"2.3\"\n",
    "c = a + b"
   ]
  },
  {
   "cell_type": "markdown",
   "id": "rural-majority",
   "metadata": {},
   "source": [
    "### Conversión explícita\n",
    "Por otro lado, podemos realizar conversiones entre tipos o castings de forma explícita utilizando diferentes funciones que proporciona Python. Las más utilizadas son las siguientes:\n",
    "\n",
    "float(), str(), int(), list(), set()     \n",
    "Y algunas otras como hex(), oct() y bin().      \n",
    "#### Convertir float a int \n",
    "Para convertir de float a int debemos utilizar int(). Pero cuidado, porque el tipo integer no puede almacenar decimales, por lo que perderemos lo que haya después del punto decimal."
   ]
  },
  {
   "cell_type": "code",
   "execution_count": 54,
   "id": "modular-sullivan",
   "metadata": {},
   "outputs": [
    {
     "name": "stdout",
     "output_type": "stream",
     "text": [
      "3\n"
     ]
    }
   ],
   "source": [
    "a = 3.2\n",
    "b = int(a)\n",
    "print(b)"
   ]
  },
  {
   "cell_type": "markdown",
   "id": "demonstrated-genius",
   "metadata": {},
   "source": [
    "#### Convertir un float en un string\n",
    "Podemos convertir un flotador en una cadena con str(). Podemos ver en el siguiente código cómo cambia el tipo de a después del cast."
   ]
  },
  {
   "cell_type": "code",
   "execution_count": 58,
   "id": "bigger-shadow",
   "metadata": {},
   "outputs": [
    {
     "name": "stdout",
     "output_type": "stream",
     "text": [
      "3.4\n",
      "<class 'float'>\n",
      "3.4\n",
      "<class 'str'>\n"
     ]
    }
   ],
   "source": [
    "a = 3.4\n",
    "print(a)\n",
    "print(type(a))\n",
    "b = str(a)\n",
    "print(b)\n",
    "print(type(b))"
   ]
  },
  {
   "cell_type": "code",
   "execution_count": 61,
   "id": "quarterly-concentration",
   "metadata": {},
   "outputs": [
    {
     "name": "stdout",
     "output_type": "stream",
     "text": [
      "3.43.43.4\n"
     ]
    }
   ],
   "source": [
    "# Si multiplico b por un número lo que tengo es una multiplicación de un string\n",
    "c = b * 3\n",
    "print(c)"
   ]
  },
  {
   "cell_type": "code",
   "execution_count": 62,
   "id": "industrial-biography",
   "metadata": {},
   "outputs": [
    {
     "name": "stdout",
     "output_type": "stream",
     "text": [
      "10.2\n"
     ]
    }
   ],
   "source": [
    "d = a * 3\n",
    "print(d)"
   ]
  },
  {
   "cell_type": "markdown",
   "id": "unnecessary-princeton",
   "metadata": {},
   "source": [
    "#### Convertir string a int\n",
    "Al igual que la conversión a float anterior, podemos convertir de cadena a int utilizando int()."
   ]
  },
  {
   "cell_type": "code",
   "execution_count": 75,
   "id": "impressive-preference",
   "metadata": {},
   "outputs": [
    {
     "name": "stdout",
     "output_type": "stream",
     "text": [
      "<class 'str'>\n",
      "<class 'int'>\n"
     ]
    }
   ],
   "source": [
    "a = \"3\"\n",
    "print(type(a))\n",
    "b = int(a)\n",
    "print(type(b))"
   ]
  },
  {
   "cell_type": "markdown",
   "id": "regular-geometry",
   "metadata": {},
   "source": [
    "## Input\n",
    "Para asignar una variable a un valor introducido por el usuario en la consola, utilice la instrucción\n",
    "``python\n",
    "input(mensaje) : Muestra el mensaje de la cadena por el terminal y devuelve una cadena con la entrada \n",
    "  ``` "
   ]
  },
  {
   "cell_type": "code",
   "execution_count": 65,
   "id": "common-brisbane",
   "metadata": {},
   "outputs": [
    {
     "name": "stdout",
     "output_type": "stream",
     "text": [
      "Introduce un número 32\n"
     ]
    }
   ],
   "source": [
    "edad = input(\"Introduce un número \")"
   ]
  },
  {
   "cell_type": "code",
   "execution_count": 66,
   "id": "tender-guard",
   "metadata": {},
   "outputs": [
    {
     "data": {
      "text/plain": [
       "'32'"
      ]
     },
     "execution_count": 66,
     "metadata": {},
     "output_type": "execute_result"
    }
   ],
   "source": [
    "edad"
   ]
  },
  {
   "cell_type": "code",
   "execution_count": 67,
   "id": "composed-advisory",
   "metadata": {},
   "outputs": [
    {
     "data": {
      "text/plain": [
       "str"
      ]
     },
     "execution_count": 67,
     "metadata": {},
     "output_type": "execute_result"
    }
   ],
   "source": [
    "type(edad)"
   ]
  },
  {
   "cell_type": "code",
   "execution_count": 72,
   "id": "floating-chain",
   "metadata": {},
   "outputs": [
    {
     "name": "stdout",
     "output_type": "stream",
     "text": [
      "Indroduce un número 31\n"
     ]
    }
   ],
   "source": [
    "edad = int(input(\"Indroduce un número \"))"
   ]
  },
  {
   "cell_type": "code",
   "execution_count": 73,
   "id": "general-punishment",
   "metadata": {},
   "outputs": [
    {
     "data": {
      "text/plain": [
       "int"
      ]
     },
     "execution_count": 73,
     "metadata": {},
     "output_type": "execute_result"
    }
   ],
   "source": [
    "type(edad)"
   ]
  },
  {
   "cell_type": "markdown",
   "id": "consistent-hamilton",
   "metadata": {},
   "source": [
    "# Control Flow"
   ]
  },
  {
   "cell_type": "markdown",
   "id": "sensitive-plain",
   "metadata": {},
   "source": [
    "En los lenguajes imperativos, como Python, el ordenador sigue la secuencia de instrucciones del código y lo ejecuta línea a línea. Denominamos \"flujo\" de un programa al orden en la ejecución del código. Este orden secuencial puede alterarse. La llamada a una función, por ejemplo, lleva la ejecución al código en su interior (el \"cuerpo\" de la función) para regresar inmediatamente después de dicha llamada y continuar.    \n",
    "La ejecución es similar a nuestra atención en un proceso de limpieza de la casa, por ejemplo, solo podemos hacer una tarea a la vez. Estamos barriendo, pero al terminar de barrear golpeamos un jarrón (imagina que me lo regaló mi tía y qué ilusión) , entonces recogemos los trozos antes de ponernos a fregar. Fregando encontramos el chicle perdido de nuestro sobrino bajo el sofá, lo cual nos obliga a ir a buscar una espátula para quitarlo..... \n",
    "Pero solo podemos hacer una tarea a la vez. 🥲"
   ]
  },
  {
   "cell_type": "markdown",
   "id": "neither-optimization",
   "metadata": {},
   "source": [
    "## Pseudocódigo"
   ]
  },
  {
   "cell_type": "markdown",
   "id": "soviet-passion",
   "metadata": {},
   "source": [
    "El pseudocódigo es un método de planificación que permite al programador planificar sin preocuparse por la sintaxis."
   ]
  },
  {
   "cell_type": "markdown",
   "id": "confidential-twist",
   "metadata": {},
   "source": [
    "--> https://es.wikipedia.org/wiki/Pseudoc%C3%B3digo"
   ]
  },
  {
   "cell_type": "code",
   "execution_count": null,
   "id": "seeing-truth",
   "metadata": {},
   "outputs": [],
   "source": [
    "\"\"\"\n",
    "Comentario en \n",
    "diferentes líneas\n",
    "\"\"\"\n",
    "\n",
    "\"\"\"\n",
    "def function():\n",
    "    #condicional de la variable que entra y si sucede:\n",
    "        print(loquesea)\n",
    "\"\"\"\n",
    "# Comentario en una línea "
   ]
  },
  {
   "cell_type": "markdown",
   "id": "finished-medication",
   "metadata": {},
   "source": [
    "## La sentencia \"If \n",
    "Esta es la opción más conocida para controlar el flujo de un programa. Las condiciones permiten elegir entre diferentes caminos en función del valor de una expresión.Cuando se quiere ejecutar una acción sólo cuando alguna condición es `Verdadera` se utiliza una sentencia \"if\":"
   ]
  },
  {
   "cell_type": "code",
   "execution_count": 81,
   "id": "amber-hometown",
   "metadata": {},
   "outputs": [
    {
     "name": "stdout",
     "output_type": "stream",
     "text": [
      "La condición se cumple\n"
     ]
    }
   ],
   "source": [
    "condicion = True\n",
    "if condicion: \n",
    "    print(\"La condición se cumple\")"
   ]
  },
  {
   "cell_type": "code",
   "execution_count": 82,
   "id": "stopped-acting",
   "metadata": {},
   "outputs": [
    {
     "name": "stdout",
     "output_type": "stream",
     "text": [
      "La condición se cumple\n"
     ]
    }
   ],
   "source": [
    "condicion2 = 86\n",
    "if condicion2: # Lo que pasa aquí es que condicion2 existe, y entonces es true\n",
    "    print(\"La condición se cumple\")"
   ]
  },
  {
   "cell_type": "code",
   "execution_count": 78,
   "id": "sophisticated-legislation",
   "metadata": {},
   "outputs": [
    {
     "name": "stdout",
     "output_type": "stream",
     "text": [
      "La condición se cumple\n"
     ]
    }
   ],
   "source": [
    "if 3 > 2:\n",
    "    print(\"La condición se cumple\")"
   ]
  },
  {
   "cell_type": "markdown",
   "id": "characteristic-reality",
   "metadata": {},
   "source": [
    "Como podemos ver, el bloque de código asociado a la condición comienza después de los dos puntos \":\", con una sangría que determina el bloque de código. Todas las instrucciones pertenecientes al mismo bloque deben tener la misma sangría. El bloque termina cuando la sangría vuelve a la posición inicial de la sentencia if. Recuerde que Python utiliza la sangría para identificar los bloques de código."
   ]
  },
  {
   "cell_type": "code",
   "execution_count": 83,
   "id": "acknowledged-witch",
   "metadata": {},
   "outputs": [
    {
     "ename": "IndentationError",
     "evalue": "expected an indented block (<ipython-input-83-b076d54aa116>, line 2)",
     "output_type": "error",
     "traceback": [
      "\u001b[0;36m  File \u001b[0;32m\"<ipython-input-83-b076d54aa116>\"\u001b[0;36m, line \u001b[0;32m2\u001b[0m\n\u001b[0;31m    print(\"La condición se cumple\")\u001b[0m\n\u001b[0m    ^\u001b[0m\n\u001b[0;31mIndentationError\u001b[0m\u001b[0;31m:\u001b[0m expected an indented block\n"
     ]
    }
   ],
   "source": [
    "if 3 > 2:\n",
    "print(\"La condición se cumple\") # Este bloque de código no está indentado"
   ]
  },
  {
   "cell_type": "code",
   "execution_count": 84,
   "id": "revolutionary-adobe",
   "metadata": {},
   "outputs": [
    {
     "name": "stdout",
     "output_type": "stream",
     "text": [
      "tienes fiebre\n",
      "vete al médico\n"
     ]
    }
   ],
   "source": [
    "temperatura = 38\n",
    "if temperatura >= 37.5:\n",
    "    print(\"tienes fiebre\")\n",
    "    print(\"vete al médico\")"
   ]
  },
  {
   "cell_type": "code",
   "execution_count": null,
   "id": "sitting-orange",
   "metadata": {},
   "outputs": [],
   "source": [
    "temperatura = 38\n",
    "if temperatura >= 37.5:\n",
    "    print(\"tienes fiebre\")\n",
    "    print(\"vete al médico\")"
   ]
  },
  {
   "cell_type": "code",
   "execution_count": 93,
   "id": "juvenile-manner",
   "metadata": {},
   "outputs": [
    {
     "name": "stdout",
     "output_type": "stream",
     "text": [
      "Puedes pasar\n"
     ]
    }
   ],
   "source": [
    "# es tu turno!\n",
    "# escribe un programa simple que imprima si bob puede entrar en la discoteca\n",
    "# para dos valores cualesquiera de las siguientes variables:\n",
    "edad_bob = 24\n",
    "edad_min = 18\n",
    "if edad_bob >= edad_min:\n",
    "    print(\"Puedes pasar\")"
   ]
  },
  {
   "cell_type": "code",
   "execution_count": 96,
   "id": "sized-orleans",
   "metadata": {},
   "outputs": [
    {
     "name": "stdout",
     "output_type": "stream",
     "text": [
      "Que edad tienes bob? 14\n"
     ]
    }
   ],
   "source": [
    "edad_bob = int(input(\"Que edad tienes bob? \"))\n",
    "edad_minima = 18\n",
    "#print(edad_bob,edad_minima)\n",
    "\n",
    "if edad_bob >= edad_minima:\n",
    "    print(\"Bienvenido a la discoteca Bob!\")"
   ]
  },
  {
   "cell_type": "code",
   "execution_count": 90,
   "id": "classical-representative",
   "metadata": {},
   "outputs": [
    {
     "name": "stdout",
     "output_type": "stream",
     "text": [
      "Bob puedes pasar\n"
     ]
    }
   ],
   "source": [
    "edad_bob = 25\n",
    "edad_min = 18\n",
    "if edad_bob >= edad_min:\n",
    "    print(\"Bob puedes pasar\")"
   ]
  },
  {
   "cell_type": "markdown",
   "id": "limited-portfolio",
   "metadata": {},
   "source": [
    "### else\n",
    "A veces se quiere que si la condición no se cumple (y sólo entonces) se ejecute otra acción. Son acciones mutuamente excluyentes. Esto se consigue con la sentencia `else`."
   ]
  },
  {
   "cell_type": "markdown",
   "id": "federal-scout",
   "metadata": {},
   "source": [
    "![if](../images/if-else-statements.jpeg)"
   ]
  },
  {
   "cell_type": "code",
   "execution_count": 91,
   "id": "complicated-salmon",
   "metadata": {},
   "outputs": [
    {
     "name": "stdout",
     "output_type": "stream",
     "text": [
      "la condición se cumple\n"
     ]
    }
   ],
   "source": [
    "condicion = True\n",
    "if condicion:\n",
    "    print(\"la condición se cumple\")\n",
    "else:\n",
    "    print(\"la condición no se cumple\")"
   ]
  },
  {
   "cell_type": "code",
   "execution_count": 92,
   "id": "unique-trader",
   "metadata": {},
   "outputs": [
    {
     "name": "stdout",
     "output_type": "stream",
     "text": [
      "la condición no se cumple\n"
     ]
    }
   ],
   "source": [
    "condicion = False\n",
    "if condicion:\n",
    "    print(\"la condición se cumple\")\n",
    "else:\n",
    "    print(\"la condición no se cumple\")"
   ]
  },
  {
   "cell_type": "code",
   "execution_count": null,
   "id": "blocked-sociology",
   "metadata": {},
   "outputs": [],
   "source": [
    "# Modifica tu programa para que cuando Bob no pueda acceder a la disco haya un mensaje de impresión diferente:"
   ]
  },
  {
   "cell_type": "code",
   "execution_count": 94,
   "id": "enhanced-future",
   "metadata": {},
   "outputs": [
    {
     "name": "stdout",
     "output_type": "stream",
     "text": [
      "Puedes pasar\n"
     ]
    }
   ],
   "source": [
    "edad_bob = 24\n",
    "edad_min = 18\n",
    "if edad_bob >= edad_min:\n",
    "    print(\"Puedes pasar\")\n",
    "else:\n",
    "    print(\"No puedes pasar\")"
   ]
  },
  {
   "cell_type": "code",
   "execution_count": 95,
   "id": "opposed-field",
   "metadata": {},
   "outputs": [
    {
     "name": "stdout",
     "output_type": "stream",
     "text": [
      "Que edad tienes bob? 56\n",
      "Bienvenido a la discoteca Bob!\n"
     ]
    }
   ],
   "source": [
    "edad_bob = int(input(\"Que edad tienes bob? \"))\n",
    "edad_minima = 18\n",
    "#print(edad_bob,edad_minima)\n",
    "\n",
    "if edad_bob >= edad_minima:\n",
    "    print(\"Bienvenido a la discoteca Bob!\")\n",
    "else:\n",
    "    print(\"Lo siento Bob. Regresa a tu casa.\")"
   ]
  },
  {
   "cell_type": "code",
   "execution_count": 97,
   "id": "million-artist",
   "metadata": {},
   "outputs": [
    {
     "name": "stdout",
     "output_type": "stream",
     "text": [
      "Bob puedes pasar\n"
     ]
    }
   ],
   "source": [
    "edad_bob = 25\n",
    "edad_min = 18\n",
    "if edad_bob >= edad_min:\n",
    "    print(\"Bob puedes pasar\")\n",
    "else:\n",
    "    print(\"Bob no puedes pasar\")"
   ]
  },
  {
   "cell_type": "markdown",
   "id": "sustainable-serum",
   "metadata": {},
   "source": [
    "### elif\n",
    "A veces hay más de dos posibilidades. Piensa en algo como:\n",
    "\"Si Bob puede entrar en la discoteca, déjale entrar. Si no, si tiene más de 16 años, recomiéndale la discoteca light cercana. Si no, envíalo a casa\".\n",
    "\n",
    "Podemos conseguirlo con la cláusula `elif` y los condicionales encadenados:"
   ]
  },
  {
   "cell_type": "code",
   "execution_count": 98,
   "id": "powered-membrane",
   "metadata": {},
   "outputs": [
    {
     "name": "stdout",
     "output_type": "stream",
     "text": [
      "La condición 2 se cumple\n"
     ]
    }
   ],
   "source": [
    "condicion_1 = False\n",
    "condicion_2 = True\n",
    "\n",
    "if condicion_1:\n",
    "    print(\"La condición se cumple\")\n",
    "elif condicion_2:\n",
    "    print(\"La condición 2 se cumple\")\n",
    "else:\n",
    "    print(\"No se cumple ninguna de las conduciones\")"
   ]
  },
  {
   "cell_type": "code",
   "execution_count": 102,
   "id": "tribal-lingerie",
   "metadata": {},
   "outputs": [
    {
     "name": "stdout",
     "output_type": "stream",
     "text": [
      "Que edad tienes bob? 34\n",
      "Bienvenido a la discoteca Bob!\n"
     ]
    }
   ],
   "source": [
    "\"\"\"\n",
    "Modifica tu programa para que cuando Bob no pueda acceder a la discoteca pero esté por encima de la edad legal\n",
    "lo envíes a la disco light\n",
    "\"\"\"\n",
    "\n",
    "edad_bob = int(input(\"Que edad tienes bob? \"))\n",
    "edad_minima_adulto = 18\n",
    "edad_minima_light = 16\n",
    "\n",
    "if edad_bob >= edad_minima_adulto:\n",
    "    print(\"Bienvenido a la discoteca Bob!\")\n",
    "elif edad_bob >= edad_minima_light:\n",
    "    print(\"Bob re recomiendo una discoteca light aquí a 2 calles.\")\n",
    "else:\n",
    "    print(\"Lo siento Bob. Regresa a tu casa.\")"
   ]
  },
  {
   "cell_type": "code",
   "execution_count": 103,
   "id": "integrated-floor",
   "metadata": {},
   "outputs": [
    {
     "name": "stdout",
     "output_type": "stream",
     "text": [
      "Vete a la disco light con los de tu edad\n"
     ]
    }
   ],
   "source": [
    "# Otro ejemplo\n",
    "edad_bob = 17\n",
    "edad_min = 18\n",
    "edad_light = 16\n",
    "\n",
    "if edad_bob >= edad_min:\n",
    "    print(\"Puedes pasar\")\n",
    "elif edad_bob >= edad_light:\n",
    "    print(\"Vete a la disco light con los de tu edad\")\n",
    "else:\n",
    "    print(\"Vuelve para casa\")"
   ]
  },
  {
   "cell_type": "code",
   "execution_count": null,
   "id": "hundred-perspective",
   "metadata": {},
   "outputs": [],
   "source": [
    "# Por último, ¡las cosas pueden ser tan salvajes como queramos con los condicionales anidados!"
   ]
  },
  {
   "cell_type": "code",
   "execution_count": 105,
   "id": "cosmetic-school",
   "metadata": {},
   "outputs": [
    {
     "name": "stdout",
     "output_type": "stream",
     "text": [
      "Que edad tienes bob? 20\n",
      "Bienvenido a la discoteca Bob!\n"
     ]
    }
   ],
   "source": [
    "# Un simple programa de \"comparación de dos números\". ¿Puedes entenderlo?\n",
    "# Es el mismo ejemplo que anterior, pero con else anidado, sin elif\n",
    "edad_bob = int(input(\"Que edad tienes bob? \"))\n",
    "edad_minima_adulto = 18\n",
    "edad_minima_light = 16\n",
    "\n",
    "if edad_bob >= edad_minima_adulto:\n",
    "    print(\"Bienvenido a la discoteca Bob!\")\n",
    "else:\n",
    "    if edad_bob >= edad_minima_light:\n",
    "        print(\"Bob te recomiendo una discoteca light a 2 calles.\")\n",
    "    else:\n",
    "        print(\"Lo siento Bob. Regresa a tu casa.\")"
   ]
  },
  {
   "cell_type": "code",
   "execution_count": 106,
   "id": "rapid-ticket",
   "metadata": {},
   "outputs": [
    {
     "name": "stdout",
     "output_type": "stream",
     "text": [
      "Holi Bob\n"
     ]
    }
   ],
   "source": [
    "if edad_bob >= 18:\n",
    "    print(\"Holi Bob\")\n",
    "else:\n",
    "    if edad_bob > 16:\n",
    "        print(\"Vete a la disco light\")\n",
    "    else:\n",
    "        print(\"Igual deberías irte pa casa :)\")"
   ]
  },
  {
   "cell_type": "code",
   "execution_count": 108,
   "id": "funded-hayes",
   "metadata": {},
   "outputs": [
    {
     "name": "stdout",
     "output_type": "stream",
     "text": [
      "hola\n"
     ]
    }
   ],
   "source": [
    "\"\"\"\n",
    "Si quiero poner una variable comprendida entre dos números uso and\n",
    "\"\"\"\n",
    "variable = 15\n",
    "if variable >= 10 and variable <=20:\n",
    "    print(\"hola\")"
   ]
  },
  {
   "cell_type": "code",
   "execution_count": null,
   "id": "liked-threshold",
   "metadata": {},
   "outputs": [],
   "source": [
    "# Más ejemplos!"
   ]
  },
  {
   "cell_type": "markdown",
   "id": "stuffed-explorer",
   "metadata": {},
   "source": [
    "Imaginemos que estamos construyendo el programa para un robot clasificador de huevos por tamaño. Nuestro brazo robot recibe la información de una balanza, la cual le indica, en gramos, el peso del huevo que debe clasificar. El brazo debe, a partir del peso, ubicar el huevo en una caja u otra como sigue:   \n",
    "**Caja S** (pequeños) : peso menor a 53 gramos.   \n",
    "**Caja M** (medianos) : peso mayor o igual a 53 gramos e inferior a 63 gramos.   \n",
    "**Caja L** (grandes): peso mayor o igual a 63 gramos e inferior a 73 gramos.   \n",
    "**Caja XL** (súper grandes): peso mayor o igual a 73 gramos.   "
   ]
  },
  {
   "cell_type": "markdown",
   "id": "peaceful-affairs",
   "metadata": {},
   "source": [
    "Con lo que hemos visto ya somos capaces de resolver el problema, gracias a la posibilidad de anidar estructuras:"
   ]
  },
  {
   "cell_type": "code",
   "execution_count": null,
   "id": "special-anniversary",
   "metadata": {},
   "outputs": [],
   "source": [
    "# Tu turno!"
   ]
  },
  {
   "cell_type": "code",
   "execution_count": null,
   "id": "present-communication",
   "metadata": {},
   "outputs": [],
   "source": [
    "peso = 64\n",
    "caja = \"\""
   ]
  },
  {
   "cell_type": "code",
   "execution_count": null,
   "id": "defensive-philippines",
   "metadata": {},
   "outputs": [],
   "source": [
    "#Sin elif:\n"
   ]
  },
  {
   "cell_type": "code",
   "execution_count": null,
   "id": "prescription-makeup",
   "metadata": {},
   "outputs": [],
   "source": []
  },
  {
   "cell_type": "code",
   "execution_count": null,
   "id": "herbal-acting",
   "metadata": {},
   "outputs": [],
   "source": [
    "# Con Elif:\n"
   ]
  },
  {
   "cell_type": "code",
   "execution_count": null,
   "id": "cleared-valuable",
   "metadata": {},
   "outputs": [],
   "source": [
    "print(caja)"
   ]
  },
  {
   "cell_type": "markdown",
   "id": "chubby-drama",
   "metadata": {},
   "source": [
    "## Summary \n",
    "Es tu turno: Qué hemos aprendido?\n"
   ]
  },
  {
   "cell_type": "markdown",
   "id": "downtown-peninsula",
   "metadata": {},
   "source": [
    "## Further materials\n",
    "\n",
    "* [Python docs](https://docs.python.org/3/tutorial/controlflow.html)\n",
    "* Short tutorial on [Python Booleans](https://realpython.com/python-boolean/\n",
    "* Just a nice [talk by Feynman](https://www.youtube.com/watch?v=EKWGGDXe5MA) on the principles of computation"
   ]
  }
 ],
 "metadata": {
  "kernelspec": {
   "display_name": "Python 3",
   "language": "python",
   "name": "python3"
  },
  "language_info": {
   "codemirror_mode": {
    "name": "ipython",
    "version": 3
   },
   "file_extension": ".py",
   "mimetype": "text/x-python",
   "name": "python",
   "nbconvert_exporter": "python",
   "pygments_lexer": "ipython3",
   "version": "3.8.5"
  },
  "toc": {
   "base_numbering": 1,
   "nav_menu": {},
   "number_sections": true,
   "sideBar": true,
   "skip_h1_title": true,
   "title_cell": "Table of Contents",
   "title_sidebar": "Contents",
   "toc_cell": true,
   "toc_position": {},
   "toc_section_display": true,
   "toc_window_display": false
  }
 },
 "nbformat": 4,
 "nbformat_minor": 5
}
