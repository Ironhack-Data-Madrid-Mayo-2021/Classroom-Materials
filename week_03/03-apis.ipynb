{
 "cells": [
  {
   "cell_type": "markdown",
   "metadata": {
    "toc": true
   },
   "source": [
    "<h1>Table of Contents<span class=\"tocSkip\"></span></h1>\n",
    "<div class=\"toc\"><ul class=\"toc-item\"><li><span><a href=\"#Internet,-DNS,-IPs\" data-toc-modified-id=\"Internet,-DNS,-IPs-1\"><span class=\"toc-item-num\">1&nbsp;&nbsp;</span>Internet, DNS, IPs</a></span></li><li><span><a href=\"#HTTP\" data-toc-modified-id=\"HTTP-2\"><span class=\"toc-item-num\">2&nbsp;&nbsp;</span>HTTP</a></span><ul class=\"toc-item\"><li><span><a href=\"#URL\" data-toc-modified-id=\"URL-2.1\"><span class=\"toc-item-num\">2.1&nbsp;&nbsp;</span>URL</a></span></li><li><span><a href=\"#HTTP-vs-HTTPS\" data-toc-modified-id=\"HTTP-vs-HTTPS-2.2\"><span class=\"toc-item-num\">2.2&nbsp;&nbsp;</span>HTTP vs HTTPS</a></span></li><li><span><a href=\"#Requests\" data-toc-modified-id=\"Requests-2.3\"><span class=\"toc-item-num\">2.3&nbsp;&nbsp;</span>Requests</a></span></li><li><span><a href=\"#Response\" data-toc-modified-id=\"Response-2.4\"><span class=\"toc-item-num\">2.4&nbsp;&nbsp;</span>Response</a></span></li></ul></li><li><span><a href=\"#API\" data-toc-modified-id=\"API-3\"><span class=\"toc-item-num\">3&nbsp;&nbsp;</span>API</a></span><ul class=\"toc-item\"><li><span><a href=\"#RESTful-APIs\" data-toc-modified-id=\"RESTful-APIs-3.1\"><span class=\"toc-item-num\">3.1&nbsp;&nbsp;</span>RESTful APIs</a></span></li></ul></li><li><span><a href=\"#Requests-in-Python\" data-toc-modified-id=\"Requests-in-Python-4\"><span class=\"toc-item-num\">4&nbsp;&nbsp;</span>Requests in Python</a></span><ul class=\"toc-item\"><li><span><a href=\"#GET\" data-toc-modified-id=\"GET-4.1\"><span class=\"toc-item-num\">4.1&nbsp;&nbsp;</span>GET</a></span></li><li><span><a href=\"#Parameters\" data-toc-modified-id=\"Parameters-4.2\"><span class=\"toc-item-num\">4.2&nbsp;&nbsp;</span>Parameters</a></span></li></ul></li><li><span><a href=\"#Example:-News-API\" data-toc-modified-id=\"Example:-News-API-5\"><span class=\"toc-item-num\">5&nbsp;&nbsp;</span>Example: News API</a></span></li><li><span><a href=\"#Another-example-API:-Jokes-API\" data-toc-modified-id=\"Another-example-API:-Jokes-API-6\"><span class=\"toc-item-num\">6&nbsp;&nbsp;</span>Another example API: Jokes API</a></span></li><li><span><a href=\"#API-keys\" data-toc-modified-id=\"API-keys-7\"><span class=\"toc-item-num\">7&nbsp;&nbsp;</span>API keys</a></span></li><li><span><a href=\"#Headers\" data-toc-modified-id=\"Headers-8\"><span class=\"toc-item-num\">8&nbsp;&nbsp;</span>Headers</a></span></li><li><span><a href=\"#NewsAPI-endpoints-playground\" data-toc-modified-id=\"NewsAPI-endpoints-playground-9\"><span class=\"toc-item-num\">9&nbsp;&nbsp;</span>NewsAPI endpoints playground</a></span></li><li><span><a href=\"#Summary\" data-toc-modified-id=\"Summary-10\"><span class=\"toc-item-num\">10&nbsp;&nbsp;</span>Summary</a></span></li><li><span><a href=\"#Further-materials\" data-toc-modified-id=\"Further-materials-11\"><span class=\"toc-item-num\">11&nbsp;&nbsp;</span>Further materials</a></span></li></ul></div>"
   ]
  },
  {
   "cell_type": "markdown",
   "metadata": {},
   "source": [
    "## Internet, DNS, IPs"
   ]
  },
  {
   "cell_type": "markdown",
   "metadata": {},
   "source": [
    "[How do we connect to www.google.com?](https://www.youtube.com/watch?v=sUhEqT_HSBI&ab_channel=ProfeSang)"
   ]
  },
  {
   "cell_type": "markdown",
   "metadata": {},
   "source": [
    " * DNS (domain name server): maps internet address www.google.com to server IP: 216.58.222.196\n",
    " * IP: server identification. code that allow information to be sent and received by the correct parties"
   ]
  },
  {
   "cell_type": "markdown",
   "metadata": {},
   "source": [
    " * Domain providers: they sell and buy internet domains"
   ]
  },
  {
   "cell_type": "markdown",
   "metadata": {},
   "source": [
    "## HTTP"
   ]
  },
  {
   "cell_type": "markdown",
   "metadata": {},
   "source": [
    "**H**yper **T**ext **T**ransfer **P**rotocol"
   ]
  },
  {
   "cell_type": "markdown",
   "metadata": {},
   "source": [
    "HTTP is a communications protocol that provides a structure for requests between client and server in a network. "
   ]
  },
  {
   "cell_type": "markdown",
   "metadata": {},
   "source": [
    "For example, the Web browser in the user's computer (the client) employs the HTTP protocol to request information from a website on a server. "
   ]
  },
  {
   "cell_type": "markdown",
   "metadata": {},
   "source": [
    "### URL"
   ]
  },
  {
   "cell_type": "markdown",
   "metadata": {},
   "source": [
    "Contains information of which resource whe are asking the SERVER for."
   ]
  },
  {
   "cell_type": "markdown",
   "metadata": {},
   "source": [
    "Examples:\n",
    "\n",
    "- https://www.google.com/webhp?authuser=2\n",
    "- https://www.towardsdatascience.com"
   ]
  },
  {
   "cell_type": "markdown",
   "metadata": {},
   "source": [
    "### HTTP vs HTTPS\n",
    "\n",
    "- HTTP transfers data in plain text while HTTPS transfers data in cipher text (encrypt text). \n",
    "- HTTP is fast as compared to HTTPS because HTTPS consumes computation power to encrypt the communication channel."
   ]
  },
  {
   "cell_type": "markdown",
   "metadata": {},
   "source": [
    "### Requests"
   ]
  },
  {
   "cell_type": "markdown",
   "metadata": {},
   "source": [
    "**Requests** are questions we formulate to a SERVER in order to receive a piece of information (a **response**). "
   ]
  },
  {
   "cell_type": "markdown",
   "metadata": {},
   "source": [
    "Type of requests:\n",
    " * GET: read information from resource, and not to modify it in any way. Webpage access from browser **gets** info.\n",
    " * POST\n",
    " * PUT\n",
    " * DELETE\n",
    " * PATCH\n",
    " * ..."
   ]
  },
  {
   "cell_type": "markdown",
   "metadata": {},
   "source": [
    "### Response"
   ]
  },
  {
   "cell_type": "markdown",
   "metadata": {},
   "source": [
    "Responses can be of several types:\n",
    " * a JSON (similar to Python dictionary)\n",
    " * an image\n",
    " * a video\n",
    " * a HTML page\n",
    " * a PDF file\n",
    " * ..."
   ]
  },
  {
   "cell_type": "markdown",
   "metadata": {},
   "source": [
    "Responses follow the following structure. They have:\n",
    " * a HEADER section: contains metadata about the behaviour of the server\n",
    " * a BODY: contains the desired piece of information"
   ]
  },
  {
   "cell_type": "markdown",
   "metadata": {},
   "source": [
    "One important part of the HEADER is the **status code**. This code is a numerical code indicating the result of the server. There are different status codes depending if the server succedded to perform the REQUEST or didn't manage to do anything at all. This are some groups of status codes:\n",
    "\n",
    "- **2xx** successful__: the request was successfully received, understood and accepted\n",
    "- **3xx** redirection__: further action needs to be taken in order to complete the request\n",
    "- **4xx** client error__: the request contains bad syntax or cannot be fulfilled\n",
    "- **5xx** server error__: the server failed to fulfill an apparently valid request\n",
    "\n",
    "Complete list:\n",
    "https://en.wikipedia.org/wiki/List_of_HTTP_status_codes\n",
    "\n",
    "Funnier:  \n",
    "https://http.cat/  "
   ]
  },
  {
   "cell_type": "markdown",
   "metadata": {},
   "source": [
    "## API"
   ]
  },
  {
   "cell_type": "markdown",
   "metadata": {},
   "source": [
    "**A**pplication **P**rogramming **I**nterface"
   ]
  },
  {
   "cell_type": "markdown",
   "metadata": {},
   "source": [
    "* Cloud era, softwares need to communicate through internet.\n",
    "* Inside a project, backend might want to share with frontend information without ddbb access.\n",
    "* It is a contract between software products. \n",
    "* It is an instruction manual to use some software.\n",
    "* Client calls server through an API, server responds."
   ]
  },
  {
   "cell_type": "markdown",
   "metadata": {},
   "source": [
    "### RESTful APIs"
   ]
  },
  {
   "cell_type": "markdown",
   "metadata": {},
   "source": [
    "Most interactive APIs follow REST logic, a series of rules"
   ]
  },
  {
   "cell_type": "markdown",
   "metadata": {},
   "source": [
    "[Guiding Principles of REST](https://restfulapi.net/)"
   ]
  },
  {
   "cell_type": "markdown",
   "metadata": {},
   "source": [
    "[What is a RESTful API (Video)](https://www.youtube.com/watch?v=JD6VNRdGl98&ab_channel=LeonardoKuffo)"
   ]
  },
  {
   "cell_type": "markdown",
   "metadata": {},
   "source": [
    "Who does what:  \n",
    " * we (client) send a request\n",
    " * they (server) send back a response, generally in JSON format"
   ]
  },
  {
   "cell_type": "markdown",
   "metadata": {},
   "source": [
    "APIs always have to offer documentation of their different services: **endpoints**  \n",
    "Each endpoint is a different URL"
   ]
  },
  {
   "cell_type": "markdown",
   "metadata": {},
   "source": [
    "## Requests in Python"
   ]
  },
  {
   "cell_type": "markdown",
   "metadata": {},
   "source": [
    "`requests`: Python library for doing requests to APIs"
   ]
  },
  {
   "cell_type": "code",
   "execution_count": null,
   "metadata": {},
   "outputs": [],
   "source": [
    "#!pip install requests"
   ]
  },
  {
   "cell_type": "code",
   "execution_count": 7,
   "metadata": {},
   "outputs": [],
   "source": [
    "import requests"
   ]
  },
  {
   "cell_type": "markdown",
   "metadata": {},
   "source": [
    "We will only perform **GET** requests"
   ]
  },
  {
   "cell_type": "markdown",
   "metadata": {},
   "source": [
    "`requests` also turns responses from JSON into a python object"
   ]
  },
  {
   "cell_type": "markdown",
   "metadata": {},
   "source": [
    "### GET"
   ]
  },
  {
   "cell_type": "markdown",
   "metadata": {},
   "source": [
    "When we **GET** a URL, response is generally one of these two types:  \n",
    " * HTML\n",
    " * JSON\n",
    "\n",
    "Today we will care about **JSON** responses, the most frequent for APIs"
   ]
  },
  {
   "cell_type": "markdown",
   "metadata": {},
   "source": [
    "Let's get information from ISS (international space station)!"
   ]
  },
  {
   "cell_type": "markdown",
   "metadata": {},
   "source": [
    "[ISS API documentation](https://wheretheiss.at/w/developer)"
   ]
  },
  {
   "cell_type": "code",
   "execution_count": 8,
   "metadata": {},
   "outputs": [],
   "source": [
    "url = \"https://api.wheretheiss.at/v1/satellites\""
   ]
  },
  {
   "cell_type": "code",
   "execution_count": 9,
   "metadata": {},
   "outputs": [],
   "source": [
    "response = requests.get(url)"
   ]
  },
  {
   "cell_type": "code",
   "execution_count": 10,
   "metadata": {},
   "outputs": [
    {
     "data": {
      "text/plain": [
       "requests.models.Response"
      ]
     },
     "execution_count": 10,
     "metadata": {},
     "output_type": "execute_result"
    }
   ],
   "source": [
    "type(response)"
   ]
  },
  {
   "cell_type": "code",
   "execution_count": 11,
   "metadata": {},
   "outputs": [
    {
     "data": {
      "text/plain": [
       "200"
      ]
     },
     "execution_count": 11,
     "metadata": {},
     "output_type": "execute_result"
    }
   ],
   "source": [
    "response.status_code"
   ]
  },
  {
   "cell_type": "code",
   "execution_count": 13,
   "metadata": {},
   "outputs": [],
   "source": [
    "info = response.json()"
   ]
  },
  {
   "cell_type": "code",
   "execution_count": 14,
   "metadata": {},
   "outputs": [
    {
     "data": {
      "text/plain": [
       "[{'name': 'iss', 'id': 25544}]"
      ]
     },
     "execution_count": 14,
     "metadata": {},
     "output_type": "execute_result"
    }
   ],
   "source": [
    "info"
   ]
  },
  {
   "cell_type": "code",
   "execution_count": 18,
   "metadata": {},
   "outputs": [
    {
     "data": {
      "text/plain": [
       "1"
      ]
     },
     "execution_count": 18,
     "metadata": {},
     "output_type": "execute_result"
    }
   ],
   "source": [
    "len(info)"
   ]
  },
  {
   "cell_type": "code",
   "execution_count": 15,
   "metadata": {},
   "outputs": [
    {
     "data": {
      "text/plain": [
       "list"
      ]
     },
     "execution_count": 15,
     "metadata": {},
     "output_type": "execute_result"
    }
   ],
   "source": [
    "type(info)"
   ]
  },
  {
   "cell_type": "code",
   "execution_count": 17,
   "metadata": {},
   "outputs": [
    {
     "data": {
      "text/plain": [
       "'iss'"
      ]
     },
     "execution_count": 17,
     "metadata": {},
     "output_type": "execute_result"
    }
   ],
   "source": [
    "info[0][\"name\"]"
   ]
  },
  {
   "cell_type": "code",
   "execution_count": 27,
   "metadata": {},
   "outputs": [],
   "source": [
    "url_iss_position = \"https://api.wheretheiss.at/v1/satellites/25544\""
   ]
  },
  {
   "cell_type": "code",
   "execution_count": 28,
   "metadata": {},
   "outputs": [],
   "source": [
    "response = requests.get(url_iss_position)"
   ]
  },
  {
   "cell_type": "code",
   "execution_count": 29,
   "metadata": {},
   "outputs": [
    {
     "data": {
      "text/plain": [
       "200"
      ]
     },
     "execution_count": 29,
     "metadata": {},
     "output_type": "execute_result"
    }
   ],
   "source": [
    "response.status_code"
   ]
  },
  {
   "cell_type": "code",
   "execution_count": 30,
   "metadata": {},
   "outputs": [
    {
     "data": {
      "text/plain": [
       "{'name': 'iss',\n",
       " 'id': 25544,\n",
       " 'latitude': 49.709705521905,\n",
       " 'longitude': 15.617851377867,\n",
       " 'altitude': 423.0863397349,\n",
       " 'velocity': 27593.634647163,\n",
       " 'visibility': 'daylight',\n",
       " 'footprint': 4523.1321595235,\n",
       " 'timestamp': 1623918864,\n",
       " 'daynum': 2459382.8572222,\n",
       " 'solar_lat': 23.388159486416,\n",
       " 'solar_lon': 51.645046504005,\n",
       " 'units': 'kilometers'}"
      ]
     },
     "execution_count": 30,
     "metadata": {},
     "output_type": "execute_result"
    }
   ],
   "source": [
    "response.json()"
   ]
  },
  {
   "cell_type": "code",
   "execution_count": 32,
   "metadata": {},
   "outputs": [],
   "source": [
    "import time"
   ]
  },
  {
   "cell_type": "code",
   "execution_count": 33,
   "metadata": {},
   "outputs": [
    {
     "name": "stdout",
     "output_type": "stream",
     "text": [
      "0\n",
      "1\n",
      "2\n",
      "3\n",
      "4\n",
      "5\n",
      "6\n",
      "7\n",
      "8\n",
      "9\n"
     ]
    }
   ],
   "source": [
    "positions = []\n",
    "\n",
    "for i in range(10):\n",
    "    print(i)\n",
    "    response = requests.get(url_iss_position)\n",
    "    data = response.json()\n",
    "    \n",
    "    positions.append(data)\n",
    "    time.sleep(0.5)"
   ]
  },
  {
   "cell_type": "code",
   "execution_count": 34,
   "metadata": {},
   "outputs": [
    {
     "data": {
      "text/plain": [
       "list"
      ]
     },
     "execution_count": 34,
     "metadata": {},
     "output_type": "execute_result"
    }
   ],
   "source": [
    "type(positions)"
   ]
  },
  {
   "cell_type": "code",
   "execution_count": 35,
   "metadata": {},
   "outputs": [
    {
     "data": {
      "text/plain": [
       "10"
      ]
     },
     "execution_count": 35,
     "metadata": {},
     "output_type": "execute_result"
    }
   ],
   "source": [
    "len(positions)"
   ]
  },
  {
   "cell_type": "code",
   "execution_count": 36,
   "metadata": {},
   "outputs": [
    {
     "data": {
      "text/plain": [
       "{'name': 'iss',\n",
       " 'id': 25544,\n",
       " 'latitude': 51.076434788198,\n",
       " 'longitude': 24.091956074963,\n",
       " 'altitude': 423.30479919969,\n",
       " 'velocity': 27593.857439448,\n",
       " 'visibility': 'daylight',\n",
       " 'footprint': 4524.2387246586,\n",
       " 'timestamp': 1623918954,\n",
       " 'daynum': 2459382.8582639,\n",
       " 'solar_lat': 23.388186604436,\n",
       " 'solar_lon': 51.270103029335,\n",
       " 'units': 'kilometers'}"
      ]
     },
     "execution_count": 36,
     "metadata": {},
     "output_type": "execute_result"
    }
   ],
   "source": [
    "positions[0]"
   ]
  },
  {
   "cell_type": "code",
   "execution_count": 37,
   "metadata": {},
   "outputs": [
    {
     "data": {
      "text/plain": [
       "{'name': 'iss',\n",
       " 'id': 25544,\n",
       " 'latitude': 51.196384021639,\n",
       " 'longitude': 25.159606979289,\n",
       " 'altitude': 423.32230971524,\n",
       " 'velocity': 27593.883239754,\n",
       " 'visibility': 'daylight',\n",
       " 'footprint': 4524.3274065684,\n",
       " 'timestamp': 1623918965,\n",
       " 'daynum': 2459382.8583912,\n",
       " 'solar_lat': 23.388189918355,\n",
       " 'solar_lon': 51.22427651528,\n",
       " 'units': 'kilometers'}"
      ]
     },
     "execution_count": 37,
     "metadata": {},
     "output_type": "execute_result"
    }
   ],
   "source": [
    "positions[-1]"
   ]
  },
  {
   "cell_type": "markdown",
   "metadata": {},
   "source": [
    "Extract 10 latitudes from the 10 dictionaries in the list"
   ]
  },
  {
   "cell_type": "code",
   "execution_count": 39,
   "metadata": {},
   "outputs": [],
   "source": [
    "latitudes = [round(p[\"latitude\"], 2) for p in positions]"
   ]
  },
  {
   "cell_type": "code",
   "execution_count": 40,
   "metadata": {},
   "outputs": [
    {
     "data": {
      "text/plain": [
       "[51.08, 51.09, 51.11, 51.12, 51.13, 51.14, 51.16, 51.18, 51.19, 51.2]"
      ]
     },
     "execution_count": 40,
     "metadata": {},
     "output_type": "execute_result"
    }
   ],
   "source": [
    "latitudes"
   ]
  },
  {
   "cell_type": "code",
   "execution_count": 41,
   "metadata": {},
   "outputs": [],
   "source": [
    "import pandas as pd"
   ]
  },
  {
   "cell_type": "code",
   "execution_count": 42,
   "metadata": {},
   "outputs": [
    {
     "data": {
      "text/plain": [
       "list"
      ]
     },
     "execution_count": 42,
     "metadata": {},
     "output_type": "execute_result"
    }
   ],
   "source": [
    "type(positions)"
   ]
  },
  {
   "cell_type": "code",
   "execution_count": 43,
   "metadata": {},
   "outputs": [
    {
     "data": {
      "text/plain": [
       "dict"
      ]
     },
     "execution_count": 43,
     "metadata": {},
     "output_type": "execute_result"
    }
   ],
   "source": [
    "type(positions[0])"
   ]
  },
  {
   "cell_type": "code",
   "execution_count": 44,
   "metadata": {},
   "outputs": [
    {
     "data": {
      "text/html": [
       "<div>\n",
       "<style scoped>\n",
       "    .dataframe tbody tr th:only-of-type {\n",
       "        vertical-align: middle;\n",
       "    }\n",
       "\n",
       "    .dataframe tbody tr th {\n",
       "        vertical-align: top;\n",
       "    }\n",
       "\n",
       "    .dataframe thead th {\n",
       "        text-align: right;\n",
       "    }\n",
       "</style>\n",
       "<table border=\"1\" class=\"dataframe\">\n",
       "  <thead>\n",
       "    <tr style=\"text-align: right;\">\n",
       "      <th></th>\n",
       "      <th>name</th>\n",
       "      <th>id</th>\n",
       "      <th>latitude</th>\n",
       "      <th>longitude</th>\n",
       "      <th>altitude</th>\n",
       "      <th>velocity</th>\n",
       "      <th>visibility</th>\n",
       "      <th>footprint</th>\n",
       "      <th>timestamp</th>\n",
       "      <th>daynum</th>\n",
       "      <th>solar_lat</th>\n",
       "      <th>solar_lon</th>\n",
       "      <th>units</th>\n",
       "    </tr>\n",
       "  </thead>\n",
       "  <tbody>\n",
       "    <tr>\n",
       "      <th>0</th>\n",
       "      <td>iss</td>\n",
       "      <td>25544</td>\n",
       "      <td>51.076435</td>\n",
       "      <td>24.091956</td>\n",
       "      <td>423.304799</td>\n",
       "      <td>27593.857439</td>\n",
       "      <td>daylight</td>\n",
       "      <td>4524.238725</td>\n",
       "      <td>1623918954</td>\n",
       "      <td>2.459383e+06</td>\n",
       "      <td>23.388187</td>\n",
       "      <td>51.270103</td>\n",
       "      <td>kilometers</td>\n",
       "    </tr>\n",
       "    <tr>\n",
       "      <th>1</th>\n",
       "      <td>iss</td>\n",
       "      <td>25544</td>\n",
       "      <td>51.087776</td>\n",
       "      <td>24.188774</td>\n",
       "      <td>423.306476</td>\n",
       "      <td>27593.859795</td>\n",
       "      <td>daylight</td>\n",
       "      <td>4524.247219</td>\n",
       "      <td>1623918955</td>\n",
       "      <td>2.459383e+06</td>\n",
       "      <td>23.388187</td>\n",
       "      <td>51.265937</td>\n",
       "      <td>kilometers</td>\n",
       "    </tr>\n",
       "    <tr>\n",
       "      <th>2</th>\n",
       "      <td>iss</td>\n",
       "      <td>25544</td>\n",
       "      <td>51.110197</td>\n",
       "      <td>24.382556</td>\n",
       "      <td>423.309780</td>\n",
       "      <td>27593.864499</td>\n",
       "      <td>daylight</td>\n",
       "      <td>4524.263950</td>\n",
       "      <td>1623918957</td>\n",
       "      <td>2.459383e+06</td>\n",
       "      <td>23.388188</td>\n",
       "      <td>51.257605</td>\n",
       "      <td>kilometers</td>\n",
       "    </tr>\n",
       "    <tr>\n",
       "      <th>3</th>\n",
       "      <td>iss</td>\n",
       "      <td>25544</td>\n",
       "      <td>51.121278</td>\n",
       "      <td>24.479524</td>\n",
       "      <td>423.311406</td>\n",
       "      <td>27593.866849</td>\n",
       "      <td>daylight</td>\n",
       "      <td>4524.272186</td>\n",
       "      <td>1623918958</td>\n",
       "      <td>2.459383e+06</td>\n",
       "      <td>23.388188</td>\n",
       "      <td>51.253439</td>\n",
       "      <td>kilometers</td>\n",
       "    </tr>\n",
       "    <tr>\n",
       "      <th>4</th>\n",
       "      <td>iss</td>\n",
       "      <td>25544</td>\n",
       "      <td>51.132270</td>\n",
       "      <td>24.576537</td>\n",
       "      <td>423.313015</td>\n",
       "      <td>27593.869196</td>\n",
       "      <td>daylight</td>\n",
       "      <td>4524.280335</td>\n",
       "      <td>1623918959</td>\n",
       "      <td>2.459383e+06</td>\n",
       "      <td>23.388188</td>\n",
       "      <td>51.249273</td>\n",
       "      <td>kilometers</td>\n",
       "    </tr>\n",
       "    <tr>\n",
       "      <th>5</th>\n",
       "      <td>iss</td>\n",
       "      <td>25544</td>\n",
       "      <td>51.143175</td>\n",
       "      <td>24.673597</td>\n",
       "      <td>423.314607</td>\n",
       "      <td>27593.871542</td>\n",
       "      <td>daylight</td>\n",
       "      <td>4524.288397</td>\n",
       "      <td>1623918960</td>\n",
       "      <td>2.459383e+06</td>\n",
       "      <td>23.388188</td>\n",
       "      <td>51.245107</td>\n",
       "      <td>kilometers</td>\n",
       "    </tr>\n",
       "    <tr>\n",
       "      <th>6</th>\n",
       "      <td>iss</td>\n",
       "      <td>25544</td>\n",
       "      <td>51.164721</td>\n",
       "      <td>24.867859</td>\n",
       "      <td>423.317740</td>\n",
       "      <td>27593.876227</td>\n",
       "      <td>daylight</td>\n",
       "      <td>4524.304261</td>\n",
       "      <td>1623918962</td>\n",
       "      <td>2.459383e+06</td>\n",
       "      <td>23.388189</td>\n",
       "      <td>51.236775</td>\n",
       "      <td>kilometers</td>\n",
       "    </tr>\n",
       "    <tr>\n",
       "      <th>7</th>\n",
       "      <td>iss</td>\n",
       "      <td>25544</td>\n",
       "      <td>51.175363</td>\n",
       "      <td>24.965061</td>\n",
       "      <td>423.319280</td>\n",
       "      <td>27593.878566</td>\n",
       "      <td>daylight</td>\n",
       "      <td>4524.312063</td>\n",
       "      <td>1623918963</td>\n",
       "      <td>2.459383e+06</td>\n",
       "      <td>23.388189</td>\n",
       "      <td>51.232609</td>\n",
       "      <td>kilometers</td>\n",
       "    </tr>\n",
       "    <tr>\n",
       "      <th>8</th>\n",
       "      <td>iss</td>\n",
       "      <td>25544</td>\n",
       "      <td>51.185917</td>\n",
       "      <td>25.062309</td>\n",
       "      <td>423.320803</td>\n",
       "      <td>27593.880904</td>\n",
       "      <td>daylight</td>\n",
       "      <td>4524.319778</td>\n",
       "      <td>1623918964</td>\n",
       "      <td>2.459383e+06</td>\n",
       "      <td>23.388190</td>\n",
       "      <td>51.228443</td>\n",
       "      <td>kilometers</td>\n",
       "    </tr>\n",
       "    <tr>\n",
       "      <th>9</th>\n",
       "      <td>iss</td>\n",
       "      <td>25544</td>\n",
       "      <td>51.196384</td>\n",
       "      <td>25.159607</td>\n",
       "      <td>423.322310</td>\n",
       "      <td>27593.883240</td>\n",
       "      <td>daylight</td>\n",
       "      <td>4524.327407</td>\n",
       "      <td>1623918965</td>\n",
       "      <td>2.459383e+06</td>\n",
       "      <td>23.388190</td>\n",
       "      <td>51.224277</td>\n",
       "      <td>kilometers</td>\n",
       "    </tr>\n",
       "  </tbody>\n",
       "</table>\n",
       "</div>"
      ],
      "text/plain": [
       "  name     id   latitude  longitude    altitude      velocity visibility  \\\n",
       "0  iss  25544  51.076435  24.091956  423.304799  27593.857439   daylight   \n",
       "1  iss  25544  51.087776  24.188774  423.306476  27593.859795   daylight   \n",
       "2  iss  25544  51.110197  24.382556  423.309780  27593.864499   daylight   \n",
       "3  iss  25544  51.121278  24.479524  423.311406  27593.866849   daylight   \n",
       "4  iss  25544  51.132270  24.576537  423.313015  27593.869196   daylight   \n",
       "5  iss  25544  51.143175  24.673597  423.314607  27593.871542   daylight   \n",
       "6  iss  25544  51.164721  24.867859  423.317740  27593.876227   daylight   \n",
       "7  iss  25544  51.175363  24.965061  423.319280  27593.878566   daylight   \n",
       "8  iss  25544  51.185917  25.062309  423.320803  27593.880904   daylight   \n",
       "9  iss  25544  51.196384  25.159607  423.322310  27593.883240   daylight   \n",
       "\n",
       "     footprint   timestamp        daynum  solar_lat  solar_lon       units  \n",
       "0  4524.238725  1623918954  2.459383e+06  23.388187  51.270103  kilometers  \n",
       "1  4524.247219  1623918955  2.459383e+06  23.388187  51.265937  kilometers  \n",
       "2  4524.263950  1623918957  2.459383e+06  23.388188  51.257605  kilometers  \n",
       "3  4524.272186  1623918958  2.459383e+06  23.388188  51.253439  kilometers  \n",
       "4  4524.280335  1623918959  2.459383e+06  23.388188  51.249273  kilometers  \n",
       "5  4524.288397  1623918960  2.459383e+06  23.388188  51.245107  kilometers  \n",
       "6  4524.304261  1623918962  2.459383e+06  23.388189  51.236775  kilometers  \n",
       "7  4524.312063  1623918963  2.459383e+06  23.388189  51.232609  kilometers  \n",
       "8  4524.319778  1623918964  2.459383e+06  23.388190  51.228443  kilometers  \n",
       "9  4524.327407  1623918965  2.459383e+06  23.388190  51.224277  kilometers  "
      ]
     },
     "execution_count": 44,
     "metadata": {},
     "output_type": "execute_result"
    }
   ],
   "source": [
    "pd.DataFrame(positions)"
   ]
  },
  {
   "cell_type": "markdown",
   "metadata": {},
   "source": [
    "### Parameters"
   ]
  },
  {
   "cell_type": "markdown",
   "metadata": {},
   "source": [
    "We sometimes want to pass some parameters to an API endpoint.\n",
    "\n",
    "Similar to python functions receiving parameters for a different behavior"
   ]
  },
  {
   "cell_type": "code",
   "execution_count": 45,
   "metadata": {},
   "outputs": [
    {
     "data": {
      "text/plain": [
       "'https://api.wheretheiss.at/v1/satellites/25544'"
      ]
     },
     "execution_count": 45,
     "metadata": {},
     "output_type": "execute_result"
    }
   ],
   "source": [
    "url_iss_position"
   ]
  },
  {
   "cell_type": "markdown",
   "metadata": {},
   "source": [
    "Parameters are passed with `?param1=value1&param2=value2...` at the end or the URL"
   ]
  },
  {
   "cell_type": "code",
   "execution_count": 46,
   "metadata": {},
   "outputs": [],
   "source": [
    "url_iss_position2 = 'https://api.wheretheiss.at/v1/satellites/25544?units=miles'"
   ]
  },
  {
   "cell_type": "code",
   "execution_count": 47,
   "metadata": {},
   "outputs": [],
   "source": [
    "response = requests.get(url_iss_position2)"
   ]
  },
  {
   "cell_type": "code",
   "execution_count": 48,
   "metadata": {},
   "outputs": [
    {
     "data": {
      "text/plain": [
       "200"
      ]
     },
     "execution_count": 48,
     "metadata": {},
     "output_type": "execute_result"
    }
   ],
   "source": [
    "response.status_code"
   ]
  },
  {
   "cell_type": "code",
   "execution_count": 49,
   "metadata": {},
   "outputs": [
    {
     "data": {
      "text/plain": [
       "{'name': 'iss',\n",
       " 'id': 25544,\n",
       " 'latitude': 46.345803073172,\n",
       " 'longitude': 69.465150148702,\n",
       " 'altitude': 262.30416928974,\n",
       " 'velocity': 17146.559866399,\n",
       " 'visibility': 'daylight',\n",
       " 'footprint': 2807.5552109571,\n",
       " 'timestamp': 1623919436,\n",
       " 'daynum': 2459382.8638426,\n",
       " 'solar_lat': 23.388331709441,\n",
       " 'solar_lon': 49.262072302036,\n",
       " 'units': 'miles'}"
      ]
     },
     "execution_count": 49,
     "metadata": {},
     "output_type": "execute_result"
    }
   ],
   "source": [
    "response.json()"
   ]
  },
  {
   "cell_type": "markdown",
   "metadata": {},
   "source": [
    "`requests` let us pass parameters as a dictionary:"
   ]
  },
  {
   "cell_type": "code",
   "execution_count": 52,
   "metadata": {},
   "outputs": [],
   "source": [
    "parameters = {\"units\": \"miles\"}"
   ]
  },
  {
   "cell_type": "code",
   "execution_count": 51,
   "metadata": {},
   "outputs": [
    {
     "data": {
      "text/plain": [
       "'https://api.wheretheiss.at/v1/satellites/25544'"
      ]
     },
     "execution_count": 51,
     "metadata": {},
     "output_type": "execute_result"
    }
   ],
   "source": [
    "url_iss_position"
   ]
  },
  {
   "cell_type": "code",
   "execution_count": 53,
   "metadata": {},
   "outputs": [],
   "source": [
    "response = requests.get(\n",
    "    url=url_iss_position,\n",
    "    params=parameters\n",
    ")"
   ]
  },
  {
   "cell_type": "code",
   "execution_count": 54,
   "metadata": {},
   "outputs": [
    {
     "data": {
      "text/plain": [
       "{'name': 'iss',\n",
       " 'id': 25544,\n",
       " 'latitude': 41.603455734541,\n",
       " 'longitude': 80.091707900157,\n",
       " 'altitude': 261.71802738842,\n",
       " 'velocity': 17146.509335481,\n",
       " 'visibility': 'daylight',\n",
       " 'footprint': 2804.5799981526,\n",
       " 'timestamp': 1623919581,\n",
       " 'daynum': 2459382.8655208,\n",
       " 'solar_lat': 23.388375319468,\n",
       " 'solar_lon': 48.657996594979,\n",
       " 'units': 'miles'}"
      ]
     },
     "execution_count": 54,
     "metadata": {},
     "output_type": "execute_result"
    }
   ],
   "source": [
    "response.json()"
   ]
  },
  {
   "cell_type": "markdown",
   "metadata": {},
   "source": [
    "## Example: News API"
   ]
  },
  {
   "cell_type": "code",
   "execution_count": 65,
   "metadata": {},
   "outputs": [],
   "source": [
    "url = \"http://newsapi.org/v2/top-headlines\""
   ]
  },
  {
   "cell_type": "code",
   "execution_count": 66,
   "metadata": {},
   "outputs": [],
   "source": [
    "key = \"e25ed9ca506a450fad74d46d37877052\""
   ]
  },
  {
   "cell_type": "code",
   "execution_count": 70,
   "metadata": {},
   "outputs": [],
   "source": [
    "response = requests.get(url)"
   ]
  },
  {
   "cell_type": "code",
   "execution_count": 71,
   "metadata": {},
   "outputs": [
    {
     "data": {
      "text/plain": [
       "401"
      ]
     },
     "execution_count": 71,
     "metadata": {},
     "output_type": "execute_result"
    }
   ],
   "source": [
    "response.status_code"
   ]
  },
  {
   "cell_type": "markdown",
   "metadata": {},
   "source": [
    "We need to pass apiKey as a parameter"
   ]
  },
  {
   "cell_type": "code",
   "execution_count": 76,
   "metadata": {},
   "outputs": [],
   "source": [
    "parameters = {\n",
    "    \"apiKey\": key,\n",
    "    \"country\": \"mx\"\n",
    "}"
   ]
  },
  {
   "cell_type": "code",
   "execution_count": 77,
   "metadata": {},
   "outputs": [],
   "source": [
    "response = requests.get(url, parameters)"
   ]
  },
  {
   "cell_type": "code",
   "execution_count": 78,
   "metadata": {},
   "outputs": [],
   "source": [
    "data = response.json()"
   ]
  },
  {
   "cell_type": "code",
   "execution_count": 79,
   "metadata": {},
   "outputs": [
    {
     "data": {
      "text/plain": [
       "{'status': 'ok',\n",
       " 'totalResults': 34,\n",
       " 'articles': [{'source': {'id': None, 'name': 'Mediotiempo.com'},\n",
       "   'author': 'Editorial Mediotiempo',\n",
       "   'title': '¡Hugo González se va de Rayados! El club lo hizo oficial y aficionados celebran - Mediotiempo',\n",
       "   'description': 'El cancerbero no contaba con el respaldo de la afición de la Pandilla, la cual se expresó con el anuncio.',\n",
       "   'url': 'https://www.mediotiempo.com/futbol/liga-mx/hugo-gonzalez-sale-rayados-club-oficial-redes',\n",
       "   'urlToImage': 'https://cdn2.mediotiempo.com/uploads/media/2021/06/16/hugo-gonzalez-sale-rayados-foto.jpg',\n",
       "   'publishedAt': '2021-06-17T02:58:07Z',\n",
       "   'content': 'Hugo González quedó desvinculado formalmente de los Rayados del Monterrey, club que tiene amarrado al argentino Esteban Andrada para defender el arco a partir del Apertura 2021.\\xa0\\r\\nSin mayores comenta… [+1251 chars]'},\n",
       "  {'source': {'id': None, 'name': 'Sinembargo.mx'},\n",
       "   'author': 'Redacción/SinEmbargo',\n",
       "   'title': '¿Dónde está Florencia Serranía? En la Red la buscan con MEMES - SinEmbargo',\n",
       "   'description': 'La conferencia del Gobierno de la Ciudad de México y la empresa noruega Det Norske Veritas (DNV) contó con la participación de la Jefa de Gobierno, Claudia Sheinbaum Pardo, el Secretario de Obras y Servicios Jesús Antonio Esteva Medina, la Secretaria de Gesti…',\n",
       "   'url': 'https://www.sinembargo.mx/16-06-2021/3989099',\n",
       "   'urlToImage': 'https://i0.wp.com/sinembargo.mx/wp-content/uploads/2021/06/florencia-serrania.jpg',\n",
       "   'publishedAt': '2021-06-17T02:13:00Z',\n",
       "   'content': 'Usuarios de redes sociales han compartido memes para buscar a la titular del Metro capitalino, quien no estuvo presente en el informe preliminar presentado esta tarde por autoridades.\\r\\nCiudad de Méxi… [+5806 chars]'},\n",
       "  {'source': {'id': None, 'name': 'ELIMPARCIAL.COM'},\n",
       "   'author': 'EL IMPARCIAL | Noticias de México y el mundo',\n",
       "   'title': '¿Cuánto nos va a durar la inmunidad frente al coronavirus? - ELIMPARCIAL.COM',\n",
       "   'description': 'Cuando el sistema inmunitario entra en contacto con un antígeno por primera vez, los componentes de la respuesta específica tardan algunos días en activarse completamente.',\n",
       "   'url': 'https://www.elimparcial.com/estilos/Cuanto-nos-va-a-durar-la-inmunidad-frente-alcoronavirus-20210616-0145.html',\n",
       "   'urlToImage': 'https://www.elimparcial.com/__export/1623895414990/sites/elimparcial/img/2021/06/16/man-6274651_1920.jpg_673822677.jpg',\n",
       "   'publishedAt': '2021-06-17T02:03:38Z',\n",
       "   'content': 'Ignacio J. Molina Pineda de las Infantas, \\r\\n Universidad de Granada\\r\\nConforme avanza el proceso de vacunación de la COVID-19, la pregunta se vuelve cada vez más acuciante: ¿cuánto nos va a durar la i… [+7046 chars]'},\n",
       "  {'source': {'id': 'infobae', 'name': 'Infobae'},\n",
       "   'author': 'anónimo',\n",
       "   'title': 'Así se presentó Alejandra Guzmán en televisión tras demanda de Frida Sofía - infobae',\n",
       "   'description': 'Apenas hace unos días la influencer formalizó su proceso legal contra su madre y su abuelo, Enrique Guzmán, por abuso sexual y violencia familiar',\n",
       "   'url': 'https://www.infobae.com/america/entretenimiento/2021/06/17/asi-se-presento-alejandra-guzman-en-television-tras-demanda-de-frida-sofia/',\n",
       "   'urlToImage': 'https://www.infobae.com/new-resizer/khfj8eJjhA3_T5TwqGvw49sUBuw=/1200x628/filters:format(jpg):quality(85)//cloudfront-us-east-1.images.arcpublishing.com/infobae/UXCCIOKPTNEGXFJXAW6IYNM4M4.JPG',\n",
       "   'publishedAt': '2021-06-17T02:01:22Z',\n",
       "   'content': 'Las aguas todavía no se han calmado entre la dinastía Guzmán-Pinal. El pasado 11 de junio Frida Sofía, influencer y única hija de Alejandra Guzmán, interpuso una demanda contra la Reina de Corazones … [+3751 chars]'},\n",
       "  {'source': {'id': None, 'name': 'Milenio'},\n",
       "   'author': 'Milenio Digital',\n",
       "   'title': '¿Hackeo? PES celebra en Twitter aprobación de matrimonio igualitario en Sinaloa y BC - Milenio',\n",
       "   'description': 'Las personas que tienen el control de las redes sociales del partido han hecho publicaciones en favor de la comunidad LGBT por no recibir el pago.',\n",
       "   'url': 'https://www.milenio.com/politica/pes-celebra-twitter-aprobacion-matrimonio-gay-sinaloa-bc',\n",
       "   'urlToImage': 'https://www.milenio.com/uploads/media/2021/06/16/aprueban-reforma-codigo-familiar-sinaloa_0_2_1024_636.jpeg',\n",
       "   'publishedAt': '2021-06-17T01:46:17Z',\n",
       "   'content': 'Luego de la aprobación del matrimonio igualitario en Sinaloa y Baja California, la cuenta de Twitter del Partido Encuentro Solidario (PES) celebró la decisión, lo que llamó la atención de los usuario… [+1302 chars]'},\n",
       "  {'source': {'id': None, 'name': 'El Universal'},\n",
       "   'author': None,\n",
       "   'title': 'Joven arroja a su bebé por un barranco para no pagar pensión alimenticia | El Universal - El Universal',\n",
       "   'description': 'El joven de 19 años escapó de las autoridades después de perpetrar el infanticidio, pero fue recapturado 12 horas después; Bolivia registra 15 crímenes de este tipo en lo que va del año',\n",
       "   'url': 'https://www.eluniversal.com.mx/mundo/joven-arroja-su-bebe-por-un-barranco-para-no-pagar-pension-alimenticia',\n",
       "   'urlToImage': 'https://www.eluniversal.com.mx/sites/default/files/2021/06/16/asesina_bebe_bolivia.jpg',\n",
       "   'publishedAt': '2021-06-17T01:26:54Z',\n",
       "   'content': 'La Paz.- Un joven de 19 años mató a su hijo de un año al arrojarlo por un barranco tras golpear a su pareja para quitarle al niño aparentemente para no pagar la pensión alimenticia, informó este miér… [+2191 chars]'},\n",
       "  {'source': {'id': None, 'name': 'El Universal'},\n",
       "   'author': None,\n",
       "   'title': '\"A Maradona lo mataron\", dice abogado de enfermera que estaba en la casa de Diego Armando | El Universal - El Universal',\n",
       "   'description': 'La enfermera, que estaba de guardia el día en que murió Maradona, acudió este miércoles ante la fiscalía de San Isidro por ser sospechosa de homicidio junto a otros seis miembros',\n",
       "   'url': 'https://www.eluniversal.com.mx/universal-deportes/futbol/maradona-lo-mataron-dice-abogado-de-enfermera-que-estaba-en-la-casa-de',\n",
       "   'urlToImage': 'https://www.eluniversal.com.mx/sites/default/files/2021/06/16/diego-maradona-muerte-.jpg',\n",
       "   'publishedAt': '2021-06-17T01:00:24Z',\n",
       "   'content': '\"A Diego (Maradona) lo mataron\", dijo este miércoles el abogado de la enfermera Dahiana Madrid, al apuntar a los médicos tratantes del ídolo del futbol como los responsables de su muerte en 2020, mie… [+2590 chars]'},\n",
       "  {'source': {'id': None, 'name': 'El Universal'},\n",
       "   'author': None,\n",
       "   'title': 'Coronavirus 16 de junio. México acumula 230 mil 624 muertes por Covid-19 | El Universal - El Universal',\n",
       "   'description': 'La Secretaría de Salud informó además, que desde el inicio de la estrategia nacional de vacunación se han aplicado en total 38 millones 248 mil 562 dosis de la vacuna contra Covid-19',\n",
       "   'url': 'https://www.eluniversal.com.mx/nacion/coronavirus-16-de-junio-mexico-acumula-230-mil-624-muertes-por-covid-19',\n",
       "   'urlToImage': 'https://www.eluniversal.com.mx/sites/default/files/2021/06/16/covid_19_cdmx.jpg',\n",
       "   'publishedAt': '2021-06-17T00:38:15Z',\n",
       "   'content': 'Al corte de este miércoles 16 de junio, México acumuló 230 mil 624 muertes por\\xa0Covid-19, esto es, 200 fallecimientos más que el día anterior, informó la Secretaría de Salud a través del informe técni… [+1170 chars]'},\n",
       "  {'source': {'id': None, 'name': 'El Universal'},\n",
       "   'author': None,\n",
       "   'title': 'PT va en contra de que Guardia Nacional vaya a la Sedena y desaparición de los pluris | El Universal - El Universal',\n",
       "   'description': 'Diputados del Partido del Trabajo dijeron que existe un compromiso del Presidente de regresar al Ejército a los cuarteles en marzo del 2024; insisten en el respaldo a Mauricio Toledo en el proceso de desafuero',\n",
       "   'url': 'https://www.eluniversal.com.mx/nacion/pt-va-en-contra-de-que-guardia-nacional-vaya-la-sedena-y-desaparicion-de-los-pluris',\n",
       "   'urlToImage': 'https://www.eluniversal.com.mx/sites/default/files/2021/06/16/010pt-diputados-gn-pluris.jpg',\n",
       "   'publishedAt': '2021-06-17T00:21:27Z',\n",
       "   'content': 'A pesar de que anunciaron que siguen firmes con el presidente Andrés Manuel López Obrador para la siguiente Legislatura, los próximos diputados federales del Partido del Trabajo anunciaron su desacue… [+7349 chars]'},\n",
       "  {'source': {'id': None, 'name': 'El Universal'},\n",
       "   'author': None,\n",
       "   'title': 'Las 3 coincidencias y los 3 desacuerdos que quedaron claros en la reunión Biden-Putin | El Universal - El Universal',\n",
       "   'description': 'Hubo escasos acuerdos concretos y fueron evidentes las discrepancias, sobre todo en asuntos como la ciberseguridad y las críticas de EU sobre la defensa de los derechos humanos en Rusia',\n",
       "   'url': 'https://www.eluniversal.com.mx/mundo/las-3-coincidencias-y-los-3-desacuerdos-que-quedaron-claros-en-la-reunion-biden-putin',\n",
       "   'urlToImage': 'https://www.eluniversal.com.mx/sites/default/files/_118954557_0a5ef499-2a45-4a01-9de0-cb939abe5c05.jpg',\n",
       "   'publishedAt': '2021-06-16T23:07:05Z',\n",
       "   'content': 'Los presidentes Vladimir Putin, de Rusia, y Joe Biden, de Estados Unidos, describieron como \"constructiva\" y \"positiva\" la primera reunión cara a cara que sostuvieron este miércoles en Ginebra.\\r\\nFue … [+9066 chars]'},\n",
       "  {'source': {'id': 'google-news', 'name': 'Google News'},\n",
       "   'author': None,\n",
       "   'title': 'Nintendo en E3 2021: confiable y con sorpresas como siempre - levelup.com',\n",
       "   'description': None,\n",
       "   'url': 'https://news.google.com/__i/rss/rd/articles/CBMiK2h0dHBzOi8vd3d3LnlvdXR1YmUuY29tL3dhdGNoP3Y9bnI4dHJwWGRURzTSAQA?oc=5',\n",
       "   'urlToImage': None,\n",
       "   'publishedAt': '2021-06-16T22:52:43Z',\n",
       "   'content': None},\n",
       "  {'source': {'id': None, 'name': 'Atomix'},\n",
       "   'author': 'Rodolfo León',\n",
       "   'title': 'Remasters de Wind Waker y Twilight Princess serían anunciados tras el lanzamiento de Skyward Sword HD - Atomix',\n",
       "   'description': 'Llevan diciendo eso por meses.',\n",
       "   'url': 'https://atomix.vg/remasters-de-wind-waker-y-twilight-princess-serian-anunciados-tras-el-lanzamiento-de-skyward-sword-hd/',\n",
       "   'urlToImage': 'https://cdn.atomix.vg/wp-content/uploads/2021/06/Nuevo-proyecto-57.jpg',\n",
       "   'publishedAt': '2021-06-16T22:45:06Z',\n",
       "   'content': 'A principios de este año, empezó a circular el rumor de que The Legend of Zelda: Wind Waker y Twilight Princess serían remasterizados para Nintendo Switch. Como consecuencia, los fans estuvieron espe… [+905 chars]'},\n",
       "  {'source': {'id': 'cnn', 'name': 'CNN'},\n",
       "   'author': None,\n",
       "   'title': 'Cristiano Ronaldo quita de su vista botellas de Coca-Cola y las acciones de la empresa bajan - CNN',\n",
       "   'description': 'La superestrella del fútbol portugués Cristiano Ronaldo quitó dos botellas de Coca-Cola, uno de los patrocinadores de la Eurocopa, cuando iniciaba una conferencia de prensa.',\n",
       "   'url': 'https://cnnespanol.cnn.com/2021/06/16/ronaldo-coca-cola-eurocopa-orix/',\n",
       "   'urlToImage': 'https://cnnespanol.cnn.com/wp-content/uploads/2021/06/210615162452-cristiano-ronaldo-full-169-e1623789745326.jpg?quality=100&strip=info',\n",
       "   'publishedAt': '2021-06-16T22:29:00Z',\n",
       "   'content': 'El impacto mediático de Cristiano Ronaldo en Coca-Cola 2:19\\r\\n(CNN Español) — La superestrella del fútbol portugués Cristiano Ronaldo quitó de su vista dos botellas de Coca-Cola, uno de los patrocinad… [+1953 chars]'},\n",
       "  {'source': {'id': None, 'name': 'El Universal'},\n",
       "   'author': None,\n",
       "   'title': 'Esposa de Emir Pabón ingresa a terapia intensiva tras aparatoso choque | El Universal - El Universal',\n",
       "   'description': 'La esposa del cantante del Grupo Cañaveral se encuentra delicada de salud; tiene seis meses de embarazo',\n",
       "   'url': 'https://www.eluniversal.com.mx/espectaculos/esposa-de-emir-pabon-ingresa-terapia-intensiva-tras-aparatoso-choque',\n",
       "   'urlToImage': 'https://www.eluniversal.com.mx/sites/default/files/2021/06/16/emir_esposa_ok_0.jpg',\n",
       "   'publishedAt': '2021-06-16T22:26:19Z',\n",
       "   'content': 'Stefanía de Aranda, esposa de Emir Pabón fue ingresada a terapia intensiva tras el accidente aparatoso que sufrieron en Texas.\\r\\nDe Aranada tiene seis meses de embarazo y ahora lucha por su vida y por… [+1598 chars]'},\n",
       "  {'source': {'id': 'google-news', 'name': 'Google News'},\n",
       "   'author': None,\n",
       "   'title': 'Moneta Digital presenta su primer stablecoin vinculada al peso mexicano - Forbes México ',\n",
       "   'description': None,\n",
       "   'url': 'https://news.google.com/__i/rss/rd/articles/CBMiQmh0dHBzOi8vd3d3LmZvcmJlcy5jb20ubXgvbW9uZXRhLWRpZ2l0YWwtc3RhYmxlY29pbi1wZXNvLW1leGljYW5vL9IBAA?oc=5',\n",
       "   'urlToImage': None,\n",
       "   'publishedAt': '2021-06-16T22:03:00Z',\n",
       "   'content': None},\n",
       "  {'source': {'id': None, 'name': 'Unotv.com'},\n",
       "   'author': None,\n",
       "   'title': 'Banxico marca distancia con criptomonedas; llama a ser cuidadosos - Uno TV Noticias',\n",
       "   'description': 'El Banco de México (Banxico) habló sobre la regulación de las criptomonedas, y dio explicaciones de por qué se deben manejar con cautela.',\n",
       "   'url': 'https://www.unotv.com/negocios/banxico-y-criptomonedas-hay-que-ser-cuidadosos-por-estas-razones/',\n",
       "   'urlToImage': 'https://www.unotv.com/uploads/2021/06/new-project-154257.jpg',\n",
       "   'publishedAt': '2021-06-16T21:35:23Z',\n",
       "   'content': 'Alejandro Díaz de León, gobernador del Banco de México (Banxico), puso las cartas sobre la mesa respecto a la regulación de las criptomonedas en el país, y llamó a la cautela sobre el uso y disposici… [+1957 chars]'},\n",
       "  {'source': {'id': None, 'name': 'Muyinteresante.com.mx'},\n",
       "   'author': None,\n",
       "   'title': 'Así es Regen-Cov, el primer tratamiento efectivo para salvar la vida de personas con COVID-19 grave - MSN',\n",
       "   'description': None,\n",
       "   'url': 'https://www.muyinteresante.com.mx/ciencia-tecnologia/asi-es-regen-cov-el-primer-tratamiento-efectivo-para-salvar-la-vida-de-personas-con-covid-19-grave/',\n",
       "   'urlToImage': 'https://img-s-msn-com.akamaized.net/tenant/amp/entityid/AAKE2QP.img?h=315&w=600&m=6&q=60&o=t&l=f&f=jpg',\n",
       "   'publishedAt': '2021-06-16T21:04:00Z',\n",
       "   'content': 'La farmacéutica Regeneron desarrolló un fármaco que utiliza anticuerpos monoclonales para combatir las infecciones más graves de covid-19. El mecanismo bajo el que opera se fundamenta en la adhesión … [+714 chars]'},\n",
       "  {'source': {'id': None, 'name': 'Heraldodemexico.com.mx'},\n",
       "   'author': 'Heraldo de México',\n",
       "   'title': 'Andrea Legarreta y Lolita Cortés rompen en llanto en Hoy por esta increíble razón: VIDEO - El Heraldo de México',\n",
       "   'description': 'Las conductoras se mostraron realmente conmovidas en el concurso de baile del programa matutino',\n",
       "   'url': 'https://heraldodemexico.com.mx/espectaculos/2021/6/16/andrea-legarreta-lolita-cortes-rompen-en-llanto-en-hoy-por-esta-increible-razon-video-307274.html',\n",
       "   'urlToImage': 'https://heraldodemexico.com.mx/u/fotografias/m/2021/6/16/f1280x720-385019_516694_5050.jpg',\n",
       "   'publishedAt': '2021-06-16T20:51:17Z',\n",
       "   'content': 'El concurso de baile llamado Las estrellas bailan en Hoy que se realiza en el programa matutino, Hoy, está llegando a su recta final y los participantes van subiendo el nivel y en la última entrega d… [+2747 chars]'},\n",
       "  {'source': {'id': None, 'name': 'Unotv.com'},\n",
       "   'author': None,\n",
       "   'title': 'Paciente recibe nuevo medicamento para Alzheimer en hospital de EU - Uno TV Noticias',\n",
       "   'description': 'Un hospital en Estados Unidos administró este miércoles, la primera dosis del nuevo medicamento para tratar el Alzheimer, Aduhelm.',\n",
       "   'url': 'https://www.unotv.com/internacional/paciente-recibe-nuevo-medicamento-para-alzheimer-en-hospital-de-eu/',\n",
       "   'urlToImage': 'https://www.unotv.com/uploads/2021/06/still6-alzheimer-05-reuters-153926.jpg',\n",
       "   'publishedAt': '2021-06-16T20:41:02Z',\n",
       "   'content': 'Aduhelm es el más nuevo medicamento contra el Alzheimer. | Foto: Reuters. \\r\\nUn hospital en Estados Unidos administró este miércoles 16 de junio, la primera dosis del nuevo medicamento para tratar el … [+1800 chars]'},\n",
       "  {'source': {'id': None, 'name': 'El Financiero'},\n",
       "   'author': 'Víctor Chávez',\n",
       "   'title': 'Morena da ‘golpe en la mesa’ tras elecciones y va por desaparición de la Conago - El Financiero',\n",
       "   'description': 'El dirigente nacional de Morena, Mario Delgado, reiteró su postura de apoyar al presidente Andrés Manuel López Obrador en su proyecto de la Cuarta Transformación',\n",
       "   'url': 'https://www.elfinanciero.com.mx/nacional/2021/06/16/gobernadores-electos-de-morena-van-contra-la-conago-proponen-desaparecerla/',\n",
       "   'urlToImage': 'https://www.elfinanciero.com.mx/resizer/to2_At6NP6XPCH9Nl4rDFmTMNvY=/1200x630/cloudfront-us-east-1.images.arcpublishing.com/elfinanciero/3H7XRELPXNA2VO2UGIS47VYPOE.jpg',\n",
       "   'publishedAt': '2021-06-16T20:31:23Z',\n",
       "   'content': 'El dirigente nacional de Morena, Mario Delgado Carrillo, instruyó a sus gobernadores electos a desaparecer la Conferencia Nacional de Gobernadores (Conago), que agrupa principalmente a mandatarios de… [+798 chars]'}]}"
      ]
     },
     "execution_count": 79,
     "metadata": {},
     "output_type": "execute_result"
    }
   ],
   "source": [
    "data"
   ]
  },
  {
   "cell_type": "code",
   "execution_count": 80,
   "metadata": {},
   "outputs": [
    {
     "data": {
      "text/plain": [
       "dict"
      ]
     },
     "execution_count": 80,
     "metadata": {},
     "output_type": "execute_result"
    }
   ],
   "source": [
    "type(data)"
   ]
  },
  {
   "cell_type": "code",
   "execution_count": 81,
   "metadata": {},
   "outputs": [
    {
     "data": {
      "text/plain": [
       "dict_keys(['status', 'totalResults', 'articles'])"
      ]
     },
     "execution_count": 81,
     "metadata": {},
     "output_type": "execute_result"
    }
   ],
   "source": [
    "data.keys()"
   ]
  },
  {
   "cell_type": "code",
   "execution_count": 82,
   "metadata": {},
   "outputs": [],
   "source": [
    "articles = data[\"articles\"]"
   ]
  },
  {
   "cell_type": "code",
   "execution_count": 83,
   "metadata": {},
   "outputs": [
    {
     "data": {
      "text/plain": [
       "list"
      ]
     },
     "execution_count": 83,
     "metadata": {},
     "output_type": "execute_result"
    }
   ],
   "source": [
    "type(articles)"
   ]
  },
  {
   "cell_type": "code",
   "execution_count": 84,
   "metadata": {},
   "outputs": [
    {
     "data": {
      "text/plain": [
       "20"
      ]
     },
     "execution_count": 84,
     "metadata": {},
     "output_type": "execute_result"
    }
   ],
   "source": [
    "len(articles)"
   ]
  },
  {
   "cell_type": "code",
   "execution_count": 85,
   "metadata": {},
   "outputs": [],
   "source": [
    "a = articles[0]"
   ]
  },
  {
   "cell_type": "code",
   "execution_count": 86,
   "metadata": {},
   "outputs": [
    {
     "data": {
      "text/plain": [
       "{'source': {'id': None, 'name': 'Mediotiempo.com'},\n",
       " 'author': 'Editorial Mediotiempo',\n",
       " 'title': '¡Hugo González se va de Rayados! El club lo hizo oficial y aficionados celebran - Mediotiempo',\n",
       " 'description': 'El cancerbero no contaba con el respaldo de la afición de la Pandilla, la cual se expresó con el anuncio.',\n",
       " 'url': 'https://www.mediotiempo.com/futbol/liga-mx/hugo-gonzalez-sale-rayados-club-oficial-redes',\n",
       " 'urlToImage': 'https://cdn2.mediotiempo.com/uploads/media/2021/06/16/hugo-gonzalez-sale-rayados-foto.jpg',\n",
       " 'publishedAt': '2021-06-17T02:58:07Z',\n",
       " 'content': 'Hugo González quedó desvinculado formalmente de los Rayados del Monterrey, club que tiene amarrado al argentino Esteban Andrada para defender el arco a partir del Apertura 2021.\\xa0\\r\\nSin mayores comenta… [+1251 chars]'}"
      ]
     },
     "execution_count": 86,
     "metadata": {},
     "output_type": "execute_result"
    }
   ],
   "source": [
    "a"
   ]
  },
  {
   "cell_type": "code",
   "execution_count": 88,
   "metadata": {},
   "outputs": [
    {
     "data": {
      "text/plain": [
       "'¡Hugo González se va de Rayados! El club lo hizo oficial y aficionados celebran - Mediotiempo'"
      ]
     },
     "execution_count": 88,
     "metadata": {},
     "output_type": "execute_result"
    }
   ],
   "source": [
    "a[\"title\"]"
   ]
  },
  {
   "cell_type": "code",
   "execution_count": 95,
   "metadata": {},
   "outputs": [
    {
     "data": {
      "text/plain": [
       "['¡Hugo González se va de Rayados! El club lo hizo oficial y aficionados celebran - Mediotiempo',\n",
       " '¿Dónde está Florencia Serranía? En la Red la buscan con MEMES - SinEmbargo',\n",
       " '¿Cuánto nos va a durar la inmunidad frente al coronavirus? - ELIMPARCIAL.COM',\n",
       " 'Así se presentó Alejandra Guzmán en televisión tras demanda de Frida Sofía - infobae',\n",
       " '¿Hackeo? PES celebra en Twitter aprobación de matrimonio igualitario en Sinaloa y BC - Milenio',\n",
       " 'Joven arroja a su bebé por un barranco para no pagar pensión alimenticia | El Universal - El Universal',\n",
       " '\"A Maradona lo mataron\", dice abogado de enfermera que estaba en la casa de Diego Armando | El Universal - El Universal',\n",
       " 'Coronavirus 16 de junio. México acumula 230 mil 624 muertes por Covid-19 | El Universal - El Universal',\n",
       " 'PT va en contra de que Guardia Nacional vaya a la Sedena y desaparición de los pluris | El Universal - El Universal',\n",
       " 'Las 3 coincidencias y los 3 desacuerdos que quedaron claros en la reunión Biden-Putin | El Universal - El Universal',\n",
       " 'Nintendo en E3 2021: confiable y con sorpresas como siempre - levelup.com',\n",
       " 'Remasters de Wind Waker y Twilight Princess serían anunciados tras el lanzamiento de Skyward Sword HD - Atomix',\n",
       " 'Cristiano Ronaldo quita de su vista botellas de Coca-Cola y las acciones de la empresa bajan - CNN',\n",
       " 'Esposa de Emir Pabón ingresa a terapia intensiva tras aparatoso choque | El Universal - El Universal',\n",
       " 'Moneta Digital presenta su primer stablecoin vinculada al peso mexicano - Forbes México ',\n",
       " 'Banxico marca distancia con criptomonedas; llama a ser cuidadosos - Uno TV Noticias',\n",
       " 'Así es Regen-Cov, el primer tratamiento efectivo para salvar la vida de personas con COVID-19 grave - MSN',\n",
       " 'Andrea Legarreta y Lolita Cortés rompen en llanto en Hoy por esta increíble razón: VIDEO - El Heraldo de México',\n",
       " 'Paciente recibe nuevo medicamento para Alzheimer en hospital de EU - Uno TV Noticias',\n",
       " 'Morena da ‘golpe en la mesa’ tras elecciones y va por desaparición de la Conago - El Financiero']"
      ]
     },
     "execution_count": 95,
     "metadata": {},
     "output_type": "execute_result"
    }
   ],
   "source": [
    "[art[\"title\"] for art in articles]"
   ]
  },
  {
   "cell_type": "markdown",
   "metadata": {},
   "source": [
    "Another API call"
   ]
  },
  {
   "cell_type": "code",
   "execution_count": 96,
   "metadata": {},
   "outputs": [
    {
     "data": {
      "text/plain": [
       "'http://newsapi.org/v2/top-headlines'"
      ]
     },
     "execution_count": 96,
     "metadata": {},
     "output_type": "execute_result"
    }
   ],
   "source": [
    "url"
   ]
  },
  {
   "cell_type": "code",
   "execution_count": 118,
   "metadata": {},
   "outputs": [],
   "source": [
    "p = {'apiKey': 'e25ed9ca506a450fad74d46d37877052', 'country': 'us', 'q': 'Biden'}"
   ]
  },
  {
   "cell_type": "code",
   "execution_count": 119,
   "metadata": {},
   "outputs": [],
   "source": [
    "response = requests.get(url, params=p)"
   ]
  },
  {
   "cell_type": "code",
   "execution_count": 120,
   "metadata": {},
   "outputs": [
    {
     "data": {
      "text/plain": [
       "200"
      ]
     },
     "execution_count": 120,
     "metadata": {},
     "output_type": "execute_result"
    }
   ],
   "source": [
    "response.status_code"
   ]
  },
  {
   "cell_type": "code",
   "execution_count": 121,
   "metadata": {},
   "outputs": [
    {
     "data": {
      "text/plain": [
       "{'status': 'ok',\n",
       " 'totalResults': 2,\n",
       " 'articles': [{'source': {'id': None, 'name': 'New York Post'},\n",
       "   'author': 'Samuel Chamberlain',\n",
       "   'title': \"Trump says Biden-Putin summit 'good day for Russia': 'We didn't get anything' - New York Post \",\n",
       "   'description': 'Former President Donald Trump blasted Joe Biden’s meeting with Russian President Vladimir Putin saying that Americans came away with nothing and Russia got a better deal.',\n",
       "   'url': 'https://nypost.com/2021/06/17/trump-blasts-biden-putin-summit-saying-good-day-for-russia/',\n",
       "   'urlToImage': 'https://nypost.com/wp-content/uploads/sites/2/2021/06/trump-biden-putin-index-1.jpg?quality=90&strip=all&w=1200',\n",
       "   'publishedAt': '2021-06-17T04:08:00Z',\n",
       "   'content': 'Former President Donald Trump said Wednesday night that his successor’s summit meeting with Russian President Vladimir Putin was “a good day for Russia” and added that “I don’t see what we got out of… [+3148 chars]'},\n",
       "  {'source': {'id': 'nbc-news', 'name': 'NBC News'},\n",
       "   'author': 'Denise Chow',\n",
       "   'title': 'Wuhan lab leak theory: Behind the science and origin of Covid - NBC News',\n",
       "   'description': 'President Biden and some scientists are demanding an investigation into the lab leak theory, a hypothesis that the origin of coronavirus was a virology lab in Wuhan, China.',\n",
       "   'url': 'https://www.nbcnews.com/science/science-news/lab-leak-theory-science-scientists-rcna1191',\n",
       "   'urlToImage': 'https://media-cldnry.s-nbcnews.com/image/upload/t_nbcnews-fp-1200-630,f_auto,q_auto:best/rockcms/2021-06/210615-wuhan-mb-1451-8d1440.jpg',\n",
       "   'publishedAt': '2021-06-16T23:08:46Z',\n",
       "   'content': \"Alina Chan isn't saying the coronavirus definitely leaked from a lab in China. What she is saying is what more scientists have grown comfortable discussing publicly: There's no clear evidence either … [+14337 chars]\"}]}"
      ]
     },
     "execution_count": 121,
     "metadata": {},
     "output_type": "execute_result"
    }
   ],
   "source": [
    "response.json()"
   ]
  },
  {
   "cell_type": "markdown",
   "metadata": {},
   "source": [
    "Age API"
   ]
  },
  {
   "cell_type": "code",
   "execution_count": 124,
   "metadata": {},
   "outputs": [],
   "source": [
    "mis_amigos = [\"olaya\", \"cristian\", \"santi\", \"borja\", \"alvaro\", \"victoria\", \"manuel\"]"
   ]
  },
  {
   "cell_type": "code",
   "execution_count": 131,
   "metadata": {},
   "outputs": [],
   "source": [
    "def get_age_from_name(name):\n",
    "    response = requests.get(\"https://api.agify.io\", params={\"name\": a})\n",
    "\n",
    "    age = response.json()[\"age\"]\n",
    "    \n",
    "    return age"
   ]
  },
  {
   "cell_type": "code",
   "execution_count": 132,
   "metadata": {},
   "outputs": [
    {
     "data": {
      "text/plain": [
       "55"
      ]
     },
     "execution_count": 132,
     "metadata": {},
     "output_type": "execute_result"
    }
   ],
   "source": [
    "get_age_from_name(\"juan\")"
   ]
  },
  {
   "cell_type": "code",
   "execution_count": 133,
   "metadata": {},
   "outputs": [
    {
     "name": "stdout",
     "output_type": "stream",
     "text": [
      "Expected age for olaya is 34\n",
      "Expected age for cristian is 37\n",
      "Expected age for santi is 58\n",
      "Expected age for borja is 27\n",
      "Expected age for alvaro is 45\n",
      "Expected age for victoria is 63\n",
      "Expected age for manuel is 55\n"
     ]
    }
   ],
   "source": [
    "for a in mis_amigos:\n",
    "    print(f\"Expected age for {a} is {get_age_from_name(a)}\")\n",
    "    time.sleep(1)"
   ]
  },
  {
   "cell_type": "markdown",
   "metadata": {},
   "source": [
    "## Another example API: Jokes API"
   ]
  },
  {
   "cell_type": "code",
   "execution_count": 141,
   "metadata": {},
   "outputs": [],
   "source": [
    "url_random_joke = \"https://official-joke-api.appspot.com/random_ten\""
   ]
  },
  {
   "cell_type": "code",
   "execution_count": 142,
   "metadata": {},
   "outputs": [],
   "source": [
    "response = requests.get(url_random_joke)"
   ]
  },
  {
   "cell_type": "code",
   "execution_count": 143,
   "metadata": {},
   "outputs": [
    {
     "data": {
      "text/plain": [
       "200"
      ]
     },
     "execution_count": 143,
     "metadata": {},
     "output_type": "execute_result"
    }
   ],
   "source": [
    "response.status_code"
   ]
  },
  {
   "cell_type": "code",
   "execution_count": 144,
   "metadata": {},
   "outputs": [
    {
     "data": {
      "text/plain": [
       "[{'id': 301,\n",
       "  'type': 'general',\n",
       "  'setup': 'Where do sheep go to get their hair cut?',\n",
       "  'punchline': 'The baa-baa shop.'},\n",
       " {'id': 251,\n",
       "  'type': 'general',\n",
       "  'setup': 'What happens when you anger a brain surgeon?',\n",
       "  'punchline': 'They will give you a piece of your mind.'},\n",
       " {'id': 34,\n",
       "  'type': 'knock-knock',\n",
       "  'setup': \"Knock knock. \\n Who's there? \\n Opportunity.\",\n",
       "  'punchline': 'That is impossible. Opportunity doesn’t come knocking twice!'},\n",
       " {'id': 31,\n",
       "  'type': 'general',\n",
       "  'setup': \"What happens to a frog's car when it breaks down?\",\n",
       "  'punchline': 'It gets toad away'},\n",
       " {'id': 128,\n",
       "  'type': 'general',\n",
       "  'setup': 'How do you know if there’s an elephant under your bed?',\n",
       "  'punchline': 'Your head hits the ceiling!'},\n",
       " {'id': 91,\n",
       "  'type': 'general',\n",
       "  'setup': 'Did you hear about the guy whose whole left side was cut off?',\n",
       "  'punchline': \"He's all right now.\"},\n",
       " {'id': 228,\n",
       "  'type': 'general',\n",
       "  'setup': 'What do you call a troublesome Canadian high schooler?',\n",
       "  'punchline': 'A poutine.'},\n",
       " {'id': 186,\n",
       "  'type': 'general',\n",
       "  'setup': 'What did the judge say to the dentist?',\n",
       "  'punchline': 'Do you swear to pull the tooth, the whole tooth and nothing but the tooth?'},\n",
       " {'id': 275,\n",
       "  'type': 'general',\n",
       "  'setup': 'What type of music do balloons hate?',\n",
       "  'punchline': 'Pop music!'},\n",
       " {'id': 99,\n",
       "  'type': 'general',\n",
       "  'setup': 'Did you hear that the police have a warrant out on a midget psychic ripping people off?',\n",
       "  'punchline': 'It reads \"Small medium at large.\"'}]"
      ]
     },
     "execution_count": 144,
     "metadata": {},
     "output_type": "execute_result"
    }
   ],
   "source": [
    "response.json()"
   ]
  },
  {
   "cell_type": "code",
   "execution_count": null,
   "metadata": {},
   "outputs": [],
   "source": [
    "url_type_joke = \"https://official-joke-api.appspot.com/jokes/programming/random\""
   ]
  },
  {
   "cell_type": "code",
   "execution_count": null,
   "metadata": {},
   "outputs": [],
   "source": [
    "response = requests.get(url_type_joke)"
   ]
  },
  {
   "cell_type": "code",
   "execution_count": null,
   "metadata": {},
   "outputs": [],
   "source": [
    "response.status_code"
   ]
  },
  {
   "cell_type": "code",
   "execution_count": null,
   "metadata": {},
   "outputs": [],
   "source": [
    "response.json()"
   ]
  },
  {
   "cell_type": "markdown",
   "metadata": {},
   "source": [
    "## API keys"
   ]
  },
  {
   "cell_type": "markdown",
   "metadata": {},
   "source": [
    "Lets use [NewsAPI](https://newsapi.org/) to find news across several newspapers!"
   ]
  },
  {
   "cell_type": "markdown",
   "metadata": {},
   "source": [
    "We need an API key to authenticate ourselves, we download it and save it into a file..."
   ]
  },
  {
   "cell_type": "code",
   "execution_count": 148,
   "metadata": {},
   "outputs": [],
   "source": [
    "my_key = open(\"./mi_llave.txt\").readlines()[0]"
   ]
  },
  {
   "cell_type": "markdown",
   "metadata": {},
   "source": [
    "Lets do it correctly"
   ]
  },
  {
   "cell_type": "code",
   "execution_count": 159,
   "metadata": {},
   "outputs": [],
   "source": [
    "url = \"http://newsapi.org/v2/top-headlines\"\n",
    "\n",
    "ps = {\"country\": \"us\", \"apiKey\": my_key}\n",
    "\n",
    "response = requests.get(url, params=ps)"
   ]
  },
  {
   "cell_type": "code",
   "execution_count": 160,
   "metadata": {},
   "outputs": [
    {
     "data": {
      "text/plain": [
       "200"
      ]
     },
     "execution_count": 160,
     "metadata": {},
     "output_type": "execute_result"
    }
   ],
   "source": [
    "response.status_code"
   ]
  },
  {
   "cell_type": "code",
   "execution_count": 161,
   "metadata": {},
   "outputs": [
    {
     "data": {
      "text/plain": [
       "{'status': 'ok',\n",
       " 'totalResults': 38,\n",
       " 'articles': [{'source': {'id': 'cnn', 'name': 'CNN'},\n",
       "   'author': 'Travis Caldwell, CNN',\n",
       "   'title': 'These communities remain at high risk for dangerous Covid-19 variants rapidly increasing in US, expert warns - CNN ',\n",
       "   'description': 'The country continued this week on a path to reopening from the Covid-19 pandemic, with major population centers such as New York and California pulling back on restrictions following increased vaccinations and lowered infections.',\n",
       "   'url': 'https://www.cnn.com/2021/06/17/health/us-coronavirus-thursday/index.html',\n",
       "   'urlToImage': 'https://cdn.cnn.com/cnnnext/dam/assets/210617000713-us-coronavirus-thursday-0617-restricted-super-tease.jpg',\n",
       "   'publishedAt': '2021-06-17T07:42:00Z',\n",
       "   'content': '(CNN)The country continued this week on a path to reopening from the Covid-19 pandemic, with major population centers such as New York and California pulling back on restrictions following increased … [+7542 chars]'},\n",
       "  {'source': {'id': None, 'name': 'The Guardian'},\n",
       "   'author': 'Victoria Bekiempis',\n",
       "   'title': 'New York grand jury stores up trouble for Trump Organization executives - The Guardian',\n",
       "   'description': 'Glimpses of the deliberations behind closed doors suggest a case is being built against Trump’s CFO, Allen Weisselberg, which could be bad news for his boss',\n",
       "   'url': 'https://amp.theguardian.com/us-news/2021/jun/17/trump-organization-allen-weisselberg-new-york-grand-jury',\n",
       "   'urlToImage': None,\n",
       "   'publishedAt': '2021-06-17T07:01:00Z',\n",
       "   'content': 'Donald TrumpGlimpses of the deliberations behind closed doors suggest a case is being built against Trumps CFO, Allen Weisselberg, which could be bad news for his boss\\r\\nThu 17 Jun 2021 03.00 EDT\\r\\nFol… [+6886 chars]'},\n",
       "  {'source': {'id': None, 'name': 'CBS Sports'},\n",
       "   'author': 'Sam Quinn',\n",
       "   'title': 'Clippers vs. Jazz score, takeaways: Paul George, Los Angeles knock off Utah in Game 5 to take 3-2 series lead - CBSSports.com',\n",
       "   'description': 'The Clippers picked up a massive win in Utah in Game 5',\n",
       "   'url': 'https://www.cbssports.com/nba/news/clippers-vs-jazz-score-takeaways-paul-george-los-angeles-knock-off-utah-in-game-5-to-take-3-2-series-lead/live/',\n",
       "   'urlToImage': 'https://sportshub.cbsistatic.com/i/r/2021/06/17/0934a50e-bf18-4651-a6da-84510c242827/thumbnail/1200x675/c20acd62ee4bb6da611b4c3b4230b7df/untitled-design-80.png',\n",
       "   'publishedAt': '2021-06-17T06:40:00Z',\n",
       "   'content': 'The Los Angeles Clippers were facing an uphill battle entering Game 5 of their series against the Utah Jazz as they had to travel to Salt Lake City without their best player, Kawhi Leonard. That didn… [+5395 chars]'},\n",
       "  {'source': {'id': 'cnn', 'name': 'CNN'},\n",
       "   'author': 'Eric Cheung, CNN Business',\n",
       "   'title': 'Hong Kong police declare Apple Daily newsroom a crime scene as editors and executives arrested under national security law - CNN',\n",
       "   'description': \"Hong Kong police declared the Apple Daily newspaper office a crime scene Thursday, after 500 officers descended on the premises to arrest executives and top editors and seize journalistic materials under the city's national security law.\",\n",
       "   'url': 'https://www.cnn.com/2021/06/16/media/apple-daily-arrests-intl-hnk/index.html',\n",
       "   'urlToImage': 'https://cdn.cnn.com/cnnnext/dam/assets/210616234327-03-apple-daily-hong-kong-super-tease.jpg',\n",
       "   'publishedAt': '2021-06-17T05:40:00Z',\n",
       "   'content': 'Taipei, Taiwan (CNN Business)Hong Kong police declared the Apple Daily newspaper office a crime scene Thursday, after 500 officers descended on the premises to arrest executives and top editors and s… [+5054 chars]'},\n",
       "  {'source': {'id': None, 'name': 'ESPN'},\n",
       "   'author': 'Kevin Arnovitz',\n",
       "   'title': 'NBA playoffs 2021 - How the Atlanta Hawks flipped script on Philadelphia Sixers, again - ESPN',\n",
       "   'description': 'The Sixers, up by 26 in the second half, found a way to squander another massive lead, putting their title hopes in jeopardy.',\n",
       "   'url': 'https://www.espn.com/nba/story/_/id/31648798/nba-playoffs-2021-how-atlanta-hawks-flipped-script-philadelphia-sixers-again',\n",
       "   'urlToImage': 'https://a3.espncdn.com/combiner/i?img=%2Fphoto%2F2021%2F0617%2Fr868528_1296x729_16%2D9.jpg',\n",
       "   'publishedAt': '2021-06-17T05:09:56Z',\n",
       "   'content': 'For 24 minutes in Game 5 of the Eastern Conference semifinals of the NBA playoffs, the Philadelphia 76ers appeared to be their best selves.\\r\\nA team that ranked near league average in offensive effici… [+6007 chars]'},\n",
       "  {'source': {'id': 'axios', 'name': 'Axios'},\n",
       "   'author': 'Rebecca Falconer',\n",
       "   'title': \"World Bank rejects El Salvador's request to help implement bitcoin - Axios\",\n",
       "   'description': \"The rejection could hamper the government's goal of making bitcoin accepted across the country within 3 months.\",\n",
       "   'url': 'https://www.axios.com/world-bank-rejects-el-salvador-bitcoin-request-590d2df8-68e9-49e1-8cf2-bb239ad32014.html',\n",
       "   'urlToImage': 'https://images.axios.com/lOxXWgod1dgav0aojiVTmhPA8SY=/0x52:4152x2388/1366x768/2021/06/17/1623903246742.jpg',\n",
       "   'publishedAt': '2021-06-17T04:49:10Z',\n",
       "   'content': \"The World Bank has rejected the government of El Salvador's request to help the country implement Bitcoin as legal tender, Reuters first reported late Wednesday.\\r\\nWhy it matters: The international le… [+1310 chars]\"},\n",
       "  {'source': {'id': 'bleacher-report', 'name': 'Bleacher Report'},\n",
       "   'author': 'Bleacher Report NBA Staff',\n",
       "   'title': \"B/R Staff Roundtable: 76ers' Choke Job, Kawhi Injury and Latest NBA Bombshells - Bleacher Report\",\n",
       "   'description': 'NBA  news felt like it was coming from a    firehose    on Wednesday. One story after another hit the internet, and they rolled in so quickly that it was difficult to digest in real time...',\n",
       "   'url': 'https://bleacherreport.com/articles/2944679-br-staff-roundtable-76ers-choke-job-kawhi-injury-and-latest-nba-bombshells',\n",
       "   'urlToImage': 'https://img.bleacherreport.net/img/images/photos/003/914/349/f305134f24be151576093773d78e8bc8_crop_exact.jpg?w=1200&h=1200&q=75',\n",
       "   'publishedAt': '2021-06-17T04:48:20Z',\n",
       "   'content': 'Ashley Landis/Associated Press\\r\\nWith the Dallas Mavericks parting ways with president of basketball operations Donnie Nelson, the franchise needs to quickly revamp its front office before a significa… [+1396 chars]'},\n",
       "  {'source': {'id': None, 'name': 'New York Post'},\n",
       "   'author': 'Samuel Chamberlain',\n",
       "   'title': \"Trump says Biden-Putin summit 'good day for Russia': 'We didn't get anything' - New York Post \",\n",
       "   'description': 'Former President Donald Trump blasted Joe Biden’s meeting with Russian President Vladimir Putin saying that Americans came away with nothing and Russia got a better deal.',\n",
       "   'url': 'https://nypost.com/2021/06/17/trump-blasts-biden-putin-summit-saying-good-day-for-russia/',\n",
       "   'urlToImage': 'https://nypost.com/wp-content/uploads/sites/2/2021/06/trump-biden-putin-index-1.jpg?quality=90&strip=all&w=1200',\n",
       "   'publishedAt': '2021-06-17T04:08:00Z',\n",
       "   'content': 'Former President Donald Trump said Wednesday night that his successor’s summit meeting with Russian President Vladimir Putin was “a good day for Russia” and added that “I don’t see what we got out of… [+3148 chars]'},\n",
       "  {'source': {'id': 'cbs-news', 'name': 'CBS News'},\n",
       "   'author': \"Tre'Vaughn Howard\",\n",
       "   'title': 'More than 30 pelicans found mutilated along California coastline - CBS News',\n",
       "   'description': \"A Southern California wildlife care organization is seeking the public's help to find whoever is responsible for deliberately breaking the wings of brown pelicans at some beaches.\",\n",
       "   'url': 'https://www.cbsnews.com/news/pelicans-attacked-mutilated-southern-california/',\n",
       "   'urlToImage': 'https://cbsnews1.cbsistatic.com/hub/i/r/2021/06/17/1afecd66-be3c-4898-9e4e-93e5dbd94ca8/thumbnail/1200x630/7c6ba608cbb526ebefe1ed3f252829dd/pelicans-attacked-orange-county-02.png',\n",
       "   'publishedAt': '2021-06-17T03:30:39Z',\n",
       "   'content': \"A wildlife organization is seeking help in finding the culprit behind brutal attacks on at least 32 brown pelicans that have been mutilated and left for dead along the coast in California's Orange Co… [+1032 chars]\"},\n",
       "  {'source': {'id': 'politico', 'name': 'Politico'},\n",
       "   'author': 'Myah Ward',\n",
       "   'title': 'Trump rails against Covid vaccines for ‘very young people’ - POLITICO',\n",
       "   'description': 'With shots protecting older Americans, younger people now make up the majority of Covid patients in hospitals — something the former president didn’t mention in a Fox News interview.',\n",
       "   'url': 'https://www.politico.com/news/2021/06/16/trump-rails-against-covid-vaccines-for-very-young-people-494975',\n",
       "   'urlToImage': 'https://static.politico.com/01/51/94f4a0bc4924b96c73c10e20a996/210616-trump-ap-773.jpg',\n",
       "   'publishedAt': '2021-06-17T03:20:29Z',\n",
       "   'content': 'Now we have to get back and the schools have to get open frankly, we are lucky we have the vaccine. But the vaccine on very young people is something that youve got to really stop, Trump said. You ha… [+1409 chars]'},\n",
       "  {'source': {'id': None, 'name': 'Pitchfork'},\n",
       "   'author': 'Madison Bloom',\n",
       "   'title': 'Eve and Trina’s VERZUZ Battle: Here’s What Happened - Pitchfork',\n",
       "   'description': 'The hip-hop icons went head-to-head for over 20 rounds, playing hits from the past \\xa0two decades',\n",
       "   'url': 'https://pitchfork.com/news/eve-and-trinas-verzuz-battle-heres-what-happened/',\n",
       "   'urlToImage': 'https://media.pitchfork.com/photos/60caaa111a8b4ef7b3aaf84f/16:9/w_1280,c_limit/eve-trina.jpg',\n",
       "   'publishedAt': '2021-06-17T01:58:06Z',\n",
       "   'content': 'Eve and Trina were the latest MCs to duel on VERZUZ. They went head-to-head earlier this evening, playing hits from their respective catalogs for over 20 rounds. Trina defended her home turf from Mia… [+1827 chars]'},\n",
       "  {'source': {'id': 'fox-news', 'name': 'Fox News'},\n",
       "   'author': 'Thomas Barrabi',\n",
       "   'title': 'Crime wave dominates NYC mayoral debate as Yang touts key police endorsement - Fox News',\n",
       "   'description': 'New York City Democratic mayoral frontrunners Eric Adams and Andrew Yang clashed over a key police endorsement on Wednesday night during a heated final debate that focused heavily on the city’s escalating violent crime crisis.',\n",
       "   'url': 'https://www.foxnews.com/politics/nyc-mayoral-debate-yang-adams-clash-police-endorsement-crime',\n",
       "   'urlToImage': 'https://static.foxnews.com/foxnews.com/content/uploads/2021/06/Andrew-Yang-Eric-Adams-AP.jpg',\n",
       "   'publishedAt': '2021-06-17T01:51:39Z',\n",
       "   'content': 'New York City Democratic mayoral frontrunners Eric Adams and Andrew Yang clashed over a key police endorsement on Wednesday night during a heated final debate that focused heavily on the citys escala… [+2976 chars]'},\n",
       "  {'source': {'id': 'the-wall-street-journal',\n",
       "    'name': 'The Wall Street Journal'},\n",
       "   'author': 'Natasha Khan',\n",
       "   'title': 'Chinese Astronauts Lift Off in Mission to Staff Space Station - The Wall Street Journal',\n",
       "   'description': 'The three former members of China’s air force are being feted as heroes in a rapidly advancing space program',\n",
       "   'url': 'https://www.wsj.com/articles/chinese-astronauts-lift-off-in-mission-to-staff-space-station-11623894483',\n",
       "   'urlToImage': 'https://images.wsj.net/im-355332/social',\n",
       "   'publishedAt': '2021-06-17T01:48:00Z',\n",
       "   'content': 'HONG KONGThirteen years after former fighter pilot Liu Boming participated in Chinas first spacewalk, the 54-year-old astronaut was sent into space again Thursday morning to notch another milestone a… [+960 chars]'},\n",
       "  {'source': {'id': None, 'name': 'Yahoo Entertainment'},\n",
       "   'author': 'Jake Dima',\n",
       "   'title': 'Texas adopts permitless gun carry and loosens suppressor laws - Yahoo News',\n",
       "   'description': 'Texas Gov. Greg Abbott signed two bills this week that will allow Lone Star State residents to carry handguns without a permit and loosen regulations...',\n",
       "   'url': 'https://news.yahoo.com/texas-adopts-permitless-gun-carry-010500755.html',\n",
       "   'urlToImage': 'https://s.yimg.com/uu/api/res/1.2/BRJ04P_47J93C5VCwWBDRw--~B/aD05NDA7dz0xNTQwO2FwcGlkPXl0YWNoeW9u/https://media.zenfs.com/en/washington_examiner_articles_265/8b02a07ae4fd4bb58bf52e2b6475c264',\n",
       "   'publishedAt': '2021-06-17T01:23:24Z',\n",
       "   'content': 'Texas Gov. Greg Abbott signed two bills this week that will allow Lone Star State residents to carry handguns without a permit and loosen regulations surrounding suppressors.\\r\\nThe Republican signed p… [+2784 chars]'},\n",
       "  {'source': {'id': 'fox-news', 'name': 'Fox News'},\n",
       "   'author': 'Julius Young',\n",
       "   'title': \"Lawyer vows to 'prove' Erika Jayne 'was incredibly involved' in estranged husband Tom Girardi’s fraud case - Fox News\",\n",
       "   'description': 'Erika Jayne -- who has not been formally charged with any crimes -- was complicit in estranged husband Tom Girardi’s alleged financial misdoings, according to lawyer Jay Edelson. Edelson is the attorney who filed a class-action lawsuit against Girardi, the em…',\n",
       "   'url': 'https://www.foxnews.com/entertainment/rhobh-erika-jayne-involved-tom-girardi-fraud-case',\n",
       "   'urlToImage': 'https://static.foxnews.com/foxnews.com/content/uploads/2021/01/Erika-Jayne.jpg',\n",
       "   'publishedAt': '2021-06-17T01:00:33Z',\n",
       "   'content': 'Erika Jayne was complicit in estranged husband Tom Girardis alleged financial misdoings, so says Jay Edelson the attorney who filed a class-action lawsuit against the embattled \"Erin Brockovich\" case… [+3654 chars]'},\n",
       "  {'source': {'id': 'usa-today', 'name': 'USA Today'},\n",
       "   'author': 'Chelsey Cox',\n",
       "   'title': 'Who are the 14 House Republicans who voted against a Juneteenth holiday? And why? - USA TODAY',\n",
       "   'description': 'The House vote on Juneteenth passed by 415-14 for a new federal holiday, but 14 GOP members of Congress voted no. Who are they? Why did they vote no?',\n",
       "   'url': 'https://www.usatoday.com/story/news/politics/2021/06/16/who-14-republicans-who-voted-against-juneteenth-holiday/7722634002/',\n",
       "   'urlToImage': 'https://www.gannett-cdn.com/-mm-/67a5caada3f0a5754b4df22ce2eadf942af3596c/c=0-127-3409-2053/local/-/media/2016/05/24/USATODAY/USATODAY/635997013334564914-XXX-GAN-KY-MASSIE-hdb1228.JPG?width=3200&height=1680&fit=crop',\n",
       "   'publishedAt': '2021-06-17T00:56:43Z',\n",
       "   'content': \"The Senate unanimously voted to make Juneteenth a federal holiday. Here's why this once local celebration is significant to U.S. history.\\r\\nUSA TODAY\\r\\nStory Highlights\\r\\n<ul><li>All 14 members of Congr… [+3853 chars]\"},\n",
       "  {'source': {'id': 'the-hill', 'name': 'The Hill'},\n",
       "   'author': 'Lexi Lonas',\n",
       "   'title': \"'Dangerous' and 'record-breaking' heat wave affects 50 million Americans | TheHill - The Hill\",\n",
       "   'description': 'A heat wave affecting 50 million Americans is hitting the West....',\n",
       "   'url': 'https://thehill.com/policy/energy-environment/558871-dangerous-and-record-breaking-heat-wave-affects-50-million',\n",
       "   'urlToImage': 'https://thehill.com/sites/default/files/wheat073120.jpg',\n",
       "   'publishedAt': '2021-06-17T00:31:01Z',\n",
       "   'content': 'A heat wave affecting 50 million Americans is hitting the West.\\r\\nWidespread excessive heat warnings and heat advisories are\\xa0in effect for California, Nevada, Arizona and Utah.\\r\\nDangerous and record-b… [+1632 chars]'},\n",
       "  {'source': {'id': 'the-washington-post', 'name': 'The Washington Post'},\n",
       "   'author': 'Chuck Culpepper',\n",
       "   'title': 'A tour of Phil Mickelson’s San Diego, where just about everybody has a Phil tale - The Washington Post',\n",
       "   'description': \"From the Mickelson family house in Del Cerro to the greens of Torrey Pines — and a few stops in between — this is the place that made Phil. And it just happens to be home to this week's U.S. Open.\",\n",
       "   'url': 'https://www.washingtonpost.com/sports/2021/06/16/phil-mickelson-san-diego-tour/',\n",
       "   'urlToImage': 'https://www.washingtonpost.com/wp-apps/imrs.php?src=https://arc-anglerfish-washpost-prod-washpost.s3.amazonaws.com/public/K4IC4TWY2VBFNFSIPXI7IGRSXE.jpg&w=1440',\n",
       "   'publishedAt': '2021-06-16T23:58:00Z',\n",
       "   'content': 'That would be the Del Cerro neighborhood, an area of hills and sudden vistas and purple flowers in trees and houses comfortable but non-posh, including the one in which Mickelson sprouted, and outsid… [+7352 chars]'},\n",
       "  {'source': {'id': None, 'name': 'CNBC'},\n",
       "   'author': 'Eustance Huang',\n",
       "   'title': \"Japan's Nikkei 225 drops nearly 1% as Asia markets trade mixed after U.S. Fed signals rate hikes in 2023 - CNBC\",\n",
       "   'description': 'The U.S. Federal Reserve on Wednesday brought forward the time frame on which it will next raise interest rates.',\n",
       "   'url': 'https://www.cnbc.com/2021/06/17/asia-markets-us-federal-reserve-australia-jobs-data-currencies-oil.html',\n",
       "   'urlToImage': 'https://image.cnbcfm.com/api/v1/image/106726501-1601595278195-gettyimages-1228568944-364741127_1-5.jpeg?v=1623886416',\n",
       "   'publishedAt': '2021-06-16T23:40:07Z',\n",
       "   'content': 'SINGAPORE Shares in Asia-Pacific were mixed on Thursday, as investors watched for market reaction after the U.S. Federal Reserve on Wednesday moved up its timeline for rate hikes.\\r\\nIn Japan, the Nikk… [+2601 chars]'},\n",
       "  {'source': {'id': None, 'name': 'New York Times'},\n",
       "   'author': 'Ruth Graham',\n",
       "   'title': 'Southern Baptist Vote Signals Further Fractures in American Evangelicalism - The New York Times',\n",
       "   'description': 'The establishment narrowly headed off a takeover attempt by a hard-right movement. Some backers of the losing candidate are now considering leaving altogether.',\n",
       "   'url': 'https://www.nytimes.com/2021/06/16/us/southern-baptist-convention-evangelicalism.html',\n",
       "   'urlToImage': 'https://static01.nyt.com/images/2021/06/16/us/16baptists-future/merlin_189289776_6c31d04f-71d6-47c1-911e-036ae8064f1d-facebookJumbo.jpg',\n",
       "   'publishedAt': '2021-06-16T23:38:57Z',\n",
       "   'content': 'Less than 24 hours after Mr. Littons election, Josh Buice, the pastor of Prays Mill Baptist Church west of Atlanta, was preparing to send an email to his congregation asking for prayer about its futu… [+1233 chars]'}]}"
      ]
     },
     "execution_count": 161,
     "metadata": {},
     "output_type": "execute_result"
    }
   ],
   "source": [
    "response.json()"
   ]
  },
  {
   "cell_type": "markdown",
   "metadata": {},
   "source": [
    "## Headers"
   ]
  },
  {
   "cell_type": "markdown",
   "metadata": {},
   "source": [
    "HTTP Headers are an important part of the API request and response as they represent the meta-data associated with the API request and response. Headers carry information for:\n",
    "\n",
    "* Request and Response Body\n",
    "* Request Authorization\n",
    "* Response Caching \n",
    "* Response Cookies"
   ]
  },
  {
   "cell_type": "markdown",
   "metadata": {},
   "source": [
    "[NewsAPI documentation](https://newsapi.org/docs/authentication) states, regarding authentication:\n",
    "\n",
    "Authentication is handled with a simple API key.\n",
    "\n",
    "You can attach your API key to a request in one of three ways:\n",
    "\n",
    "* Via the apiKey querystring parameter.\n",
    "* Via the X-Api-Key HTTP header.\n",
    "* Via the Authorization HTTP header. Bearer optional, do not base 64 encode.\n",
    "\n",
    "We strongly recommend the either of latter 2 so that your API key isn't visible to others in logs or request sniffing."
   ]
  },
  {
   "cell_type": "markdown",
   "metadata": {},
   "source": [
    "This enters apiKey as a parameter (BAD, VISIBLE)"
   ]
  },
  {
   "cell_type": "code",
   "execution_count": 162,
   "metadata": {},
   "outputs": [],
   "source": [
    "my_key = key"
   ]
  },
  {
   "cell_type": "code",
   "execution_count": 163,
   "metadata": {},
   "outputs": [],
   "source": [
    "url = f\"http://newsapi.org/v2/top-headlines?country=us&apiKey={my_key}\""
   ]
  },
  {
   "cell_type": "code",
   "execution_count": 164,
   "metadata": {},
   "outputs": [
    {
     "data": {
      "text/plain": [
       "'http://newsapi.org/v2/top-headlines?country=us&apiKey=e25ed9ca506a450fad74d46d37877052'"
      ]
     },
     "execution_count": 164,
     "metadata": {},
     "output_type": "execute_result"
    }
   ],
   "source": [
    "url"
   ]
  },
  {
   "cell_type": "markdown",
   "metadata": {},
   "source": [
    "This alternative passes apiKey as a header (GOOD, INVISIBLE)"
   ]
  },
  {
   "cell_type": "code",
   "execution_count": 165,
   "metadata": {},
   "outputs": [],
   "source": [
    "url = \"http://newsapi.org/v2/top-headlines\""
   ]
  },
  {
   "cell_type": "code",
   "execution_count": 166,
   "metadata": {},
   "outputs": [],
   "source": [
    "response = requests.get(\n",
    "    url=url,\n",
    "    params = {\"country\": \"us\"},\n",
    "    headers={\"X-Api-Key\": my_key}\n",
    ")"
   ]
  },
  {
   "cell_type": "code",
   "execution_count": 167,
   "metadata": {},
   "outputs": [
    {
     "data": {
      "text/plain": [
       "200"
      ]
     },
     "execution_count": 167,
     "metadata": {},
     "output_type": "execute_result"
    }
   ],
   "source": [
    "response.status_code"
   ]
  },
  {
   "cell_type": "code",
   "execution_count": 168,
   "metadata": {},
   "outputs": [
    {
     "data": {
      "text/plain": [
       "{'status': 'ok',\n",
       " 'totalResults': 38,\n",
       " 'articles': [{'source': {'id': 'cnn', 'name': 'CNN'},\n",
       "   'author': 'Travis Caldwell, CNN',\n",
       "   'title': 'These communities remain at high risk for dangerous Covid-19 variants rapidly increasing in US, expert warns - CNN ',\n",
       "   'description': 'The country continued this week on a path to reopening from the Covid-19 pandemic, with major population centers such as New York and California pulling back on restrictions following increased vaccinations and lowered infections.',\n",
       "   'url': 'https://www.cnn.com/2021/06/17/health/us-coronavirus-thursday/index.html',\n",
       "   'urlToImage': 'https://cdn.cnn.com/cnnnext/dam/assets/210617000713-us-coronavirus-thursday-0617-restricted-super-tease.jpg',\n",
       "   'publishedAt': '2021-06-17T07:42:00Z',\n",
       "   'content': '(CNN)The country continued this week on a path to reopening from the Covid-19 pandemic, with major population centers such as New York and California pulling back on restrictions following increased … [+7542 chars]'},\n",
       "  {'source': {'id': None, 'name': 'The Guardian'},\n",
       "   'author': 'Victoria Bekiempis',\n",
       "   'title': 'New York grand jury stores up trouble for Trump Organization executives - The Guardian',\n",
       "   'description': 'Glimpses of the deliberations behind closed doors suggest a case is being built against Trump’s CFO, Allen Weisselberg, which could be bad news for his boss',\n",
       "   'url': 'https://amp.theguardian.com/us-news/2021/jun/17/trump-organization-allen-weisselberg-new-york-grand-jury',\n",
       "   'urlToImage': None,\n",
       "   'publishedAt': '2021-06-17T07:01:00Z',\n",
       "   'content': 'Donald TrumpGlimpses of the deliberations behind closed doors suggest a case is being built against Trumps CFO, Allen Weisselberg, which could be bad news for his boss\\r\\nThu 17 Jun 2021 03.00 EDT\\r\\nFol… [+6886 chars]'},\n",
       "  {'source': {'id': None, 'name': 'CBS Sports'},\n",
       "   'author': 'Sam Quinn',\n",
       "   'title': 'Clippers vs. Jazz score, takeaways: Paul George, Los Angeles knock off Utah in Game 5 to take 3-2 series lead - CBSSports.com',\n",
       "   'description': 'The Clippers picked up a massive win in Utah in Game 5',\n",
       "   'url': 'https://www.cbssports.com/nba/news/clippers-vs-jazz-score-takeaways-paul-george-los-angeles-knock-off-utah-in-game-5-to-take-3-2-series-lead/live/',\n",
       "   'urlToImage': 'https://sportshub.cbsistatic.com/i/r/2021/06/17/0934a50e-bf18-4651-a6da-84510c242827/thumbnail/1200x675/c20acd62ee4bb6da611b4c3b4230b7df/untitled-design-80.png',\n",
       "   'publishedAt': '2021-06-17T06:40:00Z',\n",
       "   'content': 'The Los Angeles Clippers were facing an uphill battle entering Game 5 of their series against the Utah Jazz as they had to travel to Salt Lake City without their best player, Kawhi Leonard. That didn… [+5395 chars]'},\n",
       "  {'source': {'id': 'cnn', 'name': 'CNN'},\n",
       "   'author': 'Eric Cheung, CNN Business',\n",
       "   'title': 'Hong Kong police declare Apple Daily newsroom a crime scene as editors and executives arrested under national security law - CNN',\n",
       "   'description': \"Hong Kong police declared the Apple Daily newspaper office a crime scene Thursday, after 500 officers descended on the premises to arrest executives and top editors and seize journalistic materials under the city's national security law.\",\n",
       "   'url': 'https://www.cnn.com/2021/06/16/media/apple-daily-arrests-intl-hnk/index.html',\n",
       "   'urlToImage': 'https://cdn.cnn.com/cnnnext/dam/assets/210616234327-03-apple-daily-hong-kong-super-tease.jpg',\n",
       "   'publishedAt': '2021-06-17T05:40:00Z',\n",
       "   'content': 'Taipei, Taiwan (CNN Business)Hong Kong police declared the Apple Daily newspaper office a crime scene Thursday, after 500 officers descended on the premises to arrest executives and top editors and s… [+5054 chars]'},\n",
       "  {'source': {'id': None, 'name': 'ESPN'},\n",
       "   'author': 'Kevin Arnovitz',\n",
       "   'title': 'NBA playoffs 2021 - How the Atlanta Hawks flipped script on Philadelphia Sixers, again - ESPN',\n",
       "   'description': 'The Sixers, up by 26 in the second half, found a way to squander another massive lead, putting their title hopes in jeopardy.',\n",
       "   'url': 'https://www.espn.com/nba/story/_/id/31648798/nba-playoffs-2021-how-atlanta-hawks-flipped-script-philadelphia-sixers-again',\n",
       "   'urlToImage': 'https://a3.espncdn.com/combiner/i?img=%2Fphoto%2F2021%2F0617%2Fr868528_1296x729_16%2D9.jpg',\n",
       "   'publishedAt': '2021-06-17T05:09:56Z',\n",
       "   'content': 'For 24 minutes in Game 5 of the Eastern Conference semifinals of the NBA playoffs, the Philadelphia 76ers appeared to be their best selves.\\r\\nA team that ranked near league average in offensive effici… [+6007 chars]'},\n",
       "  {'source': {'id': 'axios', 'name': 'Axios'},\n",
       "   'author': 'Rebecca Falconer',\n",
       "   'title': \"World Bank rejects El Salvador's request to help implement bitcoin - Axios\",\n",
       "   'description': \"The rejection could hamper the government's goal of making bitcoin accepted across the country within 3 months.\",\n",
       "   'url': 'https://www.axios.com/world-bank-rejects-el-salvador-bitcoin-request-590d2df8-68e9-49e1-8cf2-bb239ad32014.html',\n",
       "   'urlToImage': 'https://images.axios.com/lOxXWgod1dgav0aojiVTmhPA8SY=/0x52:4152x2388/1366x768/2021/06/17/1623903246742.jpg',\n",
       "   'publishedAt': '2021-06-17T04:49:10Z',\n",
       "   'content': \"The World Bank has rejected the government of El Salvador's request to help the country implement Bitcoin as legal tender, Reuters first reported late Wednesday.\\r\\nWhy it matters: The international le… [+1310 chars]\"},\n",
       "  {'source': {'id': 'bleacher-report', 'name': 'Bleacher Report'},\n",
       "   'author': 'Bleacher Report NBA Staff',\n",
       "   'title': \"B/R Staff Roundtable: 76ers' Choke Job, Kawhi Injury and Latest NBA Bombshells - Bleacher Report\",\n",
       "   'description': 'NBA  news felt like it was coming from a    firehose    on Wednesday. One story after another hit the internet, and they rolled in so quickly that it was difficult to digest in real time...',\n",
       "   'url': 'https://bleacherreport.com/articles/2944679-br-staff-roundtable-76ers-choke-job-kawhi-injury-and-latest-nba-bombshells',\n",
       "   'urlToImage': 'https://img.bleacherreport.net/img/images/photos/003/914/349/f305134f24be151576093773d78e8bc8_crop_exact.jpg?w=1200&h=1200&q=75',\n",
       "   'publishedAt': '2021-06-17T04:48:20Z',\n",
       "   'content': 'Ashley Landis/Associated Press\\r\\nWith the Dallas Mavericks parting ways with president of basketball operations Donnie Nelson, the franchise needs to quickly revamp its front office before a significa… [+1396 chars]'},\n",
       "  {'source': {'id': None, 'name': 'New York Post'},\n",
       "   'author': 'Samuel Chamberlain',\n",
       "   'title': \"Trump says Biden-Putin summit 'good day for Russia': 'We didn't get anything' - New York Post \",\n",
       "   'description': 'Former President Donald Trump blasted Joe Biden’s meeting with Russian President Vladimir Putin saying that Americans came away with nothing and Russia got a better deal.',\n",
       "   'url': 'https://nypost.com/2021/06/17/trump-blasts-biden-putin-summit-saying-good-day-for-russia/',\n",
       "   'urlToImage': 'https://nypost.com/wp-content/uploads/sites/2/2021/06/trump-biden-putin-index-1.jpg?quality=90&strip=all&w=1200',\n",
       "   'publishedAt': '2021-06-17T04:08:00Z',\n",
       "   'content': 'Former President Donald Trump said Wednesday night that his successor’s summit meeting with Russian President Vladimir Putin was “a good day for Russia” and added that “I don’t see what we got out of… [+3148 chars]'},\n",
       "  {'source': {'id': 'cbs-news', 'name': 'CBS News'},\n",
       "   'author': \"Tre'Vaughn Howard\",\n",
       "   'title': 'More than 30 pelicans found mutilated along California coastline - CBS News',\n",
       "   'description': \"A Southern California wildlife care organization is seeking the public's help to find whoever is responsible for deliberately breaking the wings of brown pelicans at some beaches.\",\n",
       "   'url': 'https://www.cbsnews.com/news/pelicans-attacked-mutilated-southern-california/',\n",
       "   'urlToImage': 'https://cbsnews1.cbsistatic.com/hub/i/r/2021/06/17/1afecd66-be3c-4898-9e4e-93e5dbd94ca8/thumbnail/1200x630/7c6ba608cbb526ebefe1ed3f252829dd/pelicans-attacked-orange-county-02.png',\n",
       "   'publishedAt': '2021-06-17T03:30:39Z',\n",
       "   'content': \"A wildlife organization is seeking help in finding the culprit behind brutal attacks on at least 32 brown pelicans that have been mutilated and left for dead along the coast in California's Orange Co… [+1032 chars]\"},\n",
       "  {'source': {'id': 'politico', 'name': 'Politico'},\n",
       "   'author': 'Myah Ward',\n",
       "   'title': 'Trump rails against Covid vaccines for ‘very young people’ - POLITICO',\n",
       "   'description': 'With shots protecting older Americans, younger people now make up the majority of Covid patients in hospitals — something the former president didn’t mention in a Fox News interview.',\n",
       "   'url': 'https://www.politico.com/news/2021/06/16/trump-rails-against-covid-vaccines-for-very-young-people-494975',\n",
       "   'urlToImage': 'https://static.politico.com/01/51/94f4a0bc4924b96c73c10e20a996/210616-trump-ap-773.jpg',\n",
       "   'publishedAt': '2021-06-17T03:20:29Z',\n",
       "   'content': 'Now we have to get back and the schools have to get open frankly, we are lucky we have the vaccine. But the vaccine on very young people is something that youve got to really stop, Trump said. You ha… [+1409 chars]'},\n",
       "  {'source': {'id': None, 'name': 'Pitchfork'},\n",
       "   'author': 'Madison Bloom',\n",
       "   'title': 'Eve and Trina’s VERZUZ Battle: Here’s What Happened - Pitchfork',\n",
       "   'description': 'The hip-hop icons went head-to-head for over 20 rounds, playing hits from the past \\xa0two decades',\n",
       "   'url': 'https://pitchfork.com/news/eve-and-trinas-verzuz-battle-heres-what-happened/',\n",
       "   'urlToImage': 'https://media.pitchfork.com/photos/60caaa111a8b4ef7b3aaf84f/16:9/w_1280,c_limit/eve-trina.jpg',\n",
       "   'publishedAt': '2021-06-17T01:58:06Z',\n",
       "   'content': 'Eve and Trina were the latest MCs to duel on VERZUZ. They went head-to-head earlier this evening, playing hits from their respective catalogs for over 20 rounds. Trina defended her home turf from Mia… [+1827 chars]'},\n",
       "  {'source': {'id': 'fox-news', 'name': 'Fox News'},\n",
       "   'author': 'Thomas Barrabi',\n",
       "   'title': 'Crime wave dominates NYC mayoral debate as Yang touts key police endorsement - Fox News',\n",
       "   'description': 'New York City Democratic mayoral frontrunners Eric Adams and Andrew Yang clashed over a key police endorsement on Wednesday night during a heated final debate that focused heavily on the city’s escalating violent crime crisis.',\n",
       "   'url': 'https://www.foxnews.com/politics/nyc-mayoral-debate-yang-adams-clash-police-endorsement-crime',\n",
       "   'urlToImage': 'https://static.foxnews.com/foxnews.com/content/uploads/2021/06/Andrew-Yang-Eric-Adams-AP.jpg',\n",
       "   'publishedAt': '2021-06-17T01:51:39Z',\n",
       "   'content': 'New York City Democratic mayoral frontrunners Eric Adams and Andrew Yang clashed over a key police endorsement on Wednesday night during a heated final debate that focused heavily on the citys escala… [+2976 chars]'},\n",
       "  {'source': {'id': 'the-wall-street-journal',\n",
       "    'name': 'The Wall Street Journal'},\n",
       "   'author': 'Natasha Khan',\n",
       "   'title': 'Chinese Astronauts Lift Off in Mission to Staff Space Station - The Wall Street Journal',\n",
       "   'description': 'The three former members of China’s air force are being feted as heroes in a rapidly advancing space program',\n",
       "   'url': 'https://www.wsj.com/articles/chinese-astronauts-lift-off-in-mission-to-staff-space-station-11623894483',\n",
       "   'urlToImage': 'https://images.wsj.net/im-355332/social',\n",
       "   'publishedAt': '2021-06-17T01:48:00Z',\n",
       "   'content': 'HONG KONGThirteen years after former fighter pilot Liu Boming participated in Chinas first spacewalk, the 54-year-old astronaut was sent into space again Thursday morning to notch another milestone a… [+960 chars]'},\n",
       "  {'source': {'id': None, 'name': 'Yahoo Entertainment'},\n",
       "   'author': 'Jake Dima',\n",
       "   'title': 'Texas adopts permitless gun carry and loosens suppressor laws - Yahoo News',\n",
       "   'description': 'Texas Gov. Greg Abbott signed two bills this week that will allow Lone Star State residents to carry handguns without a permit and loosen regulations...',\n",
       "   'url': 'https://news.yahoo.com/texas-adopts-permitless-gun-carry-010500755.html',\n",
       "   'urlToImage': 'https://s.yimg.com/uu/api/res/1.2/BRJ04P_47J93C5VCwWBDRw--~B/aD05NDA7dz0xNTQwO2FwcGlkPXl0YWNoeW9u/https://media.zenfs.com/en/washington_examiner_articles_265/8b02a07ae4fd4bb58bf52e2b6475c264',\n",
       "   'publishedAt': '2021-06-17T01:23:24Z',\n",
       "   'content': 'Texas Gov. Greg Abbott signed two bills this week that will allow Lone Star State residents to carry handguns without a permit and loosen regulations surrounding suppressors.\\r\\nThe Republican signed p… [+2784 chars]'},\n",
       "  {'source': {'id': 'fox-news', 'name': 'Fox News'},\n",
       "   'author': 'Julius Young',\n",
       "   'title': \"Lawyer vows to 'prove' Erika Jayne 'was incredibly involved' in estranged husband Tom Girardi’s fraud case - Fox News\",\n",
       "   'description': 'Erika Jayne -- who has not been formally charged with any crimes -- was complicit in estranged husband Tom Girardi’s alleged financial misdoings, according to lawyer Jay Edelson. Edelson is the attorney who filed a class-action lawsuit against Girardi, the em…',\n",
       "   'url': 'https://www.foxnews.com/entertainment/rhobh-erika-jayne-involved-tom-girardi-fraud-case',\n",
       "   'urlToImage': 'https://static.foxnews.com/foxnews.com/content/uploads/2021/01/Erika-Jayne.jpg',\n",
       "   'publishedAt': '2021-06-17T01:00:33Z',\n",
       "   'content': 'Erika Jayne was complicit in estranged husband Tom Girardis alleged financial misdoings, so says Jay Edelson the attorney who filed a class-action lawsuit against the embattled \"Erin Brockovich\" case… [+3654 chars]'},\n",
       "  {'source': {'id': 'usa-today', 'name': 'USA Today'},\n",
       "   'author': 'Chelsey Cox',\n",
       "   'title': 'Who are the 14 House Republicans who voted against a Juneteenth holiday? And why? - USA TODAY',\n",
       "   'description': 'The House vote on Juneteenth passed by 415-14 for a new federal holiday, but 14 GOP members of Congress voted no. Who are they? Why did they vote no?',\n",
       "   'url': 'https://www.usatoday.com/story/news/politics/2021/06/16/who-14-republicans-who-voted-against-juneteenth-holiday/7722634002/',\n",
       "   'urlToImage': 'https://www.gannett-cdn.com/-mm-/67a5caada3f0a5754b4df22ce2eadf942af3596c/c=0-127-3409-2053/local/-/media/2016/05/24/USATODAY/USATODAY/635997013334564914-XXX-GAN-KY-MASSIE-hdb1228.JPG?width=3200&height=1680&fit=crop',\n",
       "   'publishedAt': '2021-06-17T00:56:43Z',\n",
       "   'content': \"The Senate unanimously voted to make Juneteenth a federal holiday. Here's why this once local celebration is significant to U.S. history.\\r\\nUSA TODAY\\r\\nStory Highlights\\r\\n<ul><li>All 14 members of Congr… [+3853 chars]\"},\n",
       "  {'source': {'id': 'the-hill', 'name': 'The Hill'},\n",
       "   'author': 'Lexi Lonas',\n",
       "   'title': \"'Dangerous' and 'record-breaking' heat wave affects 50 million Americans | TheHill - The Hill\",\n",
       "   'description': 'A heat wave affecting 50 million Americans is hitting the West....',\n",
       "   'url': 'https://thehill.com/policy/energy-environment/558871-dangerous-and-record-breaking-heat-wave-affects-50-million',\n",
       "   'urlToImage': 'https://thehill.com/sites/default/files/wheat073120.jpg',\n",
       "   'publishedAt': '2021-06-17T00:31:01Z',\n",
       "   'content': 'A heat wave affecting 50 million Americans is hitting the West.\\r\\nWidespread excessive heat warnings and heat advisories are\\xa0in effect for California, Nevada, Arizona and Utah.\\r\\nDangerous and record-b… [+1632 chars]'},\n",
       "  {'source': {'id': 'the-washington-post', 'name': 'The Washington Post'},\n",
       "   'author': 'Chuck Culpepper',\n",
       "   'title': 'A tour of Phil Mickelson’s San Diego, where just about everybody has a Phil tale - The Washington Post',\n",
       "   'description': \"From the Mickelson family house in Del Cerro to the greens of Torrey Pines — and a few stops in between — this is the place that made Phil. And it just happens to be home to this week's U.S. Open.\",\n",
       "   'url': 'https://www.washingtonpost.com/sports/2021/06/16/phil-mickelson-san-diego-tour/',\n",
       "   'urlToImage': 'https://www.washingtonpost.com/wp-apps/imrs.php?src=https://arc-anglerfish-washpost-prod-washpost.s3.amazonaws.com/public/K4IC4TWY2VBFNFSIPXI7IGRSXE.jpg&w=1440',\n",
       "   'publishedAt': '2021-06-16T23:58:00Z',\n",
       "   'content': 'That would be the Del Cerro neighborhood, an area of hills and sudden vistas and purple flowers in trees and houses comfortable but non-posh, including the one in which Mickelson sprouted, and outsid… [+7352 chars]'},\n",
       "  {'source': {'id': None, 'name': 'CNBC'},\n",
       "   'author': 'Eustance Huang',\n",
       "   'title': \"Japan's Nikkei 225 drops nearly 1% as Asia markets trade mixed after U.S. Fed signals rate hikes in 2023 - CNBC\",\n",
       "   'description': 'The U.S. Federal Reserve on Wednesday brought forward the time frame on which it will next raise interest rates.',\n",
       "   'url': 'https://www.cnbc.com/2021/06/17/asia-markets-us-federal-reserve-australia-jobs-data-currencies-oil.html',\n",
       "   'urlToImage': 'https://image.cnbcfm.com/api/v1/image/106726501-1601595278195-gettyimages-1228568944-364741127_1-5.jpeg?v=1623886416',\n",
       "   'publishedAt': '2021-06-16T23:40:07Z',\n",
       "   'content': 'SINGAPORE Shares in Asia-Pacific were mixed on Thursday, as investors watched for market reaction after the U.S. Federal Reserve on Wednesday moved up its timeline for rate hikes.\\r\\nIn Japan, the Nikk… [+2601 chars]'},\n",
       "  {'source': {'id': None, 'name': 'New York Times'},\n",
       "   'author': 'Ruth Graham',\n",
       "   'title': 'Southern Baptist Vote Signals Further Fractures in American Evangelicalism - The New York Times',\n",
       "   'description': 'The establishment narrowly headed off a takeover attempt by a hard-right movement. Some backers of the losing candidate are now considering leaving altogether.',\n",
       "   'url': 'https://www.nytimes.com/2021/06/16/us/southern-baptist-convention-evangelicalism.html',\n",
       "   'urlToImage': 'https://static01.nyt.com/images/2021/06/16/us/16baptists-future/merlin_189289776_6c31d04f-71d6-47c1-911e-036ae8064f1d-facebookJumbo.jpg',\n",
       "   'publishedAt': '2021-06-16T23:38:57Z',\n",
       "   'content': 'Less than 24 hours after Mr. Littons election, Josh Buice, the pastor of Prays Mill Baptist Church west of Atlanta, was preparing to send an email to his congregation asking for prayer about its futu… [+1233 chars]'}]}"
      ]
     },
     "execution_count": 168,
     "metadata": {},
     "output_type": "execute_result"
    }
   ],
   "source": [
    "response.json()"
   ]
  },
  {
   "cell_type": "markdown",
   "metadata": {},
   "source": [
    "## NewsAPI endpoints playground"
   ]
  },
  {
   "cell_type": "markdown",
   "metadata": {},
   "source": [
    "[NewsAPI endpoints](https://newsapi.org/docs/endpoints)"
   ]
  },
  {
   "cell_type": "markdown",
   "metadata": {},
   "source": [
    "We shall look at each endpoint documentation to see what **parameters** they accept!"
   ]
  },
  {
   "cell_type": "code",
   "execution_count": 169,
   "metadata": {},
   "outputs": [
    {
     "data": {
      "text/plain": [
       "'http://newsapi.org/v2/top-headlines'"
      ]
     },
     "execution_count": 169,
     "metadata": {},
     "output_type": "execute_result"
    }
   ],
   "source": [
    "url"
   ]
  },
  {
   "cell_type": "code",
   "execution_count": 170,
   "metadata": {},
   "outputs": [],
   "source": [
    "url_top_headlines = \"http://newsapi.org/v2/top-headlines\""
   ]
  },
  {
   "cell_type": "code",
   "execution_count": 171,
   "metadata": {},
   "outputs": [],
   "source": [
    "parameters = {\"country\": \"mx\", \"category\": \"science\"}"
   ]
  },
  {
   "cell_type": "code",
   "execution_count": 172,
   "metadata": {},
   "outputs": [],
   "source": [
    "headers = {\"X-Api-Key\": my_key}"
   ]
  },
  {
   "cell_type": "code",
   "execution_count": 173,
   "metadata": {},
   "outputs": [],
   "source": [
    "response = requests.get(\n",
    "    url=url_top_headlines, \n",
    "    params=parameters, \n",
    "    headers=headers\n",
    ")"
   ]
  },
  {
   "cell_type": "code",
   "execution_count": 174,
   "metadata": {},
   "outputs": [
    {
     "data": {
      "text/plain": [
       "200"
      ]
     },
     "execution_count": 174,
     "metadata": {},
     "output_type": "execute_result"
    }
   ],
   "source": [
    "response.status_code"
   ]
  },
  {
   "cell_type": "code",
   "execution_count": 175,
   "metadata": {},
   "outputs": [],
   "source": [
    "data = response.json()"
   ]
  },
  {
   "cell_type": "code",
   "execution_count": 176,
   "metadata": {},
   "outputs": [
    {
     "data": {
      "text/plain": [
       "{'status': 'ok',\n",
       " 'totalResults': 70,\n",
       " 'articles': [{'source': {'id': None, 'name': 'EL PAÍS'},\n",
       "   'author': 'Macarena Vidal Liy',\n",
       "   'title': 'China lanza con éxito una misión tripulada a su estación espacial - EL PAÍS',\n",
       "   'description': 'Los tres integrantes de la misión tienen previsto permanecer en esa base durante tres meses para probar el funcionamiento de sus sistemas',\n",
       "   'url': 'https://elpais.com/ciencia/2021-06-17/china-lanza-con-exito-una-mision-tripulada-a-su-estacion-espacial.html',\n",
       "   'urlToImage': 'https://imagenes.elpais.com/resizer/hluvvceQPJb0kUguZFhWSAoOCDI=/1200x0/cloudfront-eu-central-1.images.arcpublishing.com/prisa/VQDINSUOJHOBQ4IFUIX3WEAYCU.jpg',\n",
       "   'publishedAt': '2021-06-17T06:34:00Z',\n",
       "   'content': 'China ha lanzado con éxito este jueves una misión de tres astronautas a su estación espacial Tiangong, en un nuevo hito de su programa de exploración de los cielos. Los tres integrantes de la misión … [+3190 chars]'},\n",
       "  {'source': {'id': 'cnn', 'name': 'CNN'},\n",
       "   'author': None,\n",
       "   'title': 'Problemas impiden a 2 astronautas instalar paneles solares en la Estación Espacial Internacional - CNN',\n",
       "   'description': 'Las mejoras en la Estación Espacial Internacional tendrán que esperar. Y es que retrasos técnicos dejaron a dos astronautas sin tiempo para cumplir con el | Mundo | CNN',\n",
       "   'url': 'https://cnnespanol.cnn.com/video/espacio-estacion-espacial-internacional-problemas-tecnicos-paneles-solares-rafael-romo-conclusiones/',\n",
       "   'urlToImage': 'https://cnnespanol.cnn.com/wp-content/uploads/2021/06/210616193513-conclu-nasa-eei-full-169.jpg?quality=100&strip=info',\n",
       "   'publishedAt': '2021-06-17T03:08:00Z',\n",
       "   'content': None},\n",
       "  {'source': {'id': None, 'name': 'Aristeguinoticias.com'},\n",
       "   'author': None,\n",
       "   'title': '47%, la decepcionante eficacia de la vacuna CureVac contra la Covid-19 - Aristeguinoticias',\n",
       "   'description': 'Desde cualquier medio, periodismo en libertad',\n",
       "   'url': 'https://aristeguinoticias.com/1606/mundo/47-la-decepcionante-eficacia-de-la-vacuna-curevac-contra-la-covid-19/',\n",
       "   'urlToImage': 'https://aristeguinoticias.com/editorial/wp-content/uploads/2019/03/500x.png',\n",
       "   'publishedAt': '2021-06-17T03:03:16Z',\n",
       "   'content': None},\n",
       "  {'source': {'id': None, 'name': 'El Universal'},\n",
       "   'author': None,\n",
       "   'title': 'Asocian funeral con brote de posible nueva cepa de Covid-19 en Sonora | El Universal - El Universal',\n",
       "   'description': 'De los 34 casos en estudio 22 han sido confirmados en los municipios de Huásabas, Granados y comunidades aledañas; varios de los casos confirmados coincidieron en un funeral realizado el pasado 6 de junio',\n",
       "   'url': 'https://www.eluniversal.com.mx/estados/asocian-funeral-con-brote-de-posible-nueva-cepa-de-covid-19-en-sonora',\n",
       "   'urlToImage': 'https://www.eluniversal.com.mx/sites/default/files/2021/06/16/covid-sonora.jpg',\n",
       "   'publishedAt': '2021-06-17T02:30:11Z',\n",
       "   'content': 'Hermosillo.- La Secretaría de Salud en Sonora investiga la posible presencia de una nueva cepa de Covid-19 en la entidad, luego de un brote de casos de la enfermedad en el municipio de Granados, Huás… [+2212 chars]'},\n",
       "  {'source': {'id': 'infobae', 'name': 'Infobae'},\n",
       "   'author': 'anónimo',\n",
       "   'title': 'Un estudio preliminar desarrolla un catálogo de más de 50 efectos a largo plazo de COVID-19 - infobae',\n",
       "   'description': 'Una revisión sistemática tiene como objetivo identificar todos los estudios que evalúan los efectos a largo plazo, y estimar la prevalencia de cada síntoma, signo o parámetro de laboratorio de los pacientes en una etapa posterior a la enfermedad',\n",
       "   'url': 'https://www.infobae.com/america/tendencias-america/2021/06/17/un-estudio-preliminar-desarrolla-un-catalogo-de-mas-de-50-efectos-a-largo-plazo-de-covid-19/',\n",
       "   'urlToImage': 'https://www.infobae.com/new-resizer/plCcZ4LzZ31vqHsIAVD3H-xQr0g=/1200x628/filters:format(jpg):quality(85)//cloudfront-us-east-1.images.arcpublishing.com/infobae/QEGFMLTICBHSNOX43KBFTQTETQ.jpg',\n",
       "   'publishedAt': '2021-06-17T00:48:17Z',\n",
       "   'content': 'Ocho de cada 10 pacientes con COVID-19 presentaban al menos un síntoma persistente desde los 14 días hasta las 16 semanas después de la infección aguda, aunque algunos efectos podrían durar más. Es l… [+5882 chars]'},\n",
       "  {'source': {'id': None, 'name': 'Televisa.com'},\n",
       "   'author': 'Sergio Hidalgo',\n",
       "   'title': 'La ciencia dice que los besos ayudan a combatir las caries - Noticieros Televisa',\n",
       "   'description': 'Sí, los besos de lengüita pueden ayudar a combatir las caries de acuerdo con una investigación científica. Aquí te decimos por qué.',\n",
       "   'url': 'https://www.televisa.com/noticias/la-ciencia-dice-que-los-besos-ayudan-a-combatir-las-caries/',\n",
       "   'urlToImage': 'https://www.noticieros.live/noticias/wp-content/uploads/2021/06/beso-.jpg',\n",
       "   'publishedAt': '2021-06-16T22:55:18Z',\n",
       "   'content': 'A todos nos gusta besar, no por nada es la mejor forma de expresar afecto. Pero, más allá de los besos tiernos que una madre le da a su hijo en la frente, el beso romántico por excelencia es el beso … [+2627 chars]'},\n",
       "  {'source': {'id': None, 'name': 'Unotv.com'},\n",
       "   'author': None,\n",
       "   'title': 'El quinto océano, dónde está y por qué la National Geographic tardó más de 100 años en reconocerlo - Uno TV Noticias',\n",
       "   'description': 'La National Geographic Society sumó un océano más a su lista: el Austral, el cual se integra al Índico, Pacífico, Atlántico y Ártico.',\n",
       "   'url': 'https://www.unotv.com/ciencia-y-tecnologia/el-quinto-oceano-donde-esta-y-por-que-la-national-geographic-tardo-mas-de-100-anos-en-reconocerlo/',\n",
       "   'urlToImage': 'https://www.unotv.com/uploads/2021/06/oceano1-165445.jpg',\n",
       "   'publishedAt': '2021-06-16T22:25:24Z',\n",
       "   'content': 'Los océanos cubren más del 70% de la superficie de la Tierra, con esa basta extensión se dividen en cuatro: Índico, Pacífico, Atlántico y Ártico.\\r\\nSin embargo, la National Geographic Society sumó uno… [+2581 chars]'},\n",
       "  {'source': {'id': 'rt', 'name': 'RT'},\n",
       "   'author': 'RT en Español',\n",
       "   'title': 'Resuelven el misterio de por qué la estrella supergigante roja Betelgeuse perdió brillo - RT en Español',\n",
       "   'description': 'Entre finales de 2019 y principios de 2020, la estrella se volvió visiblemente más oscura, dejando perpleja a la comunidad científica.',\n",
       "   'url': 'https://actualidad.rt.com/actualidad/395295-resuelven-misterio-betelgeuse-perder-brillo',\n",
       "   'urlToImage': 'https://cdni.rt.com/actualidad/public_images/2021.06/article/60ca431159bf5b7c134d5849.jpg',\n",
       "   'publishedAt': '2021-06-16T22:18:13Z',\n",
       "   'content': 'Un equipo internacional de astrónomos ha resuelto el misterio de la inesperada disminución de brillo de la estrella supergigante roja Betelgeuse, situada en la constelación de Orión, comunica el Obse… [+2116 chars]'},\n",
       "  {'source': {'id': 'infobae', 'name': 'Infobae'},\n",
       "   'author': 'anónimo',\n",
       "   'title': 'Video: China y Rusia revelaron cómo será la estación lunar que estaría lista para 2035 - infobae',\n",
       "   'description': 'Fue durante el evento Exploración Espacial Global (GLEX) en San Petersburgo, Rusia, donde sus promotores afirmaron que otros países estarían interesados en ser socios',\n",
       "   'url': 'https://www.infobae.com/america/ciencia-america/2021/06/16/video-china-y-rusia-revelaron-como-sera-la-estacion-lunar-que-estaria-lista-para-2035/',\n",
       "   'urlToImage': 'https://www.infobae.com/new-resizer/qnYuM64QBjyCzrGUYgHrD2fXkkQ=/1200x628/filters:format(jpg):quality(85)//cloudfront-us-east-1.images.arcpublishing.com/infobae/A7CVOCMMONHDTMVIIST4BR4BYI.jpg',\n",
       "   'publishedAt': '2021-06-16T21:31:01Z',\n",
       "   'content': 'La hoja de ruta de la impresionante Estación Internacional de Investigación Lunar \\r\\nChina y Rusia revelaron el miércoles una hoja de ruta para construir conjuntamente una Estación Internacional de In… [+4580 chars]'},\n",
       "  {'source': {'id': None, 'name': 'El Universal'},\n",
       "   'author': None,\n",
       "   'title': 'La historia de Milagros, la joven ciega que aprendió inglés sola y estudiará sin costo en Harvard | El Universal - El Universal',\n",
       "   'description': '\"Hoy me permito soñar. No solo con las cosas que puedo lograr, sino con las que pueden cambiar en mi país y en el mundo gracias a mi historia\", cuenta la mujer de 19 años',\n",
       "   'url': 'https://www.eluniversal.com.mx/mundo/la-historia-de-milagros-la-joven-ciega-que-aprendio-ingles-sola-y-estudiara-sin-costo-en',\n",
       "   'urlToImage': 'https://www.eluniversal.com.mx/sites/default/files/_118887110_milagros1b.jpg',\n",
       "   'publishedAt': '2021-06-16T17:29:49Z',\n",
       "   'content': 'Daniel Alves\\r\\nMilagros Costabel en su ciudad natal, Colonia del Sacramento. \"Postulé a Harvard porque sabía que si no lo hacía me arrepentiría toda mi vida\".\\r\\n\"Bienvenida a Harvard\".\\r\\nCuando recibió … [+13694 chars]'},\n",
       "  {'source': {'id': None, 'name': 'esquire.com'},\n",
       "   'author': 'Redazione',\n",
       "   'title': 'En Venus está el secreto de cómo terminará la vida en la Tierra, y la NASA quiere ir y averiguarlo - esquire.com',\n",
       "   'description': 'Perché non ci siamo andati fino ad oggi, e perché ci vogliamo andare adesso.',\n",
       "   'url': 'https://www.esquire.com/it/lifestyle/tecnologia/a36715515/missioni-venere/',\n",
       "   'urlToImage': 'https://hips.hearstapps.com/hmg-prod.s3.amazonaws.com/images/gettyimages-1085289472.jpg?crop=1.00xw:0.655xh;0,0.126xh&resize=1200:*',\n",
       "   'publishedAt': '2021-06-16T15:30:19Z',\n",
       "   'content': \"Paul Byrne, professore associato di Scienze planetarie presso la North Carolina State University, ha spiegato a Science Focus l'importanza delle nuove missioni che andranno su Venere ma anche che per… [+1744 chars]\"},\n",
       "  {'source': {'id': None, 'name': 'Latamisrael.com'},\n",
       "   'author': None,\n",
       "   'title': 'Revolucionando la fabricación de componentes ópticos. - LatamIsrael.com',\n",
       "   'description': 'Revolucionando la fabricación de componentes ópticos. - LatamIsrael Latam Israel, ciencia y tecnología israelí. Israel en latam',\n",
       "   'url': 'https://latamisrael.com/revolucionando-la-fabricacion-de-componentes-opticos/',\n",
       "   'urlToImage': 'https://latamisrael.com/wp-content/uploads/2021/06/componentes.jpg',\n",
       "   'publishedAt': '2021-06-16T13:48:14Z',\n",
       "   'content': 'Científicos de Israel logran simplificar drásticamente la producción de componentes ópticos utilizados en todas las industrias.\\r\\nLos científico han mejorado y simplificado drásticamente la producción… [+2576 chars]'},\n",
       "  {'source': {'id': 'google-news', 'name': 'Google News'},\n",
       "   'author': None,\n",
       "   'title': 'Una nueva forma de carbono - Noticias de la Ciencia y la Tecnología',\n",
       "   'description': None,\n",
       "   'url': 'https://news.google.com/__i/rss/rd/articles/CBMiRGh0dHBzOi8vbm90aWNpYXNkZWxhY2llbmNpYS5jb20vYXJ0LzQyMDEyL3VuYS1udWV2YS1mb3JtYS1kZS1jYXJib25v0gEA?oc=5',\n",
       "   'urlToImage': None,\n",
       "   'publishedAt': '2021-06-16T10:25:32Z',\n",
       "   'content': None},\n",
       "  {'source': {'id': None, 'name': 'EL PAÍS'},\n",
       "   'author': 'Pablo G. Pérez González',\n",
       "   'title': 'El regalo de Thor y Urano - EL PAÍS',\n",
       "   'description': 'Los fenómenos naturales más destructivos que conocemos, terremotos o volcanes, son esenciales para la aparición de la vida. También los elementos radiactivos, especialmente el uranio y el torio',\n",
       "   'url': 'https://elpais.com/ciencia/2021-06-16/el-regalo-de-thor-y-urano.html',\n",
       "   'urlToImage': 'https://imagenes.elpais.com/resizer/CgeHeMF9GQqaN2ca6VdlUY2rMhk=/1200x0/filters:focal(78x61:88x71)/cloudfront-eu-central-1.images.arcpublishing.com/prisa/K66TI3NYNTZSFSRZZ4EANPLUI4.jpg',\n",
       "   'publishedAt': '2021-06-16T09:54:00Z',\n",
       "   'content': 'Un investigador toma una muestra de agua en Seúl, Corea del Sur, para realizar un control de radiactividad.\\r\\nEl uranio tiene mala fama, como todos los elementos radiactivos. Con razón, en parte, porq… [+7969 chars]'},\n",
       "  {'source': {'id': None, 'name': 'Elconfidencial.com'},\n",
       "   'author': 'Enrique Zamorano',\n",
       "   'title': 'Todo lo que las pupilas cuentan de nosotros (y de nuestra inteligencia) - El Confidencial',\n",
       "   'description': 'Los ojos no son solo el espejo del alma, sino que también pueden darnos pistas sobre las capacidades cognitivas de una persona. Así lo comprobaron un grupo de científicos',\n",
       "   'url': 'https://www.elconfidencial.com/alma-corazon-vida/2021-06-16/todo-lo-que-las-pupilas-cuentan-de-nosotros_3125320/',\n",
       "   'urlToImage': 'https://www.ecestaticos.com/imagestatic/clipping/2b4/7fd/2b47fd4272a9343bb001131317c62d11.jpg',\n",
       "   'publishedAt': '2021-06-16T09:06:00Z',\n",
       "   'content': 'Se tiene entendido que los ojos son las ventanas del alma y que fijándonos en ellos podemos delatar a mentirosos compulsivos o intuir los sentimientos de alguien. Esta puerta de salida de las lágrima… [+4700 chars]'},\n",
       "  {'source': {'id': None, 'name': 'Levante-emv.com'},\n",
       "   'author': None,\n",
       "   'title': 'Detectan una débil señal cerebral con un sensor cuántico • Tendencias21 - Levante-EMV',\n",
       "   'description': 'Un sensor cuántico externo es capaz de captar los débiles campos magnéticos que genera la actividad neuronal y de describir lo que pasa dentro del cerebro cuando abrimos y cerramos los ojos.',\n",
       "   'url': 'https://tendencias21.levante-emv.com/detectan-una-debil-senal-cerebral-con-un-sensor-cuantico.html',\n",
       "   'urlToImage': 'https://tendencias21.levante-emv.com/wp-content/uploads/2021/06/cerebro-cuantico-1200piqsels.com-id-zwfob-1.jpg',\n",
       "   'publishedAt': '2021-06-16T06:00:15Z',\n",
       "   'content': 'Un sensor cuántico externo es capaz de captar los débiles campos magnéticos que genera la actividad neuronal y de describir lo que pasa dentro del cerebro cuando abrimos y cerramos los ojos.Un equipo… [+4521 chars]'},\n",
       "  {'source': {'id': 'infobae', 'name': 'Infobae'},\n",
       "   'author': 'anónimo',\n",
       "   'title': 'El super-hongo Candida auris avanza dentro de salas desbordadas con pacientes con COVID-19 en Brasil - infobae',\n",
       "   'description': 'Lo detectaron investigadores de la Universidad Federal de San Pablo. Hasta el momento no se lo detectó en Argentina',\n",
       "   'url': 'https://www.infobae.com/america/ciencia-america/2021/06/16/el-super-hongo-candida-auris-avanza-dentro-de-salas-desbordadas-con-pacientes-con-covid-19-en-brasil/',\n",
       "   'urlToImage': 'https://www.infobae.com/new-resizer/vqWr1sJxAL429UKrDQXQazjH-s4=/1200x628/filters:format(jpg):quality(85)//cloudfront-us-east-1.images.arcpublishing.com/infobae/VSZTNDAZ4NGMDNSSGT7M47ZSFA.jpg',\n",
       "   'publishedAt': '2021-06-16T05:02:14Z',\n",
       "   'content': 'La pandemia del coronavirus en Brasil favoreció el avance de un super-hongo en los hospitales de Brasil. Con la ocupación completa de las unidades de cuidados intensivos, el personal sanitario física… [+8318 chars]'},\n",
       "  {'source': {'id': None, 'name': 'Pijamasurf.com'},\n",
       "   'author': 'José Robles',\n",
       "   'title': 'Disfruta de este panorama 360º de Marte capturado por el vehículo Perseverance (VIDEO) - Pijama Surf',\n",
       "   'description': 'Cumplidos 100 días (terrestres) desde su llegada al Marte, el vehículo Perseverance ha recolectado imágenes suficientes como para dar un vistazo al planeta rojo',\n",
       "   'url': 'https://pijamasurf.com/2021/06/disfruta_de_este_panorama_360_de_marte_capturado_por_el_vehiculo_perseverance_video/',\n",
       "   'urlToImage': 'https://pijamasurf.com/imagen_nota/marte.jpg',\n",
       "   'publishedAt': '2021-06-16T05:01:26Z',\n",
       "   'content': 'Hace unos días, el vehículo Perseverance de la Agencia Espacial Estadounidense (NASA) cumplió cien días terrestres de explorar Marte. Con precisión, al 13 de junio el rover tiene ya ciento quince día… [+1261 chars]'},\n",
       "  {'source': {'id': 'cnn', 'name': 'CNN'},\n",
       "   'author': None,\n",
       "   'title': 'Astronautas realizarán dos caminatas espaciales para instalar paneles solares en la EEI - CNN',\n",
       "   'description': 'Los astronautas Shane Kimbrough de la NASA y Thomas Pesquet de la Agencia Espacial Europea están a punto de realizar dos caminatas espaciales.',\n",
       "   'url': 'https://cnnespanol.cnn.com/video/caminatas-astronautas-estacion-espacial-internacional-mario-gonzalez-conclusiones/',\n",
       "   'urlToImage': 'https://cnnespanol.cnn.com/wp-content/uploads/2021/06/210615220007-conclu-iss-full-169.jpg?quality=100&strip=info',\n",
       "   'publishedAt': '2021-06-16T03:00:00Z',\n",
       "   'content': 'Los astronautas Shane Kimbrough de la NASA y Thomas Pesquet de la Agencia Espacial Europea están a punto de realizar dos caminatas espaciales seguidas para hacer labores de mantenimiento en la Estaci… [+25 chars]'},\n",
       "  {'source': {'id': 'infobae', 'name': 'Infobae'},\n",
       "   'author': 'anónimo',\n",
       "   'title': 'Instituto de Investigaciones en Ciencias Matemáticas de EE.UU. será dirigido por una colombiana - infobae',\n",
       "   'description': 'Se trata de Tatiana Toro, quien se graduó de la Universidad Nacional de Colombia y tiene un doctorado en la Universidad de Stanford. La doctora asumirá el cargo durante cinco años.',\n",
       "   'url': 'https://www.infobae.com/america/colombia/2021/06/16/instituto-de-investigaciones-en-ciencias-matematicas-de-eeuu-sera-dirigido-por-una-colombiana/',\n",
       "   'urlToImage': 'https://www.infobae.com/new-resizer/nBAV_sw6PuIbzW40X33Z94NRHVs=/1200x628/filters:format(jpg):quality(85)//cloudfront-us-east-1.images.arcpublishing.com/infobae/VIXEN4W4MNGAZK2MFROCWK6OGI.jpg',\n",
       "   'publishedAt': '2021-06-16T01:38:18Z',\n",
       "   'content': 'Los colombianos se siguen destacando en el exterior, no solo en deportes y artes, sino también en las ciencias. Este martes 15 de junio, el Instituto de Investigación de Ciencias Matemáticas de Estad… [+4034 chars]'}]}"
      ]
     },
     "execution_count": 176,
     "metadata": {},
     "output_type": "execute_result"
    }
   ],
   "source": [
    "data"
   ]
  },
  {
   "cell_type": "code",
   "execution_count": 177,
   "metadata": {},
   "outputs": [
    {
     "data": {
      "text/plain": [
       "70"
      ]
     },
     "execution_count": 177,
     "metadata": {},
     "output_type": "execute_result"
    }
   ],
   "source": [
    "data[\"totalResults\"]"
   ]
  },
  {
   "cell_type": "code",
   "execution_count": 178,
   "metadata": {},
   "outputs": [
    {
     "data": {
      "text/plain": [
       "70"
      ]
     },
     "execution_count": 178,
     "metadata": {},
     "output_type": "execute_result"
    }
   ],
   "source": [
    "# equiv\n",
    "data.get(\"totalResults\")"
   ]
  },
  {
   "cell_type": "code",
   "execution_count": 179,
   "metadata": {},
   "outputs": [
    {
     "ename": "KeyError",
     "evalue": "'name'",
     "output_type": "error",
     "traceback": [
      "\u001b[0;31m---------------------------------------------------------------------------\u001b[0m",
      "\u001b[0;31mKeyError\u001b[0m                                  Traceback (most recent call last)",
      "\u001b[0;32m<ipython-input-179-2376e81b83fd>\u001b[0m in \u001b[0;36m<module>\u001b[0;34m\u001b[0m\n\u001b[0;32m----> 1\u001b[0;31m \u001b[0mdata\u001b[0m\u001b[0;34m[\u001b[0m\u001b[0;34m\"name\"\u001b[0m\u001b[0;34m]\u001b[0m\u001b[0;34m\u001b[0m\u001b[0;34m\u001b[0m\u001b[0m\n\u001b[0m",
      "\u001b[0;31mKeyError\u001b[0m: 'name'"
     ]
    }
   ],
   "source": [
    "data[\"name\"]"
   ]
  },
  {
   "cell_type": "code",
   "execution_count": 180,
   "metadata": {},
   "outputs": [],
   "source": [
    "data.get(\"name\")"
   ]
  },
  {
   "cell_type": "markdown",
   "metadata": {},
   "source": [
    "`dict[key]` raises error if key does not exits  \n",
    "`dict.get(key)` doesnt raise error if key does not exist"
   ]
  },
  {
   "cell_type": "code",
   "execution_count": 181,
   "metadata": {},
   "outputs": [
    {
     "name": "stdout",
     "output_type": "stream",
     "text": [
      "no existe la key\n"
     ]
    }
   ],
   "source": [
    "# example usage\n",
    "if data.get(\"name\") is not None:\n",
    "    print(\"bien\")\n",
    "else:\n",
    "    print(\"no existe la key\")"
   ]
  },
  {
   "cell_type": "code",
   "execution_count": 182,
   "metadata": {},
   "outputs": [
    {
     "data": {
      "text/plain": [
       "dict"
      ]
     },
     "execution_count": 182,
     "metadata": {},
     "output_type": "execute_result"
    }
   ],
   "source": [
    "type(data)"
   ]
  },
  {
   "cell_type": "code",
   "execution_count": 183,
   "metadata": {},
   "outputs": [
    {
     "data": {
      "text/plain": [
       "dict_keys(['status', 'totalResults', 'articles'])"
      ]
     },
     "execution_count": 183,
     "metadata": {},
     "output_type": "execute_result"
    }
   ],
   "source": [
    "data.keys()"
   ]
  },
  {
   "cell_type": "code",
   "execution_count": 184,
   "metadata": {},
   "outputs": [
    {
     "data": {
      "text/plain": [
       "'ok'"
      ]
     },
     "execution_count": 184,
     "metadata": {},
     "output_type": "execute_result"
    }
   ],
   "source": [
    "data.get(\"status\")"
   ]
  },
  {
   "cell_type": "code",
   "execution_count": 185,
   "metadata": {},
   "outputs": [
    {
     "data": {
      "text/plain": [
       "70"
      ]
     },
     "execution_count": 185,
     "metadata": {},
     "output_type": "execute_result"
    }
   ],
   "source": [
    "data.get(\"totalResults\")"
   ]
  },
  {
   "cell_type": "code",
   "execution_count": 186,
   "metadata": {},
   "outputs": [],
   "source": [
    "articles = data.get(\"articles\")"
   ]
  },
  {
   "cell_type": "code",
   "execution_count": 187,
   "metadata": {},
   "outputs": [
    {
     "data": {
      "text/plain": [
       "list"
      ]
     },
     "execution_count": 187,
     "metadata": {},
     "output_type": "execute_result"
    }
   ],
   "source": [
    "type(articles)"
   ]
  },
  {
   "cell_type": "code",
   "execution_count": 188,
   "metadata": {},
   "outputs": [
    {
     "data": {
      "text/plain": [
       "20"
      ]
     },
     "execution_count": 188,
     "metadata": {},
     "output_type": "execute_result"
    }
   ],
   "source": [
    "len(articles)"
   ]
  },
  {
   "cell_type": "code",
   "execution_count": 218,
   "metadata": {},
   "outputs": [
    {
     "data": {
      "text/plain": [
       "{'source': {'id': None, 'name': 'Aristeguinoticias.com'},\n",
       " 'author': None,\n",
       " 'title': '47%, la decepcionante eficacia de la vacuna CureVac contra la Covid-19 - Aristeguinoticias',\n",
       " 'description': 'Desde cualquier medio, periodismo en libertad',\n",
       " 'url': 'https://aristeguinoticias.com/1606/mundo/47-la-decepcionante-eficacia-de-la-vacuna-curevac-contra-la-covid-19/',\n",
       " 'urlToImage': 'https://aristeguinoticias.com/editorial/wp-content/uploads/2019/03/500x.png',\n",
       " 'publishedAt': '2021-06-17T03:03:16Z',\n",
       " 'content': None}"
      ]
     },
     "execution_count": 218,
     "metadata": {},
     "output_type": "execute_result"
    }
   ],
   "source": [
    "articles[2]"
   ]
  },
  {
   "cell_type": "code",
   "execution_count": 219,
   "metadata": {},
   "outputs": [],
   "source": [
    "df = pd.DataFrame(articles)"
   ]
  },
  {
   "cell_type": "code",
   "execution_count": 222,
   "metadata": {},
   "outputs": [],
   "source": [
    "df = pd.json_normalize(articles)"
   ]
  },
  {
   "cell_type": "code",
   "execution_count": 223,
   "metadata": {},
   "outputs": [
    {
     "data": {
      "text/plain": [
       "(20, 9)"
      ]
     },
     "execution_count": 223,
     "metadata": {},
     "output_type": "execute_result"
    }
   ],
   "source": [
    "df.shape"
   ]
  },
  {
   "cell_type": "code",
   "execution_count": 224,
   "metadata": {
    "scrolled": true
   },
   "outputs": [
    {
     "data": {
      "text/html": [
       "<div>\n",
       "<style scoped>\n",
       "    .dataframe tbody tr th:only-of-type {\n",
       "        vertical-align: middle;\n",
       "    }\n",
       "\n",
       "    .dataframe tbody tr th {\n",
       "        vertical-align: top;\n",
       "    }\n",
       "\n",
       "    .dataframe thead th {\n",
       "        text-align: right;\n",
       "    }\n",
       "</style>\n",
       "<table border=\"1\" class=\"dataframe\">\n",
       "  <thead>\n",
       "    <tr style=\"text-align: right;\">\n",
       "      <th></th>\n",
       "      <th>author</th>\n",
       "      <th>title</th>\n",
       "      <th>description</th>\n",
       "      <th>url</th>\n",
       "      <th>urlToImage</th>\n",
       "      <th>publishedAt</th>\n",
       "      <th>content</th>\n",
       "      <th>source.id</th>\n",
       "      <th>source.name</th>\n",
       "    </tr>\n",
       "  </thead>\n",
       "  <tbody>\n",
       "    <tr>\n",
       "      <th>0</th>\n",
       "      <td>Macarena Vidal Liy</td>\n",
       "      <td>China lanza con éxito una misión tripulada a s...</td>\n",
       "      <td>Los tres integrantes de la misión tienen previ...</td>\n",
       "      <td>https://elpais.com/ciencia/2021-06-17/china-la...</td>\n",
       "      <td>https://imagenes.elpais.com/resizer/hluvvceQPJ...</td>\n",
       "      <td>2021-06-17T06:34:00Z</td>\n",
       "      <td>China ha lanzado con éxito este jueves una mis...</td>\n",
       "      <td>None</td>\n",
       "      <td>EL PAÍS</td>\n",
       "    </tr>\n",
       "    <tr>\n",
       "      <th>1</th>\n",
       "      <td>None</td>\n",
       "      <td>Problemas impiden a 2 astronautas instalar pan...</td>\n",
       "      <td>Las mejoras en la Estación Espacial Internacio...</td>\n",
       "      <td>https://cnnespanol.cnn.com/video/espacio-estac...</td>\n",
       "      <td>https://cnnespanol.cnn.com/wp-content/uploads/...</td>\n",
       "      <td>2021-06-17T03:08:00Z</td>\n",
       "      <td>None</td>\n",
       "      <td>cnn</td>\n",
       "      <td>CNN</td>\n",
       "    </tr>\n",
       "    <tr>\n",
       "      <th>2</th>\n",
       "      <td>None</td>\n",
       "      <td>47%, la decepcionante eficacia de la vacuna Cu...</td>\n",
       "      <td>Desde cualquier medio, periodismo en libertad</td>\n",
       "      <td>https://aristeguinoticias.com/1606/mundo/47-la...</td>\n",
       "      <td>https://aristeguinoticias.com/editorial/wp-con...</td>\n",
       "      <td>2021-06-17T03:03:16Z</td>\n",
       "      <td>None</td>\n",
       "      <td>None</td>\n",
       "      <td>Aristeguinoticias.com</td>\n",
       "    </tr>\n",
       "    <tr>\n",
       "      <th>3</th>\n",
       "      <td>None</td>\n",
       "      <td>Asocian funeral con brote de posible nueva cep...</td>\n",
       "      <td>De los 34 casos en estudio 22 han sido confirm...</td>\n",
       "      <td>https://www.eluniversal.com.mx/estados/asocian...</td>\n",
       "      <td>https://www.eluniversal.com.mx/sites/default/f...</td>\n",
       "      <td>2021-06-17T02:30:11Z</td>\n",
       "      <td>Hermosillo.- La Secretaría de Salud en Sonora ...</td>\n",
       "      <td>None</td>\n",
       "      <td>El Universal</td>\n",
       "    </tr>\n",
       "    <tr>\n",
       "      <th>4</th>\n",
       "      <td>anónimo</td>\n",
       "      <td>Un estudio preliminar desarrolla un catálogo d...</td>\n",
       "      <td>Una revisión sistemática tiene como objetivo i...</td>\n",
       "      <td>https://www.infobae.com/america/tendencias-ame...</td>\n",
       "      <td>https://www.infobae.com/new-resizer/plCcZ4LzZ3...</td>\n",
       "      <td>2021-06-17T00:48:17Z</td>\n",
       "      <td>Ocho de cada 10 pacientes con COVID-19 present...</td>\n",
       "      <td>infobae</td>\n",
       "      <td>Infobae</td>\n",
       "    </tr>\n",
       "  </tbody>\n",
       "</table>\n",
       "</div>"
      ],
      "text/plain": [
       "               author                                              title  \\\n",
       "0  Macarena Vidal Liy  China lanza con éxito una misión tripulada a s...   \n",
       "1                None  Problemas impiden a 2 astronautas instalar pan...   \n",
       "2                None  47%, la decepcionante eficacia de la vacuna Cu...   \n",
       "3                None  Asocian funeral con brote de posible nueva cep...   \n",
       "4             anónimo  Un estudio preliminar desarrolla un catálogo d...   \n",
       "\n",
       "                                         description  \\\n",
       "0  Los tres integrantes de la misión tienen previ...   \n",
       "1  Las mejoras en la Estación Espacial Internacio...   \n",
       "2      Desde cualquier medio, periodismo en libertad   \n",
       "3  De los 34 casos en estudio 22 han sido confirm...   \n",
       "4  Una revisión sistemática tiene como objetivo i...   \n",
       "\n",
       "                                                 url  \\\n",
       "0  https://elpais.com/ciencia/2021-06-17/china-la...   \n",
       "1  https://cnnespanol.cnn.com/video/espacio-estac...   \n",
       "2  https://aristeguinoticias.com/1606/mundo/47-la...   \n",
       "3  https://www.eluniversal.com.mx/estados/asocian...   \n",
       "4  https://www.infobae.com/america/tendencias-ame...   \n",
       "\n",
       "                                          urlToImage           publishedAt  \\\n",
       "0  https://imagenes.elpais.com/resizer/hluvvceQPJ...  2021-06-17T06:34:00Z   \n",
       "1  https://cnnespanol.cnn.com/wp-content/uploads/...  2021-06-17T03:08:00Z   \n",
       "2  https://aristeguinoticias.com/editorial/wp-con...  2021-06-17T03:03:16Z   \n",
       "3  https://www.eluniversal.com.mx/sites/default/f...  2021-06-17T02:30:11Z   \n",
       "4  https://www.infobae.com/new-resizer/plCcZ4LzZ3...  2021-06-17T00:48:17Z   \n",
       "\n",
       "                                             content source.id  \\\n",
       "0  China ha lanzado con éxito este jueves una mis...      None   \n",
       "1                                               None       cnn   \n",
       "2                                               None      None   \n",
       "3  Hermosillo.- La Secretaría de Salud en Sonora ...      None   \n",
       "4  Ocho de cada 10 pacientes con COVID-19 present...   infobae   \n",
       "\n",
       "             source.name  \n",
       "0                EL PAÍS  \n",
       "1                    CNN  \n",
       "2  Aristeguinoticias.com  \n",
       "3           El Universal  \n",
       "4                Infobae  "
      ]
     },
     "execution_count": 224,
     "metadata": {},
     "output_type": "execute_result"
    }
   ],
   "source": [
    "df.head()"
   ]
  },
  {
   "cell_type": "code",
   "execution_count": 192,
   "metadata": {},
   "outputs": [
    {
     "data": {
      "text/plain": [
       "{'id': None, 'name': 'EL PAÍS'}"
      ]
     },
     "execution_count": 192,
     "metadata": {},
     "output_type": "execute_result"
    }
   ],
   "source": [
    "df.source.iloc[0]"
   ]
  },
  {
   "cell_type": "code",
   "execution_count": 193,
   "metadata": {},
   "outputs": [
    {
     "data": {
      "text/plain": [
       "dict"
      ]
     },
     "execution_count": 193,
     "metadata": {},
     "output_type": "execute_result"
    }
   ],
   "source": [
    "type(df.source.iloc[0])"
   ]
  },
  {
   "cell_type": "code",
   "execution_count": 194,
   "metadata": {},
   "outputs": [
    {
     "data": {
      "text/plain": [
       "'EL PAÍS'"
      ]
     },
     "execution_count": 194,
     "metadata": {},
     "output_type": "execute_result"
    }
   ],
   "source": [
    "df.source.iloc[0].get(\"name\")"
   ]
  },
  {
   "cell_type": "code",
   "execution_count": 195,
   "metadata": {},
   "outputs": [],
   "source": [
    "def extrae_nombre(dictionary):\n",
    "    # devuelve el value de la key name del dict\n",
    "    return dictionary.get(\"name\")"
   ]
  },
  {
   "cell_type": "code",
   "execution_count": 196,
   "metadata": {},
   "outputs": [
    {
     "data": {
      "text/plain": [
       "'Elconfidencial.com'"
      ]
     },
     "execution_count": 196,
     "metadata": {},
     "output_type": "execute_result"
    }
   ],
   "source": [
    "extrae_nombre({'id': None, 'name': 'Elconfidencial.com'})"
   ]
  },
  {
   "cell_type": "code",
   "execution_count": 197,
   "metadata": {},
   "outputs": [
    {
     "data": {
      "text/plain": [
       "'EL PAÍS'"
      ]
     },
     "execution_count": 197,
     "metadata": {},
     "output_type": "execute_result"
    }
   ],
   "source": [
    "extrae_nombre(df.source.iloc[0])"
   ]
  },
  {
   "cell_type": "code",
   "execution_count": 198,
   "metadata": {},
   "outputs": [],
   "source": [
    "df[\"name\"] = df.source.apply(extrae_nombre)"
   ]
  },
  {
   "cell_type": "code",
   "execution_count": 199,
   "metadata": {},
   "outputs": [],
   "source": [
    "# equiv \n",
    "df[\"name\"] = df.source.apply(lambda d: d.get(\"name\"))"
   ]
  },
  {
   "cell_type": "code",
   "execution_count": 200,
   "metadata": {},
   "outputs": [
    {
     "data": {
      "text/html": [
       "<div>\n",
       "<style scoped>\n",
       "    .dataframe tbody tr th:only-of-type {\n",
       "        vertical-align: middle;\n",
       "    }\n",
       "\n",
       "    .dataframe tbody tr th {\n",
       "        vertical-align: top;\n",
       "    }\n",
       "\n",
       "    .dataframe thead th {\n",
       "        text-align: right;\n",
       "    }\n",
       "</style>\n",
       "<table border=\"1\" class=\"dataframe\">\n",
       "  <thead>\n",
       "    <tr style=\"text-align: right;\">\n",
       "      <th></th>\n",
       "      <th>source</th>\n",
       "      <th>author</th>\n",
       "      <th>title</th>\n",
       "      <th>description</th>\n",
       "      <th>url</th>\n",
       "      <th>urlToImage</th>\n",
       "      <th>publishedAt</th>\n",
       "      <th>content</th>\n",
       "      <th>name</th>\n",
       "    </tr>\n",
       "  </thead>\n",
       "  <tbody>\n",
       "    <tr>\n",
       "      <th>0</th>\n",
       "      <td>{'id': None, 'name': 'EL PAÍS'}</td>\n",
       "      <td>Macarena Vidal Liy</td>\n",
       "      <td>China lanza con éxito una misión tripulada a s...</td>\n",
       "      <td>Los tres integrantes de la misión tienen previ...</td>\n",
       "      <td>https://elpais.com/ciencia/2021-06-17/china-la...</td>\n",
       "      <td>https://imagenes.elpais.com/resizer/hluvvceQPJ...</td>\n",
       "      <td>2021-06-17T06:34:00Z</td>\n",
       "      <td>China ha lanzado con éxito este jueves una mis...</td>\n",
       "      <td>EL PAÍS</td>\n",
       "    </tr>\n",
       "    <tr>\n",
       "      <th>1</th>\n",
       "      <td>{'id': 'cnn', 'name': 'CNN'}</td>\n",
       "      <td>None</td>\n",
       "      <td>Problemas impiden a 2 astronautas instalar pan...</td>\n",
       "      <td>Las mejoras en la Estación Espacial Internacio...</td>\n",
       "      <td>https://cnnespanol.cnn.com/video/espacio-estac...</td>\n",
       "      <td>https://cnnespanol.cnn.com/wp-content/uploads/...</td>\n",
       "      <td>2021-06-17T03:08:00Z</td>\n",
       "      <td>None</td>\n",
       "      <td>CNN</td>\n",
       "    </tr>\n",
       "    <tr>\n",
       "      <th>2</th>\n",
       "      <td>{'id': None, 'name': 'Aristeguinoticias.com'}</td>\n",
       "      <td>None</td>\n",
       "      <td>47%, la decepcionante eficacia de la vacuna Cu...</td>\n",
       "      <td>Desde cualquier medio, periodismo en libertad</td>\n",
       "      <td>https://aristeguinoticias.com/1606/mundo/47-la...</td>\n",
       "      <td>https://aristeguinoticias.com/editorial/wp-con...</td>\n",
       "      <td>2021-06-17T03:03:16Z</td>\n",
       "      <td>None</td>\n",
       "      <td>Aristeguinoticias.com</td>\n",
       "    </tr>\n",
       "    <tr>\n",
       "      <th>3</th>\n",
       "      <td>{'id': None, 'name': 'El Universal'}</td>\n",
       "      <td>None</td>\n",
       "      <td>Asocian funeral con brote de posible nueva cep...</td>\n",
       "      <td>De los 34 casos en estudio 22 han sido confirm...</td>\n",
       "      <td>https://www.eluniversal.com.mx/estados/asocian...</td>\n",
       "      <td>https://www.eluniversal.com.mx/sites/default/f...</td>\n",
       "      <td>2021-06-17T02:30:11Z</td>\n",
       "      <td>Hermosillo.- La Secretaría de Salud en Sonora ...</td>\n",
       "      <td>El Universal</td>\n",
       "    </tr>\n",
       "    <tr>\n",
       "      <th>4</th>\n",
       "      <td>{'id': 'infobae', 'name': 'Infobae'}</td>\n",
       "      <td>anónimo</td>\n",
       "      <td>Un estudio preliminar desarrolla un catálogo d...</td>\n",
       "      <td>Una revisión sistemática tiene como objetivo i...</td>\n",
       "      <td>https://www.infobae.com/america/tendencias-ame...</td>\n",
       "      <td>https://www.infobae.com/new-resizer/plCcZ4LzZ3...</td>\n",
       "      <td>2021-06-17T00:48:17Z</td>\n",
       "      <td>Ocho de cada 10 pacientes con COVID-19 present...</td>\n",
       "      <td>Infobae</td>\n",
       "    </tr>\n",
       "  </tbody>\n",
       "</table>\n",
       "</div>"
      ],
      "text/plain": [
       "                                          source              author  \\\n",
       "0                {'id': None, 'name': 'EL PAÍS'}  Macarena Vidal Liy   \n",
       "1                   {'id': 'cnn', 'name': 'CNN'}                None   \n",
       "2  {'id': None, 'name': 'Aristeguinoticias.com'}                None   \n",
       "3           {'id': None, 'name': 'El Universal'}                None   \n",
       "4           {'id': 'infobae', 'name': 'Infobae'}             anónimo   \n",
       "\n",
       "                                               title  \\\n",
       "0  China lanza con éxito una misión tripulada a s...   \n",
       "1  Problemas impiden a 2 astronautas instalar pan...   \n",
       "2  47%, la decepcionante eficacia de la vacuna Cu...   \n",
       "3  Asocian funeral con brote de posible nueva cep...   \n",
       "4  Un estudio preliminar desarrolla un catálogo d...   \n",
       "\n",
       "                                         description  \\\n",
       "0  Los tres integrantes de la misión tienen previ...   \n",
       "1  Las mejoras en la Estación Espacial Internacio...   \n",
       "2      Desde cualquier medio, periodismo en libertad   \n",
       "3  De los 34 casos en estudio 22 han sido confirm...   \n",
       "4  Una revisión sistemática tiene como objetivo i...   \n",
       "\n",
       "                                                 url  \\\n",
       "0  https://elpais.com/ciencia/2021-06-17/china-la...   \n",
       "1  https://cnnespanol.cnn.com/video/espacio-estac...   \n",
       "2  https://aristeguinoticias.com/1606/mundo/47-la...   \n",
       "3  https://www.eluniversal.com.mx/estados/asocian...   \n",
       "4  https://www.infobae.com/america/tendencias-ame...   \n",
       "\n",
       "                                          urlToImage           publishedAt  \\\n",
       "0  https://imagenes.elpais.com/resizer/hluvvceQPJ...  2021-06-17T06:34:00Z   \n",
       "1  https://cnnespanol.cnn.com/wp-content/uploads/...  2021-06-17T03:08:00Z   \n",
       "2  https://aristeguinoticias.com/editorial/wp-con...  2021-06-17T03:03:16Z   \n",
       "3  https://www.eluniversal.com.mx/sites/default/f...  2021-06-17T02:30:11Z   \n",
       "4  https://www.infobae.com/new-resizer/plCcZ4LzZ3...  2021-06-17T00:48:17Z   \n",
       "\n",
       "                                             content                   name  \n",
       "0  China ha lanzado con éxito este jueves una mis...                EL PAÍS  \n",
       "1                                               None                    CNN  \n",
       "2                                               None  Aristeguinoticias.com  \n",
       "3  Hermosillo.- La Secretaría de Salud en Sonora ...           El Universal  \n",
       "4  Ocho de cada 10 pacientes con COVID-19 present...                Infobae  "
      ]
     },
     "execution_count": 200,
     "metadata": {},
     "output_type": "execute_result"
    }
   ],
   "source": [
    "df.head()"
   ]
  },
  {
   "cell_type": "code",
   "execution_count": 204,
   "metadata": {},
   "outputs": [
    {
     "data": {
      "text/plain": [
       "(20, 9)"
      ]
     },
     "execution_count": 204,
     "metadata": {},
     "output_type": "execute_result"
    }
   ],
   "source": [
    "df.shape"
   ]
  },
  {
   "cell_type": "code",
   "execution_count": 207,
   "metadata": {},
   "outputs": [
    {
     "ename": "AttributeError",
     "evalue": "'str' object has no attribute 'values'",
     "output_type": "error",
     "traceback": [
      "\u001b[0;31m---------------------------------------------------------------------------\u001b[0m",
      "\u001b[0;31mAttributeError\u001b[0m                            Traceback (most recent call last)",
      "\u001b[0;32m<ipython-input-207-63c000b6eb13>\u001b[0m in \u001b[0;36m<module>\u001b[0;34m\u001b[0m\n\u001b[0;32m----> 1\u001b[0;31m \u001b[0mpd\u001b[0m\u001b[0;34m.\u001b[0m\u001b[0mjson_normalize\u001b[0m\u001b[0;34m(\u001b[0m\u001b[0mdf\u001b[0m\u001b[0;34m,\u001b[0m \u001b[0merrors\u001b[0m\u001b[0;34m=\u001b[0m\u001b[0;34m\"ignore\"\u001b[0m\u001b[0;34m)\u001b[0m\u001b[0;34m\u001b[0m\u001b[0;34m\u001b[0m\u001b[0m\n\u001b[0m",
      "\u001b[0;32m~/miniconda3/envs/ironhack/lib/python3.8/site-packages/pandas/io/json/_normalize.py\u001b[0m in \u001b[0;36m_json_normalize\u001b[0;34m(data, record_path, meta, meta_prefix, record_prefix, errors, sep, max_level)\u001b[0m\n\u001b[1;32m    268\u001b[0m \u001b[0;34m\u001b[0m\u001b[0m\n\u001b[1;32m    269\u001b[0m     \u001b[0;32mif\u001b[0m \u001b[0mrecord_path\u001b[0m \u001b[0;32mis\u001b[0m \u001b[0;32mNone\u001b[0m\u001b[0;34m:\u001b[0m\u001b[0;34m\u001b[0m\u001b[0;34m\u001b[0m\u001b[0m\n\u001b[0;32m--> 270\u001b[0;31m         \u001b[0;32mif\u001b[0m \u001b[0many\u001b[0m\u001b[0;34m(\u001b[0m\u001b[0;34m[\u001b[0m\u001b[0misinstance\u001b[0m\u001b[0;34m(\u001b[0m\u001b[0mx\u001b[0m\u001b[0;34m,\u001b[0m \u001b[0mdict\u001b[0m\u001b[0;34m)\u001b[0m \u001b[0;32mfor\u001b[0m \u001b[0mx\u001b[0m \u001b[0;32min\u001b[0m \u001b[0my\u001b[0m\u001b[0;34m.\u001b[0m\u001b[0mvalues\u001b[0m\u001b[0;34m(\u001b[0m\u001b[0;34m)\u001b[0m\u001b[0;34m]\u001b[0m \u001b[0;32mfor\u001b[0m \u001b[0my\u001b[0m \u001b[0;32min\u001b[0m \u001b[0mdata\u001b[0m\u001b[0;34m)\u001b[0m\u001b[0;34m:\u001b[0m\u001b[0;34m\u001b[0m\u001b[0;34m\u001b[0m\u001b[0m\n\u001b[0m\u001b[1;32m    271\u001b[0m             \u001b[0;31m# naive normalization, this is idempotent for flat records\u001b[0m\u001b[0;34m\u001b[0m\u001b[0;34m\u001b[0m\u001b[0;34m\u001b[0m\u001b[0m\n\u001b[1;32m    272\u001b[0m             \u001b[0;31m# and potentially will inflate the data considerably for\u001b[0m\u001b[0;34m\u001b[0m\u001b[0;34m\u001b[0m\u001b[0;34m\u001b[0m\u001b[0m\n",
      "\u001b[0;32m~/miniconda3/envs/ironhack/lib/python3.8/site-packages/pandas/io/json/_normalize.py\u001b[0m in \u001b[0;36m<genexpr>\u001b[0;34m(.0)\u001b[0m\n\u001b[1;32m    268\u001b[0m \u001b[0;34m\u001b[0m\u001b[0m\n\u001b[1;32m    269\u001b[0m     \u001b[0;32mif\u001b[0m \u001b[0mrecord_path\u001b[0m \u001b[0;32mis\u001b[0m \u001b[0;32mNone\u001b[0m\u001b[0;34m:\u001b[0m\u001b[0;34m\u001b[0m\u001b[0;34m\u001b[0m\u001b[0m\n\u001b[0;32m--> 270\u001b[0;31m         \u001b[0;32mif\u001b[0m \u001b[0many\u001b[0m\u001b[0;34m(\u001b[0m\u001b[0;34m[\u001b[0m\u001b[0misinstance\u001b[0m\u001b[0;34m(\u001b[0m\u001b[0mx\u001b[0m\u001b[0;34m,\u001b[0m \u001b[0mdict\u001b[0m\u001b[0;34m)\u001b[0m \u001b[0;32mfor\u001b[0m \u001b[0mx\u001b[0m \u001b[0;32min\u001b[0m \u001b[0my\u001b[0m\u001b[0;34m.\u001b[0m\u001b[0mvalues\u001b[0m\u001b[0;34m(\u001b[0m\u001b[0;34m)\u001b[0m\u001b[0;34m]\u001b[0m \u001b[0;32mfor\u001b[0m \u001b[0my\u001b[0m \u001b[0;32min\u001b[0m \u001b[0mdata\u001b[0m\u001b[0;34m)\u001b[0m\u001b[0;34m:\u001b[0m\u001b[0;34m\u001b[0m\u001b[0;34m\u001b[0m\u001b[0m\n\u001b[0m\u001b[1;32m    271\u001b[0m             \u001b[0;31m# naive normalization, this is idempotent for flat records\u001b[0m\u001b[0;34m\u001b[0m\u001b[0;34m\u001b[0m\u001b[0;34m\u001b[0m\u001b[0m\n\u001b[1;32m    272\u001b[0m             \u001b[0;31m# and potentially will inflate the data considerably for\u001b[0m\u001b[0;34m\u001b[0m\u001b[0;34m\u001b[0m\u001b[0;34m\u001b[0m\u001b[0m\n",
      "\u001b[0;31mAttributeError\u001b[0m: 'str' object has no attribute 'values'"
     ]
    }
   ],
   "source": [
    "pd.json_normalize(df, errors=\"ignore\")"
   ]
  },
  {
   "cell_type": "code",
   "execution_count": 201,
   "metadata": {},
   "outputs": [
    {
     "data": {
      "text/plain": [
       "Infobae                  4\n",
       "EL PAÍS                  2\n",
       "CNN                      2\n",
       "El Universal             2\n",
       "RT                       1\n",
       "Google News              1\n",
       "Unotv.com                1\n",
       "Latamisrael.com          1\n",
       "Levante-emv.com          1\n",
       "Pijamasurf.com           1\n",
       "Elconfidencial.com       1\n",
       "esquire.com              1\n",
       "Televisa.com             1\n",
       "Aristeguinoticias.com    1\n",
       "Name: name, dtype: int64"
      ]
     },
     "execution_count": 201,
     "metadata": {},
     "output_type": "execute_result"
    }
   ],
   "source": [
    "df.name.value_counts()"
   ]
  },
  {
   "cell_type": "code",
   "execution_count": 202,
   "metadata": {},
   "outputs": [
    {
     "data": {
      "text/plain": [
       "anónimo                    4\n",
       "Enrique Zamorano           1\n",
       "RT en Español              1\n",
       "José Robles                1\n",
       "Redazione                  1\n",
       "Macarena Vidal Liy         1\n",
       "Sergio Hidalgo             1\n",
       "Pablo G. Pérez González    1\n",
       "Name: author, dtype: int64"
      ]
     },
     "execution_count": 202,
     "metadata": {},
     "output_type": "execute_result"
    }
   ],
   "source": [
    "df.author.value_counts()"
   ]
  },
  {
   "cell_type": "markdown",
   "metadata": {},
   "source": [
    "## Summary"
   ]
  },
  {
   "cell_type": "markdown",
   "metadata": {},
   "source": [
    "* DNS: domain name system.\n",
    "* HTTP: is the protocol used to transfer data over the web.\n",
    "* API: application programming interface.\n",
    "* REST: series of rules, architectural style."
   ]
  },
  {
   "cell_type": "markdown",
   "metadata": {},
   "source": [
    "* `requests`: Python library for interacting with APIs.\n",
    "* URL: server name you want to ask information for.\n",
    "* endpoint: server service you want to ask information for.\n",
    "* parameters: extra parameters to your query.\n",
    "* headers: metadata, invisible information."
   ]
  },
  {
   "cell_type": "markdown",
   "metadata": {},
   "source": [
    "## Further materials"
   ]
  },
  {
   "cell_type": "markdown",
   "metadata": {},
   "source": [
    "[5 Simple-To-Use APIs for Beginners](https://dev.to/alanconstantino/5-simple-to-use-apis-for-beginners-2e0n)"
   ]
  },
  {
   "cell_type": "markdown",
   "metadata": {},
   "source": [
    "[RapidAPI](https://rapidapi.com/category/Sports): access thousands of APIs!!"
   ]
  },
  {
   "cell_type": "markdown",
   "metadata": {},
   "source": [
    "- [muchasapis](https://github.com/public-apis/public-apis)"
   ]
  }
 ],
 "metadata": {
  "kernelspec": {
   "display_name": "Python 3",
   "language": "python",
   "name": "python3"
  },
  "language_info": {
   "codemirror_mode": {
    "name": "ipython",
    "version": 3
   },
   "file_extension": ".py",
   "mimetype": "text/x-python",
   "name": "python",
   "nbconvert_exporter": "python",
   "pygments_lexer": "ipython3",
   "version": "3.8.5"
  },
  "toc": {
   "base_numbering": 1,
   "nav_menu": {},
   "number_sections": true,
   "sideBar": true,
   "skip_h1_title": true,
   "title_cell": "Table of Contents",
   "title_sidebar": "Contents",
   "toc_cell": true,
   "toc_position": {
    "height": "calc(100% - 180px)",
    "left": "10px",
    "top": "150px",
    "width": "248.892px"
   },
   "toc_section_display": true,
   "toc_window_display": true
  },
  "varInspector": {
   "cols": {
    "lenName": 16,
    "lenType": 16,
    "lenVar": 40
   },
   "kernels_config": {
    "python": {
     "delete_cmd_postfix": "",
     "delete_cmd_prefix": "del ",
     "library": "var_list.py",
     "varRefreshCmd": "print(var_dic_list())"
    },
    "r": {
     "delete_cmd_postfix": ") ",
     "delete_cmd_prefix": "rm(",
     "library": "var_list.r",
     "varRefreshCmd": "cat(var_dic_list()) "
    }
   },
   "types_to_exclude": [
    "module",
    "function",
    "builtin_function_or_method",
    "instance",
    "_Feature"
   ],
   "window_display": false
  }
 },
 "nbformat": 4,
 "nbformat_minor": 4
}
