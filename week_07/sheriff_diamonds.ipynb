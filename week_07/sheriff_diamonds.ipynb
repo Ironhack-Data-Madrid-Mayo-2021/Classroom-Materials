{
 "cells": [
  {
   "cell_type": "code",
   "execution_count": 2,
   "metadata": {},
   "outputs": [],
   "source": [
    "import pandas as pd"
   ]
  },
  {
   "cell_type": "markdown",
   "metadata": {},
   "source": [
    "## Import train"
   ]
  },
  {
   "cell_type": "code",
   "execution_count": 12,
   "metadata": {},
   "outputs": [],
   "source": [
    "df = pd.read_csv(\"./diamonds/train.csv\", index_col=0)"
   ]
  },
  {
   "cell_type": "code",
   "execution_count": 13,
   "metadata": {},
   "outputs": [
    {
     "data": {
      "text/plain": [
       "(40455, 10)"
      ]
     },
     "execution_count": 13,
     "metadata": {},
     "output_type": "execute_result"
    }
   ],
   "source": [
    "df.shape"
   ]
  },
  {
   "cell_type": "code",
   "execution_count": 14,
   "metadata": {},
   "outputs": [
    {
     "data": {
      "text/html": [
       "<div>\n",
       "<style scoped>\n",
       "    .dataframe tbody tr th:only-of-type {\n",
       "        vertical-align: middle;\n",
       "    }\n",
       "\n",
       "    .dataframe tbody tr th {\n",
       "        vertical-align: top;\n",
       "    }\n",
       "\n",
       "    .dataframe thead th {\n",
       "        text-align: right;\n",
       "    }\n",
       "</style>\n",
       "<table border=\"1\" class=\"dataframe\">\n",
       "  <thead>\n",
       "    <tr style=\"text-align: right;\">\n",
       "      <th></th>\n",
       "      <th>carat</th>\n",
       "      <th>cut</th>\n",
       "      <th>color</th>\n",
       "      <th>clarity</th>\n",
       "      <th>depth</th>\n",
       "      <th>table</th>\n",
       "      <th>x</th>\n",
       "      <th>y</th>\n",
       "      <th>z</th>\n",
       "      <th>price</th>\n",
       "    </tr>\n",
       "    <tr>\n",
       "      <th>id</th>\n",
       "      <th></th>\n",
       "      <th></th>\n",
       "      <th></th>\n",
       "      <th></th>\n",
       "      <th></th>\n",
       "      <th></th>\n",
       "      <th></th>\n",
       "      <th></th>\n",
       "      <th></th>\n",
       "      <th></th>\n",
       "    </tr>\n",
       "  </thead>\n",
       "  <tbody>\n",
       "    <tr>\n",
       "      <th>0</th>\n",
       "      <td>0.30</td>\n",
       "      <td>Ideal</td>\n",
       "      <td>F</td>\n",
       "      <td>SI1</td>\n",
       "      <td>61.4</td>\n",
       "      <td>55.0</td>\n",
       "      <td>4.31</td>\n",
       "      <td>4.34</td>\n",
       "      <td>2.65</td>\n",
       "      <td>630.99</td>\n",
       "    </tr>\n",
       "    <tr>\n",
       "      <th>1</th>\n",
       "      <td>0.41</td>\n",
       "      <td>Ideal</td>\n",
       "      <td>G</td>\n",
       "      <td>SI1</td>\n",
       "      <td>61.6</td>\n",
       "      <td>57.0</td>\n",
       "      <td>4.77</td>\n",
       "      <td>4.81</td>\n",
       "      <td>2.95</td>\n",
       "      <td>701.21</td>\n",
       "    </tr>\n",
       "    <tr>\n",
       "      <th>2</th>\n",
       "      <td>0.30</td>\n",
       "      <td>Very Good</td>\n",
       "      <td>H</td>\n",
       "      <td>SI1</td>\n",
       "      <td>62.2</td>\n",
       "      <td>60.0</td>\n",
       "      <td>4.24</td>\n",
       "      <td>4.28</td>\n",
       "      <td>2.65</td>\n",
       "      <td>604.26</td>\n",
       "    </tr>\n",
       "    <tr>\n",
       "      <th>3</th>\n",
       "      <td>1.04</td>\n",
       "      <td>Premium</td>\n",
       "      <td>F</td>\n",
       "      <td>VVS2</td>\n",
       "      <td>62.5</td>\n",
       "      <td>58.0</td>\n",
       "      <td>6.46</td>\n",
       "      <td>6.37</td>\n",
       "      <td>4.01</td>\n",
       "      <td>909.90</td>\n",
       "    </tr>\n",
       "    <tr>\n",
       "      <th>4</th>\n",
       "      <td>0.84</td>\n",
       "      <td>Fair</td>\n",
       "      <td>G</td>\n",
       "      <td>VS1</td>\n",
       "      <td>55.6</td>\n",
       "      <td>64.0</td>\n",
       "      <td>6.42</td>\n",
       "      <td>6.32</td>\n",
       "      <td>3.54</td>\n",
       "      <td>790.99</td>\n",
       "    </tr>\n",
       "  </tbody>\n",
       "</table>\n",
       "</div>"
      ],
      "text/plain": [
       "    carat        cut color clarity  depth  table     x     y     z   price\n",
       "id                                                                        \n",
       "0    0.30      Ideal     F     SI1   61.4   55.0  4.31  4.34  2.65  630.99\n",
       "1    0.41      Ideal     G     SI1   61.6   57.0  4.77  4.81  2.95  701.21\n",
       "2    0.30  Very Good     H     SI1   62.2   60.0  4.24  4.28  2.65  604.26\n",
       "3    1.04    Premium     F    VVS2   62.5   58.0  6.46  6.37  4.01  909.90\n",
       "4    0.84       Fair     G     VS1   55.6   64.0  6.42  6.32  3.54  790.99"
      ]
     },
     "execution_count": 14,
     "metadata": {},
     "output_type": "execute_result"
    }
   ],
   "source": [
    "df.head()"
   ]
  },
  {
   "cell_type": "code",
   "execution_count": 15,
   "metadata": {},
   "outputs": [],
   "source": [
    "df = pd.get_dummies(df)"
   ]
  },
  {
   "cell_type": "code",
   "execution_count": 16,
   "metadata": {},
   "outputs": [],
   "source": [
    "df[\"vol\"] = df.x * df.y * df.z"
   ]
  },
  {
   "cell_type": "code",
   "execution_count": 17,
   "metadata": {},
   "outputs": [],
   "source": [
    "df[\"surf\"] = df.x * df.y + df.z * df.y + df.x * df.z"
   ]
  },
  {
   "cell_type": "code",
   "execution_count": 18,
   "metadata": {},
   "outputs": [
    {
     "data": {
      "text/plain": [
       "(40455, 29)"
      ]
     },
     "execution_count": 18,
     "metadata": {},
     "output_type": "execute_result"
    }
   ],
   "source": [
    "df.shape"
   ]
  },
  {
   "cell_type": "markdown",
   "metadata": {},
   "source": [
    "## Build model"
   ]
  },
  {
   "cell_type": "code",
   "execution_count": 19,
   "metadata": {},
   "outputs": [],
   "source": [
    "from sklearn.ensemble import GradientBoostingRegressor"
   ]
  },
  {
   "cell_type": "code",
   "execution_count": 20,
   "metadata": {},
   "outputs": [],
   "source": [
    "from sklearn.model_selection import train_test_split"
   ]
  },
  {
   "cell_type": "code",
   "execution_count": 21,
   "metadata": {},
   "outputs": [],
   "source": [
    "from sklearn.metrics import mean_squared_error"
   ]
  },
  {
   "cell_type": "code",
   "execution_count": 22,
   "metadata": {},
   "outputs": [],
   "source": [
    "from sklearn.model_selection import GridSearchCV"
   ]
  },
  {
   "cell_type": "code",
   "execution_count": 86,
   "metadata": {},
   "outputs": [],
   "source": [
    "gs = GridSearchCV(\n",
    "    estimator=GradientBoostingRegressor(),\n",
    "    param_grid={\n",
    "        \"n_estimators\": [400],\n",
    "        \"max_depth\": [7, 9],\n",
    "        \"max_features\": [0.5, 0.6, 0.7],\n",
    "        \"min_samples_leaf\": [5, 10, 20]\n",
    "    }, \n",
    "    cv=3,\n",
    "    return_train_score=True,\n",
    "    n_jobs=-1, \n",
    "    verbose=3,\n",
    "    scoring=\"neg_mean_squared_error\"\n",
    ")"
   ]
  },
  {
   "cell_type": "code",
   "execution_count": 23,
   "metadata": {},
   "outputs": [],
   "source": [
    "X = dff.drop(\"price\", axis=1)\n",
    "y = dff.price"
   ]
  },
  {
   "cell_type": "code",
   "execution_count": 24,
   "metadata": {},
   "outputs": [],
   "source": [
    "X_train, X_test, y_train, y_test = train_test_split(X, y, test_size=0.1, random_state=666)"
   ]
  },
  {
   "cell_type": "code",
   "execution_count": 89,
   "metadata": {},
   "outputs": [
    {
     "name": "stdout",
     "output_type": "stream",
     "text": [
      "Fitting 3 folds for each of 18 candidates, totalling 54 fits\n"
     ]
    },
    {
     "name": "stderr",
     "output_type": "stream",
     "text": [
      "[Parallel(n_jobs=-1)]: Using backend LokyBackend with 12 concurrent workers.\n",
      "[Parallel(n_jobs=-1)]: Done   8 tasks      | elapsed:   35.7s\n",
      "[Parallel(n_jobs=-1)]: Done  50 out of  54 | elapsed:  3.4min remaining:   16.1s\n",
      "[Parallel(n_jobs=-1)]: Done  54 out of  54 | elapsed:  3.4min finished\n"
     ]
    },
    {
     "data": {
      "text/plain": [
       "GridSearchCV(cv=3, estimator=GradientBoostingRegressor(), n_jobs=-1,\n",
       "             param_grid={'max_depth': [7, 9], 'max_features': [0.5, 0.6, 0.7],\n",
       "                         'min_samples_leaf': [5, 10, 20],\n",
       "                         'n_estimators': [400]},\n",
       "             return_train_score=True, scoring='neg_mean_squared_error',\n",
       "             verbose=3)"
      ]
     },
     "execution_count": 89,
     "metadata": {},
     "output_type": "execute_result"
    }
   ],
   "source": [
    "gs.fit(X_train, y_train)"
   ]
  },
  {
   "cell_type": "code",
   "execution_count": 90,
   "metadata": {},
   "outputs": [
    {
     "data": {
      "text/plain": [
       "GradientBoostingRegressor(max_depth=7, max_features=0.5, min_samples_leaf=5,\n",
       "                          n_estimators=400)"
      ]
     },
     "execution_count": 90,
     "metadata": {},
     "output_type": "execute_result"
    }
   ],
   "source": [
    "gs.best_estimator_"
   ]
  },
  {
   "cell_type": "code",
   "execution_count": 25,
   "metadata": {},
   "outputs": [],
   "source": [
    "gbr = GradientBoostingRegressor(\n",
    "    max_depth=7, \n",
    "    max_features=0.5,\n",
    "    min_samples_leaf=5,\n",
    "    n_estimators=400\n",
    ")"
   ]
  },
  {
   "cell_type": "code",
   "execution_count": 26,
   "metadata": {},
   "outputs": [
    {
     "data": {
      "text/plain": [
       "GradientBoostingRegressor(max_depth=7, max_features=0.5, min_samples_leaf=5,\n",
       "                          n_estimators=400)"
      ]
     },
     "execution_count": 26,
     "metadata": {},
     "output_type": "execute_result"
    }
   ],
   "source": [
    "gbr.fit(X_train, y_train)"
   ]
  },
  {
   "cell_type": "code",
   "execution_count": 91,
   "metadata": {},
   "outputs": [],
   "source": [
    "results_df = pd.DataFrame(gs.cv_results_)"
   ]
  },
  {
   "cell_type": "code",
   "execution_count": 92,
   "metadata": {},
   "outputs": [
    {
     "data": {
      "text/html": [
       "<div>\n",
       "<style scoped>\n",
       "    .dataframe tbody tr th:only-of-type {\n",
       "        vertical-align: middle;\n",
       "    }\n",
       "\n",
       "    .dataframe tbody tr th {\n",
       "        vertical-align: top;\n",
       "    }\n",
       "\n",
       "    .dataframe thead th {\n",
       "        text-align: right;\n",
       "    }\n",
       "</style>\n",
       "<table border=\"1\" class=\"dataframe\">\n",
       "  <thead>\n",
       "    <tr style=\"text-align: right;\">\n",
       "      <th></th>\n",
       "      <th>mean_train_score</th>\n",
       "      <th>mean_test_score</th>\n",
       "      <th>param_max_depth</th>\n",
       "      <th>param_max_features</th>\n",
       "      <th>param_min_samples_leaf</th>\n",
       "      <th>param_n_estimators</th>\n",
       "      <th>params</th>\n",
       "    </tr>\n",
       "  </thead>\n",
       "  <tbody>\n",
       "    <tr>\n",
       "      <th>5</th>\n",
       "      <td>-51.742942</td>\n",
       "      <td>-81.193573</td>\n",
       "      <td>7</td>\n",
       "      <td>0.6</td>\n",
       "      <td>20</td>\n",
       "      <td>400</td>\n",
       "      <td>{'max_depth': 7, 'max_features': 0.6, 'min_sam...</td>\n",
       "    </tr>\n",
       "    <tr>\n",
       "      <th>11</th>\n",
       "      <td>-42.858918</td>\n",
       "      <td>-80.408943</td>\n",
       "      <td>9</td>\n",
       "      <td>0.5</td>\n",
       "      <td>20</td>\n",
       "      <td>400</td>\n",
       "      <td>{'max_depth': 9, 'max_features': 0.5, 'min_sam...</td>\n",
       "    </tr>\n",
       "    <tr>\n",
       "      <th>2</th>\n",
       "      <td>-52.287046</td>\n",
       "      <td>-80.386270</td>\n",
       "      <td>7</td>\n",
       "      <td>0.5</td>\n",
       "      <td>20</td>\n",
       "      <td>400</td>\n",
       "      <td>{'max_depth': 7, 'max_features': 0.5, 'min_sam...</td>\n",
       "    </tr>\n",
       "    <tr>\n",
       "      <th>8</th>\n",
       "      <td>-50.410720</td>\n",
       "      <td>-79.807887</td>\n",
       "      <td>7</td>\n",
       "      <td>0.7</td>\n",
       "      <td>20</td>\n",
       "      <td>400</td>\n",
       "      <td>{'max_depth': 7, 'max_features': 0.7, 'min_sam...</td>\n",
       "    </tr>\n",
       "    <tr>\n",
       "      <th>15</th>\n",
       "      <td>-21.066322</td>\n",
       "      <td>-79.784525</td>\n",
       "      <td>9</td>\n",
       "      <td>0.7</td>\n",
       "      <td>5</td>\n",
       "      <td>400</td>\n",
       "      <td>{'max_depth': 9, 'max_features': 0.7, 'min_sam...</td>\n",
       "    </tr>\n",
       "    <tr>\n",
       "      <th>14</th>\n",
       "      <td>-41.864273</td>\n",
       "      <td>-79.724754</td>\n",
       "      <td>9</td>\n",
       "      <td>0.6</td>\n",
       "      <td>20</td>\n",
       "      <td>400</td>\n",
       "      <td>{'max_depth': 9, 'max_features': 0.6, 'min_sam...</td>\n",
       "    </tr>\n",
       "    <tr>\n",
       "      <th>9</th>\n",
       "      <td>-22.040688</td>\n",
       "      <td>-79.700071</td>\n",
       "      <td>9</td>\n",
       "      <td>0.5</td>\n",
       "      <td>5</td>\n",
       "      <td>400</td>\n",
       "      <td>{'max_depth': 9, 'max_features': 0.5, 'min_sam...</td>\n",
       "    </tr>\n",
       "    <tr>\n",
       "      <th>10</th>\n",
       "      <td>-32.912062</td>\n",
       "      <td>-79.681634</td>\n",
       "      <td>9</td>\n",
       "      <td>0.5</td>\n",
       "      <td>10</td>\n",
       "      <td>400</td>\n",
       "      <td>{'max_depth': 9, 'max_features': 0.5, 'min_sam...</td>\n",
       "    </tr>\n",
       "    <tr>\n",
       "      <th>7</th>\n",
       "      <td>-44.265546</td>\n",
       "      <td>-79.661054</td>\n",
       "      <td>7</td>\n",
       "      <td>0.7</td>\n",
       "      <td>10</td>\n",
       "      <td>400</td>\n",
       "      <td>{'max_depth': 7, 'max_features': 0.7, 'min_sam...</td>\n",
       "    </tr>\n",
       "    <tr>\n",
       "      <th>3</th>\n",
       "      <td>-37.937598</td>\n",
       "      <td>-79.647330</td>\n",
       "      <td>7</td>\n",
       "      <td>0.6</td>\n",
       "      <td>5</td>\n",
       "      <td>400</td>\n",
       "      <td>{'max_depth': 7, 'max_features': 0.6, 'min_sam...</td>\n",
       "    </tr>\n",
       "    <tr>\n",
       "      <th>1</th>\n",
       "      <td>-45.716228</td>\n",
       "      <td>-79.621166</td>\n",
       "      <td>7</td>\n",
       "      <td>0.5</td>\n",
       "      <td>10</td>\n",
       "      <td>400</td>\n",
       "      <td>{'max_depth': 7, 'max_features': 0.5, 'min_sam...</td>\n",
       "    </tr>\n",
       "    <tr>\n",
       "      <th>17</th>\n",
       "      <td>-41.561518</td>\n",
       "      <td>-79.570461</td>\n",
       "      <td>9</td>\n",
       "      <td>0.7</td>\n",
       "      <td>20</td>\n",
       "      <td>400</td>\n",
       "      <td>{'max_depth': 9, 'max_features': 0.7, 'min_sam...</td>\n",
       "    </tr>\n",
       "    <tr>\n",
       "      <th>12</th>\n",
       "      <td>-21.646367</td>\n",
       "      <td>-79.504555</td>\n",
       "      <td>9</td>\n",
       "      <td>0.6</td>\n",
       "      <td>5</td>\n",
       "      <td>400</td>\n",
       "      <td>{'max_depth': 9, 'max_features': 0.6, 'min_sam...</td>\n",
       "    </tr>\n",
       "    <tr>\n",
       "      <th>4</th>\n",
       "      <td>-44.736990</td>\n",
       "      <td>-79.188982</td>\n",
       "      <td>7</td>\n",
       "      <td>0.6</td>\n",
       "      <td>10</td>\n",
       "      <td>400</td>\n",
       "      <td>{'max_depth': 7, 'max_features': 0.6, 'min_sam...</td>\n",
       "    </tr>\n",
       "    <tr>\n",
       "      <th>6</th>\n",
       "      <td>-37.696385</td>\n",
       "      <td>-79.026289</td>\n",
       "      <td>7</td>\n",
       "      <td>0.7</td>\n",
       "      <td>5</td>\n",
       "      <td>400</td>\n",
       "      <td>{'max_depth': 7, 'max_features': 0.7, 'min_sam...</td>\n",
       "    </tr>\n",
       "    <tr>\n",
       "      <th>16</th>\n",
       "      <td>-31.409164</td>\n",
       "      <td>-79.018152</td>\n",
       "      <td>9</td>\n",
       "      <td>0.7</td>\n",
       "      <td>10</td>\n",
       "      <td>400</td>\n",
       "      <td>{'max_depth': 9, 'max_features': 0.7, 'min_sam...</td>\n",
       "    </tr>\n",
       "    <tr>\n",
       "      <th>13</th>\n",
       "      <td>-32.191551</td>\n",
       "      <td>-78.999451</td>\n",
       "      <td>9</td>\n",
       "      <td>0.6</td>\n",
       "      <td>10</td>\n",
       "      <td>400</td>\n",
       "      <td>{'max_depth': 9, 'max_features': 0.6, 'min_sam...</td>\n",
       "    </tr>\n",
       "    <tr>\n",
       "      <th>0</th>\n",
       "      <td>-38.875141</td>\n",
       "      <td>-78.613294</td>\n",
       "      <td>7</td>\n",
       "      <td>0.5</td>\n",
       "      <td>5</td>\n",
       "      <td>400</td>\n",
       "      <td>{'max_depth': 7, 'max_features': 0.5, 'min_sam...</td>\n",
       "    </tr>\n",
       "  </tbody>\n",
       "</table>\n",
       "</div>"
      ],
      "text/plain": [
       "    mean_train_score  mean_test_score param_max_depth param_max_features  \\\n",
       "5         -51.742942       -81.193573               7                0.6   \n",
       "11        -42.858918       -80.408943               9                0.5   \n",
       "2         -52.287046       -80.386270               7                0.5   \n",
       "8         -50.410720       -79.807887               7                0.7   \n",
       "15        -21.066322       -79.784525               9                0.7   \n",
       "14        -41.864273       -79.724754               9                0.6   \n",
       "9         -22.040688       -79.700071               9                0.5   \n",
       "10        -32.912062       -79.681634               9                0.5   \n",
       "7         -44.265546       -79.661054               7                0.7   \n",
       "3         -37.937598       -79.647330               7                0.6   \n",
       "1         -45.716228       -79.621166               7                0.5   \n",
       "17        -41.561518       -79.570461               9                0.7   \n",
       "12        -21.646367       -79.504555               9                0.6   \n",
       "4         -44.736990       -79.188982               7                0.6   \n",
       "6         -37.696385       -79.026289               7                0.7   \n",
       "16        -31.409164       -79.018152               9                0.7   \n",
       "13        -32.191551       -78.999451               9                0.6   \n",
       "0         -38.875141       -78.613294               7                0.5   \n",
       "\n",
       "   param_min_samples_leaf param_n_estimators  \\\n",
       "5                      20                400   \n",
       "11                     20                400   \n",
       "2                      20                400   \n",
       "8                      20                400   \n",
       "15                      5                400   \n",
       "14                     20                400   \n",
       "9                       5                400   \n",
       "10                     10                400   \n",
       "7                      10                400   \n",
       "3                       5                400   \n",
       "1                      10                400   \n",
       "17                     20                400   \n",
       "12                      5                400   \n",
       "4                      10                400   \n",
       "6                       5                400   \n",
       "16                     10                400   \n",
       "13                     10                400   \n",
       "0                       5                400   \n",
       "\n",
       "                                               params  \n",
       "5   {'max_depth': 7, 'max_features': 0.6, 'min_sam...  \n",
       "11  {'max_depth': 9, 'max_features': 0.5, 'min_sam...  \n",
       "2   {'max_depth': 7, 'max_features': 0.5, 'min_sam...  \n",
       "8   {'max_depth': 7, 'max_features': 0.7, 'min_sam...  \n",
       "15  {'max_depth': 9, 'max_features': 0.7, 'min_sam...  \n",
       "14  {'max_depth': 9, 'max_features': 0.6, 'min_sam...  \n",
       "9   {'max_depth': 9, 'max_features': 0.5, 'min_sam...  \n",
       "10  {'max_depth': 9, 'max_features': 0.5, 'min_sam...  \n",
       "7   {'max_depth': 7, 'max_features': 0.7, 'min_sam...  \n",
       "3   {'max_depth': 7, 'max_features': 0.6, 'min_sam...  \n",
       "1   {'max_depth': 7, 'max_features': 0.5, 'min_sam...  \n",
       "17  {'max_depth': 9, 'max_features': 0.7, 'min_sam...  \n",
       "12  {'max_depth': 9, 'max_features': 0.6, 'min_sam...  \n",
       "4   {'max_depth': 7, 'max_features': 0.6, 'min_sam...  \n",
       "6   {'max_depth': 7, 'max_features': 0.7, 'min_sam...  \n",
       "16  {'max_depth': 9, 'max_features': 0.7, 'min_sam...  \n",
       "13  {'max_depth': 9, 'max_features': 0.6, 'min_sam...  \n",
       "0   {'max_depth': 7, 'max_features': 0.5, 'min_sam...  "
      ]
     },
     "execution_count": 92,
     "metadata": {},
     "output_type": "execute_result"
    }
   ],
   "source": [
    "results_df[[\"mean_train_score\", \"mean_test_score\"] + [c for c in results_df.columns if \"param\" in c]].sort_values(\"mean_test_score\")"
   ]
  },
  {
   "cell_type": "code",
   "execution_count": 28,
   "metadata": {},
   "outputs": [
    {
     "data": {
      "text/plain": [
       "44.73980952840783"
      ]
     },
     "execution_count": 28,
     "metadata": {},
     "output_type": "execute_result"
    }
   ],
   "source": [
    "mean_squared_error(y_train, gbr.predict(X_train))"
   ]
  },
  {
   "cell_type": "code",
   "execution_count": 29,
   "metadata": {},
   "outputs": [
    {
     "data": {
      "text/plain": [
       "76.65663545482904"
      ]
     },
     "execution_count": 29,
     "metadata": {},
     "output_type": "execute_result"
    }
   ],
   "source": [
    "mean_squared_error(y_test, gbr.predict(X_test))"
   ]
  },
  {
   "cell_type": "markdown",
   "metadata": {},
   "source": [
    "## Predict test"
   ]
  },
  {
   "cell_type": "code",
   "execution_count": 12,
   "metadata": {},
   "outputs": [],
   "source": [
    "test = pd.read_csv(\"./diamonds/test.csv\", index_col=0)"
   ]
  },
  {
   "cell_type": "code",
   "execution_count": 13,
   "metadata": {},
   "outputs": [
    {
     "data": {
      "text/plain": [
       "(13485, 9)"
      ]
     },
     "execution_count": 13,
     "metadata": {},
     "output_type": "execute_result"
    }
   ],
   "source": [
    "test.shape"
   ]
  },
  {
   "cell_type": "code",
   "execution_count": 14,
   "metadata": {},
   "outputs": [
    {
     "data": {
      "text/html": [
       "<div>\n",
       "<style scoped>\n",
       "    .dataframe tbody tr th:only-of-type {\n",
       "        vertical-align: middle;\n",
       "    }\n",
       "\n",
       "    .dataframe tbody tr th {\n",
       "        vertical-align: top;\n",
       "    }\n",
       "\n",
       "    .dataframe thead th {\n",
       "        text-align: right;\n",
       "    }\n",
       "</style>\n",
       "<table border=\"1\" class=\"dataframe\">\n",
       "  <thead>\n",
       "    <tr style=\"text-align: right;\">\n",
       "      <th></th>\n",
       "      <th>carat</th>\n",
       "      <th>cut</th>\n",
       "      <th>color</th>\n",
       "      <th>clarity</th>\n",
       "      <th>depth</th>\n",
       "      <th>table</th>\n",
       "      <th>x</th>\n",
       "      <th>y</th>\n",
       "      <th>z</th>\n",
       "    </tr>\n",
       "    <tr>\n",
       "      <th>id</th>\n",
       "      <th></th>\n",
       "      <th></th>\n",
       "      <th></th>\n",
       "      <th></th>\n",
       "      <th></th>\n",
       "      <th></th>\n",
       "      <th></th>\n",
       "      <th></th>\n",
       "      <th></th>\n",
       "    </tr>\n",
       "  </thead>\n",
       "  <tbody>\n",
       "    <tr>\n",
       "      <th>0</th>\n",
       "      <td>0.70</td>\n",
       "      <td>Very Good</td>\n",
       "      <td>H</td>\n",
       "      <td>SI1</td>\n",
       "      <td>61.0</td>\n",
       "      <td>58.0</td>\n",
       "      <td>5.67</td>\n",
       "      <td>5.70</td>\n",
       "      <td>3.47</td>\n",
       "    </tr>\n",
       "    <tr>\n",
       "      <th>1</th>\n",
       "      <td>1.52</td>\n",
       "      <td>Ideal</td>\n",
       "      <td>H</td>\n",
       "      <td>VS2</td>\n",
       "      <td>61.8</td>\n",
       "      <td>54.0</td>\n",
       "      <td>7.42</td>\n",
       "      <td>7.43</td>\n",
       "      <td>4.59</td>\n",
       "    </tr>\n",
       "    <tr>\n",
       "      <th>2</th>\n",
       "      <td>1.03</td>\n",
       "      <td>Ideal</td>\n",
       "      <td>E</td>\n",
       "      <td>SI1</td>\n",
       "      <td>62.0</td>\n",
       "      <td>57.0</td>\n",
       "      <td>6.44</td>\n",
       "      <td>6.47</td>\n",
       "      <td>4.00</td>\n",
       "    </tr>\n",
       "    <tr>\n",
       "      <th>3</th>\n",
       "      <td>0.70</td>\n",
       "      <td>Very Good</td>\n",
       "      <td>G</td>\n",
       "      <td>VVS1</td>\n",
       "      <td>63.3</td>\n",
       "      <td>57.0</td>\n",
       "      <td>5.59</td>\n",
       "      <td>5.63</td>\n",
       "      <td>3.55</td>\n",
       "    </tr>\n",
       "    <tr>\n",
       "      <th>4</th>\n",
       "      <td>1.28</td>\n",
       "      <td>Ideal</td>\n",
       "      <td>H</td>\n",
       "      <td>SI1</td>\n",
       "      <td>62.4</td>\n",
       "      <td>56.0</td>\n",
       "      <td>6.93</td>\n",
       "      <td>6.91</td>\n",
       "      <td>4.32</td>\n",
       "    </tr>\n",
       "  </tbody>\n",
       "</table>\n",
       "</div>"
      ],
      "text/plain": [
       "    carat        cut color clarity  depth  table     x     y     z\n",
       "id                                                                \n",
       "0    0.70  Very Good     H     SI1   61.0   58.0  5.67  5.70  3.47\n",
       "1    1.52      Ideal     H     VS2   61.8   54.0  7.42  7.43  4.59\n",
       "2    1.03      Ideal     E     SI1   62.0   57.0  6.44  6.47  4.00\n",
       "3    0.70  Very Good     G    VVS1   63.3   57.0  5.59  5.63  3.55\n",
       "4    1.28      Ideal     H     SI1   62.4   56.0  6.93  6.91  4.32"
      ]
     },
     "execution_count": 14,
     "metadata": {},
     "output_type": "execute_result"
    }
   ],
   "source": [
    "test.head()"
   ]
  },
  {
   "cell_type": "code",
   "execution_count": 15,
   "metadata": {},
   "outputs": [],
   "source": [
    "test[\"price\"] = price_mean"
   ]
  },
  {
   "cell_type": "code",
   "execution_count": 16,
   "metadata": {},
   "outputs": [
    {
     "data": {
      "text/html": [
       "<div>\n",
       "<style scoped>\n",
       "    .dataframe tbody tr th:only-of-type {\n",
       "        vertical-align: middle;\n",
       "    }\n",
       "\n",
       "    .dataframe tbody tr th {\n",
       "        vertical-align: top;\n",
       "    }\n",
       "\n",
       "    .dataframe thead th {\n",
       "        text-align: right;\n",
       "    }\n",
       "</style>\n",
       "<table border=\"1\" class=\"dataframe\">\n",
       "  <thead>\n",
       "    <tr style=\"text-align: right;\">\n",
       "      <th></th>\n",
       "      <th>carat</th>\n",
       "      <th>cut</th>\n",
       "      <th>color</th>\n",
       "      <th>clarity</th>\n",
       "      <th>depth</th>\n",
       "      <th>table</th>\n",
       "      <th>x</th>\n",
       "      <th>y</th>\n",
       "      <th>z</th>\n",
       "      <th>price</th>\n",
       "    </tr>\n",
       "    <tr>\n",
       "      <th>id</th>\n",
       "      <th></th>\n",
       "      <th></th>\n",
       "      <th></th>\n",
       "      <th></th>\n",
       "      <th></th>\n",
       "      <th></th>\n",
       "      <th></th>\n",
       "      <th></th>\n",
       "      <th></th>\n",
       "      <th></th>\n",
       "    </tr>\n",
       "  </thead>\n",
       "  <tbody>\n",
       "    <tr>\n",
       "      <th>0</th>\n",
       "      <td>0.70</td>\n",
       "      <td>Very Good</td>\n",
       "      <td>H</td>\n",
       "      <td>SI1</td>\n",
       "      <td>61.0</td>\n",
       "      <td>58.0</td>\n",
       "      <td>5.67</td>\n",
       "      <td>5.70</td>\n",
       "      <td>3.47</td>\n",
       "      <td>778.527384</td>\n",
       "    </tr>\n",
       "    <tr>\n",
       "      <th>1</th>\n",
       "      <td>1.52</td>\n",
       "      <td>Ideal</td>\n",
       "      <td>H</td>\n",
       "      <td>VS2</td>\n",
       "      <td>61.8</td>\n",
       "      <td>54.0</td>\n",
       "      <td>7.42</td>\n",
       "      <td>7.43</td>\n",
       "      <td>4.59</td>\n",
       "      <td>778.527384</td>\n",
       "    </tr>\n",
       "    <tr>\n",
       "      <th>2</th>\n",
       "      <td>1.03</td>\n",
       "      <td>Ideal</td>\n",
       "      <td>E</td>\n",
       "      <td>SI1</td>\n",
       "      <td>62.0</td>\n",
       "      <td>57.0</td>\n",
       "      <td>6.44</td>\n",
       "      <td>6.47</td>\n",
       "      <td>4.00</td>\n",
       "      <td>778.527384</td>\n",
       "    </tr>\n",
       "    <tr>\n",
       "      <th>3</th>\n",
       "      <td>0.70</td>\n",
       "      <td>Very Good</td>\n",
       "      <td>G</td>\n",
       "      <td>VVS1</td>\n",
       "      <td>63.3</td>\n",
       "      <td>57.0</td>\n",
       "      <td>5.59</td>\n",
       "      <td>5.63</td>\n",
       "      <td>3.55</td>\n",
       "      <td>778.527384</td>\n",
       "    </tr>\n",
       "    <tr>\n",
       "      <th>4</th>\n",
       "      <td>1.28</td>\n",
       "      <td>Ideal</td>\n",
       "      <td>H</td>\n",
       "      <td>SI1</td>\n",
       "      <td>62.4</td>\n",
       "      <td>56.0</td>\n",
       "      <td>6.93</td>\n",
       "      <td>6.91</td>\n",
       "      <td>4.32</td>\n",
       "      <td>778.527384</td>\n",
       "    </tr>\n",
       "  </tbody>\n",
       "</table>\n",
       "</div>"
      ],
      "text/plain": [
       "    carat        cut color clarity  depth  table     x     y     z       price\n",
       "id                                                                            \n",
       "0    0.70  Very Good     H     SI1   61.0   58.0  5.67  5.70  3.47  778.527384\n",
       "1    1.52      Ideal     H     VS2   61.8   54.0  7.42  7.43  4.59  778.527384\n",
       "2    1.03      Ideal     E     SI1   62.0   57.0  6.44  6.47  4.00  778.527384\n",
       "3    0.70  Very Good     G    VVS1   63.3   57.0  5.59  5.63  3.55  778.527384\n",
       "4    1.28      Ideal     H     SI1   62.4   56.0  6.93  6.91  4.32  778.527384"
      ]
     },
     "execution_count": 16,
     "metadata": {},
     "output_type": "execute_result"
    }
   ],
   "source": [
    "test.head()"
   ]
  },
  {
   "cell_type": "markdown",
   "metadata": {},
   "source": [
    "## Prepare submission"
   ]
  },
  {
   "cell_type": "code",
   "execution_count": 17,
   "metadata": {},
   "outputs": [],
   "source": [
    "my_submission = test[\"price\"]"
   ]
  },
  {
   "cell_type": "code",
   "execution_count": 18,
   "metadata": {},
   "outputs": [
    {
     "data": {
      "text/plain": [
       "id\n",
       "0        778.527384\n",
       "1        778.527384\n",
       "2        778.527384\n",
       "3        778.527384\n",
       "4        778.527384\n",
       "            ...    \n",
       "13480    778.527384\n",
       "13481    778.527384\n",
       "13482    778.527384\n",
       "13483    778.527384\n",
       "13484    778.527384\n",
       "Name: price, Length: 13485, dtype: float64"
      ]
     },
     "execution_count": 18,
     "metadata": {},
     "output_type": "execute_result"
    }
   ],
   "source": [
    "my_submission"
   ]
  },
  {
   "cell_type": "code",
   "execution_count": 19,
   "metadata": {},
   "outputs": [],
   "source": [
    "my_submission.to_csv(\"./diamonds/my_submission_day16_16h30.csv\")"
   ]
  },
  {
   "cell_type": "markdown",
   "metadata": {},
   "source": [
    "## Check submission format"
   ]
  },
  {
   "cell_type": "code",
   "execution_count": 20,
   "metadata": {},
   "outputs": [
    {
     "name": "stdout",
     "output_type": "stream",
     "text": [
      "id,price\r\n",
      "0,778.5273842541095\r\n",
      "1,778.5273842541095\r\n",
      "2,778.5273842541095\r\n",
      "3,778.5273842541095\r\n"
     ]
    }
   ],
   "source": [
    "!head -n 5 ./diamonds/my_submission_day16_13h08.csv"
   ]
  },
  {
   "cell_type": "markdown",
   "metadata": {},
   "source": [
    "## Go to kaggle and submit!"
   ]
  }
 ],
 "metadata": {
  "kernelspec": {
   "display_name": "Python 3",
   "language": "python",
   "name": "python3"
  },
  "language_info": {
   "codemirror_mode": {
    "name": "ipython",
    "version": 3
   },
   "file_extension": ".py",
   "mimetype": "text/x-python",
   "name": "python",
   "nbconvert_exporter": "python",
   "pygments_lexer": "ipython3",
   "version": "3.8.5"
  },
  "toc": {
   "base_numbering": 1,
   "nav_menu": {},
   "number_sections": true,
   "sideBar": true,
   "skip_h1_title": false,
   "title_cell": "Table of Contents",
   "title_sidebar": "Contents",
   "toc_cell": false,
   "toc_position": {},
   "toc_section_display": true,
   "toc_window_display": false
  },
  "varInspector": {
   "cols": {
    "lenName": 16,
    "lenType": 16,
    "lenVar": 40
   },
   "kernels_config": {
    "python": {
     "delete_cmd_postfix": "",
     "delete_cmd_prefix": "del ",
     "library": "var_list.py",
     "varRefreshCmd": "print(var_dic_list())"
    },
    "r": {
     "delete_cmd_postfix": ") ",
     "delete_cmd_prefix": "rm(",
     "library": "var_list.r",
     "varRefreshCmd": "cat(var_dic_list()) "
    }
   },
   "types_to_exclude": [
    "module",
    "function",
    "builtin_function_or_method",
    "instance",
    "_Feature"
   ],
   "window_display": false
  }
 },
 "nbformat": 4,
 "nbformat_minor": 4
}
