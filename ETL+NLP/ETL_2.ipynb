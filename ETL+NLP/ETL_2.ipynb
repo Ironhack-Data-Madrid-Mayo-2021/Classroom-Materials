{
 "cells": [
  {
   "cell_type": "markdown",
   "id": "congressional-reservoir",
   "metadata": {
    "toc": true
   },
   "source": [
    "<h1>Table of Contents<span class=\"tocSkip\"></span></h1>\n",
    "<div class=\"toc\"><ul class=\"toc-item\"><li><span><a href=\"#Exploramos-los-datos-que-tenemos\" data-toc-modified-id=\"Exploramos-los-datos-que-tenemos-1\"><span class=\"toc-item-num\">1&nbsp;&nbsp;</span>Exploramos los datos que tenemos</a></span></li><li><span><a href=\"#Misión-1\" data-toc-modified-id=\"Misión-1-2\"><span class=\"toc-item-num\">2&nbsp;&nbsp;</span>Misión 1</a></span><ul class=\"toc-item\"><li><span><a href=\"#¡Datos-a-SQL!\" data-toc-modified-id=\"¡Datos-a-SQL!-2.1\"><span class=\"toc-item-num\">2.1&nbsp;&nbsp;</span>¡Datos a SQL!</a></span><ul class=\"toc-item\"><li><span><a href=\"#Nos-conectamos-con-SQL\" data-toc-modified-id=\"Nos-conectamos-con-SQL-2.1.1\"><span class=\"toc-item-num\">2.1.1&nbsp;&nbsp;</span>Nos conectamos con SQL</a></span></li><li><span><a href=\"#Comenzamos-a-crear-tablas\" data-toc-modified-id=\"Comenzamos-a-crear-tablas-2.1.2\"><span class=\"toc-item-num\">2.1.2&nbsp;&nbsp;</span>Comenzamos a crear tablas</a></span></li><li><span><a href=\"#Iteramos-por-el-dataframe-para-meter-los-datos-en-SQL\" data-toc-modified-id=\"Iteramos-por-el-dataframe-para-meter-los-datos-en-SQL-2.1.3\"><span class=\"toc-item-num\">2.1.3&nbsp;&nbsp;</span>Iteramos por el dataframe para meter los datos en SQL</a></span></li></ul></li></ul></li><li><span><a href=\"#Antes-de-seguir,-tenemos-que...-¡¡TRATAR-LOS-DATOS!!\" data-toc-modified-id=\"Antes-de-seguir,-tenemos-que...-¡¡TRATAR-LOS-DATOS!!-3\"><span class=\"toc-item-num\">3&nbsp;&nbsp;</span>Antes de seguir, tenemos que... ¡¡TRATAR LOS DATOS!!</a></span></li><li><span><a href=\"#Misión-2\" data-toc-modified-id=\"Misión-2-4\"><span class=\"toc-item-num\">4&nbsp;&nbsp;</span>Misión 2</a></span></li><li><span><a href=\"#¡Datos-a-MongoDB!\" data-toc-modified-id=\"¡Datos-a-MongoDB!-5\"><span class=\"toc-item-num\">5&nbsp;&nbsp;</span>¡Datos a MongoDB!</a></span></li></ul></div>"
   ]
  },
  {
   "cell_type": "markdown",
   "id": "magnetic-destiny",
   "metadata": {},
   "source": [
    "## Exploramos los datos que tenemos"
   ]
  },
  {
   "cell_type": "code",
   "execution_count": 88,
   "id": "signal-halloween",
   "metadata": {},
   "outputs": [
    {
     "data": {
      "text/html": [
       "<div>\n",
       "<style scoped>\n",
       "    .dataframe tbody tr th:only-of-type {\n",
       "        vertical-align: middle;\n",
       "    }\n",
       "\n",
       "    .dataframe tbody tr th {\n",
       "        vertical-align: top;\n",
       "    }\n",
       "\n",
       "    .dataframe thead th {\n",
       "        text-align: right;\n",
       "    }\n",
       "</style>\n",
       "<table border=\"1\" class=\"dataframe\">\n",
       "  <thead>\n",
       "    <tr style=\"text-align: right;\">\n",
       "      <th></th>\n",
       "      <th>artista</th>\n",
       "      <th>nombre</th>\n",
       "      <th>ironhacker</th>\n",
       "      <th>letra</th>\n",
       "    </tr>\n",
       "  </thead>\n",
       "  <tbody>\n",
       "    <tr>\n",
       "      <th>0</th>\n",
       "      <td>Hocus Pocus</td>\n",
       "      <td>Hip Hop ?</td>\n",
       "      <td>ferqwertyuiop</td>\n",
       "      <td>[Intro]\\nThat's what it is, uh huh\\nNick Wiz, ...</td>\n",
       "    </tr>\n",
       "    <tr>\n",
       "      <th>1</th>\n",
       "      <td>rusowsky</td>\n",
       "      <td>So So</td>\n",
       "      <td>ferqwertyuiop</td>\n",
       "      <td>[Intro]\\nWhy is it hard on my own though\\nWhy ...</td>\n",
       "    </tr>\n",
       "    <tr>\n",
       "      <th>2</th>\n",
       "      <td>Dominic Fike</td>\n",
       "      <td>Phone Numbers</td>\n",
       "      <td>ferqwertyuiop</td>\n",
       "      <td>[Intro]\\nCan you break bread with me?\\nBreak b...</td>\n",
       "    </tr>\n",
       "    <tr>\n",
       "      <th>3</th>\n",
       "      <td>Renaldo &amp; Clara</td>\n",
       "      <td>L'amor fa calor</td>\n",
       "      <td>ferqwertyuiop</td>\n",
       "      <td>Oh oh l'amor oh oh fa calor oh oh\\nOh oh l'amo...</td>\n",
       "    </tr>\n",
       "    <tr>\n",
       "      <th>4</th>\n",
       "      <td>KYTES</td>\n",
       "      <td>Alright</td>\n",
       "      <td>ferqwertyuiop</td>\n",
       "      <td>[Produced by Pharrell Williams &amp; Sounwave]\\n[D...</td>\n",
       "    </tr>\n",
       "  </tbody>\n",
       "</table>\n",
       "</div>"
      ],
      "text/plain": [
       "           artista           nombre     ironhacker  \\\n",
       "0      Hocus Pocus        Hip Hop ?  ferqwertyuiop   \n",
       "1         rusowsky            So So  ferqwertyuiop   \n",
       "2     Dominic Fike    Phone Numbers  ferqwertyuiop   \n",
       "3  Renaldo & Clara  L'amor fa calor  ferqwertyuiop   \n",
       "4            KYTES          Alright  ferqwertyuiop   \n",
       "\n",
       "                                               letra  \n",
       "0  [Intro]\\nThat's what it is, uh huh\\nNick Wiz, ...  \n",
       "1  [Intro]\\nWhy is it hard on my own though\\nWhy ...  \n",
       "2  [Intro]\\nCan you break bread with me?\\nBreak b...  \n",
       "3  Oh oh l'amor oh oh fa calor oh oh\\nOh oh l'amo...  \n",
       "4  [Produced by Pharrell Williams & Sounwave]\\n[D...  "
      ]
     },
     "execution_count": 88,
     "metadata": {},
     "output_type": "execute_result"
    }
   ],
   "source": [
    "import pandas as pd\n",
    "data = pd.read_csv('output/playlist_letras.csv')\n",
    "data.head()"
   ]
  },
  {
   "cell_type": "code",
   "execution_count": 66,
   "id": "handy-procurement",
   "metadata": {},
   "outputs": [],
   "source": [
    "#print(data.loc[0][\"letra\"])"
   ]
  },
  {
   "cell_type": "code",
   "execution_count": 89,
   "id": "loaded-marsh",
   "metadata": {},
   "outputs": [],
   "source": [
    "data.letra.fillna(\"nohay\", inplace=True)"
   ]
  },
  {
   "cell_type": "markdown",
   "id": "great-potter",
   "metadata": {},
   "source": [
    " ## Misión 1\n",
    " # <center> Meter los datos en una base de datos de SQL 🙂</center>\n",
    " ### ¡Datos a SQL!"
   ]
  },
  {
   "cell_type": "markdown",
   "id": "colonial-organizer",
   "metadata": {},
   "source": [
    "#### Nos conectamos con SQL"
   ]
  },
  {
   "cell_type": "code",
   "execution_count": 7,
   "id": "electronic-national",
   "metadata": {},
   "outputs": [],
   "source": [
    "import sqlalchemy as alch\n",
    "from getpass import getpass"
   ]
  },
  {
   "cell_type": "code",
   "execution_count": 8,
   "id": "coated-williams",
   "metadata": {},
   "outputs": [
    {
     "name": "stdout",
     "output_type": "stream",
     "text": [
      "Introduce tu pass de sql: ········\n"
     ]
    }
   ],
   "source": [
    "password = getpass(\"Introduce tu pass de sql: \")\n",
    "dbName=\"spotify\"\n",
    "connectionData=f\" \""
   ]
  },
  {
   "cell_type": "code",
   "execution_count": 9,
   "id": "successful-accounting",
   "metadata": {},
   "outputs": [
    {
     "name": "stdout",
     "output_type": "stream",
     "text": [
      "me conecté\n"
     ]
    }
   ],
   "source": [
    "engine = alch.create_engine(connectionData)\n",
    "print(\"me conecté\")"
   ]
  },
  {
   "cell_type": "markdown",
   "id": "simplified-victim",
   "metadata": {},
   "source": [
    "#### Comenzamos a crear tablas"
   ]
  },
  {
   "cell_type": "code",
   "execution_count": 10,
   "id": "light-battle",
   "metadata": {},
   "outputs": [
    {
     "data": {
      "text/plain": [
       "<sqlalchemy.engine.cursor.LegacyCursorResult at 0x7fe0a87acf10>"
      ]
     },
     "execution_count": 10,
     "metadata": {},
     "output_type": "execute_result"
    }
   ],
   "source": [
    "# Borramos la base de datos spotify, si no existe no hará nada\n",
    "engine.execute(\"\"\"\n",
    "    DROP DATABASE if exists spotify ;\n",
    "\"\"\")"
   ]
  },
  {
   "cell_type": "code",
   "execution_count": 11,
   "id": "cleared-serum",
   "metadata": {},
   "outputs": [
    {
     "data": {
      "text/plain": [
       "<sqlalchemy.engine.cursor.LegacyCursorResult at 0x7fe0a74a2940>"
      ]
     },
     "execution_count": 11,
     "metadata": {},
     "output_type": "execute_result"
    }
   ],
   "source": [
    "# Creamos la base de datos spotify\n",
    "engine.execute(\"\"\"\n",
    "    CREATE DATABASE spotify ;\n",
    "\"\"\")"
   ]
  },
  {
   "cell_type": "code",
   "execution_count": 12,
   "id": "activated-armstrong",
   "metadata": {},
   "outputs": [
    {
     "data": {
      "text/plain": [
       "<sqlalchemy.engine.cursor.LegacyCursorResult at 0x7fe0a87ce8e0>"
      ]
     },
     "execution_count": 12,
     "metadata": {},
     "output_type": "execute_result"
    }
   ],
   "source": [
    "# Le decimos a mySQL que vamos a usar esa base de datos de spotify\n",
    "engine.execute(\"\"\"\n",
    "    USE spotify ;\n",
    "\"\"\")"
   ]
  },
  {
   "cell_type": "code",
   "execution_count": 102,
   "id": "resistant-image",
   "metadata": {},
   "outputs": [
    {
     "data": {
      "text/plain": [
       "<sqlalchemy.engine.cursor.LegacyCursorResult at 0x7fe0a86ad370>"
      ]
     },
     "execution_count": 102,
     "metadata": {},
     "output_type": "execute_result"
    }
   ],
   "source": [
    "# Creamos una tabla para meter las canciones\n",
    "engine.execute(\"\"\"\n",
    "    CREATE TABLE canciones (\n",
    "    id_ INT NOT NULL AUTO_INCREMENT PRIMARY KEY,\n",
    "    canción VARCHAR(70)NOT NULL,\n",
    "    artista VARCHAR(40) NOT NULL,\n",
    "    ironhacker VARCHAR(40) NOT NULL,\n",
    "    letra VARCHAR (10000)\n",
    "  );\n",
    "\"\"\")"
   ]
  },
  {
   "cell_type": "markdown",
   "id": "governmental-imaging",
   "metadata": {},
   "source": [
    "#### Iteramos por el dataframe para meter los datos en SQL"
   ]
  },
  {
   "cell_type": "code",
   "execution_count": 103,
   "id": "written-rwanda",
   "metadata": {},
   "outputs": [],
   "source": [
    "for i, fila in data.iterrows():\n",
    "\n",
    "    engine.execute(\n",
    "            f\"\"\"\n",
    "        INSERT INTO canciones (canción, artista, ironhacker, letra) VALUES\n",
    "        (\"{fila['nombre']}\",\"{fila['artista']}\",\"{fila['ironhacker']}\",\"{fila['letra']}\");\n",
    "        \"\"\"\n",
    "        )"
   ]
  },
  {
   "cell_type": "markdown",
   "id": "complicated-sauce",
   "metadata": {},
   "source": [
    "## Antes de seguir, tenemos que... ¡¡TRATAR LOS DATOS!!"
   ]
  },
  {
   "cell_type": "code",
   "execution_count": 90,
   "id": "ideal-aerospace",
   "metadata": {},
   "outputs": [],
   "source": [
    "def sustituye(x):\n",
    "    x = str(x).replace('\"',\"'\")\n",
    "    return x"
   ]
  },
  {
   "cell_type": "code",
   "execution_count": 97,
   "id": "political-magnitude",
   "metadata": {},
   "outputs": [],
   "source": [
    "data[\"nombre\"] = data.nombre.apply(sustituye)\n",
    "data[\"letra\"] = data.letra.apply(sustituye)"
   ]
  },
  {
   "cell_type": "code",
   "execution_count": 93,
   "id": "ecological-taiwan",
   "metadata": {},
   "outputs": [],
   "source": [
    "#print(data.loc[0][\"letra\"])"
   ]
  },
  {
   "cell_type": "markdown",
   "id": "psychological-postage",
   "metadata": {},
   "source": [
    "Una vez solucionados estos problemas, ejecutamos otra vez la celda anterior1"
   ]
  },
  {
   "cell_type": "markdown",
   "id": "caring-barcelona",
   "metadata": {},
   "source": [
    " ## Misión 2\n",
    " # <center> Meter los datos en una base de datos de MongoDB 🙃</center>\n",
    " ## ¡Datos a MongoDB!"
   ]
  },
  {
   "cell_type": "markdown",
   "id": "compatible-apartment",
   "metadata": {},
   "source": [
    "Exportamos el dataframe a json para luego importarlo a la base de datos de mongo"
   ]
  },
  {
   "cell_type": "code",
   "execution_count": 104,
   "id": "failing-church",
   "metadata": {},
   "outputs": [],
   "source": [
    "data.to_json(\"output/cancionesyletras\", orient=\"records\")"
   ]
  },
  {
   "cell_type": "markdown",
   "id": "convertible-travel",
   "metadata": {},
   "source": [
    "Realizamos el siguiente comando en la terminal estando a la altura de la carpeta"
   ]
  },
  {
   "cell_type": "code",
   "execution_count": 107,
   "id": "lasting-banks",
   "metadata": {},
   "outputs": [],
   "source": [
    "# mongoimport --db spotify --collection canciones --jsonArray cancionesyletras"
   ]
  }
 ],
 "metadata": {
  "kernelspec": {
   "display_name": "ironhack",
   "language": "python",
   "name": "ironhack"
  },
  "language_info": {
   "codemirror_mode": {
    "name": "ipython",
    "version": 3
   },
   "file_extension": ".py",
   "mimetype": "text/x-python",
   "name": "python",
   "nbconvert_exporter": "python",
   "pygments_lexer": "ipython3",
   "version": "3.8.5"
  },
  "toc": {
   "base_numbering": 1,
   "nav_menu": {},
   "number_sections": true,
   "sideBar": true,
   "skip_h1_title": true,
   "title_cell": "Table of Contents",
   "title_sidebar": "Contents",
   "toc_cell": true,
   "toc_position": {},
   "toc_section_display": true,
   "toc_window_display": false
  }
 },
 "nbformat": 4,
 "nbformat_minor": 5
}
