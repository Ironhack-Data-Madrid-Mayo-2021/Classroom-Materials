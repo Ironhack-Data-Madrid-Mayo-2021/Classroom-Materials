{
 "cells": [
  {
   "cell_type": "markdown",
   "metadata": {},
   "source": [
    "#                                   Regular Expressions (RegEx)"
   ]
  },
  {
   "cell_type": "markdown",
   "metadata": {},
   "source": [
    "Una expresión regular, **regex** o **regexp** es una secuencia de caracteres que define un patrón de búsqueda."
   ]
  },
  {
   "cell_type": "markdown",
   "metadata": {},
   "source": [
    "![regexito](regex-memes-1.jpg)"
   ]
  },
  {
   "cell_type": "markdown",
   "metadata": {
    "toc": true
   },
   "source": [
    "<h1>Table of Contents<span class=\"tocSkip\"></span></h1>\n",
    "<div class=\"toc\"><ul class=\"toc-item\"><li><span><a href=\"#Enlaces---Muchos-enlaces\" data-toc-modified-id=\"Enlaces---Muchos-enlaces-1\"><span class=\"toc-item-num\">1&nbsp;&nbsp;</span>Enlaces - Muchos enlaces</a></span><ul class=\"toc-item\"><li><span><a href=\"#Referencias\" data-toc-modified-id=\"Referencias-1.1\"><span class=\"toc-item-num\">1.1&nbsp;&nbsp;</span>Referencias</a></span></li><li><span><a href=\"#Probablemente-salve-tu-vida\" data-toc-modified-id=\"Probablemente-salve-tu-vida-1.2\"><span class=\"toc-item-num\">1.2&nbsp;&nbsp;</span>Probablemente salve tu vida</a></span></li></ul></li><li><span><a href=\"#Lo-primero-es-lo-primero\" data-toc-modified-id=\"Lo-primero-es-lo-primero-2\"><span class=\"toc-item-num\">2&nbsp;&nbsp;</span>Lo primero es lo primero</a></span></li><li><span><a href=\"#Sintaxis\" data-toc-modified-id=\"Sintaxis-3\"><span class=\"toc-item-num\">3&nbsp;&nbsp;</span>Sintaxis</a></span></li><li><span><a href=\"#La-r&quot;&quot;\" data-toc-modified-id=\"La-r&quot;&quot;-4\"><span class=\"toc-item-num\">4&nbsp;&nbsp;</span>La r\"\"</a></span></li><li><span><a href=\"#Métodos\" data-toc-modified-id=\"Métodos-5\"><span class=\"toc-item-num\">5&nbsp;&nbsp;</span>Métodos</a></span><ul class=\"toc-item\"><li><span><a href=\"#sub()\" data-toc-modified-id=\"sub()-5.1\"><span class=\"toc-item-num\">5.1&nbsp;&nbsp;</span>sub()</a></span></li><li><span><a href=\"#search()\" data-toc-modified-id=\"search()-5.2\"><span class=\"toc-item-num\">5.2&nbsp;&nbsp;</span>search()</a></span></li><li><span><a href=\"#match()\" data-toc-modified-id=\"match()-5.3\"><span class=\"toc-item-num\">5.3&nbsp;&nbsp;</span>match()</a></span></li><li><span><a href=\"#findall()\" data-toc-modified-id=\"findall()-5.4\"><span class=\"toc-item-num\">5.4&nbsp;&nbsp;</span>findall()</a></span></li></ul></li><li><span><a href=\"#Map-¿sabemos-lo-que-es?\" data-toc-modified-id=\"Map-¿sabemos-lo-que-es?-6\"><span class=\"toc-item-num\">6&nbsp;&nbsp;</span>Map ¿sabemos lo que es?</a></span></li><li><span><a href=\"#Juguemos\" data-toc-modified-id=\"Juguemos-7\"><span class=\"toc-item-num\">7&nbsp;&nbsp;</span>Juguemos</a></span></li><li><span><a href=\"#Manos-al-a-obra\" data-toc-modified-id=\"Manos-al-a-obra-8\"><span class=\"toc-item-num\">8&nbsp;&nbsp;</span>Manos al a obra</a></span><ul class=\"toc-item\"><li><span><a href=\"#Info-Sender\" data-toc-modified-id=\"Info-Sender-8.1\"><span class=\"toc-item-num\">8.1&nbsp;&nbsp;</span>Info Sender</a></span></li></ul></li><li><span><a href=\"#Info-Dates\" data-toc-modified-id=\"Info-Dates-9\"><span class=\"toc-item-num\">9&nbsp;&nbsp;</span>Info Dates</a></span></li><li><span><a href=\"#Subject\" data-toc-modified-id=\"Subject-10\"><span class=\"toc-item-num\">10&nbsp;&nbsp;</span>Subject</a></span><ul class=\"toc-item\"><li><span><a href=\"#Might-be-useful\" data-toc-modified-id=\"Might-be-useful-10.1\"><span class=\"toc-item-num\">10.1&nbsp;&nbsp;</span>Might be useful</a></span></li></ul></li></ul></div>"
   ]
  },
  {
   "cell_type": "markdown",
   "metadata": {},
   "source": [
    "## Enlaces - Muchos enlaces\n",
    "### Referencias\n",
    "\n",
    "- https://docs.python.org/3/howto/regex.html\n",
    "- https://docs.python.org/3/library/re.html#re-syntax\n",
    "- https://www.datacamp.com/community/tutorials/python-regular-expression-tutorial\n",
    "- https://www.dataquest.io/blog/regular-expressions-data-scientists/\n",
    "- https://www.kaggle.com/rtatman/fraudulent-email-corpus\n",
    "\n",
    "### Probablemente salve tu vida\n",
    "\n",
    "- https://regex101.com/\n",
    "- https://www.rexegg.com/regex-quickstart.html\n",
    "- http://w3.unpocodetodo.info/utiles/regex.php\n"
   ]
  },
  {
   "cell_type": "markdown",
   "metadata": {},
   "source": [
    "## Lo primero es lo primero"
   ]
  },
  {
   "cell_type": "markdown",
   "metadata": {},
   "source": [
    "Si no tenemos la librería regex, tenemos que instalarla. Abre tu terminal favorita y:\n",
    "`pip install regex`"
   ]
  },
  {
   "cell_type": "code",
   "execution_count": null,
   "metadata": {},
   "outputs": [],
   "source": [
    "import re\n",
    "import pandas as pd"
   ]
  },
  {
   "cell_type": "markdown",
   "metadata": {},
   "source": [
    "## Sintaxis\n",
    "-> Caracteres especiales:\n",
    "- `.` Matches cualquier caracter excepto una nueva línea\n",
    "- `^` Matches el inicio de un string\n",
    "- `$` Matches el final de la cadena o justo antes de la nueva línea al final de la cadena.\n",
    "- `*` Matches 0 o más repeticiones del patrón regex que lleva delante\n",
    "- `+` Matches 1 o más repeticiones del patrón regex que lleva delante\n",
    "- `?` Matches 0 or 1 repeticiones del regex que lleva delante\n",
    "\n",
    "\n",
    "\n",
    "--> Sintaxis:\n",
    "- **Literales** `a` (busco una a)     \n",
    "- **Alternancia** `a|b` (busco una a o una b)        \n",
    "- **Sets de caracteres** `[ab]`, `[^ab]` (Encuentra uno de los caracteres entre corchetes o que NO sean los de los corchetes)\n",
    "- **Comodines** `.`\n",
    "- **Escape de los caracteres especiales** `\\` (?,*,+,^,&)\n",
    "- **Rangos** `[a-d]`, `[1-9]`\n",
    "- **Tipos de caracteres** `\\w`, `\\d`, `\\s`, `\\n`, `\\W`, `\\D`, `\\S`\n",
    "- **Cuantificadores** `{2}`, `{2,}`, `{2,4}`, `?`, `*`, `+`\n",
    "- **Grupos** `()`\n",
    "- **Anclas** `^`, `$`"
   ]
  },
  {
   "cell_type": "markdown",
   "metadata": {},
   "source": [
    "![cheat](cheat.png)"
   ]
  },
  {
   "cell_type": "markdown",
   "metadata": {},
   "source": [
    "## La r\"\"\n",
    "String literals and bytes literals [doc](https://docs.python.org/3/reference/lexical_analysis.html#literals)"
   ]
  },
  {
   "cell_type": "markdown",
   "metadata": {},
   "source": [
    "## Métodos"
   ]
  },
  {
   "cell_type": "markdown",
   "metadata": {},
   "source": [
    "###  sub()\n",
    "Sustituye una o varias coincidencias por un string"
   ]
  },
  {
   "cell_type": "code",
   "execution_count": null,
   "metadata": {},
   "outputs": [],
   "source": [
    "txt = \"La vida es una tómbola, tom tom tómbola\""
   ]
  },
  {
   "cell_type": "code",
   "execution_count": null,
   "metadata": {},
   "outputs": [],
   "source": [
    "#re.sub\n"
   ]
  },
  {
   "cell_type": "code",
   "execution_count": null,
   "metadata": {},
   "outputs": [],
   "source": [
    "#Rangos\n"
   ]
  },
  {
   "cell_type": "code",
   "execution_count": null,
   "metadata": {},
   "outputs": [],
   "source": [
    "txt3 = \"Weeeeeee, estoy haciendo un bootcamp de data en Ironhack???\""
   ]
  },
  {
   "cell_type": "code",
   "execution_count": null,
   "metadata": {},
   "outputs": [],
   "source": [
    "# Escape special character, quantifiers\n"
   ]
  },
  {
   "cell_type": "code",
   "execution_count": null,
   "metadata": {},
   "outputs": [],
   "source": []
  },
  {
   "cell_type": "markdown",
   "metadata": {},
   "source": [
    "### search()\n",
    "Escanea a través de una cadena, buscando cualquier lugar donde coincida este RE."
   ]
  },
  {
   "cell_type": "code",
   "execution_count": null,
   "metadata": {},
   "outputs": [],
   "source": [
    "#re.search\n",
    "elon = \"Posting Tesla Impact Report, this time with summary points & charts in my reply tweets https://tesla.com/ns_videos/2019-tesla-impact-report.pdf\""
   ]
  },
  {
   "cell_type": "code",
   "execution_count": null,
   "metadata": {},
   "outputs": [],
   "source": []
  },
  {
   "cell_type": "code",
   "execution_count": null,
   "metadata": {},
   "outputs": [],
   "source": [
    "txt = \"The rain in Spain\""
   ]
  },
  {
   "cell_type": "code",
   "execution_count": null,
   "metadata": {},
   "outputs": [],
   "source": [
    "# \\b Encuentra una coincidencia al inicio o al final de una palabra."
   ]
  },
  {
   "cell_type": "code",
   "execution_count": null,
   "metadata": {},
   "outputs": [],
   "source": []
  },
  {
   "cell_type": "code",
   "execution_count": null,
   "metadata": {},
   "outputs": [],
   "source": [
    "print(x)"
   ]
  },
  {
   "cell_type": "code",
   "execution_count": null,
   "metadata": {},
   "outputs": [],
   "source": [
    "# devuelve una tupla que contiene las posiciones inicial y final de la coincidencia\n",
    "\n",
    "print(x.span())"
   ]
  },
  {
   "cell_type": "code",
   "execution_count": null,
   "metadata": {},
   "outputs": [],
   "source": [
    "# devuelve la posición inicial del match\n",
    "print(x.start())"
   ]
  },
  {
   "cell_type": "code",
   "execution_count": null,
   "metadata": {},
   "outputs": [],
   "source": [
    "# devuelve la posición final del match\n",
    "print(x.end())"
   ]
  },
  {
   "cell_type": "code",
   "execution_count": null,
   "metadata": {},
   "outputs": [],
   "source": [
    "# Imprime el string que le hemos pasado a la función\n",
    "print(x.string)"
   ]
  },
  {
   "cell_type": "code",
   "execution_count": null,
   "metadata": {},
   "outputs": [],
   "source": [
    "# Imprime la parte del string donde ha habido match\n",
    "print(x.group())"
   ]
  },
  {
   "cell_type": "code",
   "execution_count": null,
   "metadata": {},
   "outputs": [],
   "source": [
    "txt3 = \"Ese momento de tu vida en el que decides hacer el bootcamp de data\""
   ]
  },
  {
   "cell_type": "code",
   "execution_count": null,
   "metadata": {},
   "outputs": [],
   "source": []
  },
  {
   "cell_type": "markdown",
   "metadata": {},
   "source": [
    "### match()\n",
    "Determina si el RE coincide en el **comienzo** de la cadena --> Revisa la [doc](https://docs.python.org/2/library/re.html#search-vs-match)"
   ]
  },
  {
   "cell_type": "code",
   "execution_count": null,
   "metadata": {},
   "outputs": [],
   "source": [
    "#re.match\n",
    "pattern = r\"Cookie\"\n",
    "sequence = \"I want a Cookie\"\n",
    "sequence2= \"Cookie, I want you!\""
   ]
  },
  {
   "cell_type": "code",
   "execution_count": null,
   "metadata": {},
   "outputs": [],
   "source": [
    "txt = \"The rain in Spain\"\n",
    "# matches at the beginning of the string\n"
   ]
  },
  {
   "cell_type": "code",
   "execution_count": null,
   "metadata": {},
   "outputs": [],
   "source": [
    "email_address = 'Please contact us at: support@data.mad.com, hola'"
   ]
  },
  {
   "cell_type": "markdown",
   "metadata": {},
   "source": [
    "Por defecto en python, los caracteres especiales '^' y '$' (estos caracteres coinciden con el inicio y el final de una línea, respectivamente) sólo se aplican al inicio y al final de toda la cadena.\n",
    "\n",
    "Afortunadamente, hay una bandera para modificar este comportamiento también. La bandera re.MULTILINE le dice a python que haga que los caracteres especiales '^' y '$' coincidan con el inicio o el final de cualquier línea dentro de una cadena.\n",
    "\n",
    "```python\n",
    "match = re.search(r'(\\w+)@([\\w\\.]+)', email_address, re.MULTILINE)\n",
    "```"
   ]
  },
  {
   "cell_type": "markdown",
   "metadata": {},
   "source": [
    "### findall()\n",
    "Encuentra todas las subcadenas en las que coincide el RE, y las devuelve como una lista."
   ]
  },
  {
   "cell_type": "code",
   "execution_count": null,
   "metadata": {},
   "outputs": [],
   "source": [
    "#re.findall\n",
    "email_address = \"Please contact us at: support.data@data-mad.com, amanda.galvez@ironhack.com, amanda.galvez@ironhack.com\"\n",
    "\n",
    "#'addresses' is a list that stores all the possible match\n"
   ]
  },
  {
   "cell_type": "code",
   "execution_count": null,
   "metadata": {},
   "outputs": [],
   "source": [
    "# Match a single character not present in the list"
   ]
  },
  {
   "cell_type": "markdown",
   "metadata": {},
   "source": [
    "- **split()**\n",
    "Returns a list where the string has been split at each match"
   ]
  },
  {
   "cell_type": "code",
   "execution_count": null,
   "metadata": {},
   "outputs": [],
   "source": [
    "#re.split\n",
    "prophet=['the{7}',\n",
    " 'chosen',\n",
    " 'and',\n",
    " 'the beloved,',\n",
    " 'who',\n",
    " 'was{34}',\n",
    " 'a',\n",
    " 'dawn',\n",
    " 'unto{6}der',\n",
    " 'his']"
   ]
  },
  {
   "cell_type": "code",
   "execution_count": null,
   "metadata": {},
   "outputs": [],
   "source": []
  },
  {
   "cell_type": "markdown",
   "metadata": {},
   "source": [
    "## Map ¿sabemos lo que es?"
   ]
  },
  {
   "cell_type": "code",
   "execution_count": null,
   "metadata": {},
   "outputs": [],
   "source": [
    "# pass the function iterating over the list\n",
    "\n",
    "# flatten list\n"
   ]
  },
  {
   "cell_type": "markdown",
   "metadata": {},
   "source": [
    "## Juguemos\n",
    "[Aquí](https://regexone.com/)"
   ]
  },
  {
   "cell_type": "markdown",
   "metadata": {},
   "source": [
    "## Manos al a obra"
   ]
  },
  {
   "cell_type": "code",
   "execution_count": null,
   "metadata": {},
   "outputs": [],
   "source": [
    "emails_info={}"
   ]
  },
  {
   "cell_type": "code",
   "execution_count": null,
   "metadata": {},
   "outputs": [],
   "source": [
    "fh = open(\"emails.txt\", \"r\").read()\n",
    "contents = re.split(r\"From r\", fh)"
   ]
  },
  {
   "cell_type": "markdown",
   "metadata": {},
   "source": [
    "- sender_email\n",
    "- sender_name\n",
    "- date_sent\n",
    "- time_sent\n",
    "- subject"
   ]
  },
  {
   "cell_type": "code",
   "execution_count": null,
   "metadata": {},
   "outputs": [],
   "source": [
    "print(contents.pop(1))"
   ]
  },
  {
   "cell_type": "markdown",
   "metadata": {},
   "source": [
    "### Info Sender"
   ]
  },
  {
   "cell_type": "code",
   "execution_count": null,
   "metadata": {},
   "outputs": [],
   "source": [
    "#info_sender"
   ]
  },
  {
   "cell_type": "code",
   "execution_count": null,
   "metadata": {},
   "outputs": [],
   "source": [
    "emails_info = {}"
   ]
  },
  {
   "cell_type": "code",
   "execution_count": null,
   "metadata": {},
   "outputs": [],
   "source": [
    "import numpy as np"
   ]
  },
  {
   "cell_type": "code",
   "execution_count": null,
   "metadata": {},
   "outputs": [],
   "source": [
    "#sender_email\n",
    "emails_info['sender_email']=[]"
   ]
  },
  {
   "cell_type": "code",
   "execution_count": null,
   "metadata": {},
   "outputs": [],
   "source": [
    "#sender name\n",
    "emails_info['sender_name']=[]"
   ]
  },
  {
   "cell_type": "markdown",
   "metadata": {},
   "source": [
    "## Info Dates"
   ]
  },
  {
   "cell_type": "code",
   "execution_count": null,
   "metadata": {},
   "outputs": [],
   "source": [
    "#DATES\n"
   ]
  },
  {
   "cell_type": "code",
   "execution_count": null,
   "metadata": {},
   "outputs": [],
   "source": [
    "#email date"
   ]
  },
  {
   "cell_type": "code",
   "execution_count": null,
   "metadata": {},
   "outputs": [],
   "source": [
    "emails_info['date_sent']=[]\n"
   ]
  },
  {
   "cell_type": "code",
   "execution_count": null,
   "metadata": {},
   "outputs": [],
   "source": [
    "emails_info['time_sent']=[]\n"
   ]
  },
  {
   "cell_type": "markdown",
   "metadata": {},
   "source": [
    "## Subject"
   ]
  },
  {
   "cell_type": "code",
   "execution_count": null,
   "metadata": {},
   "outputs": [],
   "source": [
    "#subject\n"
   ]
  },
  {
   "cell_type": "code",
   "execution_count": null,
   "metadata": {},
   "outputs": [],
   "source": [
    "emails_info['subject']=[]\n"
   ]
  },
  {
   "cell_type": "markdown",
   "metadata": {},
   "source": [
    "# Creating DataFrame"
   ]
  },
  {
   "cell_type": "code",
   "execution_count": null,
   "metadata": {},
   "outputs": [],
   "source": []
  },
  {
   "cell_type": "code",
   "execution_count": null,
   "metadata": {},
   "outputs": [],
   "source": []
  },
  {
   "cell_type": "code",
   "execution_count": null,
   "metadata": {},
   "outputs": [],
   "source": []
  },
  {
   "cell_type": "markdown",
   "metadata": {},
   "source": [
    "### Might be useful "
   ]
  },
  {
   "cell_type": "code",
   "execution_count": null,
   "metadata": {},
   "outputs": [],
   "source": []
  },
  {
   "cell_type": "code",
   "execution_count": null,
   "metadata": {},
   "outputs": [],
   "source": []
  },
  {
   "cell_type": "code",
   "execution_count": null,
   "metadata": {},
   "outputs": [],
   "source": []
  },
  {
   "cell_type": "code",
   "execution_count": null,
   "metadata": {},
   "outputs": [],
   "source": []
  }
 ],
 "metadata": {
  "kernelspec": {
   "display_name": "Python 3",
   "language": "python",
   "name": "python3"
  },
  "language_info": {
   "codemirror_mode": {
    "name": "ipython",
    "version": 3
   },
   "file_extension": ".py",
   "mimetype": "text/x-python",
   "name": "python",
   "nbconvert_exporter": "python",
   "pygments_lexer": "ipython3",
   "version": "3.8.5"
  },
  "toc": {
   "base_numbering": 1,
   "nav_menu": {},
   "number_sections": true,
   "sideBar": true,
   "skip_h1_title": true,
   "title_cell": "Table of Contents",
   "title_sidebar": "Contents",
   "toc_cell": true,
   "toc_position": {},
   "toc_section_display": true,
   "toc_window_display": false
  }
 },
 "nbformat": 4,
 "nbformat_minor": 2
}
