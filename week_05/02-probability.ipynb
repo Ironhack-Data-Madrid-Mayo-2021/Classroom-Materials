{
 "cells": [
  {
   "cell_type": "markdown",
   "metadata": {},
   "source": [
    "# Probability basics"
   ]
  },
  {
   "cell_type": "markdown",
   "metadata": {
    "toc": true
   },
   "source": [
    "<h1>Table of Contents<span class=\"tocSkip\"></span></h1>\n",
    "<div class=\"toc\"><ul class=\"toc-item\"><li><span><a href=\"#Introduction\" data-toc-modified-id=\"Introduction-1\"><span class=\"toc-item-num\">1&nbsp;&nbsp;</span>Introduction</a></span></li><li><span><a href=\"#Laplace-Rule\" data-toc-modified-id=\"Laplace-Rule-2\"><span class=\"toc-item-num\">2&nbsp;&nbsp;</span>Laplace Rule</a></span></li><li><span><a href=\"#Compound-events\" data-toc-modified-id=\"Compound-events-3\"><span class=\"toc-item-num\">3&nbsp;&nbsp;</span>Compound events</a></span><ul class=\"toc-item\"><li><span><a href=\"#Union,-intersection\" data-toc-modified-id=\"Union,-intersection-3.1\"><span class=\"toc-item-num\">3.1&nbsp;&nbsp;</span>Union, intersection</a></span></li><li><span><a href=\"#Opposite\" data-toc-modified-id=\"Opposite-3.2\"><span class=\"toc-item-num\">3.2&nbsp;&nbsp;</span>Opposite</a></span></li></ul></li><li><span><a href=\"#Conditional-probability\" data-toc-modified-id=\"Conditional-probability-4\"><span class=\"toc-item-num\">4&nbsp;&nbsp;</span>Conditional probability</a></span><ul class=\"toc-item\"><li><span><a href=\"#Intiuition\" data-toc-modified-id=\"Intiuition-4.1\"><span class=\"toc-item-num\">4.1&nbsp;&nbsp;</span>Intiuition</a></span></li><li><span><a href=\"#Formal-definition\" data-toc-modified-id=\"Formal-definition-4.2\"><span class=\"toc-item-num\">4.2&nbsp;&nbsp;</span>Formal definition</a></span></li></ul></li><li><span><a href=\"#Compound-events-cont.\" data-toc-modified-id=\"Compound-events-cont.-5\"><span class=\"toc-item-num\">5&nbsp;&nbsp;</span>Compound events cont.</a></span><ul class=\"toc-item\"><li><span><a href=\"#Independent-events\" data-toc-modified-id=\"Independent-events-5.1\"><span class=\"toc-item-num\">5.1&nbsp;&nbsp;</span>Independent events</a></span></li><li><span><a href=\"#Dependent-events\" data-toc-modified-id=\"Dependent-events-5.2\"><span class=\"toc-item-num\">5.2&nbsp;&nbsp;</span>Dependent events</a></span></li></ul></li><li><span><a href=\"#Probability-Tree\" data-toc-modified-id=\"Probability-Tree-6\"><span class=\"toc-item-num\">6&nbsp;&nbsp;</span>Probability Tree</a></span></li><li><span><a href=\"#Bayes-Theorem\" data-toc-modified-id=\"Bayes-Theorem-7\"><span class=\"toc-item-num\">7&nbsp;&nbsp;</span>Bayes Theorem</a></span></li><li><span><a href=\"#Summary\" data-toc-modified-id=\"Summary-8\"><span class=\"toc-item-num\">8&nbsp;&nbsp;</span>Summary</a></span></li></ul></div>"
   ]
  },
  {
   "cell_type": "code",
   "execution_count": 1,
   "metadata": {},
   "outputs": [],
   "source": [
    "import random"
   ]
  },
  {
   "cell_type": "markdown",
   "metadata": {},
   "source": [
    "## Introduction"
   ]
  },
  {
   "cell_type": "markdown",
   "metadata": {},
   "source": [
    "* **Probability** is the branch of mathematics concerned with experiments whose outcomes we are **not certain** about"
   ]
  },
  {
   "cell_type": "markdown",
   "metadata": {},
   "source": [
    "* The probability of an **event** expresses how likely it is to occur. It is a number **between 0 and 1**\n",
    "* The probability of an event $A$ is written as $P(A)$\n",
    "* $P(A)=0$ means the event is impossible\n",
    "* $P(A)=1$ means the event is certain"
   ]
  },
  {
   "cell_type": "markdown",
   "metadata": {},
   "source": [
    "* The **sample space** $\\Omega$ of an experiment is the **set** of possible outcomes\n",
    "* An event is a subset of the sample space"
   ]
  },
  {
   "cell_type": "markdown",
   "metadata": {},
   "source": [
    " * **Simulations** can be done to guess probability values: the relative frequency tends to the theoretical probability"
   ]
  },
  {
   "cell_type": "markdown",
   "metadata": {},
   "source": [
    "**Example experiment**: flipping one coin"
   ]
  },
  {
   "cell_type": "markdown",
   "metadata": {},
   "source": [
    "<img src=\"https://qph.fs.quoracdn.net/main-qimg-7de41d4aee9953bdb442e36b187ffc6f\" width=300>"
   ]
  },
  {
   "cell_type": "markdown",
   "metadata": {},
   "source": [
    "The sample space is $\\Omega = \\{H, T\\}$, head and tails"
   ]
  },
  {
   "cell_type": "markdown",
   "metadata": {},
   "source": [
    "$P(H) = \\frac{1}{2} = 0.5 =50\\%$"
   ]
  },
  {
   "cell_type": "markdown",
   "metadata": {},
   "source": [
    "$P(T) = \\frac{1}{2}$"
   ]
  },
  {
   "cell_type": "markdown",
   "metadata": {},
   "source": [
    "Lets simulate this"
   ]
  },
  {
   "cell_type": "code",
   "execution_count": 2,
   "metadata": {},
   "outputs": [],
   "source": [
    "sample_space = [\"H\", \"T\"]"
   ]
  },
  {
   "cell_type": "code",
   "execution_count": 9,
   "metadata": {},
   "outputs": [
    {
     "data": {
      "text/plain": [
       "['H', 'H', 'H', 'T', 'H', 'H', 'T', 'H', 'H', 'H']"
      ]
     },
     "execution_count": 9,
     "metadata": {},
     "output_type": "execute_result"
    }
   ],
   "source": [
    "# run experiment 10 times \n",
    "flips = random.choices(sample_space, k=10)\n",
    "flips"
   ]
  },
  {
   "cell_type": "code",
   "execution_count": 10,
   "metadata": {},
   "outputs": [
    {
     "data": {
      "text/plain": [
       "0.8"
      ]
     },
     "execution_count": 10,
     "metadata": {},
     "output_type": "execute_result"
    }
   ],
   "source": [
    "frequency_H = flips.count(\"H\") / len(flips)\n",
    "frequency_H"
   ]
  },
  {
   "cell_type": "code",
   "execution_count": 11,
   "metadata": {},
   "outputs": [],
   "source": [
    "# run experiment 100000 times \n",
    "flips = random.choices(sample_space, k=100000)"
   ]
  },
  {
   "cell_type": "code",
   "execution_count": 12,
   "metadata": {},
   "outputs": [
    {
     "data": {
      "text/plain": [
       "0.502"
      ]
     },
     "execution_count": 12,
     "metadata": {},
     "output_type": "execute_result"
    }
   ],
   "source": [
    "frequency_H = flips.count(\"H\") / len(flips)\n",
    "frequency_H"
   ]
  },
  {
   "cell_type": "markdown",
   "metadata": {},
   "source": [
    "**Example experiment**: flipping two coins"
   ]
  },
  {
   "cell_type": "markdown",
   "metadata": {},
   "source": [
    "<img src=\"https://qph.fs.quoracdn.net/main-qimg-7de41d4aee9953bdb442e36b187ffc6f\" width=150>\n",
    "<img src=\"https://qph.fs.quoracdn.net/main-qimg-7de41d4aee9953bdb442e36b187ffc6f\" width=150>"
   ]
  },
  {
   "cell_type": "markdown",
   "metadata": {},
   "source": [
    "The sample space is $\\Omega = \\{HH, HT, TH, TT\\}$"
   ]
  },
  {
   "cell_type": "markdown",
   "metadata": {},
   "source": [
    "$P(\\text{two heads}) = \\frac{1}{4}$"
   ]
  },
  {
   "cell_type": "markdown",
   "metadata": {},
   "source": [
    "$P(\\text{two tails}) = \\frac{1}{4}$"
   ]
  },
  {
   "cell_type": "markdown",
   "metadata": {},
   "source": [
    "$P(\\text{one of each}) = \\frac{2}{4}$"
   ]
  },
  {
   "cell_type": "markdown",
   "metadata": {},
   "source": [
    "$P(\\text{both same}) = \\frac{2}{4}$"
   ]
  },
  {
   "cell_type": "markdown",
   "metadata": {},
   "source": [
    "$P(\\text{at least one H}) = \\frac{3}{4}$"
   ]
  },
  {
   "cell_type": "markdown",
   "metadata": {},
   "source": [
    "**Example experiment**: rolling a die"
   ]
  },
  {
   "cell_type": "markdown",
   "metadata": {},
   "source": [
    "<img src=\"data:image/jpeg;base64,/9j/4AAQSkZJRgABAQAAAQABAAD/2wCEAAkGBxEHEhUSExIWFRUTFhYVGBIXFxYWFhMTFRUYIhUaGBMYHiggGRolHhUVITEtJSkrLjAuGB8zODMvQygtMCsBCgoKBQUFDgUFDisZExkrKysrKysrKysrKysrKysrKysrKysrKysrKysrKysrKysrKysrKysrKysrKysrKysrK//AABEIAMEBBQMBIgACEQEDEQH/xAAbAAEAAwEBAQEAAAAAAAAAAAAAAwQFBgIBB//EADkQAAICAQMCBAQEBAUEAwAAAAABAgMRBAUhEjEGE0FRMmFxgSJCkbEUUmKhIzPR4fBygpLBB1Oy/8QAFAEBAAAAAAAAAAAAAAAAAAAAAP/EABQRAQAAAAAAAAAAAAAAAAAAAAD/2gAMAwEAAhEDEQA/AOxAAAAAAAAAAAAAAAAAAAAAAAAAAAAAAAAAAAAAAAAAAAAAAAAAAAAAAAAAAAAu6LbZ6nn4Y+79fogKQNx7NBdpSz9v2wZms0UtK+eV6S/19gKwAAAAAD1CDsaSWW/Q+b5bV4dp8/UzcY9UYpQg7JOUuywvoB8BY01MdwqjdRNWQlnElxlJtPHo1lPt9iu1gAAAAAAAAAAAAAAAAAAAAAAAAAAAAAA0Nn0i1Mm5LMY+nu/QqaSO7rXz8zyf4Jv8OMdUYKL6UkvxObk1ly4xF478XdtscIvDxz/6Rq0atT79/cDA0L3Za6zzVR/BYfQ1/mLj8Pz6st5zx7HnR27lPVXQ1FVP8Jz5dkZfi6V8KcctuT9c4x6HR36iNSy2cn4q3y6NM/4eHVPGIxbSTbaWW/Zd/sB7ynnHo8A4vcd31WzV6dynGVrUvNWF0za6fbDWM4yjb2HxFVvC6fgsXet+vzi/Vf3A2R3BJp+JR+q/cCfe6tbtem6tFTXbqHKOVY8JQfxY/FHLXHqu79sGrpa5a6mK1NMOqSzOp4sgnnhZaxJ4x98nqnV9PD5M3xZsdm+xr8rWWaZ1zU8wy1P+mUVKOV68vHugHijXanZ6oPR6Tz31KMoRaj5deHyo8Z5wscIi1zcownKHlzml1V5T6XjOG1w2uxet162+EYubskkk5vGZNLlvCSy3zwjjJbxqdfq5wdXTRXHi1952PHwL+VJsDaBx20eNVJ9GoilzjzY5x/3Q9Pqv0OwjJTSaaaaymuU17pgfQAAAAAAAAAAAAAAAAAAAAAAAAABY0dvlvHoyPaNsltdl7VrnXbZ5kK5cuqUs+YlLPMW3nHpyRk1WpdXzXt/uB53jUvtnCXJgLWQuj1xknH0kmnFr36lwU/HG6V21zqshdBTWG4xxlZ5XW/w4fZ8nB3bm74RprxCqKwq08tr+p+oF7f8Ac1uVmY/BD8Mfn7v78foZ9HWpR8vPXldOO/VnjHzyaW1+G9TuGMVuEX+eeYr9Hy/sjuti8O1bR+L47P8A7H6f9K9P3A1623FdXfCz9ccnpAAfd2qv1tcJaezotrsjPD+C2Kypwn8mnn6pGtfe6otmVXNweUfNy3WGng3P8K9ZYbj+q7fcDjtz0Ordl90L82WYrqjJvopryuqXTynPvzgzNbvGp2+coSa8uFahGckuu+5xWZ8dorMvRcr5lXXbrXRqLNRCyV05LogsONdUOOF/M8xzwYlltu42ZfVOcuySbePZRXoB87ncf/Hd9ko2wbbrj0uOe0ZPOUvqucf6lHZPBlmoxK//AA4/yfnl9f5f3O50mlhooKFcVGK7Jfv82BMAAAAAAAAAAAAAAAAAAAAAAAAAAABPpdJPVP8ACuPV9kvuBB3Piio9kl9jUls00vii/lz+5QuplQ8SWH+4EYAAAAAAS2UeRW7bJRqrjy52S6Ul9X9UBnW7Vp7nmVFTfu64N/rgn0+nhpliEIwXtGKj/ZFv+GcoqcXGcGk1KDysNcMhAAAAAAAAAAAAAAAAAAAAAAAAAAAAAALm2aP+Llz8K5b/AGRFt+76566zTy0PRpY58vUJ8NJPDbzh9Twkksrlsi1ur1Who8zSwVk42xcq33nVx1qPPxYeV9Dp6NSrV7MCRs4/bfEVm96m/S26K2lVOXRdJPpkovCbk0knLhpJy4z7HXW2KC5ZibjvC5jD9QM98Z+TwDnd88QS2eVb6FOM+vqWcSWOnlPt+Z9zW2vc6t1h11SzjvF8Si/Zx/4gLgB9j3Asayb2bTS1XkTvlFJxpgsyeWlnGH2zl8PjPBX3Xda902133aG6yMlFvSOL8xyU1h4X4kk11J4Txzgt6LxDYtZZpLKnGKhGyq1Z6bIcKS7YUk/TPYu+JKdTqtPJaO2FVrxiyayor1xw/wAX1TAx9HutOw7dG+nRXRhjK0yg/M6pyeXJS5Szltv05JI6iO4Uw1Ea51eZ3rsXTKLy1zH7fo0ae33W6GiK1VkZ2rPVKCxFtt4ST57YXzOU37xVG2+miEXN2tvMeYwhHvKUu3dYA0wYGh8V03WSqs/w5RnKCbeYScZNL8X5c49TfAAAAAAAAAAAAAAAAAAAAAAAAAAAC1obuh4fZ/uR7LTqdHO6N1isg7HOmX51XLlwksflfC78YISpvOjluSqlG2VVlFishYk2mu04yiu6aA1N41b+E4+vVam7VTTgoaeuOE3jqtseH1L2iuUau9b5p023dWsenXFvPthcnC7x4mlqcxpzGP8AO+JP6L0+vcD74t161dqhHlVppv8AqfxL7YRl7dr7NtsVlbxJenpJesWvVM+bboLdwfTXCU37rsvrJ8L7s7rYPCUNC1Zdidi5UV8EH9/ifz7fuB0sZdSTxjKzj2PqAAk3i7UT08pabpd0cSjCXafS05R9syiml82jR0mqlOtSlFwbim4PvFtcp/NdjOptdbKVFlmkuvlO9SptUXXXJ4lVZjEox9HB4T7/AO4ZO836jc7ra5Yr03luPmJ4sc5JZcX+VRTfL9TDhude2QphpYRlp4xk5XZ/Coxb4T/NOU8kniDWKNtnnXRdEq3BaeDzOxy+JyxyvVLk5LXbg9UowjFV1Q4jUuyS7N+7/wBQI7rHdKUn3k3J/VvL/c7PwDu1l0np5PqjGHVFvlxSaTjn25WPY5raNlv3d/4cPw+tkuIL7+r+SP0XYdiq2WOI/inL4rH3fyS9F/xgaoAAAAAAAAAAAAAAAAAAAAAAAAAAAHqEHY8JZfsgKWt2yjXc2VQm16tc/wDkuStX4d0dfaiH3zL/APTZvPb7Us9D/VftkrNYA8VwVaxFJJeiWF+i4PQAAAADxbVG5OMoqUXw4ySaf1TPZLVpp3fDFv544/UDm7vB2iteVU4fKEpRX6ZwiXSeFdHpXlUqTXrNyn/aTx/Y3raJU/FFr6kYHxLp4XZcY9F9j6AAAAAAAAAAAAAAAAAAAAAAAAAAAAFjQ6V6uXSu3dv2R0FGmjpViK+r9X9zO2mzyYt+7/ska8Jq1cfoBz20eMdJu+pt0lUpO2mU4yTi0m62lNp+ybSy0vlk09w0S1Cz2l7/APplmNMKm5KKTl3aSTePd+pieJfEtOy1TsnLCj3ffl9kl6tsCi1gGJb4jp0vlOxTir11xljPTnHEo918XzNim2N8VKMlKL5Uk8pr5MD2Aeqo9Ukvdpf3AsydG1UvU6qahXHHfPOXxwuW2+El3IbNXq93uVdVVUtvurkv4qu5xsxKLT6OnlNSyuF6dy7pN10viCV+lsqT8iahOu2KlFrGYSSeU4v0+hH4h1er2ZUx0WhjfDLjKMZwq8uCx09KeFzz9MAQQ02j8BaKfU7XTFuTc3K2TcsLjjhcL2X6kNV1etqrvq6vLuXVHqTjJJ+jTLe1eH4bPddqXqL5u/MnXZNSrg28vpWM8dlzwuDN3fxFTdfHTRl/iYc+lJvEV6t9ogTAz9t3mjc+K5/iWcwfEljvw+6+aNAAAAAAAAAAAAAAAAAAAAAAAAAAAAItdu0tpr6/Lc4KcfM6fihXLiU0vXp4bXtkqQ3TcVYmqeKtQ67YL4btNZjy7q5S9Y8ZWTRi+kv0atSXPD/56gZXjTd9Tp6nHTQ67JNRWfhjn80v6Ucbr98jHzVqaeqrTqHVY458294wq4S7rLfPyOi8Zam6uuT08VKxtJOTSjHPeTz3wuTjd235QrjVmN1kVHqnhOCmu8kuzeeQK/ifcVuEq8RccQy4vvF2YfS/mkl+pFsO+WbNPKzKtv8AFXnh/Ne0jJhJ2v1cpP6tt/uzrdg8HTvanqE4Q7+V+eX/AFfyr+/0A7uuasipLtJJr6NcHuLw0eUscei9D6B723cqtbqb4KvouqjXmTSzZTJZhJSXLin1LnsyfZdy1Ld8NRX0uqxquxJqNtMuYSWW+UuH8yPTXeU+3yz6pfUr7fqNRLz43qOIzfk2xwlZVLlZjniUezz9QMLfvE91VtspVtaemGevnqtsljpjWs4xykZVO96ei15rcL7KldYsZcIxS6Yzn6Ptwvl8ibcN0tp1ElOMYaauP+ZLvZY8NdPPZc+nochu+6LXTl0R6VJrqePxWOK4cn7LHC+gFZWOMupNp5ymnhp/Jn6F4P3+W6p12c2QWer+eOcZaXZ5x9cnBaDR2bhLoqg5S9l6L3b9F9T9F8MeH1sycpS6rJpJtdor2Xvz6/JAbgAAAAAAAAAAAAAAAAAAAAAAAAAABrIAGJunhbT7j364P+iT6X/2SzH9EZ1XgLTQfNlrXtmC/aJ1gAobbs2n2z/KqjF/zfFL/wApZZfAAAAAQarSx1Kw3KP9UJOEl913++ScAcjrPA61Uup6qx+3Wutr75X7Emj8C6ap5nOdnyyox/tz/c6oAQ6XS16OPTXCMI+0Vhf7/cmAAAAAAAAAAAAAAAAAAAAAAAAAAAAAAAAAAAAAAAAAAAAAAAAAAAAAAAAAAAAAAAAAAAAAAAAAAAAAAAAAAAAAAAAAAAAAAAAAAAAAAAAAA//Z\" width=300>"
   ]
  },
  {
   "cell_type": "markdown",
   "metadata": {},
   "source": [
    "The sample space is $\\Omega = \\{1, 2, 3, 4, 5, 6\\}$"
   ]
  },
  {
   "cell_type": "markdown",
   "metadata": {},
   "source": [
    "$P(4) = \\frac{1}{6} \\sim 0.16 =16\\%$"
   ]
  },
  {
   "cell_type": "markdown",
   "metadata": {},
   "source": [
    "$P(1) = \\frac{1}{6}$"
   ]
  },
  {
   "cell_type": "markdown",
   "metadata": {},
   "source": [
    "$P(7) = 0 $"
   ]
  },
  {
   "cell_type": "markdown",
   "metadata": {},
   "source": [
    "$P(\\text{bigger than 1}) = \\frac{5}{6}$"
   ]
  },
  {
   "cell_type": "code",
   "execution_count": 13,
   "metadata": {},
   "outputs": [],
   "source": [
    "sample_space = [1, 2, 3, 4, 5, 6]"
   ]
  },
  {
   "cell_type": "code",
   "execution_count": 14,
   "metadata": {},
   "outputs": [
    {
     "data": {
      "text/plain": [
       "[4, 4, 3, 1, 5, 1, 1, 5, 5, 4]"
      ]
     },
     "execution_count": 14,
     "metadata": {},
     "output_type": "execute_result"
    }
   ],
   "source": [
    "# run experiment 10 times \n",
    "rolls = random.choices(sample_space, k=10)\n",
    "rolls"
   ]
  },
  {
   "cell_type": "code",
   "execution_count": 15,
   "metadata": {},
   "outputs": [
    {
     "data": {
      "text/plain": [
       "0.3"
      ]
     },
     "execution_count": 15,
     "metadata": {},
     "output_type": "execute_result"
    }
   ],
   "source": [
    "frequency_fours = rolls.count(4) / len(rolls)\n",
    "frequency_fours"
   ]
  },
  {
   "cell_type": "code",
   "execution_count": 16,
   "metadata": {},
   "outputs": [],
   "source": [
    "# run experiment 1000 times \n",
    "rolls = random.choices(sample_space, k=10000)"
   ]
  },
  {
   "cell_type": "code",
   "execution_count": 17,
   "metadata": {},
   "outputs": [
    {
     "data": {
      "text/plain": [
       "0.1665"
      ]
     },
     "execution_count": 17,
     "metadata": {},
     "output_type": "execute_result"
    }
   ],
   "source": [
    "frequency_fours = rolls.count(4) / len(rolls)\n",
    "frequency_fours"
   ]
  },
  {
   "cell_type": "code",
   "execution_count": 19,
   "metadata": {},
   "outputs": [],
   "source": [
    "import seaborn as sns"
   ]
  },
  {
   "cell_type": "code",
   "execution_count": 20,
   "metadata": {},
   "outputs": [
    {
     "name": "stderr",
     "output_type": "stream",
     "text": [
      "/home/sheriff/miniconda3/envs/ironhack/lib/python3.8/site-packages/seaborn/_decorators.py:36: FutureWarning: Pass the following variable as a keyword arg: x. From version 0.12, the only valid positional argument will be `data`, and passing other arguments without an explicit keyword will result in an error or misinterpretation.\n",
      "  warnings.warn(\n"
     ]
    },
    {
     "data": {
      "text/plain": [
       "<AxesSubplot:ylabel='count'>"
      ]
     },
     "execution_count": 20,
     "metadata": {},
     "output_type": "execute_result"
    },
    {
     "data": {
      "image/png": "[encoded data removed]",
      "text/plain": [
       "<Figure size 432x288 with 1 Axes>"
      ]
     },
     "metadata": {
      "needs_background": "light"
     },
     "output_type": "display_data"
    }
   ],
   "source": [
    "sns.countplot(rolls)"
   ]
  },
  {
   "cell_type": "markdown",
   "metadata": {},
   "source": [
    "Lets throw 10 dice every morning for a whole year"
   ]
  },
  {
   "cell_type": "code",
   "execution_count": 27,
   "metadata": {},
   "outputs": [],
   "source": [
    "# your code here\n",
    "frequencies = []\n",
    "for i in range(365):\n",
    "    rolls = random.choices(sample_space, k=100)\n",
    "    frequency_fours = rolls.count(4) / len(rolls)\n",
    "    \n",
    "    frequencies.append(frequency_fours)"
   ]
  },
  {
   "cell_type": "code",
   "execution_count": 29,
   "metadata": {},
   "outputs": [
    {
     "data": {
      "text/plain": [
       "[0.16, 0.16, 0.14, 0.19, 0.18, 0.2, 0.12, 0.24, 0.13, 0.12]"
      ]
     },
     "execution_count": 29,
     "metadata": {},
     "output_type": "execute_result"
    }
   ],
   "source": [
    "# lets show some frequencies\n",
    "frequencies[:10]"
   ]
  },
  {
   "cell_type": "code",
   "execution_count": 28,
   "metadata": {},
   "outputs": [
    {
     "data": {
      "text/plain": [
       "<seaborn.axisgrid.FacetGrid at 0x7fb49c936c10>"
      ]
     },
     "execution_count": 28,
     "metadata": {},
     "output_type": "execute_result"
    },
    {
     "data": {
      "image/png": "[encoded data removed]",
      "text/plain": [
       "<Figure size 360x360 with 1 Axes>"
      ]
     },
     "metadata": {
      "needs_background": "light"
     },
     "output_type": "display_data"
    }
   ],
   "source": [
    "sns.displot(frequencies)"
   ]
  },
  {
   "cell_type": "markdown",
   "metadata": {},
   "source": [
    "Lets throw 10000 dice every morning for a whole year"
   ]
  },
  {
   "cell_type": "code",
   "execution_count": 30,
   "metadata": {},
   "outputs": [],
   "source": [
    "# your code here\n",
    "frequencies = []\n",
    "for i in range(365):\n",
    "    rolls = random.choices(sample_space, k=10000)\n",
    "    frequency_fours = rolls.count(4) / len(rolls)\n",
    "    \n",
    "    frequencies.append(frequency_fours)"
   ]
  },
  {
   "cell_type": "code",
   "execution_count": 31,
   "metadata": {},
   "outputs": [
    {
     "data": {
      "text/plain": [
       "[0.167, 0.1611, 0.1667, 0.1648, 0.1654, 0.169, 0.1676, 0.1679, 0.164, 0.1582]"
      ]
     },
     "execution_count": 31,
     "metadata": {},
     "output_type": "execute_result"
    }
   ],
   "source": [
    "frequencies[:10]"
   ]
  },
  {
   "cell_type": "code",
   "execution_count": 32,
   "metadata": {},
   "outputs": [
    {
     "data": {
      "text/plain": [
       "<seaborn.axisgrid.FacetGrid at 0x7fb49c46d0a0>"
      ]
     },
     "execution_count": 32,
     "metadata": {},
     "output_type": "execute_result"
    },
    {
     "data": {
      "image/png": "[encoded data removed]",
      "text/plain": [
       "<Figure size 360x360 with 1 Axes>"
      ]
     },
     "metadata": {
      "needs_background": "light"
     },
     "output_type": "display_data"
    }
   ],
   "source": [
    "sns.displot(frequencies)"
   ]
  },
  {
   "cell_type": "markdown",
   "metadata": {},
   "source": [
    "## Laplace Rule"
   ]
  },
  {
   "cell_type": "markdown",
   "metadata": {},
   "source": [
    "(Intuitive)"
   ]
  },
  {
   "cell_type": "markdown",
   "metadata": {},
   "source": [
    "If every outcome in $\\Omega$ occurs with the **same probability** then the probability of any event is simply\n",
    "\n",
    "$P(event)=\\frac {\\text{number of outcomes in event}}{\\text{number of outcomes in sample space}}$"
   ]
  },
  {
   "cell_type": "markdown",
   "metadata": {},
   "source": [
    "**Example experiment**: flipping two coins"
   ]
  },
  {
   "cell_type": "markdown",
   "metadata": {},
   "source": [
    "<img src=\"https://qph.fs.quoracdn.net/main-qimg-7de41d4aee9953bdb442e36b187ffc6f\" width=150>\n",
    "<img src=\"https://qph.fs.quoracdn.net/main-qimg-7de41d4aee9953bdb442e36b187ffc6f\" width=150>"
   ]
  },
  {
   "cell_type": "markdown",
   "metadata": {},
   "source": [
    "The sample space is $\\Omega = \\{HH, HT, TH, TT\\}$"
   ]
  },
  {
   "cell_type": "markdown",
   "metadata": {},
   "source": [
    "$P(\\text{one of each}) = \\frac{2}{4}$"
   ]
  },
  {
   "cell_type": "markdown",
   "metadata": {},
   "source": [
    "$P(\\text{both the same}) = \\frac{2}{4}$"
   ]
  },
  {
   "cell_type": "markdown",
   "metadata": {},
   "source": [
    "**Example experiment**: rolling a die"
   ]
  },
  {
   "cell_type": "markdown",
   "metadata": {},
   "source": [
    "<img src=\"data:image/jpeg;base64,/9j/4AAQSkZJRgABAQAAAQABAAD/2wCEAAkGBxEHEhUSExIWFRUTFhYVGBIXFxYWFhMTFRUYIhUaGBMYHiggGRolHhUVITEtJSkrLjAuGB8zODMvQygtMCsBCgoKBQUFDgUFDisZExkrKysrKysrKysrKysrKysrKysrKysrKysrKysrKysrKysrKysrKysrKysrKysrKysrK//AABEIAMEBBQMBIgACEQEDEQH/xAAbAAEAAwEBAQEAAAAAAAAAAAAAAwQFBgIBB//EADkQAAICAQMCBAQEBAUEAwAAAAABAgMRBAUhEjEGE0FRMmFxgSJCkbEUUmKhIzPR4fBygpLBB1Oy/8QAFAEBAAAAAAAAAAAAAAAAAAAAAP/EABQRAQAAAAAAAAAAAAAAAAAAAAD/2gAMAwEAAhEDEQA/AOxAAAAAAAAAAAAAAAAAAAAAAAAAAAAAAAAAAAAAAAAAAAAAAAAAAAAAAAAAAAAu6LbZ6nn4Y+79fogKQNx7NBdpSz9v2wZms0UtK+eV6S/19gKwAAAAAD1CDsaSWW/Q+b5bV4dp8/UzcY9UYpQg7JOUuywvoB8BY01MdwqjdRNWQlnElxlJtPHo1lPt9iu1gAAAAAAAAAAAAAAAAAAAAAAAAAAAAAA0Nn0i1Mm5LMY+nu/QqaSO7rXz8zyf4Jv8OMdUYKL6UkvxObk1ly4xF478XdtscIvDxz/6Rq0atT79/cDA0L3Za6zzVR/BYfQ1/mLj8Pz6st5zx7HnR27lPVXQ1FVP8Jz5dkZfi6V8KcctuT9c4x6HR36iNSy2cn4q3y6NM/4eHVPGIxbSTbaWW/Zd/sB7ynnHo8A4vcd31WzV6dynGVrUvNWF0za6fbDWM4yjb2HxFVvC6fgsXet+vzi/Vf3A2R3BJp+JR+q/cCfe6tbtem6tFTXbqHKOVY8JQfxY/FHLXHqu79sGrpa5a6mK1NMOqSzOp4sgnnhZaxJ4x98nqnV9PD5M3xZsdm+xr8rWWaZ1zU8wy1P+mUVKOV68vHugHijXanZ6oPR6Tz31KMoRaj5deHyo8Z5wscIi1zcownKHlzml1V5T6XjOG1w2uxet162+EYubskkk5vGZNLlvCSy3zwjjJbxqdfq5wdXTRXHi1952PHwL+VJsDaBx20eNVJ9GoilzjzY5x/3Q9Pqv0OwjJTSaaaaymuU17pgfQAAAAAAAAAAAAAAAAAAAAAAAAABY0dvlvHoyPaNsltdl7VrnXbZ5kK5cuqUs+YlLPMW3nHpyRk1WpdXzXt/uB53jUvtnCXJgLWQuj1xknH0kmnFr36lwU/HG6V21zqshdBTWG4xxlZ5XW/w4fZ8nB3bm74RprxCqKwq08tr+p+oF7f8Ac1uVmY/BD8Mfn7v78foZ9HWpR8vPXldOO/VnjHzyaW1+G9TuGMVuEX+eeYr9Hy/sjuti8O1bR+L47P8A7H6f9K9P3A1623FdXfCz9ccnpAAfd2qv1tcJaezotrsjPD+C2Kypwn8mnn6pGtfe6otmVXNweUfNy3WGng3P8K9ZYbj+q7fcDjtz0Ordl90L82WYrqjJvopryuqXTynPvzgzNbvGp2+coSa8uFahGckuu+5xWZ8dorMvRcr5lXXbrXRqLNRCyV05LogsONdUOOF/M8xzwYlltu42ZfVOcuySbePZRXoB87ncf/Hd9ko2wbbrj0uOe0ZPOUvqucf6lHZPBlmoxK//AA4/yfnl9f5f3O50mlhooKFcVGK7Jfv82BMAAAAAAAAAAAAAAAAAAAAAAAAAAABPpdJPVP8ACuPV9kvuBB3Piio9kl9jUls00vii/lz+5QuplQ8SWH+4EYAAAAAAS2UeRW7bJRqrjy52S6Ul9X9UBnW7Vp7nmVFTfu64N/rgn0+nhpliEIwXtGKj/ZFv+GcoqcXGcGk1KDysNcMhAAAAAAAAAAAAAAAAAAAAAAAAAAAAAALm2aP+Llz8K5b/AGRFt+76566zTy0PRpY58vUJ8NJPDbzh9Twkksrlsi1ur1Who8zSwVk42xcq33nVx1qPPxYeV9Dp6NSrV7MCRs4/bfEVm96m/S26K2lVOXRdJPpkovCbk0knLhpJy4z7HXW2KC5ZibjvC5jD9QM98Z+TwDnd88QS2eVb6FOM+vqWcSWOnlPt+Z9zW2vc6t1h11SzjvF8Si/Zx/4gLgB9j3Asayb2bTS1XkTvlFJxpgsyeWlnGH2zl8PjPBX3Xda902133aG6yMlFvSOL8xyU1h4X4kk11J4Txzgt6LxDYtZZpLKnGKhGyq1Z6bIcKS7YUk/TPYu+JKdTqtPJaO2FVrxiyayor1xw/wAX1TAx9HutOw7dG+nRXRhjK0yg/M6pyeXJS5Szltv05JI6iO4Uw1Ea51eZ3rsXTKLy1zH7fo0ae33W6GiK1VkZ2rPVKCxFtt4ST57YXzOU37xVG2+miEXN2tvMeYwhHvKUu3dYA0wYGh8V03WSqs/w5RnKCbeYScZNL8X5c49TfAAAAAAAAAAAAAAAAAAAAAAAAAAAC1obuh4fZ/uR7LTqdHO6N1isg7HOmX51XLlwksflfC78YISpvOjluSqlG2VVlFishYk2mu04yiu6aA1N41b+E4+vVam7VTTgoaeuOE3jqtseH1L2iuUau9b5p023dWsenXFvPthcnC7x4mlqcxpzGP8AO+JP6L0+vcD74t161dqhHlVppv8AqfxL7YRl7dr7NtsVlbxJenpJesWvVM+bboLdwfTXCU37rsvrJ8L7s7rYPCUNC1Zdidi5UV8EH9/ifz7fuB0sZdSTxjKzj2PqAAk3i7UT08pabpd0cSjCXafS05R9syiml82jR0mqlOtSlFwbim4PvFtcp/NdjOptdbKVFlmkuvlO9SptUXXXJ4lVZjEox9HB4T7/AO4ZO836jc7ra5Yr03luPmJ4sc5JZcX+VRTfL9TDhude2QphpYRlp4xk5XZ/Coxb4T/NOU8kniDWKNtnnXRdEq3BaeDzOxy+JyxyvVLk5LXbg9UowjFV1Q4jUuyS7N+7/wBQI7rHdKUn3k3J/VvL/c7PwDu1l0np5PqjGHVFvlxSaTjn25WPY5raNlv3d/4cPw+tkuIL7+r+SP0XYdiq2WOI/inL4rH3fyS9F/xgaoAAAAAAAAAAAAAAAAAAAAAAAAAAAHqEHY8JZfsgKWt2yjXc2VQm16tc/wDkuStX4d0dfaiH3zL/APTZvPb7Us9D/VftkrNYA8VwVaxFJJeiWF+i4PQAAAADxbVG5OMoqUXw4ySaf1TPZLVpp3fDFv544/UDm7vB2iteVU4fKEpRX6ZwiXSeFdHpXlUqTXrNyn/aTx/Y3raJU/FFr6kYHxLp4XZcY9F9j6AAAAAAAAAAAAAAAAAAAAAAAAAAAAFjQ6V6uXSu3dv2R0FGmjpViK+r9X9zO2mzyYt+7/ska8Jq1cfoBz20eMdJu+pt0lUpO2mU4yTi0m62lNp+ybSy0vlk09w0S1Cz2l7/APplmNMKm5KKTl3aSTePd+pieJfEtOy1TsnLCj3ffl9kl6tsCi1gGJb4jp0vlOxTir11xljPTnHEo918XzNim2N8VKMlKL5Uk8pr5MD2Aeqo9Ukvdpf3AsydG1UvU6qahXHHfPOXxwuW2+El3IbNXq93uVdVVUtvurkv4qu5xsxKLT6OnlNSyuF6dy7pN10viCV+lsqT8iahOu2KlFrGYSSeU4v0+hH4h1er2ZUx0WhjfDLjKMZwq8uCx09KeFzz9MAQQ02j8BaKfU7XTFuTc3K2TcsLjjhcL2X6kNV1etqrvq6vLuXVHqTjJJ+jTLe1eH4bPddqXqL5u/MnXZNSrg28vpWM8dlzwuDN3fxFTdfHTRl/iYc+lJvEV6t9ogTAz9t3mjc+K5/iWcwfEljvw+6+aNAAAAAAAAAAAAAAAAAAAAAAAAAAAAItdu0tpr6/Lc4KcfM6fihXLiU0vXp4bXtkqQ3TcVYmqeKtQ67YL4btNZjy7q5S9Y8ZWTRi+kv0atSXPD/56gZXjTd9Tp6nHTQ67JNRWfhjn80v6Ucbr98jHzVqaeqrTqHVY458294wq4S7rLfPyOi8Zam6uuT08VKxtJOTSjHPeTz3wuTjd235QrjVmN1kVHqnhOCmu8kuzeeQK/ifcVuEq8RccQy4vvF2YfS/mkl+pFsO+WbNPKzKtv8AFXnh/Ne0jJhJ2v1cpP6tt/uzrdg8HTvanqE4Q7+V+eX/AFfyr+/0A7uuasipLtJJr6NcHuLw0eUscei9D6B723cqtbqb4KvouqjXmTSzZTJZhJSXLin1LnsyfZdy1Ld8NRX0uqxquxJqNtMuYSWW+UuH8yPTXeU+3yz6pfUr7fqNRLz43qOIzfk2xwlZVLlZjniUezz9QMLfvE91VtspVtaemGevnqtsljpjWs4xykZVO96ei15rcL7KldYsZcIxS6Yzn6Ptwvl8ibcN0tp1ElOMYaauP+ZLvZY8NdPPZc+nochu+6LXTl0R6VJrqePxWOK4cn7LHC+gFZWOMupNp5ymnhp/Jn6F4P3+W6p12c2QWer+eOcZaXZ5x9cnBaDR2bhLoqg5S9l6L3b9F9T9F8MeH1sycpS6rJpJtdor2Xvz6/JAbgAAAAAAAAAAAAAAAAAAAAAAAAAABrIAGJunhbT7j364P+iT6X/2SzH9EZ1XgLTQfNlrXtmC/aJ1gAobbs2n2z/KqjF/zfFL/wApZZfAAAAAQarSx1Kw3KP9UJOEl913++ScAcjrPA61Uup6qx+3Wutr75X7Emj8C6ap5nOdnyyox/tz/c6oAQ6XS16OPTXCMI+0Vhf7/cmAAAAAAAAAAAAAAAAAAAAAAAAAAAAAAAAAAAAAAAAAAAAAAAAAAAAAAAAAAAAAAAAAAAAAAAAAAAAAAAAAAAAAAAAAAAAAAAAAAAAAAAAAA//Z\" width=300>"
   ]
  },
  {
   "cell_type": "markdown",
   "metadata": {},
   "source": [
    "The sample space is $\\Omega = \\{1, 2, 3, 4, 5, 6\\}$"
   ]
  },
  {
   "cell_type": "markdown",
   "metadata": {},
   "source": [
    "$P(\\text{odd}) = \\frac{3}{6}$"
   ]
  },
  {
   "cell_type": "markdown",
   "metadata": {},
   "source": [
    "$P(\\text{bigger than 4}) = \\frac{2}{6}$"
   ]
  },
  {
   "cell_type": "markdown",
   "metadata": {},
   "source": [
    "**Example experiment**: draw a ball from the bag"
   ]
  },
  {
   "cell_type": "markdown",
   "metadata": {},
   "source": [
    "<img src=\"data:image/jpeg;base64,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\" width=100>"
   ]
  },
  {
   "cell_type": "markdown",
   "metadata": {},
   "source": [
    "$\\Omega = \\{B, B, B, R, R, R, R, R, R, R, G, G, G, G, G, G, G, G, G, G\\}$"
   ]
  },
  {
   "cell_type": "markdown",
   "metadata": {},
   "source": [
    "3 blue, 7 red, 10 green"
   ]
  },
  {
   "cell_type": "markdown",
   "metadata": {},
   "source": [
    "$P(red)=\\frac{7}{20}$"
   ]
  },
  {
   "cell_type": "markdown",
   "metadata": {},
   "source": [
    "$P(blue)=\\frac{3}{20}$"
   ]
  },
  {
   "cell_type": "markdown",
   "metadata": {},
   "source": [
    "**Example experiment**: 3 letter words with letters A, B, C, once each"
   ]
  },
  {
   "cell_type": "markdown",
   "metadata": {},
   "source": [
    "$\\Omega = \\{ABC, ACB, BAC, BCA, CAB, CBA\\}$"
   ]
  },
  {
   "cell_type": "markdown",
   "metadata": {},
   "source": [
    "$P(\\text{starts with A})=\\frac{2}{6}$"
   ]
  },
  {
   "cell_type": "markdown",
   "metadata": {},
   "source": [
    "$P(\\text{contains an A})=\\frac{6}{6} = 1$"
   ]
  },
  {
   "cell_type": "markdown",
   "metadata": {},
   "source": [
    "**Example experiment**: what is the probability of winning the lottery. Numbers 00000 to 99999"
   ]
  },
  {
   "cell_type": "code",
   "execution_count": 33,
   "metadata": {},
   "outputs": [
    {
     "data": {
      "text/plain": [
       "1e-05"
      ]
     },
     "execution_count": 33,
     "metadata": {},
     "output_type": "execute_result"
    }
   ],
   "source": [
    "1 / 100000"
   ]
  },
  {
   "cell_type": "markdown",
   "metadata": {},
   "source": [
    "**Exercise**: tiro un dado. Borja tira otro. Cuál es la probabilidad de que el número de Borja sea mayor que el mío"
   ]
  },
  {
   "cell_type": "code",
   "execution_count": 47,
   "metadata": {},
   "outputs": [
    {
     "data": {
      "text/plain": [
       "0.4166666666666667"
      ]
     },
     "execution_count": 47,
     "metadata": {},
     "output_type": "execute_result"
    }
   ],
   "source": [
    "15 / 36"
   ]
  },
  {
   "cell_type": "markdown",
   "metadata": {},
   "source": [
    "$P(borja) + P(manu) + P(empate) = 1$"
   ]
  },
  {
   "cell_type": "markdown",
   "metadata": {},
   "source": [
    "$2 * P(borja)  + P(empate) = 1$"
   ]
  },
  {
   "cell_type": "markdown",
   "metadata": {},
   "source": [
    "$2 * P(borja)  + \\frac{1}{6} = 1$"
   ]
  },
  {
   "cell_type": "markdown",
   "metadata": {},
   "source": [
    "$P(borja)  = \\frac{5}{12}$"
   ]
  },
  {
   "cell_type": "markdown",
   "metadata": {},
   "source": [
    "Lets simulate *to check*"
   ]
  },
  {
   "cell_type": "code",
   "execution_count": 64,
   "metadata": {},
   "outputs": [],
   "source": [
    "b_wins, m_wins = 0, 0\n",
    "\n",
    "for _ in range(10000):\n",
    "    b = random.choice([1, 2, 3, 4, 5, 6])\n",
    "    m = random.choice([1, 2, 3, 4, 5, 6])\n",
    "\n",
    "    if b > m:\n",
    "        b_wins += 1\n",
    "    elif m > b:\n",
    "        m_wins += 1\n",
    "    else:\n",
    "        pass"
   ]
  },
  {
   "cell_type": "code",
   "execution_count": 66,
   "metadata": {},
   "outputs": [
    {
     "data": {
      "text/plain": [
       "4083"
      ]
     },
     "execution_count": 66,
     "metadata": {},
     "output_type": "execute_result"
    }
   ],
   "source": [
    "b_wins"
   ]
  },
  {
   "cell_type": "code",
   "execution_count": 67,
   "metadata": {},
   "outputs": [
    {
     "data": {
      "text/plain": [
       "4274"
      ]
     },
     "execution_count": 67,
     "metadata": {},
     "output_type": "execute_result"
    }
   ],
   "source": [
    "m_wins"
   ]
  },
  {
   "cell_type": "code",
   "execution_count": 69,
   "metadata": {},
   "outputs": [
    {
     "data": {
      "text/plain": [
       "0.4166666666666667"
      ]
     },
     "execution_count": 69,
     "metadata": {},
     "output_type": "execute_result"
    }
   ],
   "source": [
    "5 / 12"
   ]
  },
  {
   "cell_type": "code",
   "execution_count": 68,
   "metadata": {},
   "outputs": [
    {
     "data": {
      "text/plain": [
       "0.4274"
      ]
     },
     "execution_count": 68,
     "metadata": {},
     "output_type": "execute_result"
    }
   ],
   "source": [
    "m_wins / 10000"
   ]
  },
  {
   "cell_type": "markdown",
   "metadata": {},
   "source": [
    "## Compound events"
   ]
  },
  {
   "cell_type": "markdown",
   "metadata": {},
   "source": [
    "### Union, intersection"
   ]
  },
  {
   "cell_type": "markdown",
   "metadata": {},
   "source": [
    "$A$ and $B$ are events  \n",
    "\n",
    "$A \\cap B$ (A intersection B) is another event, that happens if **both** $A$ and $B$ happen: AND  \n",
    "\n",
    "$A \\cup B$ (A union B) is another event, that happens if **any** of $A$, $B$ happens: OR  "
   ]
  },
  {
   "cell_type": "markdown",
   "metadata": {},
   "source": [
    "Imagine  \n",
    "Experiment: dice rolling  \n",
    "$\\Omega=\\{1, 2, 3, 4, 5, 6\\}$  \n",
    "$A=\\{1, 2, 3\\}$  \n",
    "$B=\\{2, 4, 6\\}$  "
   ]
  },
  {
   "cell_type": "markdown",
   "metadata": {},
   "source": [
    "$A \\cup B = \\{1, 2, 3, 4, 6\\}$"
   ]
  },
  {
   "cell_type": "markdown",
   "metadata": {},
   "source": [
    "$A \\cap B = \\{2\\}$"
   ]
  },
  {
   "cell_type": "markdown",
   "metadata": {},
   "source": [
    "<img src=\"https://www.researchgate.net/publication/332453167/figure/fig1/AS:748486492450816@1555464494152/A-Venn-diagram-of-unions-and-intersections-for-two-sets-A-and-B-and-their-complements.png\" width=500>"
   ]
  },
  {
   "cell_type": "markdown",
   "metadata": {},
   "source": [
    "**Example experiment**: draw one card from the deck"
   ]
  },
  {
   "cell_type": "markdown",
   "metadata": {},
   "source": [
    "<img src=\"https://upload.wikimedia.org/wikipedia/commons/7/71/Spanish_deck_Fournier.jpg\" width=600>"
   ]
  },
  {
   "cell_type": "markdown",
   "metadata": {},
   "source": [
    "$P(king)=\\frac{4}{40}$"
   ]
  },
  {
   "cell_type": "markdown",
   "metadata": {},
   "source": [
    "$P(oro)=\\frac{10}{40}$"
   ]
  },
  {
   "cell_type": "markdown",
   "metadata": {},
   "source": [
    "$P(king \\cap oro)=\\frac{1}{40}$"
   ]
  },
  {
   "cell_type": "markdown",
   "metadata": {},
   "source": [
    "$P(king \\cup oro)=\\frac{13}{40}$"
   ]
  },
  {
   "cell_type": "markdown",
   "metadata": {},
   "source": [
    "$$P(A \\cup B)=P(A)+P(B)-P(A \\cap B)$$"
   ]
  },
  {
   "cell_type": "markdown",
   "metadata": {},
   "source": [
    "### Opposite"
   ]
  },
  {
   "cell_type": "markdown",
   "metadata": {},
   "source": [
    "$A$ is an event\n",
    "\n",
    "$\\overline{A}$ is the opposite event (also called $A'$ in former image)"
   ]
  },
  {
   "cell_type": "markdown",
   "metadata": {},
   "source": [
    "$P(\\text{oro})=\\frac{10}{40}$"
   ]
  },
  {
   "cell_type": "markdown",
   "metadata": {},
   "source": [
    "$P(\\text{no oro})=\\frac{30}{40}$"
   ]
  },
  {
   "cell_type": "markdown",
   "metadata": {},
   "source": [
    "$$P(\\overline{A}) = 1-P(A)$$"
   ]
  },
  {
   "cell_type": "markdown",
   "metadata": {},
   "source": [
    "**Experimento**: lanzar 3 penaltis. Probabilidad 1/2 de marcar cada uno. Cual es la probabilidad de marcar al menos uno?"
   ]
  },
  {
   "cell_type": "markdown",
   "metadata": {},
   "source": [
    "$\\Omega=\\{111, 110, 101, 011, 100, 010, 001, 000 \\}$"
   ]
  },
  {
   "cell_type": "markdown",
   "metadata": {},
   "source": [
    "$C$: fallar todos  \n",
    "$P(C)=\\frac{1}{8}$  \n",
    "\n",
    "$\\overline{C}$: no fallar todos: marcar al menos 1  \n",
    "P($\\overline{C}) = 1 - \\frac{1}{8}=\\frac{7}{8}$"
   ]
  },
  {
   "cell_type": "markdown",
   "metadata": {},
   "source": [
    "## Conditional probability"
   ]
  },
  {
   "cell_type": "markdown",
   "metadata": {},
   "source": [
    "### Intiuition"
   ]
  },
  {
   "cell_type": "markdown",
   "metadata": {},
   "source": [
    "$P(A|B)$ is the probability of $A$ happening, knowing that $B$ happened"
   ]
  },
  {
   "cell_type": "markdown",
   "metadata": {},
   "source": [
    "<img src=\"probability_cats.jpg\" width=500>"
   ]
  },
  {
   "cell_type": "markdown",
   "metadata": {},
   "source": [
    "Give approximate answers:\n",
    " * What is the probability of a cat being a female?\n",
    " * What is the probability of a cat being 3 coloured?\n",
    " * What is the probability of a cat being a female and 3 coloured?\n",
    " * Given that a cat is female, what is the probability of it being 3 coloured?\n",
    " * Given that a cat is 3 coloured, what is the probability of it being female?"
   ]
  },
  {
   "cell_type": "markdown",
   "metadata": {},
   "source": [
    "$P(\\text{female}) \\sim \\frac{1}{2}$"
   ]
  },
  {
   "cell_type": "markdown",
   "metadata": {},
   "source": [
    "$P(\\text{3coloured}) \\sim \\frac{1}{10}$"
   ]
  },
  {
   "cell_type": "markdown",
   "metadata": {},
   "source": [
    "$P(\\text{3coloured} \\cap \\text{female}) \\sim \\text{a little less than} \\frac{1}{10}$"
   ]
  },
  {
   "cell_type": "markdown",
   "metadata": {},
   "source": [
    "$P(\\text{3coloured} | \\text{female}) \\sim \\frac{1}{5}$"
   ]
  },
  {
   "cell_type": "markdown",
   "metadata": {},
   "source": [
    "$P(\\text{female} | \\text{3coloured}) \\sim 0.95 $"
   ]
  },
  {
   "cell_type": "markdown",
   "metadata": {},
   "source": [
    "### Formal definition"
   ]
  },
  {
   "cell_type": "markdown",
   "metadata": {},
   "source": [
    "<img src=\"probability_cats.jpg\" width=500>"
   ]
  },
  {
   "cell_type": "markdown",
   "metadata": {},
   "source": [
    "$$P(A|B)=\\frac{P(A \\cap B)}{P(B)}$$"
   ]
  },
  {
   "cell_type": "markdown",
   "metadata": {},
   "source": [
    "$$P(\\text{female} | \\text{3coloured})=\\frac{P(\\text{3coloured} \\cap \\text{female})}{P(\\text{3coloured})} = \\frac{almost 1/10}{1/10} \\sim 0.95$$"
   ]
  },
  {
   "cell_type": "markdown",
   "metadata": {},
   "source": [
    "$$P(\\text{3coloured} | \\text{female})=\\frac{P(\\text{3coloured} \\cap \\text{female})}{P(\\text{female})}$$"
   ]
  },
  {
   "cell_type": "markdown",
   "metadata": {},
   "source": [
    "$$P(\\text{3coloured} \\cap \\text{female}) = P(\\text{female}) * P(\\text{3coloured} | \\text{female})$$"
   ]
  },
  {
   "cell_type": "markdown",
   "metadata": {},
   "source": [
    "## Compound events cont."
   ]
  },
  {
   "cell_type": "markdown",
   "metadata": {},
   "source": [
    "### Independent events"
   ]
  },
  {
   "cell_type": "markdown",
   "metadata": {},
   "source": [
    "If several events are independent, the probability of them ocurring **all** is the product of their probabilities"
   ]
  },
  {
   "cell_type": "markdown",
   "metadata": {},
   "source": [
    "$A$, $B$ independent $\\Rightarrow$ $P(A \\cap B)=P(A) * P(B)$"
   ]
  },
  {
   "cell_type": "markdown",
   "metadata": {},
   "source": [
    "**Exercise**: What is the probability of rolling three dice and getting three fives?"
   ]
  },
  {
   "cell_type": "markdown",
   "metadata": {},
   "source": [
    "$P(3 fives) = \\frac{1}{6} * \\frac{1}{6} * \\frac{1}{6} = \\frac{1}{216}$"
   ]
  },
  {
   "cell_type": "markdown",
   "metadata": {},
   "source": [
    "**Exercise**: We draw a card from the deck and put it back. We draw again a card. What is the probability of having drawn two Aces?"
   ]
  },
  {
   "cell_type": "markdown",
   "metadata": {},
   "source": [
    "$P(2 aces) = \\frac{1}{10} * \\frac{1}{10} = \\frac{1}{100}$"
   ]
  },
  {
   "cell_type": "markdown",
   "metadata": {},
   "source": [
    "### Dependent events"
   ]
  },
  {
   "cell_type": "markdown",
   "metadata": {},
   "source": [
    "If several events are dependent, the probability of them ocurring all is **not** the product of their probabilities"
   ]
  },
  {
   "cell_type": "markdown",
   "metadata": {},
   "source": [
    "$A$, $B$ dependent $\\Rightarrow$ $P(A \\cap B)=P(A) * P(B|A)$"
   ]
  },
  {
   "cell_type": "markdown",
   "metadata": {},
   "source": [
    "**Exercise**: We draw two cards from the deck. What is the probability of having drawn two Aces?"
   ]
  },
  {
   "cell_type": "markdown",
   "metadata": {},
   "source": [
    "$P(1stace \\cap 2nd ace) = P(1stace) * P(2ndace|1stace) = \\frac{1}{10} * \\frac{3}{39} = \\frac{1}{130}$"
   ]
  },
  {
   "cell_type": "markdown",
   "metadata": {},
   "source": [
    "**NOTE**: if $A$ does no affect $B$ (they are independent), then obviously $P(B|A)=P(B)$, and we get the Independent formula above as a particular case."
   ]
  },
  {
   "cell_type": "markdown",
   "metadata": {},
   "source": [
    "**Exercise**: what is the probability of drawing 4 kings?"
   ]
  },
  {
   "cell_type": "code",
   "execution_count": 70,
   "metadata": {},
   "outputs": [],
   "source": [
    "p = 4 / 40 * 3 / 39 * 2 / 38 * 1 / 37"
   ]
  },
  {
   "cell_type": "code",
   "execution_count": 77,
   "metadata": {},
   "outputs": [
    {
     "data": {
      "text/plain": [
       "1.0942116205274103e-05"
      ]
     },
     "execution_count": 77,
     "metadata": {},
     "output_type": "execute_result"
    }
   ],
   "source": [
    "p"
   ]
  },
  {
   "cell_type": "code",
   "execution_count": 78,
   "metadata": {},
   "outputs": [
    {
     "data": {
      "text/plain": [
       "91390"
      ]
     },
     "execution_count": 78,
     "metadata": {},
     "output_type": "execute_result"
    }
   ],
   "source": [
    "# one every X times\n",
    "round(1 / p)"
   ]
  },
  {
   "cell_type": "markdown",
   "metadata": {},
   "source": [
    "## Probability Tree"
   ]
  },
  {
   "cell_type": "markdown",
   "metadata": {},
   "source": [
    "**Motivation Exercise**"
   ]
  },
  {
   "cell_type": "markdown",
   "metadata": {},
   "source": [
    "La probabilidad de dar a un vaso con una piedra es 1/3  \n",
    "Tiro 3 piedras  \n",
    "Cuál es la probabilidad de romper el vaso?    "
   ]
  },
  {
   "cell_type": "markdown",
   "metadata": {},
   "source": [
    "Hay varias formas de romper"
   ]
  },
  {
   "cell_type": "code",
   "execution_count": null,
   "metadata": {},
   "outputs": [],
   "source": [
    "# dar en la primera\n",
    "1 / 3\n",
    "# fallar la primera y dar la segunda\n",
    "2 / 3 * 1 / 3\n",
    "# fallar las dos primeras y dar a la tercera\n",
    "2 / 3 * 2 / 3 * 1 / 3"
   ]
  },
  {
   "cell_type": "markdown",
   "metadata": {},
   "source": [
    "$9 / 27 + 6 / 27 + 4 / 27 = 19/27$"
   ]
  },
  {
   "cell_type": "markdown",
   "metadata": {},
   "source": [
    "$P(no romper) = \\frac{2}{3} * \\frac{2}{3} * \\frac{2}{3} = \\frac{8}{27}$"
   ]
  },
  {
   "cell_type": "markdown",
   "metadata": {},
   "source": [
    "$P(romper) = 1 - P(noromper) = \\frac{19}{27}$"
   ]
  },
  {
   "cell_type": "code",
   "execution_count": null,
   "metadata": {},
   "outputs": [],
   "source": []
  },
  {
   "cell_type": "markdown",
   "metadata": {},
   "source": [
    "If something can happen for **more than one reason**, you have to take all probabilities into account"
   ]
  },
  {
   "cell_type": "markdown",
   "metadata": {},
   "source": [
    "**Example**"
   ]
  },
  {
   "cell_type": "markdown",
   "metadata": {},
   "source": [
    "You are one of your soccer team's Goalkeeper. You have 2 coaches.  \n",
    "\n",
    "With Coach Sam the probability of you playing is 0.5.  \n",
    "With Coach Alex the probability of playing is 0.3.  \n",
    "\n",
    "Sam is Coach more often: about 6 out of every 10 games (a probability of 0.6)."
   ]
  },
  {
   "cell_type": "markdown",
   "metadata": {},
   "source": [
    "**Exercise**: what is the probability of you playing today?"
   ]
  },
  {
   "cell_type": "markdown",
   "metadata": {},
   "source": [
    "<img src=\"https://www.mathsisfun.com/data/images/tree-diagram-ex1-3.svg\" width=200>"
   ]
  },
  {
   "cell_type": "markdown",
   "metadata": {},
   "source": [
    "$P(play) = P(sam) * P(play | sam) + P(alex) * P(play | alex)$"
   ]
  },
  {
   "cell_type": "code",
   "execution_count": 85,
   "metadata": {},
   "outputs": [],
   "source": [
    "p = 0.6 * 0.5 + 0.4 * 0.3"
   ]
  },
  {
   "cell_type": "code",
   "execution_count": 86,
   "metadata": {},
   "outputs": [
    {
     "data": {
      "text/plain": [
       "0.42"
      ]
     },
     "execution_count": 86,
     "metadata": {},
     "output_type": "execute_result"
    }
   ],
   "source": [
    "p"
   ]
  },
  {
   "cell_type": "markdown",
   "metadata": {},
   "source": [
    "$P(B)=\\sum P(A_i) * P(B | A_i)$"
   ]
  },
  {
   "cell_type": "markdown",
   "metadata": {},
   "source": [
    "**Exercise**:\n",
    " * The probability of getting a salary raise in 2021 is 20%  \n",
    " * If I get salary raise, the probability of buying a house is 70%  \n",
    " * If I get no salary raise, the probability of buying a house is 20%  \n",
    " \n",
    "What is the probability of me owning a house in 2022?"
   ]
  },
  {
   "cell_type": "markdown",
   "metadata": {},
   "source": [
    "What is the probability of me not owing a house in 2022?"
   ]
  },
  {
   "cell_type": "code",
   "execution_count": null,
   "metadata": {},
   "outputs": [],
   "source": []
  },
  {
   "cell_type": "markdown",
   "metadata": {},
   "source": [
    "$P(house) = P(raise) * P(house | raise) + P(noraise) * P(house | noraise)$"
   ]
  },
  {
   "cell_type": "markdown",
   "metadata": {},
   "source": [
    "<img src=\"./raise_house.png\" width=500>"
   ]
  },
  {
   "cell_type": "code",
   "execution_count": 88,
   "metadata": {},
   "outputs": [],
   "source": [
    "p = 0.14 + 0.16"
   ]
  },
  {
   "cell_type": "code",
   "execution_count": 89,
   "metadata": {},
   "outputs": [
    {
     "data": {
      "text/plain": [
       "0.30000000000000004"
      ]
     },
     "execution_count": 89,
     "metadata": {},
     "output_type": "execute_result"
    }
   ],
   "source": [
    "p"
   ]
  },
  {
   "cell_type": "markdown",
   "metadata": {},
   "source": [
    "**Exercise**: what is the probability of throwing two dice and obtaining a sum of 6?"
   ]
  },
  {
   "cell_type": "markdown",
   "metadata": {},
   "source": [
    "Options:  \n",
    "15  \n",
    "24  \n",
    "33  \n",
    "42  \n",
    "51  \n",
    "each with 1/36 probability"
   ]
  },
  {
   "cell_type": "code",
   "execution_count": 90,
   "metadata": {},
   "outputs": [
    {
     "data": {
      "text/plain": [
       "0.1388888888888889"
      ]
     },
     "execution_count": 90,
     "metadata": {},
     "output_type": "execute_result"
    }
   ],
   "source": [
    "5 / 36"
   ]
  },
  {
   "cell_type": "markdown",
   "metadata": {},
   "source": [
    "Why not consider 3 and 3 twice? And hence P(sum 6) would be 6/36?"
   ]
  },
  {
   "cell_type": "markdown",
   "metadata": {},
   "source": [
    "I cannot find a convincing answer, lets simulate..."
   ]
  },
  {
   "cell_type": "code",
   "execution_count": 100,
   "metadata": {},
   "outputs": [],
   "source": [
    "counter = 0\n",
    "\n",
    "for i in range(1000000):\n",
    "    if sum(random.choices([1, 2, 3, 4, 5, 6], k=2)) == 6:\n",
    "        counter += 1"
   ]
  },
  {
   "cell_type": "code",
   "execution_count": 101,
   "metadata": {},
   "outputs": [
    {
     "data": {
      "text/plain": [
       "139190"
      ]
     },
     "execution_count": 101,
     "metadata": {},
     "output_type": "execute_result"
    }
   ],
   "source": [
    "counter"
   ]
  },
  {
   "cell_type": "code",
   "execution_count": 102,
   "metadata": {},
   "outputs": [
    {
     "data": {
      "text/plain": [
       "0.13919"
      ]
     },
     "execution_count": 102,
     "metadata": {},
     "output_type": "execute_result"
    }
   ],
   "source": [
    "counter / 1000000"
   ]
  },
  {
   "cell_type": "code",
   "execution_count": 103,
   "metadata": {},
   "outputs": [
    {
     "data": {
      "text/plain": [
       "0.1388888888888889"
      ]
     },
     "execution_count": 103,
     "metadata": {},
     "output_type": "execute_result"
    }
   ],
   "source": [
    "5/36"
   ]
  },
  {
   "cell_type": "code",
   "execution_count": 104,
   "metadata": {},
   "outputs": [
    {
     "data": {
      "text/plain": [
       "0.16666666666666666"
      ]
     },
     "execution_count": 104,
     "metadata": {},
     "output_type": "execute_result"
    }
   ],
   "source": [
    "6/36"
   ]
  },
  {
   "cell_type": "markdown",
   "metadata": {},
   "source": [
    "5/36 wins. Use simulation if necessary to get **approximate** answers!"
   ]
  },
  {
   "cell_type": "markdown",
   "metadata": {},
   "source": [
    "## Bayes Theorem"
   ]
  },
  {
   "cell_type": "markdown",
   "metadata": {},
   "source": [
    "<img src=\"./raise_house.png\" width=500>"
   ]
  },
  {
   "cell_type": "markdown",
   "metadata": {},
   "source": [
    "If I bought a house, what is the probability that I got salary raised?"
   ]
  },
  {
   "cell_type": "markdown",
   "metadata": {},
   "source": [
    "$P(raise | house) = \\frac{P(raise \\cap house)}{P(house)} = \\frac{P(house \\cap raise)}{P(house)}= \\frac{P(house|raise) * P(raise)}{P(house)} = \\frac{0.7 * 0.2}{0.3} = \\frac{7}{15}$"
   ]
  },
  {
   "cell_type": "markdown",
   "metadata": {},
   "source": [
    "Useful when:\n",
    " * you know $P(B | A)$\n",
    " * you want $P(A | B)$"
   ]
  },
  {
   "cell_type": "markdown",
   "metadata": {},
   "source": [
    "Bayes Theorem:  $$P(A|B)={\\frac {P(B|A)P(A)}{P(B)}}$$"
   ]
  },
  {
   "cell_type": "markdown",
   "metadata": {},
   "source": [
    "A restaurant serves a lot of meals, of which:\n",
    " * 20% big meals\n",
    " * 80% little meals\n",
    " \n",
    " * Big meals probability of tipping is 80%  \n",
    " * Little meals probability of tipping is 60%\n",
    " \n",
    "If Johnattan received a tip in the last meal he served, what is the probability of it being a **big meal**?"
   ]
  },
  {
   "cell_type": "markdown",
   "metadata": {},
   "source": [
    "Write known probabilities"
   ]
  },
  {
   "cell_type": "markdown",
   "metadata": {},
   "source": [
    "$P(big)=0.2$  \n",
    "$P(little)=0.8$  \n",
    "$P(tip|big)=0.8$  \n",
    "$P(tip|little)=0.6$  "
   ]
  },
  {
   "cell_type": "markdown",
   "metadata": {},
   "source": [
    "Write what your are asked for"
   ]
  },
  {
   "cell_type": "markdown",
   "metadata": {},
   "source": [
    "$P(big|tip)$"
   ]
  },
  {
   "cell_type": "markdown",
   "metadata": {},
   "source": [
    "$$P(big|tip) = \\frac{P(big \\cap tip)}{P(tip)}$$"
   ]
  },
  {
   "cell_type": "markdown",
   "metadata": {},
   "source": [
    "$$P(big|tip) = \\frac{P(big \\cap tip)}{P(tip)} = \\frac{P(big) * P(tip|big)}{P(tip}= \\frac{0.2 * 0.8}{0.2 * 0.8 + 0.8*0.6} = \\frac{1}{4}$$"
   ]
  },
  {
   "cell_type": "markdown",
   "metadata": {},
   "source": [
    "## Summary"
   ]
  },
  {
   "cell_type": "markdown",
   "metadata": {},
   "source": [
    " * Probability lets us model uncertain experiments\n",
    " * Laplace rule lets us compute probability when we know all elements of sample space are equally possible\n",
    " * Compound events' probability might be computed from a series of multiplications, being aware of event dependance"
   ]
  },
  {
   "cell_type": "markdown",
   "metadata": {},
   "source": [
    "The main techniques used to solve probability problems are:\n",
    " * Laplace: favorable / total\n",
    " * Union: $P(A \\cup B)=P(A)+P(B)-P(A \\cap B)$\n",
    " * Intersection/multiplication: $P(A \\cap B)=P(A) * P(B|A)$\n",
    " * Probability tree: $P(B)=\\sum P(A_i) * P(B | A_i)$\n",
    " * Bayes Theorem : $P(A|B)={\\frac {P(B|A)P(A)}{P(B)}}$"
   ]
  }
 ],
 "metadata": {
  "kernelspec": {
   "display_name": "Python 3",
   "language": "python",
   "name": "python3"
  },
  "language_info": {
   "codemirror_mode": {
    "name": "ipython",
    "version": 3
   },
   "file_extension": ".py",
   "mimetype": "text/x-python",
   "name": "python",
   "nbconvert_exporter": "python",
   "pygments_lexer": "ipython3",
   "version": "3.8.5"
  },
  "toc": {
   "base_numbering": 1,
   "nav_menu": {},
   "number_sections": true,
   "sideBar": true,
   "skip_h1_title": true,
   "title_cell": "Table of Contents",
   "title_sidebar": "Contents",
   "toc_cell": true,
   "toc_position": {
    "height": "calc(100% - 180px)",
    "left": "10px",
    "top": "150px",
    "width": "211.475px"
   },
   "toc_section_display": true,
   "toc_window_display": true
  },
  "varInspector": {
   "cols": {
    "lenName": 16,
    "lenType": 16,
    "lenVar": 40
   },
   "kernels_config": {
    "python": {
     "delete_cmd_postfix": "",
     "delete_cmd_prefix": "del ",
     "library": "var_list.py",
     "varRefreshCmd": "print(var_dic_list())"
    },
    "r": {
     "delete_cmd_postfix": ") ",
     "delete_cmd_prefix": "rm(",
     "library": "var_list.r",
     "varRefreshCmd": "cat(var_dic_list()) "
    }
   },
   "types_to_exclude": [
    "module",
    "function",
    "builtin_function_or_method",
    "instance",
    "_Feature"
   ],
   "window_display": false
  }
 },
 "nbformat": 4,
 "nbformat_minor": 4
}
